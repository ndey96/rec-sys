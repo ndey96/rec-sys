{
 "cells": [
  {
   "cell_type": "code",
   "execution_count": 1,
   "metadata": {},
   "outputs": [
    {
     "name": "stdout",
     "output_type": "stream",
     "text": [
      "Vectorizing Diversity Score.ipynb  reranking.ipynb\r\n",
      "diversity_score.py\r\n"
     ]
    }
   ],
   "source": [
    "ls"
   ]
  },
  {
   "cell_type": "code",
   "execution_count": 2,
   "metadata": {},
   "outputs": [
    {
     "name": "stdout",
     "output_type": "stream",
     "text": [
      "Dissim was 1.554302328841804e-07\n",
      "It took 0.05302000045776367s\n"
     ]
    }
   ],
   "source": [
    "import pandas as pd\n",
    "import numpy as np\n",
    "import time\n",
    "from scipy.spatial.distance import pdist\n",
    "\n",
    "embedding_cols = [\n",
    "#     'year',\n",
    "    'acousticness',\n",
    "    'danceability',\n",
    "    'duration_ms',\n",
    "    'energy',\n",
    "    'instrumentalness',\n",
    "    'key',\n",
    "    'liveness',\n",
    "    'loudness',\n",
    "    'mode',\n",
    "    'speechiness',\n",
    "    'tempo',\n",
    "    'time_signature',\n",
    "    'valence'\n",
    "]\n",
    "msd = pd.read_hdf('../data/full_msd_with_audio_features.h5', key='df')\n",
    "msd = msd[['song_id'] + embedding_cols]\n",
    "msd.head()\n",
    "\n",
    "def get_MUSIC(song_ids):\n",
    "    song_vectors = msd.loc[msd['song_id'].isin(song_ids)][list(feature_MUSIC_dict.keys())].values\n",
    "    return np.sum(np.dot(song_vectors, feature_MUSIC_matrix), axis=0)/len(song_ids)\n",
    "\n",
    "def get_list_dissimilarity(song_ids):\n",
    "    song_vectors = msd.loc[msd['song_id'].isin(song_ids)][embedding_cols].values\n",
    "    return np.mean(pdist(song_vectors, 'cosine'))\n",
    "\n",
    "song_ids = list(msd.head(1000).song_id)\n",
    "start = time.time()\n",
    "print(f'Dissim was {get_list_dissimilarity(song_ids)}')\n",
    "print(f'It took {time.time() - start}s')"
   ]
  },
  {
   "cell_type": "code",
   "execution_count": 3,
   "metadata": {},
   "outputs": [
    {
     "data": {
      "text/plain": [
       "(447499, 14)"
      ]
     },
     "execution_count": 3,
     "metadata": {},
     "output_type": "execute_result"
    }
   ],
   "source": [
    "msd.shape"
   ]
  },
  {
   "cell_type": "code",
   "execution_count": 4,
   "metadata": {},
   "outputs": [
    {
     "name": "stdout",
     "output_type": "stream",
     "text": [
      "Dissim was 1.0264996880777573\n",
      "It took 58.21383213996887s\n"
     ]
    }
   ],
   "source": [
    "# NOTE: if song_ids are passed in as normal strings, replace instances of song_id with prepare_song_id(song_id)\n",
    "\n",
    "def prepare_song_id(song_id):\n",
    "  return('b\\'' + song_id + '\\'')\n",
    "\n",
    "\n",
    "def get_diversity(song_vector_list):\n",
    "  dissim = 0\n",
    "  n = len(song_vector_list)\n",
    "  for i in range(n):\n",
    "    for j in range(n):\n",
    "      dissim += np.linalg.norm(song_vector_list[i] - song_vector_list[j])\n",
    "\n",
    "  return dissim / ((n / 2) * (n - 1))\n",
    "\n",
    "\n",
    "def convert_recs_to_embeddings(song_ids):\n",
    "  embeddings_list = []\n",
    "\n",
    "  for song_id in song_ids:\n",
    "    # NOTE: if song_ids are passed in as normal strings, replace all following instances of song_id with prepare_song_id(song_id)\n",
    "    if (song_id in msd.song_id.values):\n",
    "      row = msd.loc[msd['song_id'] == song_id]\n",
    "      embedding = row.iloc[:, 12:]\n",
    "#       print(embedding)\n",
    "      embedding = np.array(embedding.values.tolist()[0])\n",
    "      embeddings_list.append(embedding)\n",
    "\n",
    "  return embeddings_list\n",
    "\n",
    "\n",
    "def get_diversity_score(song_ids):\n",
    "  # convert to list of embeddings\n",
    "  embedding_list = convert_recs_to_embeddings(song_ids)\n",
    "#   embedding_list = msd.loc[msd['song_id'].isin(song_ids)][embedding_cols].values\n",
    "  # calculate diversity\n",
    "  return get_diversity(embedding_list)\n",
    "\n",
    "\n",
    "song_ids = list(msd.head(1000).song_id)\n",
    "start = time.time()\n",
    "print(f'Dissim was {get_diversity_score(song_ids)}')\n",
    "print(f'It took {time.time() - start}s')"
   ]
  },
  {
   "cell_type": "code",
   "execution_count": null,
   "metadata": {},
   "outputs": [],
   "source": []
  },
  {
   "cell_type": "code",
   "execution_count": 5,
   "metadata": {},
   "outputs": [
    {
     "data": {
      "text/plain": [
       "array([0., 0., 0.])"
      ]
     },
     "execution_count": 5,
     "metadata": {},
     "output_type": "execute_result"
    }
   ],
   "source": [
    "x = np.ones((3,3))\n",
    "pdist(x)\n",
    "# pdist([[1,2,3], [1,2,3]])"
   ]
  }
 ],
 "metadata": {
  "kernelspec": {
   "display_name": "Python 3",
   "language": "python",
   "name": "python3"
  },
  "language_info": {
   "codemirror_mode": {
    "name": "ipython",
    "version": 3
   },
   "file_extension": ".py",
   "mimetype": "text/x-python",
   "name": "python",
   "nbconvert_exporter": "python",
   "pygments_lexer": "ipython3",
   "version": "3.6.4"
  }
 },
 "nbformat": 4,
 "nbformat_minor": 2
}
