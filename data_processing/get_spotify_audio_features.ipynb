{
 "cells": [
  {
   "cell_type": "code",
   "execution_count": 20,
   "metadata": {
    "collapsed": true
   },
   "outputs": [],
   "source": [
    "import spotipy\n",
    "from spotipy.oauth2 import SpotifyClientCredentials\n",
    "import pandas as pd\n",
    "from tqdm import tqdm\n",
    "import numpy as np\n",
    "import time\n",
    "client_credentials_manager = SpotifyClientCredentials(client_id='02c386b9bcfb43248ad7011c576c1e3f',\n",
    "                                      client_secret='f2406ab918d349689325d2f6916aa656')\n",
    "sp = spotipy.Spotify(client_credentials_manager=client_credentials_manager)\n",
    "sp.max_get_retries = 99999999\n",
    "\n",
    "# playlists = sp.user_playlists('spotify')\n",
    "# while playlists:\n",
    "#     for i, playlist in enumerate(playlists['items']):\n",
    "#         print(\"%4d %s %s\" % (i + 1 + playlists['offset'], playlist['uri'],  playlist['name']))\n",
    "#     if playlists['next']:\n",
    "#         playlists = sp.next(playlists)\n",
    "#     else:\n",
    "#         playlists = None"
   ]
  },
  {
   "cell_type": "code",
   "execution_count": 21,
   "metadata": {},
   "outputs": [
    {
     "data": {
      "text/html": [
       "<div>\n",
       "<style scoped>\n",
       "    .dataframe tbody tr th:only-of-type {\n",
       "        vertical-align: middle;\n",
       "    }\n",
       "\n",
       "    .dataframe tbody tr th {\n",
       "        vertical-align: top;\n",
       "    }\n",
       "\n",
       "    .dataframe thead th {\n",
       "        text-align: right;\n",
       "    }\n",
       "</style>\n",
       "<table border=\"1\" class=\"dataframe\">\n",
       "  <thead>\n",
       "    <tr style=\"text-align: right;\">\n",
       "      <th></th>\n",
       "      <th>artist_mbid</th>\n",
       "      <th>artist_name</th>\n",
       "      <th>artist_playmeid</th>\n",
       "      <th>danceability</th>\n",
       "      <th>duration</th>\n",
       "      <th>energy</th>\n",
       "      <th>key</th>\n",
       "      <th>loudness</th>\n",
       "      <th>mode</th>\n",
       "      <th>release</th>\n",
       "      <th>release_7digitalid</th>\n",
       "      <th>song_hotttnesss</th>\n",
       "      <th>song_id</th>\n",
       "      <th>tempo</th>\n",
       "      <th>time_signature</th>\n",
       "      <th>title</th>\n",
       "      <th>track_7digitalid</th>\n",
       "      <th>track_id</th>\n",
       "      <th>year</th>\n",
       "      <th>spotify_id</th>\n",
       "    </tr>\n",
       "  </thead>\n",
       "  <tbody>\n",
       "    <tr>\n",
       "      <th>0</th>\n",
       "      <td>b'29762c82-bb92-4acd-b1fb-09cc4da250d2'</td>\n",
       "      <td>b'Joe Satriani'</td>\n",
       "      <td>8426</td>\n",
       "      <td>0.0</td>\n",
       "      <td>254.85016</td>\n",
       "      <td>0.0</td>\n",
       "      <td>7</td>\n",
       "      <td>-4.707</td>\n",
       "      <td>1</td>\n",
       "      <td>b'Super Colossal'</td>\n",
       "      <td>308005</td>\n",
       "      <td>0.693272</td>\n",
       "      <td>b'SOSIYAD12A8C14097F'</td>\n",
       "      <td>87.875</td>\n",
       "      <td>4</td>\n",
       "      <td>b\"It's So Good\"</td>\n",
       "      <td>3473087</td>\n",
       "      <td>b'TRCCCMQ128F42AE752'</td>\n",
       "      <td>2006</td>\n",
       "      <td>2avzS3JoOkSRGVXfrDX6tK</td>\n",
       "    </tr>\n",
       "    <tr>\n",
       "      <th>1</th>\n",
       "      <td>b''</td>\n",
       "      <td>b'LANDA DANIEL'</td>\n",
       "      <td>-1</td>\n",
       "      <td>0.0</td>\n",
       "      <td>162.21995</td>\n",
       "      <td>0.0</td>\n",
       "      <td>9</td>\n",
       "      <td>-13.007</td>\n",
       "      <td>0</td>\n",
       "      <td>b'Konec'</td>\n",
       "      <td>162603</td>\n",
       "      <td>NaN</td>\n",
       "      <td>b'SOHPHTP12A8C13BF53'</td>\n",
       "      <td>97.912</td>\n",
       "      <td>1</td>\n",
       "      <td>b'A KDO TEDA VODDELAL TOHO FANDU?'</td>\n",
       "      <td>1723114</td>\n",
       "      <td>b'TRCCCFZ128F4283A22'</td>\n",
       "      <td>0</td>\n",
       "      <td>6bRtOqVAujKe9devtQ53Ay</td>\n",
       "    </tr>\n",
       "    <tr>\n",
       "      <th>2</th>\n",
       "      <td>b'e96c89d3-b013-48c2-96a6-da06d2eda534'</td>\n",
       "      <td>b'Middle Of The Road'</td>\n",
       "      <td>26778</td>\n",
       "      <td>0.0</td>\n",
       "      <td>188.49914</td>\n",
       "      <td>0.0</td>\n",
       "      <td>2</td>\n",
       "      <td>-7.202</td>\n",
       "      <td>1</td>\n",
       "      <td>b'MediaMarkt - Collection'</td>\n",
       "      <td>302021</td>\n",
       "      <td>0.266955</td>\n",
       "      <td>b'SOFVVGL12A8C13C32F'</td>\n",
       "      <td>128.033</td>\n",
       "      <td>4</td>\n",
       "      <td>b'Bonjour ca va'</td>\n",
       "      <td>3412731</td>\n",
       "      <td>b'TRCCCJT128F429FFF6'</td>\n",
       "      <td>1999</td>\n",
       "      <td>0Z4kF9qjnrk8KWnMHToe4g</td>\n",
       "    </tr>\n",
       "    <tr>\n",
       "      <th>3</th>\n",
       "      <td>b'ec475fb8-d454-406e-b473-7f0b0d815f9d'</td>\n",
       "      <td>b'Nickodemus'</td>\n",
       "      <td>-1</td>\n",
       "      <td>0.0</td>\n",
       "      <td>276.53179</td>\n",
       "      <td>0.0</td>\n",
       "      <td>3</td>\n",
       "      <td>-8.107</td>\n",
       "      <td>0</td>\n",
       "      <td>b'Turntables On The Hudson Lunar New Year 4707'</td>\n",
       "      <td>479992</td>\n",
       "      <td>0.690676</td>\n",
       "      <td>b'SOHXIRQ12AAA15CF81'</td>\n",
       "      <td>63.344</td>\n",
       "      <td>5</td>\n",
       "      <td>b'Endangered Species'</td>\n",
       "      <td>5327529</td>\n",
       "      <td>b'TRCCCSK128F92EE3B2'</td>\n",
       "      <td>2008</td>\n",
       "      <td>3ILefUoXozGUJbq0sasuXa</td>\n",
       "    </tr>\n",
       "    <tr>\n",
       "      <th>4</th>\n",
       "      <td>b'975d94b4-7ca8-4eec-ae48-1aa4660995d3'</td>\n",
       "      <td>b'Tyrese'</td>\n",
       "      <td>7102</td>\n",
       "      <td>0.0</td>\n",
       "      <td>267.20608</td>\n",
       "      <td>0.0</td>\n",
       "      <td>11</td>\n",
       "      <td>-4.156</td>\n",
       "      <td>0</td>\n",
       "      <td>b'Alter Ego'</td>\n",
       "      <td>308128</td>\n",
       "      <td>0.734211</td>\n",
       "      <td>b'SOJHDEN12AB018B650'</td>\n",
       "      <td>123.861</td>\n",
       "      <td>4</td>\n",
       "      <td>b'Gotta Get You'</td>\n",
       "      <td>3476419</td>\n",
       "      <td>b'TRCCCEW128F42AF457'</td>\n",
       "      <td>2006</td>\n",
       "      <td>5i0m2LrVSpSTZHmZBZUBNG</td>\n",
       "    </tr>\n",
       "  </tbody>\n",
       "</table>\n",
       "</div>"
      ],
      "text/plain": [
       "                               artist_mbid            artist_name  \\\n",
       "0  b'29762c82-bb92-4acd-b1fb-09cc4da250d2'        b'Joe Satriani'   \n",
       "1                                      b''        b'LANDA DANIEL'   \n",
       "2  b'e96c89d3-b013-48c2-96a6-da06d2eda534'  b'Middle Of The Road'   \n",
       "3  b'ec475fb8-d454-406e-b473-7f0b0d815f9d'          b'Nickodemus'   \n",
       "4  b'975d94b4-7ca8-4eec-ae48-1aa4660995d3'              b'Tyrese'   \n",
       "\n",
       "   artist_playmeid  danceability   duration  energy  key  loudness  mode  \\\n",
       "0             8426           0.0  254.85016     0.0    7    -4.707     1   \n",
       "1               -1           0.0  162.21995     0.0    9   -13.007     0   \n",
       "2            26778           0.0  188.49914     0.0    2    -7.202     1   \n",
       "3               -1           0.0  276.53179     0.0    3    -8.107     0   \n",
       "4             7102           0.0  267.20608     0.0   11    -4.156     0   \n",
       "\n",
       "                                           release  release_7digitalid  \\\n",
       "0                                b'Super Colossal'              308005   \n",
       "1                                         b'Konec'              162603   \n",
       "2                       b'MediaMarkt - Collection'              302021   \n",
       "3  b'Turntables On The Hudson Lunar New Year 4707'              479992   \n",
       "4                                     b'Alter Ego'              308128   \n",
       "\n",
       "   song_hotttnesss                song_id    tempo  time_signature  \\\n",
       "0         0.693272  b'SOSIYAD12A8C14097F'   87.875               4   \n",
       "1              NaN  b'SOHPHTP12A8C13BF53'   97.912               1   \n",
       "2         0.266955  b'SOFVVGL12A8C13C32F'  128.033               4   \n",
       "3         0.690676  b'SOHXIRQ12AAA15CF81'   63.344               5   \n",
       "4         0.734211  b'SOJHDEN12AB018B650'  123.861               4   \n",
       "\n",
       "                                title  track_7digitalid  \\\n",
       "0                     b\"It's So Good\"           3473087   \n",
       "1  b'A KDO TEDA VODDELAL TOHO FANDU?'           1723114   \n",
       "2                    b'Bonjour ca va'           3412731   \n",
       "3               b'Endangered Species'           5327529   \n",
       "4                    b'Gotta Get You'           3476419   \n",
       "\n",
       "                track_id  year              spotify_id  \n",
       "0  b'TRCCCMQ128F42AE752'  2006  2avzS3JoOkSRGVXfrDX6tK  \n",
       "1  b'TRCCCFZ128F4283A22'     0  6bRtOqVAujKe9devtQ53Ay  \n",
       "2  b'TRCCCJT128F429FFF6'  1999  0Z4kF9qjnrk8KWnMHToe4g  \n",
       "3  b'TRCCCSK128F92EE3B2'  2008  3ILefUoXozGUJbq0sasuXa  \n",
       "4  b'TRCCCEW128F42AF457'  2006  5i0m2LrVSpSTZHmZBZUBNG  "
      ]
     },
     "execution_count": 21,
     "metadata": {},
     "output_type": "execute_result"
    }
   ],
   "source": [
    "msd = pd.read_hdf('data/full_msd_with_spotify.h5', key='df')\n",
    "msd.head()"
   ]
  },
  {
   "cell_type": "code",
   "execution_count": 22,
   "metadata": {},
   "outputs": [
    {
     "data": {
      "text/plain": [
       "453278"
      ]
     },
     "execution_count": 22,
     "metadata": {},
     "output_type": "execute_result"
    }
   ],
   "source": [
    "sp_ids = list(msd.spotify_id)\n",
    "len(sp_ids)"
   ]
  },
  {
   "cell_type": "code",
   "execution_count": 23,
   "metadata": {},
   "outputs": [
    {
     "name": "stderr",
     "output_type": "stream",
     "text": [
      " 13%|█▎        | 57700/453278 [01:21<11:10, 590.39it/s]  "
     ]
    },
    {
     "name": "stdout",
     "output_type": "stream",
     "text": [
      "Retrying...\n"
     ]
    },
    {
     "name": "stderr",
     "output_type": "stream",
     "text": [
      " 16%|█▌        | 70300/453278 [01:41<07:05, 899.04it/s]"
     ]
    },
    {
     "name": "stdout",
     "output_type": "stream",
     "text": [
      "Retrying...\n"
     ]
    },
    {
     "name": "stderr",
     "output_type": "stream",
     "text": [
      " 19%|█▉        | 85700/453278 [02:29<21:55, 279.47it/s]"
     ]
    },
    {
     "name": "stdout",
     "output_type": "stream",
     "text": [
      "Retrying...\n"
     ]
    },
    {
     "name": "stderr",
     "output_type": "stream",
     "text": [
      " 25%|██▍       | 112100/453278 [03:53<17:55, 317.28it/s]"
     ]
    },
    {
     "name": "stdout",
     "output_type": "stream",
     "text": [
      "Retrying...\n"
     ]
    },
    {
     "name": "stderr",
     "output_type": "stream",
     "text": [
      " 25%|██▌       | 114800/453278 [04:03<18:19, 307.82it/s]"
     ]
    },
    {
     "name": "stdout",
     "output_type": "stream",
     "text": [
      "Retrying...\n"
     ]
    },
    {
     "name": "stderr",
     "output_type": "stream",
     "text": [
      " 26%|██▌       | 118200/453278 [04:16<17:27, 319.88it/s]"
     ]
    },
    {
     "name": "stdout",
     "output_type": "stream",
     "text": [
      "Retrying...\n"
     ]
    },
    {
     "name": "stderr",
     "output_type": "stream",
     "text": [
      " 41%|████      | 184500/453278 [07:36<12:42, 352.62it/s]"
     ]
    },
    {
     "name": "stdout",
     "output_type": "stream",
     "text": [
      "Retrying...\n"
     ]
    },
    {
     "name": "stderr",
     "output_type": "stream",
     "text": [
      " 44%|████▍     | 199800/453278 [08:24<13:22, 316.05it/s]"
     ]
    },
    {
     "name": "stdout",
     "output_type": "stream",
     "text": [
      "Retrying...\n"
     ]
    },
    {
     "name": "stderr",
     "output_type": "stream",
     "text": [
      " 47%|████▋     | 211800/453278 [09:00<11:44, 342.68it/s]"
     ]
    },
    {
     "name": "stdout",
     "output_type": "stream",
     "text": [
      "Retrying...\n"
     ]
    },
    {
     "name": "stderr",
     "output_type": "stream",
     "text": [
      " 51%|█████     | 229000/453278 [09:55<11:06, 336.38it/s]"
     ]
    },
    {
     "name": "stdout",
     "output_type": "stream",
     "text": [
      "Retrying...\n"
     ]
    },
    {
     "name": "stderr",
     "output_type": "stream",
     "text": [
      " 53%|█████▎    | 238500/453278 [10:26<12:28, 286.92it/s]"
     ]
    },
    {
     "name": "stdout",
     "output_type": "stream",
     "text": [
      "Retrying...\n"
     ]
    },
    {
     "name": "stderr",
     "output_type": "stream",
     "text": [
      " 55%|█████▍    | 248100/453278 [10:58<09:12, 371.16it/s]"
     ]
    },
    {
     "name": "stdout",
     "output_type": "stream",
     "text": [
      "Retrying...\n"
     ]
    },
    {
     "name": "stderr",
     "output_type": "stream",
     "text": [
      " 61%|██████    | 276500/453278 [12:26<08:07, 362.25it/s]"
     ]
    },
    {
     "name": "stdout",
     "output_type": "stream",
     "text": [
      "Retrying...\n"
     ]
    },
    {
     "name": "stderr",
     "output_type": "stream",
     "text": [
      " 79%|███████▊  | 356200/453278 [16:20<04:19, 374.49it/s]"
     ]
    },
    {
     "name": "stdout",
     "output_type": "stream",
     "text": [
      "Retrying...\n"
     ]
    },
    {
     "name": "stderr",
     "output_type": "stream",
     "text": [
      " 98%|█████████▊| 444600/453278 [20:43<00:26, 328.53it/s]"
     ]
    },
    {
     "name": "stdout",
     "output_type": "stream",
     "text": [
      "Retrying...\n"
     ]
    },
    {
     "name": "stderr",
     "output_type": "stream",
     "text": [
      " 99%|█████████▉| 449000/453278 [20:58<00:13, 308.54it/s]"
     ]
    },
    {
     "name": "stdout",
     "output_type": "stream",
     "text": [
      "Retrying...\n"
     ]
    },
    {
     "name": "stderr",
     "output_type": "stream",
     "text": [
      " 99%|█████████▉| 450100/453278 [21:04<00:11, 280.48it/s]"
     ]
    },
    {
     "name": "stdout",
     "output_type": "stream",
     "text": [
      "Retrying...\n"
     ]
    },
    {
     "name": "stderr",
     "output_type": "stream",
     "text": [
      "453300it [21:20, 234.65it/s]                            \n"
     ]
    }
   ],
   "source": [
    "audio_features = []\n",
    "with tqdm(total=len(sp_ids)) as pbar:\n",
    "    for i in range(int(np.ceil(len(sp_ids)/100))):\n",
    "        id_batch = sp_ids[i*100:i*100+100]\n",
    "        try:\n",
    "            audio_features += sp.audio_features(tracks=id_batch)\n",
    "        except:\n",
    "            print('Retrying...')\n",
    "            time.sleep(2)\n",
    "            audio_features += sp.audio_features(tracks=id_batch)\n",
    "        pbar.update(100)\n",
    "\n",
    "assert len(sp_ids) == len(audio_features)"
   ]
  },
  {
   "cell_type": "code",
   "execution_count": 38,
   "metadata": {},
   "outputs": [
    {
     "data": {
      "text/html": [
       "<div>\n",
       "<style scoped>\n",
       "    .dataframe tbody tr th:only-of-type {\n",
       "        vertical-align: middle;\n",
       "    }\n",
       "\n",
       "    .dataframe tbody tr th {\n",
       "        vertical-align: top;\n",
       "    }\n",
       "\n",
       "    .dataframe thead th {\n",
       "        text-align: right;\n",
       "    }\n",
       "</style>\n",
       "<table border=\"1\" class=\"dataframe\">\n",
       "  <thead>\n",
       "    <tr style=\"text-align: right;\">\n",
       "      <th></th>\n",
       "      <th>acousticness</th>\n",
       "      <th>analysis_url</th>\n",
       "      <th>danceability</th>\n",
       "      <th>duration_ms</th>\n",
       "      <th>energy</th>\n",
       "      <th>id</th>\n",
       "      <th>instrumentalness</th>\n",
       "      <th>key</th>\n",
       "      <th>liveness</th>\n",
       "      <th>loudness</th>\n",
       "      <th>mode</th>\n",
       "      <th>speechiness</th>\n",
       "      <th>tempo</th>\n",
       "      <th>time_signature</th>\n",
       "      <th>track_href</th>\n",
       "      <th>type</th>\n",
       "      <th>uri</th>\n",
       "      <th>valence</th>\n",
       "    </tr>\n",
       "  </thead>\n",
       "  <tbody>\n",
       "    <tr>\n",
       "      <th>0</th>\n",
       "      <td>0.0142</td>\n",
       "      <td>https://api.spotify.com/v1/audio-analysis/2avz...</td>\n",
       "      <td>0.471</td>\n",
       "      <td>254537</td>\n",
       "      <td>0.910</td>\n",
       "      <td>2avzS3JoOkSRGVXfrDX6tK</td>\n",
       "      <td>0.764000</td>\n",
       "      <td>7</td>\n",
       "      <td>0.4030</td>\n",
       "      <td>-4.847</td>\n",
       "      <td>1</td>\n",
       "      <td>0.1090</td>\n",
       "      <td>175.816</td>\n",
       "      <td>4</td>\n",
       "      <td>https://api.spotify.com/v1/tracks/2avzS3JoOkSR...</td>\n",
       "      <td>audio_features</td>\n",
       "      <td>spotify:track:2avzS3JoOkSRGVXfrDX6tK</td>\n",
       "      <td>0.282</td>\n",
       "    </tr>\n",
       "    <tr>\n",
       "      <th>1</th>\n",
       "      <td>0.8430</td>\n",
       "      <td>https://api.spotify.com/v1/audio-analysis/6bRt...</td>\n",
       "      <td>0.479</td>\n",
       "      <td>162173</td>\n",
       "      <td>0.315</td>\n",
       "      <td>6bRtOqVAujKe9devtQ53Ay</td>\n",
       "      <td>0.000004</td>\n",
       "      <td>9</td>\n",
       "      <td>0.0911</td>\n",
       "      <td>-12.951</td>\n",
       "      <td>0</td>\n",
       "      <td>0.0991</td>\n",
       "      <td>97.886</td>\n",
       "      <td>4</td>\n",
       "      <td>https://api.spotify.com/v1/tracks/6bRtOqVAujKe...</td>\n",
       "      <td>audio_features</td>\n",
       "      <td>spotify:track:6bRtOqVAujKe9devtQ53Ay</td>\n",
       "      <td>0.309</td>\n",
       "    </tr>\n",
       "    <tr>\n",
       "      <th>2</th>\n",
       "      <td>0.3070</td>\n",
       "      <td>https://api.spotify.com/v1/audio-analysis/0Z4k...</td>\n",
       "      <td>0.678</td>\n",
       "      <td>188493</td>\n",
       "      <td>0.787</td>\n",
       "      <td>0Z4kF9qjnrk8KWnMHToe4g</td>\n",
       "      <td>0.000080</td>\n",
       "      <td>9</td>\n",
       "      <td>0.7140</td>\n",
       "      <td>-6.344</td>\n",
       "      <td>1</td>\n",
       "      <td>0.0355</td>\n",
       "      <td>128.181</td>\n",
       "      <td>4</td>\n",
       "      <td>https://api.spotify.com/v1/tracks/0Z4kF9qjnrk8...</td>\n",
       "      <td>audio_features</td>\n",
       "      <td>spotify:track:0Z4kF9qjnrk8KWnMHToe4g</td>\n",
       "      <td>0.969</td>\n",
       "    </tr>\n",
       "    <tr>\n",
       "      <th>3</th>\n",
       "      <td>0.1470</td>\n",
       "      <td>https://api.spotify.com/v1/audio-analysis/3ILe...</td>\n",
       "      <td>0.804</td>\n",
       "      <td>278600</td>\n",
       "      <td>0.676</td>\n",
       "      <td>3ILefUoXozGUJbq0sasuXa</td>\n",
       "      <td>0.919000</td>\n",
       "      <td>3</td>\n",
       "      <td>0.0797</td>\n",
       "      <td>-8.480</td>\n",
       "      <td>0</td>\n",
       "      <td>0.0437</td>\n",
       "      <td>94.994</td>\n",
       "      <td>4</td>\n",
       "      <td>https://api.spotify.com/v1/tracks/3ILefUoXozGU...</td>\n",
       "      <td>audio_features</td>\n",
       "      <td>spotify:track:3ILefUoXozGUJbq0sasuXa</td>\n",
       "      <td>0.527</td>\n",
       "    </tr>\n",
       "    <tr>\n",
       "      <th>4</th>\n",
       "      <td>0.1290</td>\n",
       "      <td>https://api.spotify.com/v1/audio-analysis/5i0m...</td>\n",
       "      <td>0.604</td>\n",
       "      <td>267200</td>\n",
       "      <td>0.603</td>\n",
       "      <td>5i0m2LrVSpSTZHmZBZUBNG</td>\n",
       "      <td>0.000000</td>\n",
       "      <td>11</td>\n",
       "      <td>0.1850</td>\n",
       "      <td>-4.419</td>\n",
       "      <td>0</td>\n",
       "      <td>0.0507</td>\n",
       "      <td>124.088</td>\n",
       "      <td>4</td>\n",
       "      <td>https://api.spotify.com/v1/tracks/5i0m2LrVSpST...</td>\n",
       "      <td>audio_features</td>\n",
       "      <td>spotify:track:5i0m2LrVSpSTZHmZBZUBNG</td>\n",
       "      <td>0.399</td>\n",
       "    </tr>\n",
       "  </tbody>\n",
       "</table>\n",
       "</div>"
      ],
      "text/plain": [
       "   acousticness                                       analysis_url  \\\n",
       "0        0.0142  https://api.spotify.com/v1/audio-analysis/2avz...   \n",
       "1        0.8430  https://api.spotify.com/v1/audio-analysis/6bRt...   \n",
       "2        0.3070  https://api.spotify.com/v1/audio-analysis/0Z4k...   \n",
       "3        0.1470  https://api.spotify.com/v1/audio-analysis/3ILe...   \n",
       "4        0.1290  https://api.spotify.com/v1/audio-analysis/5i0m...   \n",
       "\n",
       "   danceability  duration_ms  energy                      id  \\\n",
       "0         0.471       254537   0.910  2avzS3JoOkSRGVXfrDX6tK   \n",
       "1         0.479       162173   0.315  6bRtOqVAujKe9devtQ53Ay   \n",
       "2         0.678       188493   0.787  0Z4kF9qjnrk8KWnMHToe4g   \n",
       "3         0.804       278600   0.676  3ILefUoXozGUJbq0sasuXa   \n",
       "4         0.604       267200   0.603  5i0m2LrVSpSTZHmZBZUBNG   \n",
       "\n",
       "   instrumentalness  key  liveness  loudness  mode  speechiness    tempo  \\\n",
       "0          0.764000    7    0.4030    -4.847     1       0.1090  175.816   \n",
       "1          0.000004    9    0.0911   -12.951     0       0.0991   97.886   \n",
       "2          0.000080    9    0.7140    -6.344     1       0.0355  128.181   \n",
       "3          0.919000    3    0.0797    -8.480     0       0.0437   94.994   \n",
       "4          0.000000   11    0.1850    -4.419     0       0.0507  124.088   \n",
       "\n",
       "   time_signature                                         track_href  \\\n",
       "0               4  https://api.spotify.com/v1/tracks/2avzS3JoOkSR...   \n",
       "1               4  https://api.spotify.com/v1/tracks/6bRtOqVAujKe...   \n",
       "2               4  https://api.spotify.com/v1/tracks/0Z4kF9qjnrk8...   \n",
       "3               4  https://api.spotify.com/v1/tracks/3ILefUoXozGU...   \n",
       "4               4  https://api.spotify.com/v1/tracks/5i0m2LrVSpST...   \n",
       "\n",
       "             type                                   uri  valence  \n",
       "0  audio_features  spotify:track:2avzS3JoOkSRGVXfrDX6tK    0.282  \n",
       "1  audio_features  spotify:track:6bRtOqVAujKe9devtQ53Ay    0.309  \n",
       "2  audio_features  spotify:track:0Z4kF9qjnrk8KWnMHToe4g    0.969  \n",
       "3  audio_features  spotify:track:3ILefUoXozGUJbq0sasuXa    0.527  \n",
       "4  audio_features  spotify:track:5i0m2LrVSpSTZHmZBZUBNG    0.399  "
      ]
     },
     "execution_count": 38,
     "metadata": {},
     "output_type": "execute_result"
    }
   ],
   "source": [
    "df = pd.DataFrame(list(filter(None, audio_features)))\n",
    "df.head()"
   ]
  },
  {
   "cell_type": "code",
   "execution_count": 40,
   "metadata": {},
   "outputs": [],
   "source": [
    "df.to_hdf('../data/spotify_audio_features.h5', key='df')"
   ]
  },
  {
   "cell_type": "code",
   "execution_count": 41,
   "metadata": {},
   "outputs": [
    {
     "name": "stdout",
     "output_type": "stream",
     "text": [
      "CF Baseline.ipynb                  \u001b[34mdata_processing\u001b[m\u001b[m/\r\n",
      "MUSIC audio feature mapping.ipynb  \u001b[34mdiversity_metrics\u001b[m\u001b[m/\r\n",
      "MUSIC genre mapping.ipynb          get_spotify_audio_features.ipynb\r\n",
      "Metadata Diversity.ipynb           \u001b[34mprototype\u001b[m\u001b[m/\r\n",
      "Psychological Approach.ipynb       spotify_audio_features.h5\r\n",
      "README.md                          spotify_data_analysis.ipynb\r\n",
      "SYDE 461 Prototype Demo.ipynb      surprise.py\r\n",
      "audio_features.npy                 test.py\r\n",
      "\u001b[34mdata\u001b[m\u001b[m/\r\n"
     ]
    }
   ],
   "source": [
    "ls"
   ]
  },
  {
   "cell_type": "code",
   "execution_count": null,
   "metadata": {
    "collapsed": true
   },
   "outputs": [],
   "source": []
  }
 ],
 "metadata": {
  "kernelspec": {
   "display_name": "Python 3",
   "language": "python",
   "name": "python3"
  },
  "language_info": {
   "codemirror_mode": {
    "name": "ipython",
    "version": 3
   },
   "file_extension": ".py",
   "mimetype": "text/x-python",
   "name": "python",
   "nbconvert_exporter": "python",
   "pygments_lexer": "ipython3",
   "version": "3.6.4"
  }
 },
 "nbformat": 4,
 "nbformat_minor": 2
}
