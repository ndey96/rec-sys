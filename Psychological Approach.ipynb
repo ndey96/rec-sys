{
 "cells": [
  {
   "cell_type": "code",
   "execution_count": 1,
   "metadata": {
    "collapsed": true
   },
   "outputs": [],
   "source": [
    "import pandas as pd"
   ]
  },
  {
   "cell_type": "code",
   "execution_count": 2,
   "metadata": {},
   "outputs": [
    {
     "ename": "FileNotFoundError",
     "evalue": "File b'track_with_genre.csv' does not exist",
     "output_type": "error",
     "traceback": [
      "\u001b[0;31m---------------------------------------------------------------------------\u001b[0m",
      "\u001b[0;31mFileNotFoundError\u001b[0m                         Traceback (most recent call last)",
      "\u001b[0;32m<ipython-input-2-e1ef0fbea087>\u001b[0m in \u001b[0;36m<module>\u001b[0;34m()\u001b[0m\n\u001b[0;32m----> 1\u001b[0;31m \u001b[0mfile\u001b[0m \u001b[0;34m=\u001b[0m \u001b[0mpd\u001b[0m\u001b[0;34m.\u001b[0m\u001b[0mread_csv\u001b[0m\u001b[0;34m(\u001b[0m\u001b[0;34m'track_with_genre.csv'\u001b[0m\u001b[0;34m)\u001b[0m\u001b[0;34m\u001b[0m\u001b[0m\n\u001b[0m",
      "\u001b[0;32m~/anaconda/envs/tensorflow3/lib/python3.6/site-packages/pandas/io/parsers.py\u001b[0m in \u001b[0;36mparser_f\u001b[0;34m(filepath_or_buffer, sep, delimiter, header, names, index_col, usecols, squeeze, prefix, mangle_dupe_cols, dtype, engine, converters, true_values, false_values, skipinitialspace, skiprows, nrows, na_values, keep_default_na, na_filter, verbose, skip_blank_lines, parse_dates, infer_datetime_format, keep_date_col, date_parser, dayfirst, iterator, chunksize, compression, thousands, decimal, lineterminator, quotechar, quoting, escapechar, comment, encoding, dialect, tupleize_cols, error_bad_lines, warn_bad_lines, skipfooter, doublequote, delim_whitespace, low_memory, memory_map, float_precision)\u001b[0m\n\u001b[1;32m    676\u001b[0m                     skip_blank_lines=skip_blank_lines)\n\u001b[1;32m    677\u001b[0m \u001b[0;34m\u001b[0m\u001b[0m\n\u001b[0;32m--> 678\u001b[0;31m         \u001b[0;32mreturn\u001b[0m \u001b[0m_read\u001b[0m\u001b[0;34m(\u001b[0m\u001b[0mfilepath_or_buffer\u001b[0m\u001b[0;34m,\u001b[0m \u001b[0mkwds\u001b[0m\u001b[0;34m)\u001b[0m\u001b[0;34m\u001b[0m\u001b[0m\n\u001b[0m\u001b[1;32m    679\u001b[0m \u001b[0;34m\u001b[0m\u001b[0m\n\u001b[1;32m    680\u001b[0m     \u001b[0mparser_f\u001b[0m\u001b[0;34m.\u001b[0m\u001b[0m__name__\u001b[0m \u001b[0;34m=\u001b[0m \u001b[0mname\u001b[0m\u001b[0;34m\u001b[0m\u001b[0m\n",
      "\u001b[0;32m~/anaconda/envs/tensorflow3/lib/python3.6/site-packages/pandas/io/parsers.py\u001b[0m in \u001b[0;36m_read\u001b[0;34m(filepath_or_buffer, kwds)\u001b[0m\n\u001b[1;32m    438\u001b[0m \u001b[0;34m\u001b[0m\u001b[0m\n\u001b[1;32m    439\u001b[0m     \u001b[0;31m# Create the parser.\u001b[0m\u001b[0;34m\u001b[0m\u001b[0;34m\u001b[0m\u001b[0m\n\u001b[0;32m--> 440\u001b[0;31m     \u001b[0mparser\u001b[0m \u001b[0;34m=\u001b[0m \u001b[0mTextFileReader\u001b[0m\u001b[0;34m(\u001b[0m\u001b[0mfilepath_or_buffer\u001b[0m\u001b[0;34m,\u001b[0m \u001b[0;34m**\u001b[0m\u001b[0mkwds\u001b[0m\u001b[0;34m)\u001b[0m\u001b[0;34m\u001b[0m\u001b[0m\n\u001b[0m\u001b[1;32m    441\u001b[0m \u001b[0;34m\u001b[0m\u001b[0m\n\u001b[1;32m    442\u001b[0m     \u001b[0;32mif\u001b[0m \u001b[0mchunksize\u001b[0m \u001b[0;32mor\u001b[0m \u001b[0miterator\u001b[0m\u001b[0;34m:\u001b[0m\u001b[0;34m\u001b[0m\u001b[0m\n",
      "\u001b[0;32m~/anaconda/envs/tensorflow3/lib/python3.6/site-packages/pandas/io/parsers.py\u001b[0m in \u001b[0;36m__init__\u001b[0;34m(self, f, engine, **kwds)\u001b[0m\n\u001b[1;32m    785\u001b[0m             \u001b[0mself\u001b[0m\u001b[0;34m.\u001b[0m\u001b[0moptions\u001b[0m\u001b[0;34m[\u001b[0m\u001b[0;34m'has_index_names'\u001b[0m\u001b[0;34m]\u001b[0m \u001b[0;34m=\u001b[0m \u001b[0mkwds\u001b[0m\u001b[0;34m[\u001b[0m\u001b[0;34m'has_index_names'\u001b[0m\u001b[0;34m]\u001b[0m\u001b[0;34m\u001b[0m\u001b[0m\n\u001b[1;32m    786\u001b[0m \u001b[0;34m\u001b[0m\u001b[0m\n\u001b[0;32m--> 787\u001b[0;31m         \u001b[0mself\u001b[0m\u001b[0;34m.\u001b[0m\u001b[0m_make_engine\u001b[0m\u001b[0;34m(\u001b[0m\u001b[0mself\u001b[0m\u001b[0;34m.\u001b[0m\u001b[0mengine\u001b[0m\u001b[0;34m)\u001b[0m\u001b[0;34m\u001b[0m\u001b[0m\n\u001b[0m\u001b[1;32m    788\u001b[0m \u001b[0;34m\u001b[0m\u001b[0m\n\u001b[1;32m    789\u001b[0m     \u001b[0;32mdef\u001b[0m \u001b[0mclose\u001b[0m\u001b[0;34m(\u001b[0m\u001b[0mself\u001b[0m\u001b[0;34m)\u001b[0m\u001b[0;34m:\u001b[0m\u001b[0;34m\u001b[0m\u001b[0m\n",
      "\u001b[0;32m~/anaconda/envs/tensorflow3/lib/python3.6/site-packages/pandas/io/parsers.py\u001b[0m in \u001b[0;36m_make_engine\u001b[0;34m(self, engine)\u001b[0m\n\u001b[1;32m   1012\u001b[0m     \u001b[0;32mdef\u001b[0m \u001b[0m_make_engine\u001b[0m\u001b[0;34m(\u001b[0m\u001b[0mself\u001b[0m\u001b[0;34m,\u001b[0m \u001b[0mengine\u001b[0m\u001b[0;34m=\u001b[0m\u001b[0;34m'c'\u001b[0m\u001b[0;34m)\u001b[0m\u001b[0;34m:\u001b[0m\u001b[0;34m\u001b[0m\u001b[0m\n\u001b[1;32m   1013\u001b[0m         \u001b[0;32mif\u001b[0m \u001b[0mengine\u001b[0m \u001b[0;34m==\u001b[0m \u001b[0;34m'c'\u001b[0m\u001b[0;34m:\u001b[0m\u001b[0;34m\u001b[0m\u001b[0m\n\u001b[0;32m-> 1014\u001b[0;31m             \u001b[0mself\u001b[0m\u001b[0;34m.\u001b[0m\u001b[0m_engine\u001b[0m \u001b[0;34m=\u001b[0m \u001b[0mCParserWrapper\u001b[0m\u001b[0;34m(\u001b[0m\u001b[0mself\u001b[0m\u001b[0;34m.\u001b[0m\u001b[0mf\u001b[0m\u001b[0;34m,\u001b[0m \u001b[0;34m**\u001b[0m\u001b[0mself\u001b[0m\u001b[0;34m.\u001b[0m\u001b[0moptions\u001b[0m\u001b[0;34m)\u001b[0m\u001b[0;34m\u001b[0m\u001b[0m\n\u001b[0m\u001b[1;32m   1015\u001b[0m         \u001b[0;32melse\u001b[0m\u001b[0;34m:\u001b[0m\u001b[0;34m\u001b[0m\u001b[0m\n\u001b[1;32m   1016\u001b[0m             \u001b[0;32mif\u001b[0m \u001b[0mengine\u001b[0m \u001b[0;34m==\u001b[0m \u001b[0;34m'python'\u001b[0m\u001b[0;34m:\u001b[0m\u001b[0;34m\u001b[0m\u001b[0m\n",
      "\u001b[0;32m~/anaconda/envs/tensorflow3/lib/python3.6/site-packages/pandas/io/parsers.py\u001b[0m in \u001b[0;36m__init__\u001b[0;34m(self, src, **kwds)\u001b[0m\n\u001b[1;32m   1706\u001b[0m         \u001b[0mkwds\u001b[0m\u001b[0;34m[\u001b[0m\u001b[0;34m'usecols'\u001b[0m\u001b[0;34m]\u001b[0m \u001b[0;34m=\u001b[0m \u001b[0mself\u001b[0m\u001b[0;34m.\u001b[0m\u001b[0musecols\u001b[0m\u001b[0;34m\u001b[0m\u001b[0m\n\u001b[1;32m   1707\u001b[0m \u001b[0;34m\u001b[0m\u001b[0m\n\u001b[0;32m-> 1708\u001b[0;31m         \u001b[0mself\u001b[0m\u001b[0;34m.\u001b[0m\u001b[0m_reader\u001b[0m \u001b[0;34m=\u001b[0m \u001b[0mparsers\u001b[0m\u001b[0;34m.\u001b[0m\u001b[0mTextReader\u001b[0m\u001b[0;34m(\u001b[0m\u001b[0msrc\u001b[0m\u001b[0;34m,\u001b[0m \u001b[0;34m**\u001b[0m\u001b[0mkwds\u001b[0m\u001b[0;34m)\u001b[0m\u001b[0;34m\u001b[0m\u001b[0m\n\u001b[0m\u001b[1;32m   1709\u001b[0m \u001b[0;34m\u001b[0m\u001b[0m\n\u001b[1;32m   1710\u001b[0m         \u001b[0mpassed_names\u001b[0m \u001b[0;34m=\u001b[0m \u001b[0mself\u001b[0m\u001b[0;34m.\u001b[0m\u001b[0mnames\u001b[0m \u001b[0;32mis\u001b[0m \u001b[0;32mNone\u001b[0m\u001b[0;34m\u001b[0m\u001b[0m\n",
      "\u001b[0;32mpandas/_libs/parsers.pyx\u001b[0m in \u001b[0;36mpandas._libs.parsers.TextReader.__cinit__\u001b[0;34m()\u001b[0m\n",
      "\u001b[0;32mpandas/_libs/parsers.pyx\u001b[0m in \u001b[0;36mpandas._libs.parsers.TextReader._setup_parser_source\u001b[0;34m()\u001b[0m\n",
      "\u001b[0;31mFileNotFoundError\u001b[0m: File b'track_with_genre.csv' does not exist"
     ]
    }
   ],
   "source": [
    "file = pd.read_csv('track_with_genre.csv')"
   ]
  },
  {
   "cell_type": "code",
   "execution_count": 8,
   "metadata": {
    "collapsed": true
   },
   "outputs": [],
   "source": [
    "genre_MUSIC_values = [\n",
    "    \n",
    "    {\n",
    "        'genre': 'Soft rock',\n",
    "        'M':  .33,\n",
    "        'U':  .07,\n",
    "        'S':  -.06, \n",
    "        'I':  -.1,\n",
    "        'C':  -.12\n",
    "    },\n",
    "    {\n",
    "        'genre': 'RnB',\n",
    "        'M':  .31,\n",
    "        'U':  .04,\n",
    "        'S':  -.11, \n",
    "        'I':  -.1,\n",
    "        'C':  .06\n",
    "    }, \n",
    "    {\n",
    "        'genre': 'Country',\n",
    "        'M':  0,\n",
    "        'U':  .36,\n",
    "        'S':  -.2, \n",
    "        'I':  -.12,\n",
    "        'C':  -.09\n",
    "    },     \n",
    "    {\n",
    "        'genre': 'Bluegrass',\n",
    "        'M':  -.11,\n",
    "        'U':  .33,\n",
    "        'S':  0, \n",
    "        'I':  -.11,\n",
    "        'C':  -.16\n",
    "    },  \n",
    "    {\n",
    "        'genre': 'Pop_Rock',\n",
    "        'M':  -.09,\n",
    "        'U':  .17,\n",
    "        'S':  -.06, \n",
    "        'I':  -.04,\n",
    "        'C':  .02\n",
    "    }, \n",
    "    {\n",
    "        'genre': 'Classical',\n",
    "        'M':  .04,\n",
    "        'U':  -.19,\n",
    "        'S':  .37, \n",
    "        'I':  -.09,\n",
    "        'C':  -.19\n",
    "    }, \n",
    "    {\n",
    "        'genre': 'Jazz',\n",
    "        'M':  .04,\n",
    "        'U':  -.13,\n",
    "        'S':  .15, \n",
    "        'I':  -.12,\n",
    "        'C':  .1\n",
    "    },    \n",
    "    {\n",
    "        'genre': 'Pop',\n",
    "        'M':  .02,\n",
    "        'U':  -.07,\n",
    "        'S':  -.1, \n",
    "        'I':  .22,\n",
    "        'C':  -.04\n",
    "    },    \n",
    "    {\n",
    "        'genre': 'Rap',\n",
    "        'M':  -.17,\n",
    "        'U':  -.2,\n",
    "        'S':  -.25, \n",
    "        'I':  -.06,\n",
    "        'C':  .51\n",
    "    },        \n",
    "    {\n",
    "        'genre': 'Latin',\n",
    "        'M':  .01,\n",
    "        'U':  -.09,\n",
    "        'S':  .14, \n",
    "        'I':  -.11,\n",
    "        'C':  .20\n",
    "    }\n",
    "    \n",
    "]"
   ]
  },
  {
   "cell_type": "code",
   "execution_count": null,
   "metadata": {
    "collapsed": true
   },
   "outputs": [],
   "source": [
    "OCEAN_MUSIC_values = [\n",
    "    \n",
    "    # O\n",
    "    [-.12, -.02,.16, .07, -.11],\n",
    "    \n",
    "    # C\n",
    "    [.05, .02, -.03,  -.02, 0],\n",
    "    \n",
    "    # E\n",
    "    [ -.05, .13, -.06, 0, -.01],\n",
    "\n",
    "    # A\n",
    "    [.06, 0, -.06,  0, .02],\n",
    "    \n",
    "    # N\n",
    "    [.03, -.06, .02, .04, 0]\n",
    "]"
   ]
  },
  {
   "cell_type": "code",
   "execution_count": 14,
   "metadata": {},
   "outputs": [
    {
     "name": "stdout",
     "output_type": "stream",
     "text": [
      "          NumPlays          Genre\n",
      "2                5       Pop_Rock\n",
      "35575            2       Pop_Rock\n",
      "43076           11       Pop_Rock\n",
      "45267           10       Pop_Rock\n",
      "258121           6       Pop_Rock\n",
      "265426          13        Country\n",
      "370798           1       Pop_Rock\n",
      "584632           1       Pop_Rock\n",
      "752425           3     Electronic\n",
      "2308021          2       Pop_Rock\n",
      "2430657          4        Country\n",
      "2698733         13       Pop_Rock\n",
      "2722858          2       Pop_Rock\n",
      "2724193          1       Pop_Rock\n",
      "2797248          5       Pop_Rock\n",
      "3096531          7       Pop_Rock\n",
      "3707016          6       Pop_Rock\n",
      "4571982          6       Pop_Rock\n",
      "4584786          3       Pop_Rock\n",
      "4842061          7       Pop_Rock\n",
      "4868050          1       Pop_Rock\n",
      "4979839          3       Pop_Rock\n",
      "5074291          2       Pop_Rock\n",
      "5201337          2       Pop_Rock\n",
      "5350282         38       Pop_Rock\n",
      "5476646          2       Pop_Rock\n",
      "6296892          3       Pop_Rock\n",
      "6319737          5       Pop_Rock\n",
      "6351348          7       Pop_Rock\n",
      "6428484          2        Country\n",
      "...            ...            ...\n",
      "16927667         3       Pop_Rock\n",
      "17511192         3       Pop_Rock\n",
      "17531887         3       Pop_Rock\n",
      "17533672         4       Pop_Rock\n",
      "18118037         3       Pop_Rock\n",
      "18119783         2       Pop_Rock\n",
      "18144632        26       Pop_Rock\n",
      "18238485         9  International\n",
      "18389731         1        Country\n",
      "18433352         2       Pop_Rock\n",
      "18619245         3       Pop_Rock\n",
      "19366867         1       Pop_Rock\n",
      "19845689         1       Pop_Rock\n",
      "20027956         3       Pop_Rock\n",
      "20078260         2       Pop_Rock\n",
      "20091765         3        Country\n",
      "20566210         2       Pop_Rock\n",
      "20589151         4       Pop_Rock\n",
      "20666497        13       Pop_Rock\n",
      "20898732         2       Pop_Rock\n",
      "21075181        17            RnB\n",
      "21168843         6       Pop_Rock\n",
      "21236794         1        Country\n",
      "21372705         5         Stage \n",
      "21372774         6       Pop_Rock\n",
      "21372801         2       Pop_Rock\n",
      "21372811         5       Pop_Rock\n",
      "21372981         5       Pop_Rock\n",
      "21373008         2       Pop_Rock\n",
      "21373051         5       Pop_Rock\n",
      "\n",
      "[110 rows x 2 columns]\n"
     ]
    }
   ],
   "source": [
    "# get all songs for a user\n",
    "\n",
    "def get_user_genre_plays(user_id):\n",
    "    user_songs = file.loc[file['UserID'] == user_id]\n",
    "    \n",
    "    return user_songs[['NumPlays','Genre']]\n",
    "\n",
    "genre_plays = get_user_genre_plays('f926327f2c99580a4aa414d1cfc0439f45a929bf')\n",
    "\n",
    "print(genre_plays)"
   ]
  },
  {
   "cell_type": "code",
   "execution_count": 16,
   "metadata": {},
   "outputs": [
    {
     "name": "stdout",
     "output_type": "stream",
     "text": [
      "{'Pop_Rock': 0.7870182555780934, 'Country': 0.0973630831643002, 'Electronic': 0.034482758620689655, 'RnB': 0.05273833671399594, 'International': 0.018255578093306288, 'Stage ': 0.010141987829614604}\n"
     ]
    }
   ],
   "source": [
    "# get percentage genre counts for the user (by number of plays per genre, not number of unique songs)\n",
    "\n",
    "def get_genre_percentages(user_songs):\n",
    "    \n",
    "    genre_dict = {}\n",
    "    total_plays = 0\n",
    "    \n",
    "    for index, row in user_songs.iterrows():\n",
    "        if row['Genre'] not in genre_dict:\n",
    "            genre_dict[row['Genre']] = row['NumPlays']\n",
    "            total_plays += row['NumPlays']\n",
    "        else:\n",
    "            genre_dict[row['Genre']] += row['NumPlays']\n",
    "            total_plays += row['NumPlays']\n",
    "            \n",
    "    for key in genre_dict:\n",
    "        genre_dict[key] = 1.0*genre_dict[key]/total_plays\n",
    "            \n",
    "    return genre_dict\n",
    "\n",
    "genre_percentages = get_genre_percentages(genre_plays)\n",
    "\n",
    "print(genre_percentages)"
   ]
  },
  {
   "cell_type": "code",
   "execution_count": 18,
   "metadata": {},
   "outputs": [
    {
     "name": "stdout",
     "output_type": "stream",
     "text": [
      "[-0.05448275862068966, 0.1709533468559838, -0.0724949290060852, -0.04843813387423935, 0.010141987829614604]\n"
     ]
    }
   ],
   "source": [
    "# multiply the percentages by the corresponding MUSIC scores, add them up, thus getting their MUSIC score\n",
    "\n",
    "valid_genres = ['RnB', 'Country', 'Pop_Rock', 'Classical', 'Jazz', 'Rap', 'Latin']    \n",
    "\n",
    "def get_MUSIC_values(genre_percentages):\n",
    "    \n",
    "    MUSIC_values = [0,0,0,0,0]\n",
    "    \n",
    "    for genre in genre_percentages:\n",
    "        if genre in valid_genres:\n",
    "            genre_percentage = genre_percentages[genre]\n",
    "            \n",
    "            for MUSIC_dict in genre_MUSIC_values:\n",
    "                if MUSIC_dict['genre'] == genre:\n",
    "                    MUSIC_values[0] += MUSIC_dict['M']*genre_percentage\n",
    "                    MUSIC_values[1] += MUSIC_dict['U']*genre_percentage\n",
    "                    MUSIC_values[2] += MUSIC_dict['S']*genre_percentage\n",
    "                    MUSIC_values[3] += MUSIC_dict['I']*genre_percentage\n",
    "                    MUSIC_values[4] += MUSIC_dict['C']*genre_percentage\n",
    "                    \n",
    "    return MUSIC_values\n",
    "\n",
    "MUSIC_values = get_MUSIC_values(genre_percentages)\n",
    "\n",
    "print(MUSIC_values)"
   ]
  },
  {
   "cell_type": "code",
   "execution_count": 19,
   "metadata": {},
   "outputs": [
    {
     "name": "stdout",
     "output_type": "stream",
     "text": [
      "[-0.012986612576064909, 0.0038385395537525353, 0.02919634888438134, 0.0012835699797160245, -0.015279107505070996]\n"
     ]
    }
   ],
   "source": [
    "# convert MUSIC score into OCEAN score\n",
    "\n",
    "def convert_MUSIC_to_OCEAN(MUSIC_values):\n",
    "    \n",
    "    OCEAN_values = [0, 0, 0, 0, 0]\n",
    "    \n",
    "    for i in range(len(OCEAN_values)):\n",
    "        for j in range(len(MUSIC_values)):\n",
    "            OCEAN_values[i] += MUSIC_values[j] * OCEAN_MUSIC_values[i][j]\n",
    "\n",
    "    return OCEAN_values\n",
    "\n",
    "OCEAN_values = convert_MUSIC_to_OCEAN(MUSIC_values)\n",
    "\n",
    "print(OCEAN_values)"
   ]
  }
 ],
 "metadata": {
  "kernelspec": {
   "display_name": "Python 3",
   "language": "python",
   "name": "python3"
  },
  "language_info": {
   "codemirror_mode": {
    "name": "ipython",
    "version": 3
   },
   "file_extension": ".py",
   "mimetype": "text/x-python",
   "name": "python",
   "nbconvert_exporter": "python",
   "pygments_lexer": "ipython3",
   "version": "3.6.4"
  }
 },
 "nbformat": 4,
 "nbformat_minor": 2
}
