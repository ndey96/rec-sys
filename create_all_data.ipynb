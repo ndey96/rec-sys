{
 "cells": [
  {
   "cell_type": "code",
   "execution_count": 1,
   "metadata": {
    "collapsed": true
   },
   "outputs": [],
   "source": [
    "import pandas as pd\n",
    "import numpy as np\n",
    "import time\n",
    "from scipy.spatial.distance import pdist\n",
    "from sklearn.preprocessing import StandardScaler\n",
    "from tqdm import tqdm\n",
    "from multiprocessing import Pool\n",
    "from scipy.sparse import coo_matrix\n",
    "from scipy.sparse import save_npz\n",
    "import os"
   ]
  },
  {
   "cell_type": "code",
   "execution_count": 2,
   "metadata": {},
   "outputs": [
    {
     "data": {
      "text/html": [
       "<div>\n",
       "<style scoped>\n",
       "    .dataframe tbody tr th:only-of-type {\n",
       "        vertical-align: middle;\n",
       "    }\n",
       "\n",
       "    .dataframe tbody tr th {\n",
       "        vertical-align: top;\n",
       "    }\n",
       "\n",
       "    .dataframe thead th {\n",
       "        text-align: right;\n",
       "    }\n",
       "</style>\n",
       "<table border=\"1\" class=\"dataframe\">\n",
       "  <thead>\n",
       "    <tr style=\"text-align: right;\">\n",
       "      <th></th>\n",
       "      <th>song_id</th>\n",
       "      <th>year</th>\n",
       "      <th>acousticness</th>\n",
       "      <th>danceability</th>\n",
       "      <th>duration_ms</th>\n",
       "      <th>energy</th>\n",
       "      <th>instrumentalness</th>\n",
       "      <th>key</th>\n",
       "      <th>liveness</th>\n",
       "      <th>loudness</th>\n",
       "      <th>mode</th>\n",
       "      <th>speechiness</th>\n",
       "      <th>tempo</th>\n",
       "      <th>time_signature</th>\n",
       "      <th>valence</th>\n",
       "    </tr>\n",
       "  </thead>\n",
       "  <tbody>\n",
       "    <tr>\n",
       "      <th>0</th>\n",
       "      <td>SOSIYAD12A8C14097F</td>\n",
       "      <td>2006</td>\n",
       "      <td>0.0142</td>\n",
       "      <td>0.471</td>\n",
       "      <td>254537</td>\n",
       "      <td>0.910</td>\n",
       "      <td>0.764000</td>\n",
       "      <td>7</td>\n",
       "      <td>0.4030</td>\n",
       "      <td>-4.847</td>\n",
       "      <td>1</td>\n",
       "      <td>0.1090</td>\n",
       "      <td>175.816</td>\n",
       "      <td>4</td>\n",
       "      <td>0.282</td>\n",
       "    </tr>\n",
       "    <tr>\n",
       "      <th>1</th>\n",
       "      <td>SOHPHTP12A8C13BF53</td>\n",
       "      <td>0</td>\n",
       "      <td>0.8430</td>\n",
       "      <td>0.479</td>\n",
       "      <td>162173</td>\n",
       "      <td>0.315</td>\n",
       "      <td>0.000004</td>\n",
       "      <td>9</td>\n",
       "      <td>0.0911</td>\n",
       "      <td>-12.951</td>\n",
       "      <td>0</td>\n",
       "      <td>0.0991</td>\n",
       "      <td>97.886</td>\n",
       "      <td>4</td>\n",
       "      <td>0.309</td>\n",
       "    </tr>\n",
       "    <tr>\n",
       "      <th>2</th>\n",
       "      <td>SOFVVGL12A8C13C32F</td>\n",
       "      <td>1999</td>\n",
       "      <td>0.3070</td>\n",
       "      <td>0.678</td>\n",
       "      <td>188493</td>\n",
       "      <td>0.787</td>\n",
       "      <td>0.000080</td>\n",
       "      <td>9</td>\n",
       "      <td>0.7140</td>\n",
       "      <td>-6.344</td>\n",
       "      <td>1</td>\n",
       "      <td>0.0355</td>\n",
       "      <td>128.181</td>\n",
       "      <td>4</td>\n",
       "      <td>0.969</td>\n",
       "    </tr>\n",
       "    <tr>\n",
       "      <th>3</th>\n",
       "      <td>SOHXIRQ12AAA15CF81</td>\n",
       "      <td>2008</td>\n",
       "      <td>0.1470</td>\n",
       "      <td>0.804</td>\n",
       "      <td>278600</td>\n",
       "      <td>0.676</td>\n",
       "      <td>0.919000</td>\n",
       "      <td>3</td>\n",
       "      <td>0.0797</td>\n",
       "      <td>-8.480</td>\n",
       "      <td>0</td>\n",
       "      <td>0.0437</td>\n",
       "      <td>94.994</td>\n",
       "      <td>4</td>\n",
       "      <td>0.527</td>\n",
       "    </tr>\n",
       "    <tr>\n",
       "      <th>4</th>\n",
       "      <td>SOJHDEN12AB018B650</td>\n",
       "      <td>2006</td>\n",
       "      <td>0.1290</td>\n",
       "      <td>0.604</td>\n",
       "      <td>267200</td>\n",
       "      <td>0.603</td>\n",
       "      <td>0.000000</td>\n",
       "      <td>11</td>\n",
       "      <td>0.1850</td>\n",
       "      <td>-4.419</td>\n",
       "      <td>0</td>\n",
       "      <td>0.0507</td>\n",
       "      <td>124.088</td>\n",
       "      <td>4</td>\n",
       "      <td>0.399</td>\n",
       "    </tr>\n",
       "  </tbody>\n",
       "</table>\n",
       "</div>"
      ],
      "text/plain": [
       "              song_id  year  acousticness  danceability  duration_ms  energy  \\\n",
       "0  SOSIYAD12A8C14097F  2006        0.0142         0.471       254537   0.910   \n",
       "1  SOHPHTP12A8C13BF53     0        0.8430         0.479       162173   0.315   \n",
       "2  SOFVVGL12A8C13C32F  1999        0.3070         0.678       188493   0.787   \n",
       "3  SOHXIRQ12AAA15CF81  2008        0.1470         0.804       278600   0.676   \n",
       "4  SOJHDEN12AB018B650  2006        0.1290         0.604       267200   0.603   \n",
       "\n",
       "   instrumentalness  key  liveness  loudness  mode  speechiness    tempo  \\\n",
       "0          0.764000    7    0.4030    -4.847     1       0.1090  175.816   \n",
       "1          0.000004    9    0.0911   -12.951     0       0.0991   97.886   \n",
       "2          0.000080    9    0.7140    -6.344     1       0.0355  128.181   \n",
       "3          0.919000    3    0.0797    -8.480     0       0.0437   94.994   \n",
       "4          0.000000   11    0.1850    -4.419     0       0.0507  124.088   \n",
       "\n",
       "   time_signature  valence  \n",
       "0               4    0.282  \n",
       "1               4    0.309  \n",
       "2               4    0.969  \n",
       "3               4    0.527  \n",
       "4               4    0.399  "
      ]
     },
     "execution_count": 2,
     "metadata": {},
     "output_type": "execute_result"
    }
   ],
   "source": [
    "embedding_cols = [\n",
    "    'year',\n",
    "    'acousticness',\n",
    "    'danceability',\n",
    "    'duration_ms',\n",
    "    'energy',\n",
    "    'instrumentalness',\n",
    "    'key',\n",
    "    'liveness',\n",
    "    'loudness',\n",
    "    'mode',\n",
    "    'speechiness',\n",
    "    'tempo',\n",
    "    'time_signature',\n",
    "    'valence'\n",
    "]\n",
    "\n",
    "msd = pd.read_hdf('data/full_msd_with_audio_features.h5', key='df')[['song_id'] + embedding_cols]\n",
    "# this is because song_id is in the format:  \"b'SOSIYAD12A8C14097F'\"\n",
    "msd['song_id'] = msd['song_id'].str.slice(start=2, stop=-1)\n",
    "msd.head()"
   ]
  },
  {
   "cell_type": "code",
   "execution_count": 3,
   "metadata": {
    "collapsed": true
   },
   "outputs": [],
   "source": [
    "col_names = ['user_id', 'song_id', 'play_count']\n",
    "train_triplets = pd.read_csv('data/train_triplets.txt', sep='\\t', names=col_names)\n",
    "test_visible_triplets = pd.read_csv('data/EvalDataYear1MSDWebsite/year1_test_triplets_visible.txt', sep='\\t', names=col_names)\n",
    "test_hidden_triplets = pd.read_csv('data/EvalDataYear1MSDWebsite/year1_test_triplets_hidden.txt', sep='\\t', names=col_names)\n",
    "\n",
    "train_triplets['is_test'] = False\n",
    "test_visible_triplets['is_test'] = True\n",
    "test_hidden_triplets['is_test'] = True\n",
    "\n",
    "train_triplets['is_hidden'] = False\n",
    "test_visible_triplets['is_hidden'] = False\n",
    "test_hidden_triplets['is_hidden'] = True"
   ]
  },
  {
   "cell_type": "code",
   "execution_count": 4,
   "metadata": {
    "collapsed": true
   },
   "outputs": [],
   "source": [
    "all_triplets = train_triplets.append(test_visible_triplets, ignore_index=True).append(test_hidden_triplets, ignore_index=True)\n",
    "all_niplets = all_triplets.merge(msd, left_on='song_id', right_on='song_id')\n",
    "\n",
    "visible_niplets = all_niplets.loc[all_niplets['is_hidden'] == False]\n",
    "hidden_niplets = all_niplets.loc[all_niplets['is_hidden'] == True]"
   ]
  },
  {
   "cell_type": "code",
   "execution_count": 5,
   "metadata": {},
   "outputs": [
    {
     "data": {
      "text/plain": [
       "(20639742, 19)"
      ]
     },
     "execution_count": 5,
     "metadata": {},
     "output_type": "execute_result"
    }
   ],
   "source": [
    "all_niplets.shape"
   ]
  },
  {
   "cell_type": "code",
   "execution_count": 6,
   "metadata": {},
   "outputs": [
    {
     "data": {
      "text/plain": [
       "(20107787, 19)"
      ]
     },
     "execution_count": 6,
     "metadata": {},
     "output_type": "execute_result"
    }
   ],
   "source": [
    "visible_niplets.shape"
   ]
  },
  {
   "cell_type": "code",
   "execution_count": 7,
   "metadata": {
    "scrolled": true
   },
   "outputs": [
    {
     "data": {
      "text/plain": [
       "(531955, 19)"
      ]
     },
     "execution_count": 7,
     "metadata": {},
     "output_type": "execute_result"
    }
   ],
   "source": [
    "hidden_niplets.shape"
   ]
  },
  {
   "cell_type": "code",
   "execution_count": 8,
   "metadata": {
    "collapsed": true
   },
   "outputs": [],
   "source": [
    "#This is to remove the users that have test data but not hidden data\n",
    "visible_users = visible_niplets['user_id'].drop_duplicates()\n",
    "hidden_users = hidden_niplets['user_id'].drop_duplicates()\n",
    "blacklisted_users = hidden_users[~hidden_users.isin(visible_users)].values\n",
    "\n",
    "hidden_niplets = hidden_niplets.loc[~hidden_niplets['user_id'].isin(blacklisted_users)]\n",
    "all_niplets = all_niplets.loc[~all_niplets['user_id'].isin(blacklisted_users)]"
   ]
  },
  {
   "cell_type": "code",
   "execution_count": 9,
   "metadata": {},
   "outputs": [
    {
     "data": {
      "text/plain": [
       "4202"
      ]
     },
     "execution_count": 9,
     "metadata": {},
     "output_type": "execute_result"
    }
   ],
   "source": [
    "len(blacklisted_users)"
   ]
  },
  {
   "cell_type": "code",
   "execution_count": 10,
   "metadata": {},
   "outputs": [
    {
     "data": {
      "text/plain": [
       "(20629059, 19)"
      ]
     },
     "execution_count": 10,
     "metadata": {},
     "output_type": "execute_result"
    }
   ],
   "source": [
    "all_niplets.shape"
   ]
  },
  {
   "cell_type": "code",
   "execution_count": 11,
   "metadata": {},
   "outputs": [
    {
     "data": {
      "text/plain": [
       "(20107787, 19)"
      ]
     },
     "execution_count": 11,
     "metadata": {},
     "output_type": "execute_result"
    }
   ],
   "source": [
    "visible_niplets.shape"
   ]
  },
  {
   "cell_type": "code",
   "execution_count": 12,
   "metadata": {
    "scrolled": true
   },
   "outputs": [
    {
     "data": {
      "text/plain": [
       "(521272, 19)"
      ]
     },
     "execution_count": 12,
     "metadata": {},
     "output_type": "execute_result"
    }
   ],
   "source": [
    "hidden_niplets.shape"
   ]
  },
  {
   "cell_type": "code",
   "execution_count": 13,
   "metadata": {},
   "outputs": [
    {
     "data": {
      "text/html": [
       "<div>\n",
       "<style scoped>\n",
       "    .dataframe tbody tr th:only-of-type {\n",
       "        vertical-align: middle;\n",
       "    }\n",
       "\n",
       "    .dataframe tbody tr th {\n",
       "        vertical-align: top;\n",
       "    }\n",
       "\n",
       "    .dataframe thead th {\n",
       "        text-align: right;\n",
       "    }\n",
       "</style>\n",
       "<table border=\"1\" class=\"dataframe\">\n",
       "  <thead>\n",
       "    <tr style=\"text-align: right;\">\n",
       "      <th></th>\n",
       "      <th>user_id</th>\n",
       "      <th>song_id</th>\n",
       "      <th>play_count</th>\n",
       "      <th>is_test</th>\n",
       "      <th>is_hidden</th>\n",
       "      <th>year</th>\n",
       "      <th>acousticness</th>\n",
       "      <th>danceability</th>\n",
       "      <th>duration_ms</th>\n",
       "      <th>energy</th>\n",
       "      <th>instrumentalness</th>\n",
       "      <th>key</th>\n",
       "      <th>liveness</th>\n",
       "      <th>loudness</th>\n",
       "      <th>mode</th>\n",
       "      <th>speechiness</th>\n",
       "      <th>tempo</th>\n",
       "      <th>time_signature</th>\n",
       "      <th>valence</th>\n",
       "    </tr>\n",
       "  </thead>\n",
       "  <tbody>\n",
       "    <tr>\n",
       "      <th>0</th>\n",
       "      <td>b80344d063b5ccb3212f76538f3d9e43d87dca9e</td>\n",
       "      <td>SOAKIMP12A8C130995</td>\n",
       "      <td>1</td>\n",
       "      <td>False</td>\n",
       "      <td>False</td>\n",
       "      <td>0</td>\n",
       "      <td>0.656</td>\n",
       "      <td>0.486</td>\n",
       "      <td>112680</td>\n",
       "      <td>0.231</td>\n",
       "      <td>0.577</td>\n",
       "      <td>7</td>\n",
       "      <td>0.128</td>\n",
       "      <td>-15.423</td>\n",
       "      <td>1</td>\n",
       "      <td>0.0445</td>\n",
       "      <td>123.685</td>\n",
       "      <td>4</td>\n",
       "      <td>0.389</td>\n",
       "    </tr>\n",
       "    <tr>\n",
       "      <th>1</th>\n",
       "      <td>7c86176941718984fed11b7c0674ff04c029b480</td>\n",
       "      <td>SOAKIMP12A8C130995</td>\n",
       "      <td>1</td>\n",
       "      <td>False</td>\n",
       "      <td>False</td>\n",
       "      <td>0</td>\n",
       "      <td>0.656</td>\n",
       "      <td>0.486</td>\n",
       "      <td>112680</td>\n",
       "      <td>0.231</td>\n",
       "      <td>0.577</td>\n",
       "      <td>7</td>\n",
       "      <td>0.128</td>\n",
       "      <td>-15.423</td>\n",
       "      <td>1</td>\n",
       "      <td>0.0445</td>\n",
       "      <td>123.685</td>\n",
       "      <td>4</td>\n",
       "      <td>0.389</td>\n",
       "    </tr>\n",
       "    <tr>\n",
       "      <th>2</th>\n",
       "      <td>76235885b32c4e8c82760c340dc54f9b608d7d7e</td>\n",
       "      <td>SOAKIMP12A8C130995</td>\n",
       "      <td>3</td>\n",
       "      <td>False</td>\n",
       "      <td>False</td>\n",
       "      <td>0</td>\n",
       "      <td>0.656</td>\n",
       "      <td>0.486</td>\n",
       "      <td>112680</td>\n",
       "      <td>0.231</td>\n",
       "      <td>0.577</td>\n",
       "      <td>7</td>\n",
       "      <td>0.128</td>\n",
       "      <td>-15.423</td>\n",
       "      <td>1</td>\n",
       "      <td>0.0445</td>\n",
       "      <td>123.685</td>\n",
       "      <td>4</td>\n",
       "      <td>0.389</td>\n",
       "    </tr>\n",
       "    <tr>\n",
       "      <th>3</th>\n",
       "      <td>250c0fa2a77bc6695046e7c47882ecd85c42d748</td>\n",
       "      <td>SOAKIMP12A8C130995</td>\n",
       "      <td>1</td>\n",
       "      <td>False</td>\n",
       "      <td>False</td>\n",
       "      <td>0</td>\n",
       "      <td>0.656</td>\n",
       "      <td>0.486</td>\n",
       "      <td>112680</td>\n",
       "      <td>0.231</td>\n",
       "      <td>0.577</td>\n",
       "      <td>7</td>\n",
       "      <td>0.128</td>\n",
       "      <td>-15.423</td>\n",
       "      <td>1</td>\n",
       "      <td>0.0445</td>\n",
       "      <td>123.685</td>\n",
       "      <td>4</td>\n",
       "      <td>0.389</td>\n",
       "    </tr>\n",
       "    <tr>\n",
       "      <th>4</th>\n",
       "      <td>3f73f44560e822344b0fb7c6b463869743eb9860</td>\n",
       "      <td>SOAKIMP12A8C130995</td>\n",
       "      <td>6</td>\n",
       "      <td>False</td>\n",
       "      <td>False</td>\n",
       "      <td>0</td>\n",
       "      <td>0.656</td>\n",
       "      <td>0.486</td>\n",
       "      <td>112680</td>\n",
       "      <td>0.231</td>\n",
       "      <td>0.577</td>\n",
       "      <td>7</td>\n",
       "      <td>0.128</td>\n",
       "      <td>-15.423</td>\n",
       "      <td>1</td>\n",
       "      <td>0.0445</td>\n",
       "      <td>123.685</td>\n",
       "      <td>4</td>\n",
       "      <td>0.389</td>\n",
       "    </tr>\n",
       "  </tbody>\n",
       "</table>\n",
       "</div>"
      ],
      "text/plain": [
       "                                    user_id             song_id  play_count  \\\n",
       "0  b80344d063b5ccb3212f76538f3d9e43d87dca9e  SOAKIMP12A8C130995           1   \n",
       "1  7c86176941718984fed11b7c0674ff04c029b480  SOAKIMP12A8C130995           1   \n",
       "2  76235885b32c4e8c82760c340dc54f9b608d7d7e  SOAKIMP12A8C130995           3   \n",
       "3  250c0fa2a77bc6695046e7c47882ecd85c42d748  SOAKIMP12A8C130995           1   \n",
       "4  3f73f44560e822344b0fb7c6b463869743eb9860  SOAKIMP12A8C130995           6   \n",
       "\n",
       "   is_test  is_hidden  year  acousticness  danceability  duration_ms  energy  \\\n",
       "0    False      False     0         0.656         0.486       112680   0.231   \n",
       "1    False      False     0         0.656         0.486       112680   0.231   \n",
       "2    False      False     0         0.656         0.486       112680   0.231   \n",
       "3    False      False     0         0.656         0.486       112680   0.231   \n",
       "4    False      False     0         0.656         0.486       112680   0.231   \n",
       "\n",
       "   instrumentalness  key  liveness  loudness  mode  speechiness    tempo  \\\n",
       "0             0.577    7     0.128   -15.423     1       0.0445  123.685   \n",
       "1             0.577    7     0.128   -15.423     1       0.0445  123.685   \n",
       "2             0.577    7     0.128   -15.423     1       0.0445  123.685   \n",
       "3             0.577    7     0.128   -15.423     1       0.0445  123.685   \n",
       "4             0.577    7     0.128   -15.423     1       0.0445  123.685   \n",
       "\n",
       "   time_signature  valence  \n",
       "0               4    0.389  \n",
       "1               4    0.389  \n",
       "2               4    0.389  \n",
       "3               4    0.389  \n",
       "4               4    0.389  "
      ]
     },
     "execution_count": 13,
     "metadata": {},
     "output_type": "execute_result"
    }
   ],
   "source": [
    "all_niplets.head()"
   ]
  },
  {
   "cell_type": "code",
   "execution_count": 14,
   "metadata": {
    "collapsed": true
   },
   "outputs": [],
   "source": [
    "# Get the full dataset since I will need to put this in COO matrix. It will be difficult matching up the song ids of test and train\n",
    "# if they are treated independently. Putting them together and then splitting the train and test set when creating the COO matrix is the\n",
    "# easiest way of ensuring that the indices remain correct.\n",
    "\n",
    "# Build the train and test CSR matrices.\n",
    "\n",
    "all_niplets['user_id'] = all_niplets['user_id'].astype(\"category\")\n",
    "all_niplets['song_id'] = all_niplets['song_id'].astype(\"category\")\n",
    "\n",
    "num_users = all_niplets['user_id'].cat.codes.unique().shape[0]\n",
    "num_songs = all_niplets['song_id'].cat.codes.unique().shape[0]\n",
    "\n",
    "train_data = all_niplets.loc[all_niplets['is_hidden'] == False]\n",
    "test_data = all_niplets.loc[all_niplets['is_hidden'] == True]\n",
    "\n",
    "rows_train = train_data['song_id'].cat.codes.copy()\n",
    "cols_train = train_data['user_id'].cat.codes.copy()\n",
    "data_train = train_data['play_count'].astype(np.float32)\n",
    "\n",
    "rows_test = test_data['song_id'].cat.codes.copy()\n",
    "cols_test = test_data['user_id'].cat.codes.copy()\n",
    "data_test = test_data['play_count'].astype(np.float32)\n",
    "\n",
    "train_plays = coo_matrix((data_train, (rows_train, cols_train)), shape=(num_songs, num_users)).tocsr()\n",
    "test_plays = coo_matrix((data_test, (rows_test, cols_test)), shape=(num_songs, num_users)).tocsr()\n",
    "\n",
    "user_mapping = np.vstack((all_niplets['user_id'].cat.codes.copy().values,\n",
    "                          all_niplets['user_id'].values)).T\n",
    "song_mapping = np.vstack((all_niplets['song_id'].cat.codes.copy().values,\n",
    "                          all_niplets['song_id'].values)).T\n",
    "\n",
    "user_id_to_user_index = pd.DataFrame(columns=['sparse_index', 'user_id'], data=user_mapping).drop_duplicates()\n",
    "song_id_to_song_index = pd.DataFrame(columns=['sparse_index', 'song_id'], data=song_mapping).drop_duplicates()"
   ]
  },
  {
   "cell_type": "code",
   "execution_count": 15,
   "metadata": {},
   "outputs": [
    {
     "data": {
      "text/html": [
       "<div>\n",
       "<style scoped>\n",
       "    .dataframe tbody tr th:only-of-type {\n",
       "        vertical-align: middle;\n",
       "    }\n",
       "\n",
       "    .dataframe tbody tr th {\n",
       "        vertical-align: top;\n",
       "    }\n",
       "\n",
       "    .dataframe thead th {\n",
       "        text-align: right;\n",
       "    }\n",
       "</style>\n",
       "<table border=\"1\" class=\"dataframe\">\n",
       "  <thead>\n",
       "    <tr style=\"text-align: right;\">\n",
       "      <th></th>\n",
       "      <th>sparse_index</th>\n",
       "      <th>user_id</th>\n",
       "    </tr>\n",
       "  </thead>\n",
       "  <tbody>\n",
       "    <tr>\n",
       "      <th>0</th>\n",
       "      <td>796068</td>\n",
       "      <td>b80344d063b5ccb3212f76538f3d9e43d87dca9e</td>\n",
       "    </tr>\n",
       "    <tr>\n",
       "      <th>1</th>\n",
       "      <td>538494</td>\n",
       "      <td>7c86176941718984fed11b7c0674ff04c029b480</td>\n",
       "    </tr>\n",
       "    <tr>\n",
       "      <th>2</th>\n",
       "      <td>510903</td>\n",
       "      <td>76235885b32c4e8c82760c340dc54f9b608d7d7e</td>\n",
       "    </tr>\n",
       "    <tr>\n",
       "      <th>3</th>\n",
       "      <td>159634</td>\n",
       "      <td>250c0fa2a77bc6695046e7c47882ecd85c42d748</td>\n",
       "    </tr>\n",
       "    <tr>\n",
       "      <th>4</th>\n",
       "      <td>273980</td>\n",
       "      <td>3f73f44560e822344b0fb7c6b463869743eb9860</td>\n",
       "    </tr>\n",
       "  </tbody>\n",
       "</table>\n",
       "</div>"
      ],
      "text/plain": [
       "  sparse_index                                   user_id\n",
       "0       796068  b80344d063b5ccb3212f76538f3d9e43d87dca9e\n",
       "1       538494  7c86176941718984fed11b7c0674ff04c029b480\n",
       "2       510903  76235885b32c4e8c82760c340dc54f9b608d7d7e\n",
       "3       159634  250c0fa2a77bc6695046e7c47882ecd85c42d748\n",
       "4       273980  3f73f44560e822344b0fb7c6b463869743eb9860"
      ]
     },
     "execution_count": 15,
     "metadata": {},
     "output_type": "execute_result"
    }
   ],
   "source": [
    "user_id_to_user_index.head()"
   ]
  },
  {
   "cell_type": "code",
   "execution_count": 16,
   "metadata": {},
   "outputs": [
    {
     "data": {
      "text/plain": [
       "(1107613, 2)"
      ]
     },
     "execution_count": 16,
     "metadata": {},
     "output_type": "execute_result"
    }
   ],
   "source": [
    "user_id_to_user_index.shape"
   ]
  },
  {
   "cell_type": "code",
   "execution_count": 17,
   "metadata": {
    "scrolled": true
   },
   "outputs": [
    {
     "data": {
      "text/html": [
       "<div>\n",
       "<style scoped>\n",
       "    .dataframe tbody tr th:only-of-type {\n",
       "        vertical-align: middle;\n",
       "    }\n",
       "\n",
       "    .dataframe tbody tr th {\n",
       "        vertical-align: top;\n",
       "    }\n",
       "\n",
       "    .dataframe thead th {\n",
       "        text-align: right;\n",
       "    }\n",
       "</style>\n",
       "<table border=\"1\" class=\"dataframe\">\n",
       "  <thead>\n",
       "    <tr style=\"text-align: right;\">\n",
       "      <th></th>\n",
       "      <th>sparse_index</th>\n",
       "      <th>song_id</th>\n",
       "    </tr>\n",
       "  </thead>\n",
       "  <tbody>\n",
       "    <tr>\n",
       "      <th>0</th>\n",
       "      <td>4785</td>\n",
       "      <td>SOAKIMP12A8C130995</td>\n",
       "    </tr>\n",
       "    <tr>\n",
       "      <th>2457</th>\n",
       "      <td>7052</td>\n",
       "      <td>SOAPDEY12A81C210A9</td>\n",
       "    </tr>\n",
       "    <tr>\n",
       "      <th>3238</th>\n",
       "      <td>14453</td>\n",
       "      <td>SOBFOVM12A58A7D494</td>\n",
       "    </tr>\n",
       "    <tr>\n",
       "      <th>3710</th>\n",
       "      <td>20354</td>\n",
       "      <td>SOBSUJE12A6D4F8CF5</td>\n",
       "    </tr>\n",
       "    <tr>\n",
       "      <th>4409</th>\n",
       "      <td>21408</td>\n",
       "      <td>SOBVFZR12A6D4F8AE3</td>\n",
       "    </tr>\n",
       "  </tbody>\n",
       "</table>\n",
       "</div>"
      ],
      "text/plain": [
       "     sparse_index             song_id\n",
       "0            4785  SOAKIMP12A8C130995\n",
       "2457         7052  SOAPDEY12A81C210A9\n",
       "3238        14453  SOBFOVM12A58A7D494\n",
       "3710        20354  SOBSUJE12A6D4F8CF5\n",
       "4409        21408  SOBVFZR12A6D4F8AE3"
      ]
     },
     "execution_count": 17,
     "metadata": {},
     "output_type": "execute_result"
    }
   ],
   "source": [
    "song_id_to_song_index.head()"
   ]
  },
  {
   "cell_type": "code",
   "execution_count": 18,
   "metadata": {},
   "outputs": [
    {
     "data": {
      "text/plain": [
       "(168493, 2)"
      ]
     },
     "execution_count": 18,
     "metadata": {},
     "output_type": "execute_result"
    }
   ],
   "source": [
    "song_id_to_song_index.shape"
   ]
  },
  {
   "cell_type": "code",
   "execution_count": 19,
   "metadata": {},
   "outputs": [
    {
     "name": "stderr",
     "output_type": "stream",
     "text": [
      "/Users/nolandey/anaconda/envs/tensorflow3/lib/python3.6/site-packages/pandas/core/generic.py:2378: PerformanceWarning: \n",
      "your performance may suffer as PyTables will pickle object types that it cannot\n",
      "map directly to c-types [inferred_type->mixed-integer,key->block0_values] [items->['sparse_index', 'user_id']]\n",
      "\n",
      "  return pytables.to_hdf(path_or_buf, key, self, **kwargs)\n",
      "/Users/nolandey/anaconda/envs/tensorflow3/lib/python3.6/site-packages/pandas/core/generic.py:2378: PerformanceWarning: \n",
      "your performance may suffer as PyTables will pickle object types that it cannot\n",
      "map directly to c-types [inferred_type->mixed-integer,key->block0_values] [items->['sparse_index', 'song_id']]\n",
      "\n",
      "  return pytables.to_hdf(path_or_buf, key, self, **kwargs)\n"
     ]
    }
   ],
   "source": [
    "# Save to file\n",
    "user_id_to_user_index.to_hdf('data/user_mapping.h5', key='df', mode='w')\n",
    "song_id_to_song_index.to_hdf('data/song_mapping.h5', key='df', mode='w')\n",
    "\n",
    "save_npz('data/train_sparse', train_plays)\n",
    "save_npz('data/test_sparse', test_plays)"
   ]
  },
  {
   "cell_type": "code",
   "execution_count": 20,
   "metadata": {
    "collapsed": true
   },
   "outputs": [],
   "source": [
    "song_df = song_id_to_song_index.merge(msd.drop_duplicates(), left_on='song_id', right_on='song_id')\n",
    "song_df.set_index('sparse_index', inplace=True)"
   ]
  },
  {
   "cell_type": "code",
   "execution_count": 21,
   "metadata": {},
   "outputs": [
    {
     "data": {
      "text/html": [
       "<div>\n",
       "<style scoped>\n",
       "    .dataframe tbody tr th:only-of-type {\n",
       "        vertical-align: middle;\n",
       "    }\n",
       "\n",
       "    .dataframe tbody tr th {\n",
       "        vertical-align: top;\n",
       "    }\n",
       "\n",
       "    .dataframe thead th {\n",
       "        text-align: right;\n",
       "    }\n",
       "</style>\n",
       "<table border=\"1\" class=\"dataframe\">\n",
       "  <thead>\n",
       "    <tr style=\"text-align: right;\">\n",
       "      <th></th>\n",
       "      <th>song_id</th>\n",
       "      <th>year</th>\n",
       "      <th>acousticness</th>\n",
       "      <th>danceability</th>\n",
       "      <th>duration_ms</th>\n",
       "      <th>energy</th>\n",
       "      <th>instrumentalness</th>\n",
       "      <th>key</th>\n",
       "      <th>liveness</th>\n",
       "      <th>loudness</th>\n",
       "      <th>mode</th>\n",
       "      <th>speechiness</th>\n",
       "      <th>tempo</th>\n",
       "      <th>time_signature</th>\n",
       "      <th>valence</th>\n",
       "    </tr>\n",
       "    <tr>\n",
       "      <th>sparse_index</th>\n",
       "      <th></th>\n",
       "      <th></th>\n",
       "      <th></th>\n",
       "      <th></th>\n",
       "      <th></th>\n",
       "      <th></th>\n",
       "      <th></th>\n",
       "      <th></th>\n",
       "      <th></th>\n",
       "      <th></th>\n",
       "      <th></th>\n",
       "      <th></th>\n",
       "      <th></th>\n",
       "      <th></th>\n",
       "      <th></th>\n",
       "    </tr>\n",
       "  </thead>\n",
       "  <tbody>\n",
       "    <tr>\n",
       "      <th>4785</th>\n",
       "      <td>SOAKIMP12A8C130995</td>\n",
       "      <td>0</td>\n",
       "      <td>0.656000</td>\n",
       "      <td>0.486</td>\n",
       "      <td>112680</td>\n",
       "      <td>0.231</td>\n",
       "      <td>0.577000</td>\n",
       "      <td>7</td>\n",
       "      <td>0.128</td>\n",
       "      <td>-15.423</td>\n",
       "      <td>1</td>\n",
       "      <td>0.0445</td>\n",
       "      <td>123.685</td>\n",
       "      <td>4</td>\n",
       "      <td>0.3890</td>\n",
       "    </tr>\n",
       "    <tr>\n",
       "      <th>7052</th>\n",
       "      <td>SOAPDEY12A81C210A9</td>\n",
       "      <td>1974</td>\n",
       "      <td>0.588000</td>\n",
       "      <td>0.809</td>\n",
       "      <td>156200</td>\n",
       "      <td>0.831</td>\n",
       "      <td>0.013500</td>\n",
       "      <td>9</td>\n",
       "      <td>0.197</td>\n",
       "      <td>-4.027</td>\n",
       "      <td>0</td>\n",
       "      <td>0.0288</td>\n",
       "      <td>102.830</td>\n",
       "      <td>4</td>\n",
       "      <td>0.9200</td>\n",
       "    </tr>\n",
       "    <tr>\n",
       "      <th>14453</th>\n",
       "      <td>SOBFOVM12A58A7D494</td>\n",
       "      <td>0</td>\n",
       "      <td>0.000111</td>\n",
       "      <td>0.598</td>\n",
       "      <td>141440</td>\n",
       "      <td>0.760</td>\n",
       "      <td>0.244000</td>\n",
       "      <td>7</td>\n",
       "      <td>0.101</td>\n",
       "      <td>-7.372</td>\n",
       "      <td>0</td>\n",
       "      <td>0.0293</td>\n",
       "      <td>143.948</td>\n",
       "      <td>4</td>\n",
       "      <td>0.8330</td>\n",
       "    </tr>\n",
       "    <tr>\n",
       "      <th>20354</th>\n",
       "      <td>SOBSUJE12A6D4F8CF5</td>\n",
       "      <td>2006</td>\n",
       "      <td>0.119000</td>\n",
       "      <td>0.607</td>\n",
       "      <td>246410</td>\n",
       "      <td>0.504</td>\n",
       "      <td>0.000412</td>\n",
       "      <td>0</td>\n",
       "      <td>0.102</td>\n",
       "      <td>-8.176</td>\n",
       "      <td>0</td>\n",
       "      <td>0.0327</td>\n",
       "      <td>126.051</td>\n",
       "      <td>4</td>\n",
       "      <td>0.0396</td>\n",
       "    </tr>\n",
       "    <tr>\n",
       "      <th>21408</th>\n",
       "      <td>SOBVFZR12A6D4F8AE3</td>\n",
       "      <td>2002</td>\n",
       "      <td>0.172000</td>\n",
       "      <td>0.722</td>\n",
       "      <td>171173</td>\n",
       "      <td>0.501</td>\n",
       "      <td>0.534000</td>\n",
       "      <td>1</td>\n",
       "      <td>0.119</td>\n",
       "      <td>-10.620</td>\n",
       "      <td>0</td>\n",
       "      <td>0.0314</td>\n",
       "      <td>123.195</td>\n",
       "      <td>4</td>\n",
       "      <td>0.4020</td>\n",
       "    </tr>\n",
       "  </tbody>\n",
       "</table>\n",
       "</div>"
      ],
      "text/plain": [
       "                         song_id  year  acousticness  danceability  \\\n",
       "sparse_index                                                         \n",
       "4785          SOAKIMP12A8C130995     0      0.656000         0.486   \n",
       "7052          SOAPDEY12A81C210A9  1974      0.588000         0.809   \n",
       "14453         SOBFOVM12A58A7D494     0      0.000111         0.598   \n",
       "20354         SOBSUJE12A6D4F8CF5  2006      0.119000         0.607   \n",
       "21408         SOBVFZR12A6D4F8AE3  2002      0.172000         0.722   \n",
       "\n",
       "              duration_ms  energy  instrumentalness  key  liveness  loudness  \\\n",
       "sparse_index                                                                   \n",
       "4785               112680   0.231          0.577000    7     0.128   -15.423   \n",
       "7052               156200   0.831          0.013500    9     0.197    -4.027   \n",
       "14453              141440   0.760          0.244000    7     0.101    -7.372   \n",
       "20354              246410   0.504          0.000412    0     0.102    -8.176   \n",
       "21408              171173   0.501          0.534000    1     0.119   -10.620   \n",
       "\n",
       "              mode  speechiness    tempo  time_signature  valence  \n",
       "sparse_index                                                       \n",
       "4785             1       0.0445  123.685               4   0.3890  \n",
       "7052             0       0.0288  102.830               4   0.9200  \n",
       "14453            0       0.0293  143.948               4   0.8330  \n",
       "20354            0       0.0327  126.051               4   0.0396  \n",
       "21408            0       0.0314  123.195               4   0.4020  "
      ]
     },
     "execution_count": 21,
     "metadata": {},
     "output_type": "execute_result"
    }
   ],
   "source": [
    "song_df.head()"
   ]
  },
  {
   "cell_type": "code",
   "execution_count": 22,
   "metadata": {},
   "outputs": [
    {
     "data": {
      "text/plain": [
       "(168503, 15)"
      ]
     },
     "execution_count": 22,
     "metadata": {},
     "output_type": "execute_result"
    }
   ],
   "source": [
    "song_df.shape"
   ]
  },
  {
   "cell_type": "code",
   "execution_count": 23,
   "metadata": {
    "collapsed": true
   },
   "outputs": [],
   "source": [
    "visible_niplets_with_sparse_index = visible_niplets.merge(song_id_to_song_index, left_on='song_id', right_on='song_id')"
   ]
  },
  {
   "cell_type": "code",
   "execution_count": 24,
   "metadata": {},
   "outputs": [
    {
     "data": {
      "text/html": [
       "<div>\n",
       "<style scoped>\n",
       "    .dataframe tbody tr th:only-of-type {\n",
       "        vertical-align: middle;\n",
       "    }\n",
       "\n",
       "    .dataframe tbody tr th {\n",
       "        vertical-align: top;\n",
       "    }\n",
       "\n",
       "    .dataframe thead th {\n",
       "        text-align: right;\n",
       "    }\n",
       "</style>\n",
       "<table border=\"1\" class=\"dataframe\">\n",
       "  <thead>\n",
       "    <tr style=\"text-align: right;\">\n",
       "      <th></th>\n",
       "      <th>user_id</th>\n",
       "      <th>song_id</th>\n",
       "      <th>play_count</th>\n",
       "      <th>is_test</th>\n",
       "      <th>is_hidden</th>\n",
       "      <th>year</th>\n",
       "      <th>acousticness</th>\n",
       "      <th>danceability</th>\n",
       "      <th>duration_ms</th>\n",
       "      <th>energy</th>\n",
       "      <th>instrumentalness</th>\n",
       "      <th>key</th>\n",
       "      <th>liveness</th>\n",
       "      <th>loudness</th>\n",
       "      <th>mode</th>\n",
       "      <th>speechiness</th>\n",
       "      <th>tempo</th>\n",
       "      <th>time_signature</th>\n",
       "      <th>valence</th>\n",
       "      <th>sparse_index</th>\n",
       "    </tr>\n",
       "  </thead>\n",
       "  <tbody>\n",
       "    <tr>\n",
       "      <th>0</th>\n",
       "      <td>b80344d063b5ccb3212f76538f3d9e43d87dca9e</td>\n",
       "      <td>SOAKIMP12A8C130995</td>\n",
       "      <td>1</td>\n",
       "      <td>False</td>\n",
       "      <td>False</td>\n",
       "      <td>0</td>\n",
       "      <td>0.656</td>\n",
       "      <td>0.486</td>\n",
       "      <td>112680</td>\n",
       "      <td>0.231</td>\n",
       "      <td>0.577</td>\n",
       "      <td>7</td>\n",
       "      <td>0.128</td>\n",
       "      <td>-15.423</td>\n",
       "      <td>1</td>\n",
       "      <td>0.0445</td>\n",
       "      <td>123.685</td>\n",
       "      <td>4</td>\n",
       "      <td>0.389</td>\n",
       "      <td>4785</td>\n",
       "    </tr>\n",
       "    <tr>\n",
       "      <th>1</th>\n",
       "      <td>7c86176941718984fed11b7c0674ff04c029b480</td>\n",
       "      <td>SOAKIMP12A8C130995</td>\n",
       "      <td>1</td>\n",
       "      <td>False</td>\n",
       "      <td>False</td>\n",
       "      <td>0</td>\n",
       "      <td>0.656</td>\n",
       "      <td>0.486</td>\n",
       "      <td>112680</td>\n",
       "      <td>0.231</td>\n",
       "      <td>0.577</td>\n",
       "      <td>7</td>\n",
       "      <td>0.128</td>\n",
       "      <td>-15.423</td>\n",
       "      <td>1</td>\n",
       "      <td>0.0445</td>\n",
       "      <td>123.685</td>\n",
       "      <td>4</td>\n",
       "      <td>0.389</td>\n",
       "      <td>4785</td>\n",
       "    </tr>\n",
       "    <tr>\n",
       "      <th>2</th>\n",
       "      <td>76235885b32c4e8c82760c340dc54f9b608d7d7e</td>\n",
       "      <td>SOAKIMP12A8C130995</td>\n",
       "      <td>3</td>\n",
       "      <td>False</td>\n",
       "      <td>False</td>\n",
       "      <td>0</td>\n",
       "      <td>0.656</td>\n",
       "      <td>0.486</td>\n",
       "      <td>112680</td>\n",
       "      <td>0.231</td>\n",
       "      <td>0.577</td>\n",
       "      <td>7</td>\n",
       "      <td>0.128</td>\n",
       "      <td>-15.423</td>\n",
       "      <td>1</td>\n",
       "      <td>0.0445</td>\n",
       "      <td>123.685</td>\n",
       "      <td>4</td>\n",
       "      <td>0.389</td>\n",
       "      <td>4785</td>\n",
       "    </tr>\n",
       "    <tr>\n",
       "      <th>3</th>\n",
       "      <td>250c0fa2a77bc6695046e7c47882ecd85c42d748</td>\n",
       "      <td>SOAKIMP12A8C130995</td>\n",
       "      <td>1</td>\n",
       "      <td>False</td>\n",
       "      <td>False</td>\n",
       "      <td>0</td>\n",
       "      <td>0.656</td>\n",
       "      <td>0.486</td>\n",
       "      <td>112680</td>\n",
       "      <td>0.231</td>\n",
       "      <td>0.577</td>\n",
       "      <td>7</td>\n",
       "      <td>0.128</td>\n",
       "      <td>-15.423</td>\n",
       "      <td>1</td>\n",
       "      <td>0.0445</td>\n",
       "      <td>123.685</td>\n",
       "      <td>4</td>\n",
       "      <td>0.389</td>\n",
       "      <td>4785</td>\n",
       "    </tr>\n",
       "    <tr>\n",
       "      <th>4</th>\n",
       "      <td>3f73f44560e822344b0fb7c6b463869743eb9860</td>\n",
       "      <td>SOAKIMP12A8C130995</td>\n",
       "      <td>6</td>\n",
       "      <td>False</td>\n",
       "      <td>False</td>\n",
       "      <td>0</td>\n",
       "      <td>0.656</td>\n",
       "      <td>0.486</td>\n",
       "      <td>112680</td>\n",
       "      <td>0.231</td>\n",
       "      <td>0.577</td>\n",
       "      <td>7</td>\n",
       "      <td>0.128</td>\n",
       "      <td>-15.423</td>\n",
       "      <td>1</td>\n",
       "      <td>0.0445</td>\n",
       "      <td>123.685</td>\n",
       "      <td>4</td>\n",
       "      <td>0.389</td>\n",
       "      <td>4785</td>\n",
       "    </tr>\n",
       "  </tbody>\n",
       "</table>\n",
       "</div>"
      ],
      "text/plain": [
       "                                    user_id             song_id  play_count  \\\n",
       "0  b80344d063b5ccb3212f76538f3d9e43d87dca9e  SOAKIMP12A8C130995           1   \n",
       "1  7c86176941718984fed11b7c0674ff04c029b480  SOAKIMP12A8C130995           1   \n",
       "2  76235885b32c4e8c82760c340dc54f9b608d7d7e  SOAKIMP12A8C130995           3   \n",
       "3  250c0fa2a77bc6695046e7c47882ecd85c42d748  SOAKIMP12A8C130995           1   \n",
       "4  3f73f44560e822344b0fb7c6b463869743eb9860  SOAKIMP12A8C130995           6   \n",
       "\n",
       "   is_test  is_hidden  year  acousticness  danceability  duration_ms  energy  \\\n",
       "0    False      False     0         0.656         0.486       112680   0.231   \n",
       "1    False      False     0         0.656         0.486       112680   0.231   \n",
       "2    False      False     0         0.656         0.486       112680   0.231   \n",
       "3    False      False     0         0.656         0.486       112680   0.231   \n",
       "4    False      False     0         0.656         0.486       112680   0.231   \n",
       "\n",
       "   instrumentalness  key  liveness  loudness  mode  speechiness    tempo  \\\n",
       "0             0.577    7     0.128   -15.423     1       0.0445  123.685   \n",
       "1             0.577    7     0.128   -15.423     1       0.0445  123.685   \n",
       "2             0.577    7     0.128   -15.423     1       0.0445  123.685   \n",
       "3             0.577    7     0.128   -15.423     1       0.0445  123.685   \n",
       "4             0.577    7     0.128   -15.423     1       0.0445  123.685   \n",
       "\n",
       "   time_signature  valence sparse_index  \n",
       "0               4    0.389         4785  \n",
       "1               4    0.389         4785  \n",
       "2               4    0.389         4785  \n",
       "3               4    0.389         4785  \n",
       "4               4    0.389         4785  "
      ]
     },
     "execution_count": 24,
     "metadata": {},
     "output_type": "execute_result"
    }
   ],
   "source": [
    "visible_niplets_with_sparse_index.head()"
   ]
  },
  {
   "cell_type": "code",
   "execution_count": 25,
   "metadata": {
    "collapsed": true
   },
   "outputs": [],
   "source": [
    "assert visible_niplets_with_sparse_index.shape[0] == visible_niplets.shape[0]"
   ]
  },
  {
   "cell_type": "code",
   "execution_count": 26,
   "metadata": {
    "scrolled": true
   },
   "outputs": [
    {
     "name": "stdout",
     "output_type": "stream",
     "text": [
      "Grouping df...\n"
     ]
    }
   ],
   "source": [
    "print('Grouping df...')\n",
    "gb = visible_niplets_with_sparse_index.groupby('user_id')\n",
    "gb_list = list(gb)"
   ]
  },
  {
   "cell_type": "code",
   "execution_count": 27,
   "metadata": {},
   "outputs": [
    {
     "name": "stdout",
     "output_type": "stream",
     "text": [
      "Starting pool.map...\n",
      "Creating dataframe...\n"
     ]
    },
    {
     "data": {
      "text/html": [
       "<div>\n",
       "<style scoped>\n",
       "    .dataframe tbody tr th:only-of-type {\n",
       "        vertical-align: middle;\n",
       "    }\n",
       "\n",
       "    .dataframe tbody tr th {\n",
       "        vertical-align: top;\n",
       "    }\n",
       "\n",
       "    .dataframe thead th {\n",
       "        text-align: right;\n",
       "    }\n",
       "</style>\n",
       "<table border=\"1\" class=\"dataframe\">\n",
       "  <thead>\n",
       "    <tr style=\"text-align: right;\">\n",
       "      <th></th>\n",
       "      <th>user_id</th>\n",
       "      <th>MUSIC</th>\n",
       "      <th>num_songs</th>\n",
       "      <th>is_test</th>\n",
       "      <th>song_sparse_indices</th>\n",
       "    </tr>\n",
       "  </thead>\n",
       "  <tbody>\n",
       "    <tr>\n",
       "      <th>0</th>\n",
       "      <td>00000b722001882066dff9d2da8a775658053ea0</td>\n",
       "      <td>[4.229812033333332, 1.4042373883333334, 3.7184...</td>\n",
       "      <td>3</td>\n",
       "      <td>False</td>\n",
       "      <td>[20321, 34133, 31702]</td>\n",
       "    </tr>\n",
       "    <tr>\n",
       "      <th>1</th>\n",
       "      <td>00001638d6189236866af9bbf309ae6c2347ffdc</td>\n",
       "      <td>[4.910766939999999, 1.6201183160000001, 4.2151...</td>\n",
       "      <td>6</td>\n",
       "      <td>False</td>\n",
       "      <td>[63130, 56895, 107394, 14282, 6830, 48918]</td>\n",
       "    </tr>\n",
       "    <tr>\n",
       "      <th>2</th>\n",
       "      <td>0000175652312d12576d9e6b84f600caa24c4715</td>\n",
       "      <td>[3.9929606913333338, 1.3756423253666668, 3.569...</td>\n",
       "      <td>6</td>\n",
       "      <td>False</td>\n",
       "      <td>[22878, 165852, 164119, 78906, 70413, 130812]</td>\n",
       "    </tr>\n",
       "    <tr>\n",
       "      <th>3</th>\n",
       "      <td>00001cf0dce3fb22b0df0f3a1d9cd21e38385372</td>\n",
       "      <td>[4.160212249999999, 1.38550505, 3.48416005, -6...</td>\n",
       "      <td>3</td>\n",
       "      <td>False</td>\n",
       "      <td>[13587, 41248, 113455]</td>\n",
       "    </tr>\n",
       "    <tr>\n",
       "      <th>4</th>\n",
       "      <td>0000267bde1b3a70ea75cf2b2d216cb828e3202b</td>\n",
       "      <td>[5.020851199999999, 1.2992664299999999, 4.2901...</td>\n",
       "      <td>9</td>\n",
       "      <td>False</td>\n",
       "      <td>[17569, 90464, 111039, 130773, 131152, 134996,...</td>\n",
       "    </tr>\n",
       "  </tbody>\n",
       "</table>\n",
       "</div>"
      ],
      "text/plain": [
       "                                    user_id  \\\n",
       "0  00000b722001882066dff9d2da8a775658053ea0   \n",
       "1  00001638d6189236866af9bbf309ae6c2347ffdc   \n",
       "2  0000175652312d12576d9e6b84f600caa24c4715   \n",
       "3  00001cf0dce3fb22b0df0f3a1d9cd21e38385372   \n",
       "4  0000267bde1b3a70ea75cf2b2d216cb828e3202b   \n",
       "\n",
       "                                               MUSIC  num_songs  is_test  \\\n",
       "0  [4.229812033333332, 1.4042373883333334, 3.7184...          3    False   \n",
       "1  [4.910766939999999, 1.6201183160000001, 4.2151...          6    False   \n",
       "2  [3.9929606913333338, 1.3756423253666668, 3.569...          6    False   \n",
       "3  [4.160212249999999, 1.38550505, 3.48416005, -6...          3    False   \n",
       "4  [5.020851199999999, 1.2992664299999999, 4.2901...          9    False   \n",
       "\n",
       "                                 song_sparse_indices  \n",
       "0                              [20321, 34133, 31702]  \n",
       "1         [63130, 56895, 107394, 14282, 6830, 48918]  \n",
       "2      [22878, 165852, 164119, 78906, 70413, 130812]  \n",
       "3                             [13587, 41248, 113455]  \n",
       "4  [17569, 90464, 111039, 130773, 131152, 134996,...  "
      ]
     },
     "execution_count": 27,
     "metadata": {},
     "output_type": "execute_result"
    }
   ],
   "source": [
    "# Using multiprocessing.Pool.map and play_count weightings\n",
    "# LET n = number of songs\n",
    "# LET m = number of audio features\n",
    "\n",
    "feature_MUSIC_dict = {\n",
    "    'danceability': np.array([-0.37, 0.05, -0.35, 0.08, 0.43]),\n",
    "    'energy': np.array([-0.64, -0.46, -0.13, 0.66, -0.03]),\n",
    "    'instrumentalness': np.array([0.20, -0.47, 0.28, 0.09, -0.01]),\n",
    "    'liveness': np.array([-0.69, -0.12, -0.07, 0.43, 0.02]),\n",
    "    'loudness': np.array([-0.58, -0.19, -0.44, 0.79, -0.21]),\n",
    "    'valence': np.array([-0.04, 0.18, 0.24, -0.34, 0.18]),\n",
    "}\n",
    "# feature_MUSIC_matrix -> m x 5 matrix, where m is the number of audio features in feature_MUSIC_dict\n",
    "feature_MUSIC_matrix = [MUSIC for MUSIC in feature_MUSIC_dict.values()]\n",
    "\n",
    "# TODO: use play counts and scale song_vectors before calculating pdist\n",
    "def get_cosine_list_dissimilarity(sub_df):\n",
    "    # song_vectors -> n x m matrix, where m is the number of audio features in the embedding_cols\n",
    "    song_vectors = sub_df[embedding_cols].values\n",
    "    if len(song_vectors) == 1:\n",
    "        return None\n",
    "    return np.mean(pdist(song_vectors, 'cosine'))\n",
    "\n",
    "def get_MUSIC(sub_df):\n",
    "    # song_vectors -> n x m matrix, where m is the number of audio features in feature_MUSIC_dict\n",
    "    song_vectors = sub_df[list(feature_MUSIC_dict.keys())].values\n",
    "    \n",
    "    # unweighted_MUSIC_vals -> n x 5 matrix\n",
    "    unweighted_MUSIC_vals = song_vectors @ feature_MUSIC_matrix\n",
    "    \n",
    "    # returns the average MUSIC values weighted by their play_counts\n",
    "    return list(np.average(unweighted_MUSIC_vals, weights=sub_df['play_count'].values, axis=0))\n",
    "\n",
    "def get_is_test(sub_df):\n",
    "    return sub_df['is_test'].values[0]\n",
    "\n",
    "def get_song_ids(sub_df):\n",
    "    return sub_df['song_id'].to_list()\n",
    "\n",
    "def get_song_sparse_indices(sub_df):\n",
    "    return sub_df['sparse_index'].to_list()\n",
    "\n",
    "def get_row(gb_item):\n",
    "    user_id, sub_df = gb_item\n",
    "    return (user_id, get_MUSIC(sub_df), sub_df.shape[0], get_is_test(sub_df), get_song_sparse_indices(sub_df))\n",
    "\n",
    "columns = ['user_id', 'MUSIC', 'num_songs', 'is_test', 'song_sparse_indices']\n",
    "print('Starting pool.map...')\n",
    "user_df_data = Pool(os.cpu_count()).map(func=get_row, iterable=gb_list, chunksize=625)\n",
    "print('Creating dataframe...')\n",
    "user_df = pd.DataFrame.from_records(user_df_data, columns=columns)\n",
    "user_df.head()"
   ]
  },
  {
   "cell_type": "code",
   "execution_count": 33,
   "metadata": {
    "scrolled": true
   },
   "outputs": [
    {
     "data": {
      "text/plain": [
       "(1107613, 5)"
      ]
     },
     "execution_count": 33,
     "metadata": {},
     "output_type": "execute_result"
    }
   ],
   "source": [
    "user_df.shape"
   ]
  },
  {
   "cell_type": "code",
   "execution_count": 34,
   "metadata": {
    "collapsed": true
   },
   "outputs": [],
   "source": [
    "user_df_with_sparse_index = user_df.merge(user_id_to_user_index, left_on='user_id', right_on='user_id')\n",
    "user_df_with_sparse_index.set_index('sparse_index', inplace=True)"
   ]
  },
  {
   "cell_type": "code",
   "execution_count": 35,
   "metadata": {},
   "outputs": [
    {
     "data": {
      "text/html": [
       "<div>\n",
       "<style scoped>\n",
       "    .dataframe tbody tr th:only-of-type {\n",
       "        vertical-align: middle;\n",
       "    }\n",
       "\n",
       "    .dataframe tbody tr th {\n",
       "        vertical-align: top;\n",
       "    }\n",
       "\n",
       "    .dataframe thead th {\n",
       "        text-align: right;\n",
       "    }\n",
       "</style>\n",
       "<table border=\"1\" class=\"dataframe\">\n",
       "  <thead>\n",
       "    <tr style=\"text-align: right;\">\n",
       "      <th></th>\n",
       "      <th>user_id</th>\n",
       "      <th>MUSIC</th>\n",
       "      <th>num_songs</th>\n",
       "      <th>is_test</th>\n",
       "      <th>song_sparse_indices</th>\n",
       "    </tr>\n",
       "    <tr>\n",
       "      <th>sparse_index</th>\n",
       "      <th></th>\n",
       "      <th></th>\n",
       "      <th></th>\n",
       "      <th></th>\n",
       "      <th></th>\n",
       "    </tr>\n",
       "  </thead>\n",
       "  <tbody>\n",
       "    <tr>\n",
       "      <th>0</th>\n",
       "      <td>00000b722001882066dff9d2da8a775658053ea0</td>\n",
       "      <td>[4.229812033333332, 1.4042373883333334, 3.7184...</td>\n",
       "      <td>3</td>\n",
       "      <td>False</td>\n",
       "      <td>[20321, 34133, 31702]</td>\n",
       "    </tr>\n",
       "    <tr>\n",
       "      <th>1</th>\n",
       "      <td>00001638d6189236866af9bbf309ae6c2347ffdc</td>\n",
       "      <td>[4.910766939999999, 1.6201183160000001, 4.2151...</td>\n",
       "      <td>6</td>\n",
       "      <td>False</td>\n",
       "      <td>[63130, 56895, 107394, 14282, 6830, 48918]</td>\n",
       "    </tr>\n",
       "    <tr>\n",
       "      <th>2</th>\n",
       "      <td>0000175652312d12576d9e6b84f600caa24c4715</td>\n",
       "      <td>[3.9929606913333338, 1.3756423253666668, 3.569...</td>\n",
       "      <td>6</td>\n",
       "      <td>False</td>\n",
       "      <td>[22878, 165852, 164119, 78906, 70413, 130812]</td>\n",
       "    </tr>\n",
       "    <tr>\n",
       "      <th>3</th>\n",
       "      <td>00001cf0dce3fb22b0df0f3a1d9cd21e38385372</td>\n",
       "      <td>[4.160212249999999, 1.38550505, 3.48416005, -6...</td>\n",
       "      <td>3</td>\n",
       "      <td>False</td>\n",
       "      <td>[13587, 41248, 113455]</td>\n",
       "    </tr>\n",
       "    <tr>\n",
       "      <th>4</th>\n",
       "      <td>0000267bde1b3a70ea75cf2b2d216cb828e3202b</td>\n",
       "      <td>[5.020851199999999, 1.2992664299999999, 4.2901...</td>\n",
       "      <td>9</td>\n",
       "      <td>False</td>\n",
       "      <td>[17569, 90464, 111039, 130773, 131152, 134996,...</td>\n",
       "    </tr>\n",
       "  </tbody>\n",
       "</table>\n",
       "</div>"
      ],
      "text/plain": [
       "                                               user_id  \\\n",
       "sparse_index                                             \n",
       "0             00000b722001882066dff9d2da8a775658053ea0   \n",
       "1             00001638d6189236866af9bbf309ae6c2347ffdc   \n",
       "2             0000175652312d12576d9e6b84f600caa24c4715   \n",
       "3             00001cf0dce3fb22b0df0f3a1d9cd21e38385372   \n",
       "4             0000267bde1b3a70ea75cf2b2d216cb828e3202b   \n",
       "\n",
       "                                                          MUSIC  num_songs  \\\n",
       "sparse_index                                                                 \n",
       "0             [4.229812033333332, 1.4042373883333334, 3.7184...          3   \n",
       "1             [4.910766939999999, 1.6201183160000001, 4.2151...          6   \n",
       "2             [3.9929606913333338, 1.3756423253666668, 3.569...          6   \n",
       "3             [4.160212249999999, 1.38550505, 3.48416005, -6...          3   \n",
       "4             [5.020851199999999, 1.2992664299999999, 4.2901...          9   \n",
       "\n",
       "              is_test                                song_sparse_indices  \n",
       "sparse_index                                                              \n",
       "0               False                              [20321, 34133, 31702]  \n",
       "1               False         [63130, 56895, 107394, 14282, 6830, 48918]  \n",
       "2               False      [22878, 165852, 164119, 78906, 70413, 130812]  \n",
       "3               False                             [13587, 41248, 113455]  \n",
       "4               False  [17569, 90464, 111039, 130773, 131152, 134996,...  "
      ]
     },
     "execution_count": 35,
     "metadata": {},
     "output_type": "execute_result"
    }
   ],
   "source": [
    "user_df_with_sparse_index.head()"
   ]
  },
  {
   "cell_type": "code",
   "execution_count": 36,
   "metadata": {},
   "outputs": [
    {
     "data": {
      "text/plain": [
       "(1107613, 5)"
      ]
     },
     "execution_count": 36,
     "metadata": {},
     "output_type": "execute_result"
    }
   ],
   "source": [
    "user_df_with_sparse_index.shape"
   ]
  },
  {
   "cell_type": "code",
   "execution_count": 37,
   "metadata": {},
   "outputs": [
    {
     "name": "stderr",
     "output_type": "stream",
     "text": [
      "/Users/nolandey/anaconda/envs/tensorflow3/lib/python3.6/site-packages/pandas/core/generic.py:2378: PerformanceWarning: \n",
      "your performance may suffer as PyTables will pickle object types that it cannot\n",
      "map directly to c-types [inferred_type->mixed,key->block2_values] [items->['user_id', 'MUSIC', 'song_sparse_indices']]\n",
      "\n",
      "  return pytables.to_hdf(path_or_buf, key, self, **kwargs)\n"
     ]
    }
   ],
   "source": [
    "user_df_with_sparse_index.to_hdf('data/user_df.h5', key='df', mode='w')\n",
    "song_df.to_hdf('data/song_df.h5', key='df', mode='w')"
   ]
  },
  {
   "cell_type": "code",
   "execution_count": null,
   "metadata": {
    "collapsed": true
   },
   "outputs": [],
   "source": []
  }
 ],
 "metadata": {
  "kernelspec": {
   "display_name": "Python 3",
   "language": "python",
   "name": "python3"
  },
  "language_info": {
   "codemirror_mode": {
    "name": "ipython",
    "version": 3
   },
   "file_extension": ".py",
   "mimetype": "text/x-python",
   "name": "python",
   "nbconvert_exporter": "python",
   "pygments_lexer": "ipython3",
   "version": "3.6.4"
  }
 },
 "nbformat": 4,
 "nbformat_minor": 2
}
