{
 "cells": [
  {
   "cell_type": "code",
   "execution_count": 25,
   "metadata": {},
   "outputs": [],
   "source": [
    "import os\n",
    "os.environ['MKL_NUM_THREADS'] = '1'\n",
    "import time\n",
    "import tqdm\n",
    "import pandas as pd\n",
    "import numpy as np\n",
    "from scipy.sparse import load_npz\n",
    "from scipy.sparse import csr_matrix\n",
    "from scipy.spatial import KDTree\n",
    "from implicit.als import AlternatingLeastSquares\n",
    "from implicit.evaluation import mean_average_precision_at_k\n",
    "from random import shuffle, randint\n",
    "from collections import Counter"
   ]
  },
  {
   "cell_type": "code",
   "execution_count": 84,
   "metadata": {},
   "outputs": [],
   "source": [
    "def build_cf_model(train_plays):\n",
    "    als_params = {'factors': 16,\n",
    "                  'dtype': np.float32,\n",
    "                  'iterations': 15,\n",
    "                  'calculate_training_loss': True}\n",
    "    model = AlternatingLeastSquares(**als_params)\n",
    "\n",
    "    #perform operation to approximate confidence intervals\n",
    "    #paper doesn't specify an alpha value, so just guess alpha=1\n",
    "    alpha = 1\n",
    "    train_plays.data = 1 + np.log(alpha*train_plays.data)\n",
    "    model.fit(train_plays)\n",
    "    return model\n",
    "\n",
    "def build_kdtree(user_MUSIC_df):\n",
    "    MUSIC_vectors = user_MUSIC_df['MUSIC'].values.tolist()\n",
    "    return KDTree(MUSIC_vectors)\n",
    "\n",
    "def get_closest_MUSIC_user_ids(user_id, k, user_MUSIC_df, kdtree):\n",
    "    user_MUSIC = user_MUSIC_df.loc[user_MUSIC_df['user_id'] == user_id]['MUSIC'].tolist()[0]\n",
    "\n",
    "    distances, indices = kdtree.query(user_MUSIC, k)\n",
    "    closest_userids = []\n",
    "\n",
    "    for index in indices:\n",
    "        closest_userids.append(user_MUSIC_df.iloc[index, 3])\n",
    "\n",
    "    return closest_userids\n",
    "\n",
    "\n",
    "def get_knn_top_m_songs(user_id, k, m, kdtree, user_playlist_df, user_MUSIC_df):\n",
    "    closest_userids = get_closest_MUSIC_user_ids(user_id, k, user_MUSIC_df, kdtree)\n",
    "    closest_user_songs = []\n",
    "    for i in range(len(closest_userids)):\n",
    "        closest_user_songs.append(user_playlist_df.loc[user_playlist_df[\n",
    "            'user_id'] == closest_userids[i]]['playlist'].tolist()[0])\n",
    "\n",
    "    closest_user_songs = [item for sublist in closest_user_songs for item in sublist]\n",
    "    counted_closest_user_songs = Counter(closest_user_songs)\n",
    "    top_m_songs = [i[0] for i in counted_closest_user_songs.most_common()[:m]]\n",
    "\n",
    "    return top_m_songs\n",
    "\n",
    "def get_recommendations(user_id, user_sparse_index, cf_model, kdtree, train_plays,\n",
    "                        user_playlist_df, user_MUSIC_df, n, m, k):\n",
    "        n_songs = [song_tuple[0] for song_tuple in cf_model.recommend(userid=user_sparse_index,\n",
    "                                                                      user_items=train_plays.transpose(),\n",
    "                                                                      N=n)]\n",
    "        m_songs = get_knn_top_m_songs(user_id=user_id,\n",
    "                                      k=k,\n",
    "                                      m=m,\n",
    "                                      kdtree=kdtree,\n",
    "                                      user_playlist_df=user_playlist_df,\n",
    "                                      user_MUSIC_df=user_MUSIC_df)\n",
    "        return shuffle(n_songs + m_songs)"
   ]
  },
  {
   "cell_type": "code",
   "execution_count": null,
   "metadata": {
    "collapsed": true
   },
   "outputs": [],
   "source": [
    "print('Loading data...')\n",
    "user_playlist_df = pd.read_hdf('data/userid_playlist.h5', key='df')\n",
    "user_MUSIC_df = pd.read_hdf('data/user_MUSIC_num_songs.h5', key='df')\n",
    "\n",
    "# train_plays, test_plays -> num_songs x num_users CSR matrix\n",
    "train_plays = load_npz('data/train_sparse.npz')\n",
    "test_plays = load_npz('data/test_sparse.npz')\n",
    "\n",
    "# songs -> CSR_row_index: song_id\n",
    "songs = pd.read_hdf('data/song_mapping.h5', key='df')\n",
    "\n",
    "# users -> CSR_col_index: user_id\n",
    "users = pd.read_hdf('data/user_mapping.h5', key='df')\n",
    "\n",
    "print('Fitting CF model...')\n",
    "cf_model = build_cf_model(train_plays)\n",
    "print('Building KDTree...')\n",
    "kdtree = build_kdtree(user_MUSIC_df=user_MUSIC_df)"
   ]
  },
  {
   "cell_type": "code",
   "execution_count": 96,
   "metadata": {},
   "outputs": [],
   "source": [
    "for user_id, user_sparse_index in users.head(1000)[['user', 'sparse_index']].values:\n",
    "    try:\n",
    "        song_ids = get_recommendations(user_id=user_id,\n",
    "                                       user_sparse_index=user_sparse_index,\n",
    "                                       cf_model=cf_model,\n",
    "                                       kdtree=kdtree,\n",
    "                                       train_plays=train_plays,\n",
    "                                       user_playlist_df=user_playlist_df,\n",
    "                                       user_MUSIC_df=user_MUSIC_df,\n",
    "                                       n=10,\n",
    "                                       m=10,\n",
    "                                       k=100)\n",
    "        print(song_ids)\n",
    "        \n",
    "    except Exception:\n",
    "#         print('This user_id does not have a MUSIC value')\n",
    "        continue"
   ]
  },
  {
   "cell_type": "code",
   "execution_count": 9,
   "metadata": {},
   "outputs": [
    {
     "name": "stdout",
     "output_type": "stream",
     "text": [
      "\u001b[34mEvalDataYear1MSDWebsite\u001b[m\u001b[m/         song_mapping.h5\r\n",
      "audio_features.npy               spotify_audio_features.h5\r\n",
      "full_msd.csv                     spotify_msd_id_pairs.h5\r\n",
      "full_msd.h5                      \u001b[31mtest_sparse.npz\u001b[m\u001b[m*\r\n",
      "full_msd_with_audio_features.h5  \u001b[31mtrain_sparse.npz\u001b[m\u001b[m*\r\n",
      "full_msd_with_genre.h5           triplet_subset.csv\r\n",
      "full_msd_with_spotify.h5         triplets.h5\r\n",
      "msd-MAGD-genreAssignment.cls     user_MUSIC_num_songs.h5\r\n",
      "msd_subset_metadata.csv          user_div_MUSIC_divpref.h5\r\n",
      "msd_subset_usage.csv             user_mapping.h5\r\n",
      "niplets.h5                       \u001b[31muserid_playlist.h5\u001b[m\u001b[m*\r\n"
     ]
    }
   ],
   "source": [
    "ls data"
   ]
  },
  {
   "cell_type": "code",
   "execution_count": 19,
   "metadata": {},
   "outputs": [],
   "source": [
    "# # train_plays, test_plays -> num_songs x num_users CSR matrix      \n",
    "# test_plays = load_npz('data/test_sparse.npz')\n",
    "# # songs -> CSR_row_index: song_id\n",
    "# songs = pd.read_hdf('data/song_mapping.h5', key='df')\n",
    "# # songs -> CSR_col_index: user_id\n",
    "# users = pd.read_hdf('data/user_mapping.h5', key='df')\n",
    "\n",
    "\n",
    "\n",
    "# # LET n = number of songs\n",
    "# # LET m = number of audio features\n",
    "# feature_MUSIC_dict = {\n",
    "#     'danceability': np.array([-0.37, 0.05, -0.35, 0.08, 0.43]),\n",
    "#     'energy': np.array([-0.64, -0.46, -0.13, 0.66, -0.03]),\n",
    "#     'instrumentalness': np.array([0.20, -0.47, 0.28, 0.09, -0.01]),\n",
    "#     'liveness': np.array([-0.69, -0.12, -0.07, 0.43, 0.02]),\n",
    "#     'loudness': np.array([-0.58, -0.19, -0.44, 0.79, -0.21]),\n",
    "#     'valence': np.array([-0.04, 0.18, 0.24, -0.34, 0.18]),\n",
    "# }\n",
    "# # feature_MUSIC_matrix -> m x 5 matrix, where m is the number of audio features in feature_MUSIC_dict\n",
    "# feature_MUSIC_matrix = [MUSIC for MUSIC in feature_MUSIC_dict.values()]\n",
    "\n",
    "# def get_MUSIC(sub_df):\n",
    "#     # song_vectors -> n x m matrix, where m is the number of audio features in feature_MUSIC_dict\n",
    "#     song_vectors = sub_df[list(feature_MUSIC_dict.keys())].values\n",
    "    \n",
    "#     # unweighted_MUSIC_vals -> n x 5 matrix\n",
    "#     unweighted_MUSIC_vals = song_vectors @ feature_MUSIC_matrix\n",
    "\n",
    "#     return list(np.mean(unweighted_MUSIC_vals, axis=0))\n",
    "\n",
    "# MUSIC = get_MUSIC(df)\n",
    "# MUSIC"
   ]
  },
  {
   "cell_type": "code",
   "execution_count": 34,
   "metadata": {
    "collapsed": true
   },
   "outputs": [],
   "source": [
    "# songs -> CSR_row_index: song_id\n",
    "songs = pd.read_hdf('data/song_mapping.h5', key='df')\n",
    "\n",
    "# users -> CSR_col_index: user_id\n",
    "users = pd.read_hdf('data/user_mapping.h5', key='df')"
   ]
  },
  {
   "cell_type": "code",
   "execution_count": 58,
   "metadata": {},
   "outputs": [
    {
     "data": {
      "text/plain": [
       "(1012631, 3)"
      ]
     },
     "execution_count": 58,
     "metadata": {},
     "output_type": "execute_result"
    }
   ],
   "source": [
    "for a,b in users.head(3)[['user', 'sparse_index']].values:\n",
    "    print(a,b)"
   ]
  },
  {
   "cell_type": "code",
   "execution_count": 6,
   "metadata": {},
   "outputs": [
    {
     "name": "stdout",
     "output_type": "stream",
     "text": [
      "CPU times: user 3 µs, sys: 1 µs, total: 4 µs\n",
      "Wall time: 8.11 µs\n",
      "CPU times: user 3 µs, sys: 1e+03 ns, total: 4 µs\n",
      "Wall time: 7.15 µs\n"
     ]
    },
    {
     "data": {
      "text/plain": [
       "6"
      ]
     },
     "execution_count": 6,
     "metadata": {},
     "output_type": "execute_result"
    }
   ],
   "source": [
    "# spotify['msd_id'] = spotify['msd_id'].str.encode('utf-8')\n",
    "# spotify['msd_id'] = spotify['msd_id'].astype(str)\n",
    "# msd['track_id'] = msd['track_id'].astype(str)"
   ]
  },
  {
   "cell_type": "code",
   "execution_count": 59,
   "metadata": {},
   "outputs": [
    {
     "data": {
      "text/html": [
       "<div>\n",
       "<style scoped>\n",
       "    .dataframe tbody tr th:only-of-type {\n",
       "        vertical-align: middle;\n",
       "    }\n",
       "\n",
       "    .dataframe tbody tr th {\n",
       "        vertical-align: top;\n",
       "    }\n",
       "\n",
       "    .dataframe thead th {\n",
       "        text-align: right;\n",
       "    }\n",
       "</style>\n",
       "<table border=\"1\" class=\"dataframe\">\n",
       "  <thead>\n",
       "    <tr style=\"text-align: right;\">\n",
       "      <th></th>\n",
       "      <th>sparse_index</th>\n",
       "      <th>user</th>\n",
       "    </tr>\n",
       "  </thead>\n",
       "  <tbody>\n",
       "    <tr>\n",
       "      <th>0</th>\n",
       "      <td>9</td>\n",
       "      <td>00007a02388c208ea7176479f6ae06f8224355b3</td>\n",
       "    </tr>\n",
       "    <tr>\n",
       "      <th>1</th>\n",
       "      <td>9</td>\n",
       "      <td>00007a02388c208ea7176479f6ae06f8224355b3</td>\n",
       "    </tr>\n",
       "    <tr>\n",
       "      <th>2</th>\n",
       "      <td>9</td>\n",
       "      <td>00007a02388c208ea7176479f6ae06f8224355b3</td>\n",
       "    </tr>\n",
       "    <tr>\n",
       "      <th>3</th>\n",
       "      <td>9</td>\n",
       "      <td>00007a02388c208ea7176479f6ae06f8224355b3</td>\n",
       "    </tr>\n",
       "    <tr>\n",
       "      <th>4</th>\n",
       "      <td>9</td>\n",
       "      <td>00007a02388c208ea7176479f6ae06f8224355b3</td>\n",
       "    </tr>\n",
       "  </tbody>\n",
       "</table>\n",
       "</div>"
      ],
      "text/plain": [
       "   sparse_index                                      user\n",
       "0             9  00007a02388c208ea7176479f6ae06f8224355b3\n",
       "1             9  00007a02388c208ea7176479f6ae06f8224355b3\n",
       "2             9  00007a02388c208ea7176479f6ae06f8224355b3\n",
       "3             9  00007a02388c208ea7176479f6ae06f8224355b3\n",
       "4             9  00007a02388c208ea7176479f6ae06f8224355b3"
      ]
     },
     "execution_count": 59,
     "metadata": {},
     "output_type": "execute_result"
    }
   ],
   "source": [
    "users.head()"
   ]
  },
  {
   "cell_type": "code",
   "execution_count": 64,
   "metadata": {},
   "outputs": [
    {
     "data": {
      "text/html": [
       "<div>\n",
       "<style scoped>\n",
       "    .dataframe tbody tr th:only-of-type {\n",
       "        vertical-align: middle;\n",
       "    }\n",
       "\n",
       "    .dataframe tbody tr th {\n",
       "        vertical-align: top;\n",
       "    }\n",
       "\n",
       "    .dataframe thead th {\n",
       "        text-align: right;\n",
       "    }\n",
       "</style>\n",
       "<table border=\"1\" class=\"dataframe\">\n",
       "  <thead>\n",
       "    <tr style=\"text-align: right;\">\n",
       "      <th></th>\n",
       "      <th>MUSIC</th>\n",
       "      <th>num_songs</th>\n",
       "      <th>user_id</th>\n",
       "    </tr>\n",
       "  </thead>\n",
       "  <tbody>\n",
       "    <tr>\n",
       "      <th>0</th>\n",
       "      <td>[4.229812033333332, 1.4042373883333334, 3.7184...</td>\n",
       "      <td>3</td>\n",
       "      <td>00000b722001882066dff9d2da8a775658053ea0</td>\n",
       "    </tr>\n",
       "    <tr>\n",
       "      <th>1</th>\n",
       "      <td>[4.910766939999999, 1.6201183160000001, 4.2151...</td>\n",
       "      <td>6</td>\n",
       "      <td>00001638d6189236866af9bbf309ae6c2347ffdc</td>\n",
       "    </tr>\n",
       "    <tr>\n",
       "      <th>2</th>\n",
       "      <td>[3.9929606913333338, 1.3756423253666668, 3.569...</td>\n",
       "      <td>6</td>\n",
       "      <td>0000175652312d12576d9e6b84f600caa24c4715</td>\n",
       "    </tr>\n",
       "    <tr>\n",
       "      <th>3</th>\n",
       "      <td>[4.160212249999999, 1.38550505, 3.48416005, -6...</td>\n",
       "      <td>3</td>\n",
       "      <td>00001cf0dce3fb22b0df0f3a1d9cd21e38385372</td>\n",
       "    </tr>\n",
       "    <tr>\n",
       "      <th>4</th>\n",
       "      <td>[5.020851199999999, 1.2992664299999999, 4.2901...</td>\n",
       "      <td>9</td>\n",
       "      <td>0000267bde1b3a70ea75cf2b2d216cb828e3202b</td>\n",
       "    </tr>\n",
       "  </tbody>\n",
       "</table>\n",
       "</div>"
      ],
      "text/plain": [
       "                                               MUSIC  num_songs  \\\n",
       "0  [4.229812033333332, 1.4042373883333334, 3.7184...          3   \n",
       "1  [4.910766939999999, 1.6201183160000001, 4.2151...          6   \n",
       "2  [3.9929606913333338, 1.3756423253666668, 3.569...          6   \n",
       "3  [4.160212249999999, 1.38550505, 3.48416005, -6...          3   \n",
       "4  [5.020851199999999, 1.2992664299999999, 4.2901...          9   \n",
       "\n",
       "                                    user_id  \n",
       "0  00000b722001882066dff9d2da8a775658053ea0  \n",
       "1  00001638d6189236866af9bbf309ae6c2347ffdc  \n",
       "2  0000175652312d12576d9e6b84f600caa24c4715  \n",
       "3  00001cf0dce3fb22b0df0f3a1d9cd21e38385372  \n",
       "4  0000267bde1b3a70ea75cf2b2d216cb828e3202b  "
      ]
     },
     "execution_count": 64,
     "metadata": {},
     "output_type": "execute_result"
    }
   ],
   "source": [
    "user_MUSIC_df.head()"
   ]
  },
  {
   "cell_type": "code",
   "execution_count": 62,
   "metadata": {},
   "outputs": [
    {
     "data": {
      "text/html": [
       "<div>\n",
       "<style scoped>\n",
       "    .dataframe tbody tr th:only-of-type {\n",
       "        vertical-align: middle;\n",
       "    }\n",
       "\n",
       "    .dataframe tbody tr th {\n",
       "        vertical-align: top;\n",
       "    }\n",
       "\n",
       "    .dataframe thead th {\n",
       "        text-align: right;\n",
       "    }\n",
       "</style>\n",
       "<table border=\"1\" class=\"dataframe\">\n",
       "  <thead>\n",
       "    <tr style=\"text-align: right;\">\n",
       "      <th></th>\n",
       "      <th>user_id</th>\n",
       "      <th>playlist</th>\n",
       "    </tr>\n",
       "  </thead>\n",
       "  <tbody>\n",
       "    <tr>\n",
       "      <th>1019313</th>\n",
       "      <td>a6c32fb03a210c135bd944b9b35849fd63a7765e</td>\n",
       "      <td>[SOAKDLX12A67ADAFC5, SOBTAOG12A6D4F9359, SOEQA...</td>\n",
       "    </tr>\n",
       "    <tr>\n",
       "      <th>1019314</th>\n",
       "      <td>8305c896f42308824da7d4386f4b9ee584281412</td>\n",
       "      <td>[SOABJBU12A8C13F63F, SOACIPG12A8AE47E1C, SOADJ...</td>\n",
       "    </tr>\n",
       "    <tr>\n",
       "      <th>1019315</th>\n",
       "      <td>ca99d94daa9d5231643a08aac2f3bfb645e73b09</td>\n",
       "      <td>[SOBMAEL12A58A7B52F, SOBMZTG12A8C13AD44, SOCCL...</td>\n",
       "    </tr>\n",
       "    <tr>\n",
       "      <th>1019316</th>\n",
       "      <td>cf8289419383259189afe6bb50c5115fd84f1064</td>\n",
       "      <td>[SOADLEU12AB017C851, SOAIMFG12AB0189AC2, SOASB...</td>\n",
       "    </tr>\n",
       "    <tr>\n",
       "      <th>1019317</th>\n",
       "      <td>b7815dbb206eb2831ce0fe040d0aa537e2e800f7</td>\n",
       "      <td>[SOABJBU12A8C13F63F, SODJQXO12A6D4F697D, SOEIS...</td>\n",
       "    </tr>\n",
       "  </tbody>\n",
       "</table>\n",
       "</div>"
      ],
      "text/plain": [
       "                                          user_id  \\\n",
       "1019313  a6c32fb03a210c135bd944b9b35849fd63a7765e   \n",
       "1019314  8305c896f42308824da7d4386f4b9ee584281412   \n",
       "1019315  ca99d94daa9d5231643a08aac2f3bfb645e73b09   \n",
       "1019316  cf8289419383259189afe6bb50c5115fd84f1064   \n",
       "1019317  b7815dbb206eb2831ce0fe040d0aa537e2e800f7   \n",
       "\n",
       "                                                  playlist  \n",
       "1019313  [SOAKDLX12A67ADAFC5, SOBTAOG12A6D4F9359, SOEQA...  \n",
       "1019314  [SOABJBU12A8C13F63F, SOACIPG12A8AE47E1C, SOADJ...  \n",
       "1019315  [SOBMAEL12A58A7B52F, SOBMZTG12A8C13AD44, SOCCL...  \n",
       "1019316  [SOADLEU12AB017C851, SOAIMFG12AB0189AC2, SOASB...  \n",
       "1019317  [SOABJBU12A8C13F63F, SODJQXO12A6D4F697D, SOEIS...  "
      ]
     },
     "execution_count": 62,
     "metadata": {},
     "output_type": "execute_result"
    }
   ],
   "source": [
    "user_playlist_df.tail()"
   ]
  },
  {
   "cell_type": "code",
   "execution_count": 25,
   "metadata": {
    "collapsed": true
   },
   "outputs": [],
   "source": [
    "# songs = songs.rename(index=str, columns={'track': 'sparse_index', 'sparse_index': 'track'})\n",
    "# songs.head()\n",
    "# songs.to_hdf('data/song_mapping.h5', key='df')\n",
    "\n",
    "# users = users.rename(index=str, columns={'user': 'sparse_index', 'sparse_index': 'user'})\n",
    "# users.head(100)\n",
    "# users.to_hdf('data/user_mapping.h5', key='df')"
   ]
  },
  {
   "cell_type": "code",
   "execution_count": 75,
   "metadata": {},
   "outputs": [
    {
     "data": {
      "text/plain": [
       "'00007a02388c208ea7176479f6ae06f8224355b3'"
      ]
     },
     "execution_count": 75,
     "metadata": {},
     "output_type": "execute_result"
    }
   ],
   "source": [
    "users.head(1)['user'].values[0]"
   ]
  },
  {
   "cell_type": "code",
   "execution_count": 76,
   "metadata": {},
   "outputs": [
    {
     "data": {
      "text/plain": [
       "'00000b722001882066dff9d2da8a775658053ea0'"
      ]
     },
     "execution_count": 76,
     "metadata": {},
     "output_type": "execute_result"
    }
   ],
   "source": [
    "user_MUSIC_df.head(1)['user_id'].values[0]"
   ]
  },
  {
   "cell_type": "code",
   "execution_count": 78,
   "metadata": {},
   "outputs": [
    {
     "data": {
      "text/html": [
       "<div>\n",
       "<style scoped>\n",
       "    .dataframe tbody tr th:only-of-type {\n",
       "        vertical-align: middle;\n",
       "    }\n",
       "\n",
       "    .dataframe tbody tr th {\n",
       "        vertical-align: top;\n",
       "    }\n",
       "\n",
       "    .dataframe thead th {\n",
       "        text-align: right;\n",
       "    }\n",
       "</style>\n",
       "<table border=\"1\" class=\"dataframe\">\n",
       "  <thead>\n",
       "    <tr style=\"text-align: right;\">\n",
       "      <th></th>\n",
       "      <th>MUSIC</th>\n",
       "      <th>num_songs</th>\n",
       "      <th>user_id</th>\n",
       "    </tr>\n",
       "  </thead>\n",
       "  <tbody>\n",
       "  </tbody>\n",
       "</table>\n",
       "</div>"
      ],
      "text/plain": [
       "Empty DataFrame\n",
       "Columns: [MUSIC, num_songs, user_id]\n",
       "Index: []"
      ]
     },
     "execution_count": 78,
     "metadata": {},
     "output_type": "execute_result"
    }
   ],
   "source": [
    "user_MUSIC_df.loc[user_MUSIC_df['user_id'] == users.head(1)['user'].values[0].encode()]"
   ]
  },
  {
   "cell_type": "code",
   "execution_count": 93,
   "metadata": {},
   "outputs": [
    {
     "data": {
      "text/html": [
       "<div>\n",
       "<style scoped>\n",
       "    .dataframe tbody tr th:only-of-type {\n",
       "        vertical-align: middle;\n",
       "    }\n",
       "\n",
       "    .dataframe tbody tr th {\n",
       "        vertical-align: top;\n",
       "    }\n",
       "\n",
       "    .dataframe thead th {\n",
       "        text-align: right;\n",
       "    }\n",
       "</style>\n",
       "<table border=\"1\" class=\"dataframe\">\n",
       "  <thead>\n",
       "    <tr style=\"text-align: right;\">\n",
       "      <th></th>\n",
       "      <th>MUSIC</th>\n",
       "      <th>num_songs</th>\n",
       "      <th>user_id</th>\n",
       "    </tr>\n",
       "  </thead>\n",
       "  <tbody>\n",
       "  </tbody>\n",
       "</table>\n",
       "</div>"
      ],
      "text/plain": [
       "Empty DataFrame\n",
       "Columns: [MUSIC, num_songs, user_id]\n",
       "Index: []"
      ]
     },
     "execution_count": 93,
     "metadata": {},
     "output_type": "execute_result"
    }
   ],
   "source": [
    "user_MUSIC_df.loc[user_MUSIC_df['user_id'] == users.head(100)['user'].values[99]]"
   ]
  },
  {
   "cell_type": "code",
   "execution_count": null,
   "metadata": {
    "collapsed": true
   },
   "outputs": [],
   "source": []
  }
 ],
 "metadata": {
  "kernelspec": {
   "display_name": "Python 3",
   "language": "python",
   "name": "python3"
  },
  "language_info": {
   "codemirror_mode": {
    "name": "ipython",
    "version": 3
   },
   "file_extension": ".py",
   "mimetype": "text/x-python",
   "name": "python",
   "nbconvert_exporter": "python",
   "pygments_lexer": "ipython3",
   "version": "3.6.4"
  }
 },
 "nbformat": 4,
 "nbformat_minor": 2
}
