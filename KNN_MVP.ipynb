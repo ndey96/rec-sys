{
 "cells": [
  {
   "cell_type": "code",
   "execution_count": 26,
   "metadata": {},
   "outputs": [
    {
     "data": {
      "text/html": [
       "<div>\n",
       "<style scoped>\n",
       "    .dataframe tbody tr th:only-of-type {\n",
       "        vertical-align: middle;\n",
       "    }\n",
       "\n",
       "    .dataframe tbody tr th {\n",
       "        vertical-align: top;\n",
       "    }\n",
       "\n",
       "    .dataframe thead th {\n",
       "        text-align: right;\n",
       "    }\n",
       "</style>\n",
       "<table border=\"1\" class=\"dataframe\">\n",
       "  <thead>\n",
       "    <tr style=\"text-align: right;\">\n",
       "      <th></th>\n",
       "      <th>sparse_index</th>\n",
       "      <th>track</th>\n",
       "    </tr>\n",
       "  </thead>\n",
       "  <tbody>\n",
       "    <tr>\n",
       "      <th>0</th>\n",
       "      <td>221367</td>\n",
       "      <td>SOOFKYO12AF72A2640</td>\n",
       "    </tr>\n",
       "    <tr>\n",
       "      <th>1</th>\n",
       "      <td>132143</td>\n",
       "      <td>SOIHOIQ12A8C138593</td>\n",
       "    </tr>\n",
       "    <tr>\n",
       "      <th>2</th>\n",
       "      <td>363912</td>\n",
       "      <td>SOYIZSN12A6701E0BB</td>\n",
       "    </tr>\n",
       "    <tr>\n",
       "      <th>3</th>\n",
       "      <td>63740</td>\n",
       "      <td>SODYZAD12A58A7A525</td>\n",
       "    </tr>\n",
       "    <tr>\n",
       "      <th>4</th>\n",
       "      <td>351788</td>\n",
       "      <td>SOXLWPN12A8C143667</td>\n",
       "    </tr>\n",
       "  </tbody>\n",
       "</table>\n",
       "</div>"
      ],
      "text/plain": [
       "   sparse_index               track\n",
       "0        221367  SOOFKYO12AF72A2640\n",
       "1        132143  SOIHOIQ12A8C138593\n",
       "2        363912  SOYIZSN12A6701E0BB\n",
       "3         63740  SODYZAD12A58A7A525\n",
       "4        351788  SOXLWPN12A8C143667"
      ]
     },
     "execution_count": 26,
     "metadata": {},
     "output_type": "execute_result"
    }
   ],
   "source": [
    "import os\n",
    "os.environ['MKL_NUM_THREADS'] = '1'\n",
    "import argparse\n",
    "import codecs\n",
    "import logging\n",
    "import time\n",
    "import tqdm\n",
    "import pandas as pd\n",
    "\n",
    "import implicit.cuda\n",
    "\n",
    "import numpy as np\n",
    "\n",
    "from scipy.sparse import load_npz\n",
    "from scipy.sparse import csr_matrix\n",
    "\n",
    "from implicit.als import AlternatingLeastSquares\n",
    "#from implicit.approximate_als import (AnnoyAlternatingLeastSquares, FaissAlternatingLeastSquares,\n",
    "#                                      NMSLibAlternatingLeastSquares)\n",
    "from implicit.bpr import BayesianPersonalizedRanking\n",
    "from implicit.nearest_neighbours import (BM25Recommender, CosineRecommender,\n",
    "                                         TFIDFRecommender, bm25_weight)\n",
    "from implicit.datasets.lastfm import get_lastfm\n",
    "from implicit.datasets.million_song_dataset import get_msd_taste_profile\n",
    "\n",
    "from implicit.evaluation import train_test_split\n",
    "from implicit.evaluation import mean_average_precision_at_k\n",
    "\n",
    "class RandomRecommender:\n",
    "    def __init__(self):\n",
    "#        self.min_bound = min_bound\n",
    "#        self.high_bound = high_bound\n",
    "#        self.confidence = confidence\n",
    "        self.something=1\n",
    "    \n",
    "    def recommend(self,userid,train_csr,N):\n",
    "        recs = np.random.randint(self.min_bound,self.high_bound,N)\n",
    "        recs = [(rec,self.confidence) for rec in recs]\n",
    "        return recs\n",
    "    \n",
    "    def fit(self,train_data):\n",
    "        self.min_bound = 0\n",
    "        self.high_bound = train_data.shape[0]\n",
    "        self.confidence = 1\n",
    "        return 1\n",
    "\n",
    "# train_plays, test_plays -> num_songs x num_users CSR matrix\n",
    "# train_plays = load_npz('data/train_sparse.npz')\n",
    "# test_plays = load_npz('data/test_sparse.npz')\n",
    "# # songs -> CSR_row_index: song_id\n",
    "# songs = pd.read_hdf('data/song_mapping.h5', key='df')\n",
    "# # songs -> CSR_col_index: user_id\n",
    "# users = pd.read_hdf('data/user_mapping.h5', key='df')\n",
    "\n",
    "def build_cf_model(train_plays):\n",
    "    als_params = {'factors': 16,\n",
    "                  'dtype': np.float32,\n",
    "                  'iterations': 15,\n",
    "                  'calculate_training_loss': True}\n",
    "    model = AlternatingLeastSquares(**als_params)\n",
    "    #perform operation to approximate confidence intervals\n",
    "    #paper doesn't specify an alpha value, so just guess alpha=1\n",
    "    alpha = 1\n",
    "    train_plays.data = 1 + np.log(alpha*train_plays.data)\n",
    "    test_plays.data = 1 + np.log(alpha*test_plays.data)\n",
    "    model.fit(train_plays)\n",
    "    return model\n",
    "\n",
    "def get_recommendations(model, user_ids, train_plays)\n",
    "    recs = {}\n",
    "    for user_id in user_ids:\n",
    "        recs[user_id] = model.recommend(user_id, train_plays.transpose())\n",
    "\n",
    "# TODO: user_ids is passed to this file\n"
   ]
  },
  {
   "cell_type": "code",
   "execution_count": 18,
   "metadata": {},
   "outputs": [
    {
     "data": {
      "text/plain": [
       "array([ 714415,   49664,  796098, ..., 1112360,  361288,  786004],\n",
       "      dtype=int32)"
      ]
     },
     "execution_count": 18,
     "metadata": {},
     "output_type": "execute_result"
    }
   ],
   "source": [
    "test_plays.indices"
   ]
  },
  {
   "cell_type": "code",
   "execution_count": 19,
   "metadata": {},
   "outputs": [
    {
     "data": {
      "text/html": [
       "<div>\n",
       "<style scoped>\n",
       "    .dataframe tbody tr th:only-of-type {\n",
       "        vertical-align: middle;\n",
       "    }\n",
       "\n",
       "    .dataframe tbody tr th {\n",
       "        vertical-align: top;\n",
       "    }\n",
       "\n",
       "    .dataframe thead th {\n",
       "        text-align: right;\n",
       "    }\n",
       "</style>\n",
       "<table border=\"1\" class=\"dataframe\">\n",
       "  <thead>\n",
       "    <tr style=\"text-align: right;\">\n",
       "      <th></th>\n",
       "      <th>track</th>\n",
       "      <th>sparse_index</th>\n",
       "    </tr>\n",
       "  </thead>\n",
       "  <tbody>\n",
       "    <tr>\n",
       "      <th>0</th>\n",
       "      <td>221367</td>\n",
       "      <td>SOOFKYO12AF72A2640</td>\n",
       "    </tr>\n",
       "    <tr>\n",
       "      <th>1</th>\n",
       "      <td>132143</td>\n",
       "      <td>SOIHOIQ12A8C138593</td>\n",
       "    </tr>\n",
       "    <tr>\n",
       "      <th>2</th>\n",
       "      <td>363912</td>\n",
       "      <td>SOYIZSN12A6701E0BB</td>\n",
       "    </tr>\n",
       "    <tr>\n",
       "      <th>3</th>\n",
       "      <td>63740</td>\n",
       "      <td>SODYZAD12A58A7A525</td>\n",
       "    </tr>\n",
       "    <tr>\n",
       "      <th>4</th>\n",
       "      <td>351788</td>\n",
       "      <td>SOXLWPN12A8C143667</td>\n",
       "    </tr>\n",
       "  </tbody>\n",
       "</table>\n",
       "</div>"
      ],
      "text/plain": [
       "    track        sparse_index\n",
       "0  221367  SOOFKYO12AF72A2640\n",
       "1  132143  SOIHOIQ12A8C138593\n",
       "2  363912  SOYIZSN12A6701E0BB\n",
       "3   63740  SODYZAD12A58A7A525\n",
       "4  351788  SOXLWPN12A8C143667"
      ]
     },
     "execution_count": 19,
     "metadata": {},
     "output_type": "execute_result"
    }
   ],
   "source": [
    "# songs = pd.read_hdf('data/song_mapping.h5', key='df')\n",
    "# users = pd.read_hdf('data/user_mapping.h5', key='df')\n"
   ]
  },
  {
   "cell_type": "code",
   "execution_count": 25,
   "metadata": {},
   "outputs": [],
   "source": [
    "# songs = songs.rename(index=str, columns={'track': 'sparse_index', 'sparse_index': 'track'})\n",
    "# songs.head()\n",
    "# songs.to_hdf('data/song_mapping.h5', key='df')\n",
    "\n",
    "# users = users.rename(index=str, columns={'user': 'sparse_index', 'sparse_index': 'user'})\n",
    "# users.head(100)\n",
    "# users.to_hdf('data/user_mapping.h5', key='df')"
   ]
  },
  {
   "cell_type": "code",
   "execution_count": 22,
   "metadata": {
    "collapsed": true
   },
   "outputs": [],
   "source": []
  },
  {
   "cell_type": "code",
   "execution_count": null,
   "metadata": {
    "collapsed": true
   },
   "outputs": [],
   "source": []
  }
 ],
 "metadata": {
  "kernelspec": {
   "display_name": "Python 3",
   "language": "python",
   "name": "python3"
  },
  "language_info": {
   "codemirror_mode": {
    "name": "ipython",
    "version": 3
   },
   "file_extension": ".py",
   "mimetype": "text/x-python",
   "name": "python",
   "nbconvert_exporter": "python",
   "pygments_lexer": "ipython3",
   "version": "3.6.4"
  }
 },
 "nbformat": 4,
 "nbformat_minor": 2
}
