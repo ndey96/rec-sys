{
 "cells": [
  {
   "cell_type": "code",
   "execution_count": 1,
   "metadata": {
    "collapsed": true
   },
   "outputs": [],
   "source": [
    "# for full explanations of diversity metrics, see this paper: \n",
    "# \"Diversity in recommender systems - A survey\"\n",
    "# https://www.sciencedirect.com/science/article/abs/pii/S0950705117300680\n",
    "\n",
    "# every song first has to be converted to a vector for most of these metrics to work\n",
    "# for now I'm just going to use randomized vectors to test\n",
    "# moving forward song vectorization will be a big task for us"
   ]
  },
  {
   "cell_type": "code",
   "execution_count": 4,
   "metadata": {
    "collapsed": true
   },
   "outputs": [],
   "source": [
    "import numpy as np"
   ]
  },
  {
   "cell_type": "code",
   "execution_count": 9,
   "metadata": {
    "collapsed": true
   },
   "outputs": [],
   "source": [
    "# for now, let the list of songs be this list of n vectors:\n",
    "\n",
    "n = 1000\n",
    "song_list = []\n",
    "song_dimension = 100\n",
    "\n",
    "for i in range(n):\n",
    "    song_list.append(np.random.rand(10,1))"
   ]
  },
  {
   "cell_type": "code",
   "execution_count": null,
   "metadata": {
    "collapsed": true
   },
   "outputs": [],
   "source": [
    "# average dissimilarity\n",
    "\n",
    "# very straightforward assuming there are good song vectorizations as input\n",
    "\n",
    "def avg_dis(song_list):\n",
    "    \n",
    "    sim = 0\n",
    "    \n",
    "    n = len(song_list)\n",
    "    \n",
    "    for i in range(n):\n",
    "        for j in range(n):\n",
    "            sim += 1 - np.linalg.norm(song_list[i]-song_list[j])\n",
    "            \n",
    "    return sim/(n/2*(n-1))"
   ]
  },
  {
   "cell_type": "code",
   "execution_count": null,
   "metadata": {
    "collapsed": true
   },
   "outputs": [],
   "source": [
    "# Gini coefficient\n",
    "\n",
    "# can only be implemented for a simulated environment (e.g. during a large user study)\n",
    "# therefore this metric is likely not applicable at this point\n"
   ]
  },
  {
   "cell_type": "code",
   "execution_count": null,
   "metadata": {
    "collapsed": true
   },
   "outputs": [],
   "source": [
    "# nDCG measure\n",
    "\n",
    "# returns a \"gain vector\" G\n",
    "\n",
    "# needs to be fed a vector containing the value of J(song_list[i]) for each song, whereby J(song_list[i])\n",
    "# is 1 if the user finds it relevant and 0 otherwise\n",
    "\n",
    "# also fed a tunable hyperparameter, alpha\n",
    "\n",
    "# k is the index of the specific song whose diversity score you want to find\n",
    "\n",
    "# note this algorithm was originally intended for a pretty different purpose (document retrieval)\n",
    "# so I'm not sure how well this mod will work\n",
    "\n",
    "def nDCG(song_list, J_song_list, alpha, k):\n",
    "    \n",
    "    score = 0\n",
    "    r = 0\n",
    "    \n",
    "    for i in range(len(song_list)):\n",
    "        for j in range(k - 1):\n",
    "            r += J_song_list[i]\n",
    "    \n",
    "    for i in range(len(song_list)):\n",
    "        score += J_song_list[i]*(1-alpha)**r[i]\n",
    "        \n",
    "    return score    "
   ]
  },
  {
   "cell_type": "code",
   "execution_count": null,
   "metadata": {
    "collapsed": true
   },
   "outputs": [],
   "source": [
    "# product of relevance, similarity, places in ranked list\n",
    "\n",
    "\n",
    "\n",
    "\n"
   ]
  },
  {
   "cell_type": "code",
   "execution_count": null,
   "metadata": {
    "collapsed": true
   },
   "outputs": [],
   "source": [
    "# user-perceived diversity\n",
    "\n",
    "# cannot be coded here obviously - requires user testing"
   ]
  },
  {
   "cell_type": "code",
   "execution_count": null,
   "metadata": {
    "collapsed": true
   },
   "outputs": [],
   "source": [
    "# modification of nDCG measure\n",
    "\n",
    "\n",
    "\n",
    "\n",
    "\n"
   ]
  },
  {
   "cell_type": "code",
   "execution_count": null,
   "metadata": {
    "collapsed": true
   },
   "outputs": [],
   "source": [
    "# modification of average dissimilarity\n",
    "\n",
    "# exact same as original version except using user feedback as measure of similarity\n",
    "\n",
    "# pass in matrix of user-defined similarity scores (e.g. based on average of Likert scale responses)\n",
    "\n",
    "def avg_dis(song_list, user_similarity_scores):\n",
    "    \n",
    "    sim = 0\n",
    "    \n",
    "    n = len(song_list)\n",
    "    \n",
    "    for i in range(n):\n",
    "        for j in range(n):\n",
    "            sim += 1 - user_similarity_scores[i][j]\n",
    "            \n",
    "    return sim/(n/2*(n-1))"
   ]
  },
  {
   "cell_type": "code",
   "execution_count": null,
   "metadata": {
    "collapsed": true
   },
   "outputs": [],
   "source": [
    "# combination of genre coverage and non-redundancy\n",
    "\n",
    "# Number of distinct items in recommendation list\n",
    "\n",
    "def num_distinct(song_list):\n",
    "  return len(np.unique(song_list))"
   ]
  }
 ],
 "metadata": {
  "kernelspec": {
   "display_name": "Python 3",
   "language": "python",
   "name": "python3"
  },
  "language_info": {
   "codemirror_mode": {
    "name": "ipython",
    "version": 3
   },
   "file_extension": ".py",
   "mimetype": "text/x-python",
   "name": "python",
   "nbconvert_exporter": "python",
   "pygments_lexer": "ipython3",
   "version": "3.6.4"
  }
 },
 "nbformat": 4,
 "nbformat_minor": 2
}
