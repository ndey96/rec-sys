{
 "cells": [
  {
   "cell_type": "code",
   "execution_count": 11,
   "metadata": {},
   "outputs": [],
   "source": [
    "import pandas as pd\n",
    "from scipy.spatial import KDTree\n",
    "from random import randint\n",
    "import csv\n",
    "from collections import Counter\n",
    "import sys\n",
    "\n",
    "\n",
    "def load_user_MUSIC_df():\n",
    "\n",
    "    user_MUSIC_df = pd.read_hdf('data/user_div_MUSIC_divpref.h5', key='df')\n",
    "\n",
    "    return user_MUSIC_df\n",
    "\n",
    "\n",
    "def load_user_playlist_df():\n",
    "\n",
    "    user_playlist_df = pd.read_hdf('data/userid_playlist.h5', key='df')\n",
    "\n",
    "    return user_playlist_df\n",
    "\n",
    "\n",
    "def build_tree(user_MUSIC_df):\n",
    "\n",
    "    MUSIC_vectors = user_MUSIC_df.iloc[:, 0].values.tolist()\n",
    "    tree = KDTree(MUSIC_vectors)\n",
    "\n",
    "    return tree\n",
    "\n",
    "\n",
    "def get_closest_MUSIC_userids(userid, k, user_MUSIC_df):\n",
    "\n",
    "    user_MUSIC = user_MUSIC_df.loc[user_MUSIC_df['user_id'] == userid][\n",
    "        'MUSIC'].tolist()[0]\n",
    "\n",
    "    distances, indices = tree.query(user_MUSIC, k)\n",
    "    closest_userids = []\n",
    "\n",
    "    for index in indices:\n",
    "        closest_userids.append(user_MUSIC_df.iloc[index, 3])\n",
    "\n",
    "    return closest_userids\n",
    "\n",
    "\n",
    "def get_knn_top_m_songs(userid, k, m, tree, user_playlist_df, user_MUSIC_df):\n",
    "\n",
    "    closest_userids = get_closest_MUSIC_userids(userid, k, user_MUSIC_df)\n",
    "    \n",
    "    closest_user_songs = []\n",
    "    for i in range(len(closest_userids)):\n",
    "        closest_user_songs.append(user_playlist_df.loc[user_playlist_df[\n",
    "            'user_id'] == closest_userids[i]]['playlist'].tolist()[0])\n",
    "\n",
    "    closest_user_songs = [\n",
    "        item for sublist in closest_user_songs for item in sublist\n",
    "    ]\n",
    "    counted_closest_user_songs = Counter(closest_user_songs)\n",
    "    top_m_songs = [i[0] for i in counted_closest_user_songs.most_common()[:m]]\n",
    "\n",
    "    return top_m_songs\n",
    "\n",
    "\n",
    "# if __name__ == \"__main__\":\n",
    "\n",
    "#     user_playlist_df = load_user_playlist_df()\n",
    "#     user_MUSIC_df = load_user_MUSIC_df()\n",
    "#     tree = build_tree()\n",
    "\n",
    "#     get_knn_top_m_songs(sys.argv[1], int(sys.argv[2]), int(sys.argv[3]), tree,\n",
    "#                         user_playlist_df, user_MUSIC_df)"
   ]
  },
  {
   "cell_type": "code",
   "execution_count": 12,
   "metadata": {},
   "outputs": [],
   "source": [
    "user_playlist_df = load_user_playlist_df()"
   ]
  },
  {
   "cell_type": "code",
   "execution_count": 19,
   "metadata": {},
   "outputs": [
    {
     "name": "stdout",
     "output_type": "stream",
     "text": [
      "['SOAACSG12AB018DC80', 'SOCCHAY12AF72A9BF7', 'SOCHRXB12A8AE48069', 'SOCOWFB12A6D4F6BBE', 'SODJVTF12A8AE46DFD', 'SOEBOWM12AB017F279', 'SOFRQTD12A81C233C0', 'SOMSPUJ12A6702064A', 'SOMZNZQ12A6310E83F', 'SOOEFJT12A58A7AD1E', 'SOOOLOP12AB0189B72', 'SORWLTW12A670208FA', 'SOSZWOL12A81C20B06', 'SOZKNSB12A8C140F11']\n"
     ]
    }
   ],
   "source": [
    "#user_playlist_df.loc[user_playlist_df['user_id'] == closest_userids[i]]['song_ids'].tolist()[0]\n",
    "\n",
    "closest_userids = ['00007a02388c208ea7176479f6ae06f8224355b3', '8ac1956f9804d0d8c8fc32cc1b9b16c7a05d2f45', '16c0ef10722070c15c3339f93e0654c751df6712', '2a1ee30d010d3a2e1355a51f485ebb3b52409c69', 'ce4e9362fc12af5c3e8bfa44303d86822122b6dc']\n",
    "\n",
    "closest_user_songs = user_playlist_df.loc[user_playlist_df['user_id'].isin(closest_userids)]['playlist'].tolist()[0]\n",
    "\n",
    "print(closest_user_songs)"
   ]
  },
  {
   "cell_type": "code",
   "execution_count": null,
   "metadata": {},
   "outputs": [],
   "source": []
  }
 ],
 "metadata": {
  "kernelspec": {
   "display_name": "Python 3",
   "language": "python",
   "name": "python3"
  },
  "language_info": {
   "codemirror_mode": {
    "name": "ipython",
    "version": 3
   },
   "file_extension": ".py",
   "mimetype": "text/x-python",
   "name": "python",
   "nbconvert_exporter": "python",
   "pygments_lexer": "ipython3",
   "version": "3.7.1"
  }
 },
 "nbformat": 4,
 "nbformat_minor": 2
}
