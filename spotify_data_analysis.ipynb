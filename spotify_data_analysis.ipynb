{
 "cells": [
  {
   "cell_type": "code",
   "execution_count": 1,
   "metadata": {},
   "outputs": [
    {
     "ename": "ImportError",
     "evalue": "No module named spotipy",
     "output_type": "error",
     "traceback": [
      "\u001b[0;31m---------------------------------------------------------------------------\u001b[0m",
      "\u001b[0;31mImportError\u001b[0m                               Traceback (most recent call last)",
      "\u001b[0;32m<ipython-input-1-e8da41b15579>\u001b[0m in \u001b[0;36m<module>\u001b[0;34m()\u001b[0m\n\u001b[1;32m      1\u001b[0m \u001b[0;31m#documentation found here: https://spotipy.readthedocs.io/en/latest/\u001b[0m\u001b[0;34m\u001b[0m\u001b[0;34m\u001b[0m\u001b[0m\n\u001b[0;32m----> 2\u001b[0;31m \u001b[0;32mimport\u001b[0m \u001b[0mspotipy\u001b[0m \u001b[0;32mas\u001b[0m \u001b[0msp\u001b[0m\u001b[0;34m\u001b[0m\u001b[0m\n\u001b[0m\u001b[1;32m      3\u001b[0m \u001b[0;32mimport\u001b[0m \u001b[0mspotipy\u001b[0m\u001b[0;34m.\u001b[0m\u001b[0mutil\u001b[0m \u001b[0;32mas\u001b[0m \u001b[0mutil\u001b[0m\u001b[0;34m\u001b[0m\u001b[0m\n\u001b[1;32m      4\u001b[0m \u001b[0;32mimport\u001b[0m \u001b[0municodedata\u001b[0m\u001b[0;34m\u001b[0m\u001b[0m\n",
      "\u001b[0;31mImportError\u001b[0m: No module named spotipy"
     ]
    }
   ],
   "source": [
    "#documentation found here: https://spotipy.readthedocs.io/en/latest/\n",
    "import spotipy as sp\n",
    "import spotipy.util as util \n",
    "import unicodedata"
   ]
  },
  {
   "cell_type": "code",
   "execution_count": 75,
   "metadata": {},
   "outputs": [
    {
     "name": "stdout",
     "output_type": "stream",
     "text": [
      "\n",
      "\n",
      "            User authentication requires interaction with your\n",
      "            web browser. Once you enter your credentials and\n",
      "            give authorization, you will be redirected to\n",
      "            a url.  Paste that url you were directed to to\n",
      "            complete the authorization.\n",
      "\n",
      "        \n",
      "Opened https://accounts.spotify.com/authorize?scope=user-top-read&redirect_uri=http%3A%2F%2Flocalhost%3A8080&response_type=code&client_id=3d6e88cfe53e4e71a4d088c6f1bdbaa8 in your browser\n",
      "\n",
      "\n",
      "Enter the URL you were redirected to: http://localhost:8080/?code=AQAv8iqW8BVOQYw9XSr8TfarGTKtKbJfOU7Kbcc9SE9vqjeR7QGurgWs5rtu5XnyvAuqpJRL0sBuvx6UGCqUsomwfdeS0ybvxo-1Rtrik2IeMGaloXz_uYCeAAOity5AO0yG5jtUbmtgVkuDeVrxP0QEidrK2ltMlKtzJIAmOGrV9o7vd0J1LZOEZ0tpNDbqqE6_2jYfxVqQrzC_\n",
      "\n",
      "\n",
      "\n",
      "\n",
      "            User authentication requires interaction with your\n",
      "            web browser. Once you enter your credentials and\n",
      "            give authorization, you will be redirected to\n",
      "            a url.  Paste that url you were directed to to\n",
      "            complete the authorization.\n",
      "\n",
      "        \n",
      "Opened https://accounts.spotify.com/authorize?scope=playlist-modify-private&redirect_uri=http%3A%2F%2Flocalhost%3A8080&response_type=code&client_id=3d6e88cfe53e4e71a4d088c6f1bdbaa8 in your browser\n",
      "\n",
      "\n",
      "Enter the URL you were redirected to: http://localhost:8080/?code=AQAXKzKDKV2TgzNP7zs4fZsEs5mqoT5S6_AkiKUHbJflSeRH9f3JRZ8J2ZQbpno3OLmKHej-z3YUXSo2niQQaUxWcR9PCMPxetohYQIfCwXnGS_zQzLbcQvaRax6gz80uqIFeygb_N0yGFC8g382jaN3eNzSHZU-Jls-NjXcov03068l7niUPwhFLI2zjTFOVgqHhqDxDrUsOBQ4e6XRG_rXYA_7sQ\n",
      "\n",
      "\n"
     ]
    },
    {
     "data": {
      "text/plain": [
       "u'BQCsKje7JG1nt-9S-K-xgL3yI-hVd7l_mzr17Y3GNj28oMJxiT2Jqeg_FoMIQzAUx-hYUm5_2K4T7pE_mYUU02KA1Brbq9bmrqqkVM_ycJIPBo-XzMiuROzrQneqIrJbXTy0A42Z9ji_PgnnaM-GabjS89dEp5dnAfAmHXq6_4rgR2B22RQ'"
      ]
     },
     "execution_count": 75,
     "metadata": {},
     "output_type": "execute_result"
    }
   ],
   "source": [
    "#client_id and client_secret obtained by creating a dev account on Spotify API\n",
    "#If you want to play around with this you just need to change the user_id variable to your own (I think)\n",
    "#scope sets what permissions you get\n",
    "#user_top_read lets you grab top artists, songs. Using this as seed for recommendations\n",
    "#don't change the other parameters\n",
    "\n",
    "user_id = 'rishigoel'\n",
    "def createAuthObject(scope):\n",
    "    return util.prompt_for_user_token(user_id,scope,client_id='3d6e88cfe53e4e71a4d088c6f1bdbaa8',client_secret='c38ee3eac286405f915ff433c7be24b1',redirect_uri='http://localhost:8080')\n",
    "\n",
    "user_top_read_scope = 'user-top-read'\n",
    "playlist_modify_private_scope = 'playlist-modify-private'\n",
    "top_read_auth = createAuthObject(user_top_read_scope)\n",
    "top_read_auth\n",
    "playlist_modify_private_auth = createAuthObject(playlist_modify_private_scope)\n",
    "playlist_modify_private_auth"
   ]
  },
  {
   "cell_type": "code",
   "execution_count": 76,
   "metadata": {},
   "outputs": [
    {
     "data": {
      "text/plain": [
       "{u'display_name': u'rishigoel',\n",
       " u'external_urls': {u'spotify': u'https://open.spotify.com/user/rishigoel'},\n",
       " u'followers': {u'href': None, u'total': 0},\n",
       " u'href': u'https://api.spotify.com/v1/users/rishigoel',\n",
       " u'id': u'rishigoel',\n",
       " u'images': [],\n",
       " u'type': u'user',\n",
       " u'uri': u'spotify:user:rishigoel'}"
      ]
     },
     "execution_count": 76,
     "metadata": {},
     "output_type": "execute_result"
    }
   ],
   "source": [
    "user_top_read_obj = sp.Spotify(auth=top_read_auth)\n",
    "user_top_read_obj.user(user_id)\n"
   ]
  },
  {
   "cell_type": "code",
   "execution_count": 77,
   "metadata": {},
   "outputs": [
    {
     "data": {
      "text/plain": [
       "['3TVXtAsR1Inumwj472S9r4',\n",
       " '5K4W6rqBFWDnAN6FQUkS6x',\n",
       " '3Isy6kedDrgPYoTS1dazA9',\n",
       " '0QHgL1lAIqAw0HtD7YldmP',\n",
       " '2jku7tDXc6XoB6MO2hFuqg']"
      ]
     },
     "execution_count": 77,
     "metadata": {},
     "output_type": "execute_result"
    }
   ],
   "source": [
    "top_artists = user_top_read_obj.current_user_top_artists()\n",
    "top_artist_ids = []\n",
    "\n",
    "#maximum seed of 5 artists for generating recs\n",
    "for i in range(5):\n",
    "    top_artist_ids.append(unicodedata.normalize('NFKD',top_artists['items'][i]['id']).encode('ascii', 'ignore'))\n",
    "top_artist_ids"
   ]
  },
  {
   "cell_type": "code",
   "execution_count": 78,
   "metadata": {},
   "outputs": [
    {
     "data": {
      "text/plain": [
       "['5GG3knKdxKWrNboRijxeKF',\n",
       " '1t4pPnbkOjzoA5RvsDjvUU',\n",
       " '2of5xn0GU0TdFneR1saRLH',\n",
       " '7JXZq0JgG2zTrSOAgY8VMC',\n",
       " '1zqCcxtHDODySsHnM7lxox',\n",
       " '1Yq83UYJmlnmA5IXNLYnm2',\n",
       " '1eQBEelI2NCy7AUTerX0KS',\n",
       " '4VMiNOpnjRwSCwmHaUfOMM',\n",
       " '74OqjT3PMVWlZAyqUt4FgG',\n",
       " '6FJN9EiWE5Fh20WYrHfB5N',\n",
       " '44Du2IM1bGY7dicmLfXbUs',\n",
       " '7K0doWquS34EWQY4PMmaC5',\n",
       " '5A8EYS9Z4hz4EmtU8W8kI3',\n",
       " '0yhxBvedRdGxsPZHJNI4VA',\n",
       " '2EAHXJbcFLmREbJCTv2RnD',\n",
       " '1AqemxWsT0iGg5Lvkm16Bt',\n",
       " '4q6dqyGM25sKFU8nYAGRe4',\n",
       " '3VwR0joqoloF97pCHzLVLx',\n",
       " '6oz0TkxZqdcyHYp5UOjvri',\n",
       " '7ewfvLrlI0VNht4vEnoTMh',\n",
       " '1Wsbr1d2BouNGk2q92mIj7',\n",
       " '6LECek0tkw95AXDGHM4qXj',\n",
       " '49eplIHvgCLY8HAgcaWrUb',\n",
       " '3fyMH1t6UPeR5croea9PrR',\n",
       " '36wy8sKYBYQKdOBeqA5F0U',\n",
       " '5cXg9IQS34FzLVdHhp7hu7',\n",
       " '7whF5xg437LCp9PbGS6pNF',\n",
       " '3YtGCqleJmp8wg798qLVtM',\n",
       " '7qzgIi9e4yrLnzp67MFqNv',\n",
       " '3B54sVLJ402zGa6Xm4YGNe',\n",
       " '2yg9UN4eo5eMVJ7OB4RWj3',\n",
       " '30Zcjs7pgEkmJA1lEbGSWT',\n",
       " '7hsulgRNgbyczeAg8tChCB',\n",
       " '0OF184vEASwoN9x3HTFCPQ',\n",
       " '1YsFOm6hFKqSLgu9RTpQB8',\n",
       " '5PX4uS1LqlWEPL69phPVQQ',\n",
       " '124NFj84ppZ5pAxTuVQYCQ',\n",
       " '1qsHYUd2c1wFGcn7e63QmG',\n",
       " '5Z2S8VemQCfM02SLq8o5cR',\n",
       " '5W7xC99N2Zzfh69r7I7zWK',\n",
       " '0wMGccSxwaLDpDqowlkJT7',\n",
       " '4KW1lqgSr8TKrvBII0Brf8',\n",
       " '2bjwRfXMk4uRgOD9IBYl9h',\n",
       " '4CANqU20rw8PXzYvocPzp7',\n",
       " '1xzBco0xcoJEDXktl7Jxrr',\n",
       " '16Ah4QqH4mgYVXqfC4mdSd',\n",
       " '1EM23A621Z0QyTlWKu7T1l',\n",
       " '27eO3EGKIUU7yug1eOxUZu',\n",
       " '0zqy3ss4CwD6u4QPksS0nI',\n",
       " '0LFcFGLYTX6UmeIdO7NVd7']"
      ]
     },
     "execution_count": 78,
     "metadata": {},
     "output_type": "execute_result"
    }
   ],
   "source": [
    "personal_recs = user_top_read_obj.recommendations(seed_artists=top_artist_ids, limit=50)\n",
    "personal_rec_ids = []\n",
    "for item in personal_recs['tracks']:\n",
    "    personal_rec_ids.append(unicodedata.normalize('NFKD', item['id']).encode('ascii', 'ignore'))\n",
    "personal_rec_ids"
   ]
  },
  {
   "cell_type": "code",
   "execution_count": 79,
   "metadata": {},
   "outputs": [
    {
     "data": {
      "text/plain": [
       "{u'display_name': u'rishigoel',\n",
       " u'external_urls': {u'spotify': u'https://open.spotify.com/user/rishigoel'},\n",
       " u'followers': {u'href': None, u'total': 0},\n",
       " u'href': u'https://api.spotify.com/v1/users/rishigoel',\n",
       " u'id': u'rishigoel',\n",
       " u'images': [],\n",
       " u'type': u'user',\n",
       " u'uri': u'spotify:user:rishigoel'}"
      ]
     },
     "execution_count": 79,
     "metadata": {},
     "output_type": "execute_result"
    }
   ],
   "source": [
    "playlist_modify_obj = sp.Spotify(auth=playlist_modify_private_auth)\n",
    "playlist_modify_obj.user(user_id)"
   ]
  },
  {
   "cell_type": "code",
   "execution_count": 82,
   "metadata": {},
   "outputs": [
    {
     "data": {
      "text/plain": [
       "u'4e5w4YNJ2GFkFelQb1tOrQ'"
      ]
     },
     "execution_count": 82,
     "metadata": {},
     "output_type": "execute_result"
    }
   ],
   "source": [
    "#Public = true doesn't work, but doesn't really matter\n",
    "playlist_name = 'rishiRecs'\n",
    "personal_playlist = playlist_modify_obj.user_playlist_create(user=user_id, name=playlist_name, public='False')\n",
    "personal_playlist['id']"
   ]
  },
  {
   "cell_type": "code",
   "execution_count": 83,
   "metadata": {},
   "outputs": [
    {
     "data": {
      "text/plain": [
       "{u'snapshot_id': u'Miw1YjI0YWQ0OGFhNmNjMWQzMTU2NzJmMzI1M2I0MDhlYmUwYWM2MTc0'}"
      ]
     },
     "execution_count": 83,
     "metadata": {},
     "output_type": "execute_result"
    }
   ],
   "source": [
    "playlist_modify_obj.user_playlist_add_tracks(user=user_id, playlist_id = personal_playlist['id'], tracks=personal_rec_ids)"
   ]
  },
  {
   "cell_type": "code",
   "execution_count": null,
   "metadata": {
    "collapsed": true
   },
   "outputs": [],
   "source": []
  }
 ],
 "metadata": {
  "kernelspec": {
   "display_name": "Python 2",
   "language": "python",
   "name": "python2"
  },
  "language_info": {
   "codemirror_mode": {
    "name": "ipython",
    "version": 2
   },
   "file_extension": ".py",
   "mimetype": "text/x-python",
   "name": "python",
   "nbconvert_exporter": "python",
   "pygments_lexer": "ipython2",
   "version": "2.7.13"
  }
 },
 "nbformat": 4,
 "nbformat_minor": 2
}
