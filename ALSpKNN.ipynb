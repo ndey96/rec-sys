{
 "cells": [
  {
   "cell_type": "code",
   "execution_count": 1,
   "metadata": {
    "collapsed": true
   },
   "outputs": [],
   "source": [
    "import pandas as pd\n",
    "import numpy as np\n",
    "from scipy.sparse import load_npz\n",
    "from scipy.sparse import csr_matrix\n",
    "from implicit.als import AlternatingLeastSquares\n",
    "import itertools\n",
    "# import ALSpkNN\n",
    "from implicit.evaluation import mean_average_precision_at_k"
   ]
  },
  {
   "cell_type": "code",
   "execution_count": 2,
   "metadata": {
    "collapsed": true
   },
   "outputs": [],
   "source": [
    "user_df = pd.read_hdf('data/user_df.h5', key='df')[['user_id', 'sparse_index', 'MUSIC', 'song_ids']]\n",
    "user_df.set_index('sparse_index', inplace=True)\n",
    "\n",
    "song_df = pd.read_hdf('data/song_df.h5', key='df')[['song_id', 'sparse_index']]\n",
    "song_df.set_index('song_id', inplace=True)\n",
    "\n",
    "# train_plays, test_plays -> num_songs x num_users CSR matrix\n",
    "train_plays = load_npz('data/train_sparse.npz')\n",
    "test_plays = load_npz('data/test_sparse.npz')\n",
    "\n",
    "# # songs -> CSR_row_index: song_id\n",
    "# songs_mapping = pd.read_hdf('data/song_mapping.h5', key='df')\n",
    "# songs_mapping.set_index('song_id', inplace=True)\n",
    "\n",
    "# # users -> CSR_col_index: user_id\n",
    "# users_mapping = pd.read_hdf('data/user_mapping.h5', key='df')\n",
    "# users_mapping.set_index('sparse_index', inplace=True)"
   ]
  },
  {
   "cell_type": "code",
   "execution_count": 3,
   "metadata": {
    "scrolled": true
   },
   "outputs": [
    {
     "data": {
      "text/html": [
       "<div>\n",
       "<style scoped>\n",
       "    .dataframe tbody tr th:only-of-type {\n",
       "        vertical-align: middle;\n",
       "    }\n",
       "\n",
       "    .dataframe tbody tr th {\n",
       "        vertical-align: top;\n",
       "    }\n",
       "\n",
       "    .dataframe thead th {\n",
       "        text-align: right;\n",
       "    }\n",
       "</style>\n",
       "<table border=\"1\" class=\"dataframe\">\n",
       "  <thead>\n",
       "    <tr style=\"text-align: right;\">\n",
       "      <th></th>\n",
       "      <th>user_id</th>\n",
       "      <th>MUSIC</th>\n",
       "      <th>song_ids</th>\n",
       "    </tr>\n",
       "    <tr>\n",
       "      <th>sparse_index</th>\n",
       "      <th></th>\n",
       "      <th></th>\n",
       "      <th></th>\n",
       "    </tr>\n",
       "  </thead>\n",
       "  <tbody>\n",
       "    <tr>\n",
       "      <th>0</th>\n",
       "      <td>00000b722001882066dff9d2da8a775658053ea0</td>\n",
       "      <td>[4.229812033333332, 1.4042373883333334, 3.7184...</td>\n",
       "      <td>[SOBSSGK12A6D4F9EF1, SOCZQCY12AC468E40F, SOCTX...</td>\n",
       "    </tr>\n",
       "    <tr>\n",
       "      <th>1</th>\n",
       "      <td>00001638d6189236866af9bbf309ae6c2347ffdc</td>\n",
       "      <td>[4.910766939999999, 1.6201183160000001, 4.2151...</td>\n",
       "      <td>[SOFXSRW12A6D4F3B77, SOFFWTH12A6310D9E8, SOLOD...</td>\n",
       "    </tr>\n",
       "    <tr>\n",
       "      <th>2</th>\n",
       "      <td>0000175652312d12576d9e6b84f600caa24c4715</td>\n",
       "      <td>[3.9929606913333338, 1.3756423253666668, 3.569...</td>\n",
       "      <td>[SOBYRTY12AB0181EDB, SOYWZXA12A8C138274, SOYFP...</td>\n",
       "    </tr>\n",
       "    <tr>\n",
       "      <th>3</th>\n",
       "      <td>00001cf0dce3fb22b0df0f3a1d9cd21e38385372</td>\n",
       "      <td>[4.160212249999999, 1.38550505, 3.48416005, -6...</td>\n",
       "      <td>[SOBDRND12A8C13FD08, SODRFRJ12A8C144167, SOMMJ...</td>\n",
       "    </tr>\n",
       "    <tr>\n",
       "      <th>4</th>\n",
       "      <td>0000267bde1b3a70ea75cf2b2d216cb828e3202b</td>\n",
       "      <td>[5.020851199999999, 1.2992664299999999, 4.2901...</td>\n",
       "      <td>[SOBMSCQ12AAF3B51B7, SOJERWB12A8C13E654, SOMCH...</td>\n",
       "    </tr>\n",
       "  </tbody>\n",
       "</table>\n",
       "</div>"
      ],
      "text/plain": [
       "                                               user_id  \\\n",
       "sparse_index                                             \n",
       "0             00000b722001882066dff9d2da8a775658053ea0   \n",
       "1             00001638d6189236866af9bbf309ae6c2347ffdc   \n",
       "2             0000175652312d12576d9e6b84f600caa24c4715   \n",
       "3             00001cf0dce3fb22b0df0f3a1d9cd21e38385372   \n",
       "4             0000267bde1b3a70ea75cf2b2d216cb828e3202b   \n",
       "\n",
       "                                                          MUSIC  \\\n",
       "sparse_index                                                      \n",
       "0             [4.229812033333332, 1.4042373883333334, 3.7184...   \n",
       "1             [4.910766939999999, 1.6201183160000001, 4.2151...   \n",
       "2             [3.9929606913333338, 1.3756423253666668, 3.569...   \n",
       "3             [4.160212249999999, 1.38550505, 3.48416005, -6...   \n",
       "4             [5.020851199999999, 1.2992664299999999, 4.2901...   \n",
       "\n",
       "                                                       song_ids  \n",
       "sparse_index                                                     \n",
       "0             [SOBSSGK12A6D4F9EF1, SOCZQCY12AC468E40F, SOCTX...  \n",
       "1             [SOFXSRW12A6D4F3B77, SOFFWTH12A6310D9E8, SOLOD...  \n",
       "2             [SOBYRTY12AB0181EDB, SOYWZXA12A8C138274, SOYFP...  \n",
       "3             [SOBDRND12A8C13FD08, SODRFRJ12A8C144167, SOMMJ...  \n",
       "4             [SOBMSCQ12AAF3B51B7, SOJERWB12A8C13E654, SOMCH...  "
      ]
     },
     "execution_count": 3,
     "metadata": {},
     "output_type": "execute_result"
    }
   ],
   "source": [
    "user_df.head()"
   ]
  },
  {
   "cell_type": "code",
   "execution_count": 4,
   "metadata": {},
   "outputs": [
    {
     "data": {
      "text/html": [
       "<div>\n",
       "<style scoped>\n",
       "    .dataframe tbody tr th:only-of-type {\n",
       "        vertical-align: middle;\n",
       "    }\n",
       "\n",
       "    .dataframe tbody tr th {\n",
       "        vertical-align: top;\n",
       "    }\n",
       "\n",
       "    .dataframe thead th {\n",
       "        text-align: right;\n",
       "    }\n",
       "</style>\n",
       "<table border=\"1\" class=\"dataframe\">\n",
       "  <thead>\n",
       "    <tr style=\"text-align: right;\">\n",
       "      <th></th>\n",
       "      <th>sparse_index</th>\n",
       "    </tr>\n",
       "    <tr>\n",
       "      <th>song_id</th>\n",
       "      <th></th>\n",
       "    </tr>\n",
       "  </thead>\n",
       "  <tbody>\n",
       "    <tr>\n",
       "      <th>SOAKIMP12A8C130995</th>\n",
       "      <td>4785</td>\n",
       "    </tr>\n",
       "    <tr>\n",
       "      <th>SOAPDEY12A81C210A9</th>\n",
       "      <td>7052</td>\n",
       "    </tr>\n",
       "    <tr>\n",
       "      <th>SOBFOVM12A58A7D494</th>\n",
       "      <td>14453</td>\n",
       "    </tr>\n",
       "    <tr>\n",
       "      <th>SOBSUJE12A6D4F8CF5</th>\n",
       "      <td>20354</td>\n",
       "    </tr>\n",
       "    <tr>\n",
       "      <th>SOBVFZR12A6D4F8AE3</th>\n",
       "      <td>21408</td>\n",
       "    </tr>\n",
       "  </tbody>\n",
       "</table>\n",
       "</div>"
      ],
      "text/plain": [
       "                   sparse_index\n",
       "song_id                        \n",
       "SOAKIMP12A8C130995         4785\n",
       "SOAPDEY12A81C210A9         7052\n",
       "SOBFOVM12A58A7D494        14453\n",
       "SOBSUJE12A6D4F8CF5        20354\n",
       "SOBVFZR12A6D4F8AE3        21408"
      ]
     },
     "execution_count": 4,
     "metadata": {},
     "output_type": "execute_result"
    }
   ],
   "source": [
    "song_df.head()"
   ]
  },
  {
   "cell_type": "code",
   "execution_count": 5,
   "metadata": {},
   "outputs": [
    {
     "data": {
      "text/plain": [
       "(1107613, 3)"
      ]
     },
     "execution_count": 5,
     "metadata": {},
     "output_type": "execute_result"
    }
   ],
   "source": [
    "user_df.shape"
   ]
  },
  {
   "cell_type": "code",
   "execution_count": 6,
   "metadata": {},
   "outputs": [
    {
     "data": {
      "text/plain": [
       "(168503, 1)"
      ]
     },
     "execution_count": 6,
     "metadata": {},
     "output_type": "execute_result"
    }
   ],
   "source": [
    "song_df.shape"
   ]
  },
  {
   "cell_type": "code",
   "execution_count": 12,
   "metadata": {},
   "outputs": [
    {
     "name": "stdout",
     "output_type": "stream",
     "text": [
      "Building model...\n",
      "Fitting model...\n"
     ]
    },
    {
     "name": "stderr",
     "output_type": "stream",
     "text": [
      "\n",
      "  0%|          | 0/2 [00:00<?, ?it/s]\u001b[A\n",
      " 25%|██▌       | 0.5/2 [00:00<00:02,  1.37s/it]\u001b[A\n",
      " 50%|█████     | 1.0/2 [00:01<00:01,  1.53s/it]\u001b[A\n",
      " 50%|█████     | 1.0/2 [00:01<00:01,  1.53s/it, loss=0.000146]\u001b[A\n",
      " 75%|███████▌  | 1.5/2 [00:02<00:00,  1.67s/it, loss=0.000146]\u001b[A\n",
      "100%|██████████| 2.0/2 [00:03<00:00,  1.79s/it, loss=0.000146]\u001b[A\n",
      "100%|██████████| 2.0/2 [00:03<00:00,  1.79s/it, loss=0.00014] \u001b[A\n",
      "\u001b[A"
     ]
    },
    {
     "name": "stdout",
     "output_type": "stream",
     "text": [
      "[(88905, 0.69), (47158, 0.2676571), (146882, 0.40411413), (146882, 0.69), (78979, 0.27775383)]\n"
     ]
    }
   ],
   "source": [
    "from implicit.als import AlternatingLeastSquares\n",
    "import os\n",
    "os.environ['MKL_NUM_THREADS'] = '1'\n",
    "from scipy.spatial import KDTree\n",
    "import numpy as np\n",
    "from collections import Counter\n",
    "import utilities\n",
    "import time\n",
    "from random import shuffle\n",
    "\n",
    "def get_baseline_cf_model():\n",
    "    als_params = {\n",
    "        'factors': 16,\n",
    "        'dtype': np.float32,\n",
    "        'iterations': 2,\n",
    "        'calculate_training_loss': True\n",
    "    }\n",
    "    cf_model = AlternatingLeastSquares(**als_params)\n",
    "    return cf_model\n",
    "\n",
    "def weight_cf_matrix(csr_mat, alpha):\n",
    "    #don't want to modify original incase it gets put into other models\n",
    "    weighted_csr_mat = csr_mat.copy()\n",
    "    weighted_csr_mat.data = 1 + np.log(alpha * csr_mat.data)\n",
    "    return weighted_csr_mat\n",
    "    \n",
    "class ALSpkNN():\n",
    "    '''\n",
    "    knn_frac = % of KNN recommendations\n",
    "    k = # of neighbours for KNN\n",
    "    '''\n",
    "    def __init__(self, user_df, song_df, k=100, knn_frac=0.5, cf_weighting_alpha=1):        \n",
    "        self.user_df = user_df\n",
    "        self.song_df = song_df\n",
    "        self.cf_weighting_alpha = cf_weighting_alpha\n",
    "        self.knn_frac = knn_frac\n",
    "        self.k = k\n",
    "        self.kdtree = KDTree(user_df['MUSIC'].tolist())\n",
    "        \n",
    "        #build the collaborative filtering model with params hardcoded\n",
    "        als_params = {\n",
    "            'factors': 16,\n",
    "            'dtype': np.float32,\n",
    "            'iterations': 2,\n",
    "            'calculate_training_loss': True\n",
    "        }\n",
    "        self.cf_model = AlternatingLeastSquares(**als_params)\n",
    "\n",
    "    def fit(self, train_csr):\n",
    "        #don't want to modify original incase it gets put into other models\n",
    "        weighted_train_csr = weight_cf_matrix(train_csr, self.cf_weighting_alpha)\n",
    "        self.cf_model.fit(weighted_train_csr)\n",
    "\n",
    "    # Returns list of song_ids\n",
    "    def get_knn_top_m_song_ids(self, user_id, m):\n",
    "        user_MUSIC = self.user_df.loc[self.user_df['user_id'] == user_id]['MUSIC'].values[0]\n",
    "        distances, indices = self.kdtree.query(user_MUSIC, self.k, p=1)\n",
    "        # TODO: maybe sort closest_user_ids by distance if they are not already sorted?\n",
    "        \n",
    "        closest_user_ids = self.user_df.iloc[indices]['user_id'].to_list()\n",
    "        \n",
    "        # closest_user_songs -> list of lists of song_ids, len(closest_user_songs) == k\n",
    "        closest_user_songs = self.user_df.loc[self.user_df['user_id'].isin(closest_user_ids)]['song_ids'].values\n",
    "        \n",
    "        # closest_user_songs_flat -> list of song_ids\n",
    "        closest_user_songs_flat = itertools.chain.from_iterable(closest_user_songs)\n",
    "        \n",
    "        top_m_songs = [i[0] for i in Counter(closest_user_songs_flat).most_common(m)]\n",
    "        return top_m_songs\n",
    "\n",
    "    # Returns [(song_sparse_index, confidence)]\n",
    "    def recommend(self, user_sparse_index, train_plays, N):\n",
    "        # m -> number of songs from KNN recs\n",
    "        m = int(np.round(self.knn_frac*N))\n",
    "        # n -> number of songs from CF recs\n",
    "        n = N - m\n",
    "        \n",
    "        n_songs = self.cf_model.recommend(userid=user_sparse_index, user_items=train_plays.transpose(), N=n)\n",
    "        \n",
    "        user_id = self.user_df.loc[user_sparse_index]['user_id']\n",
    "        m_song_ids = self.get_knn_top_m_song_ids(user_id=user_id, m=m)\n",
    "        m_songs = self.song_df.loc[m_song_ids]['sparse_index'].tolist()\n",
    "\n",
    "        #I don't think score/confidence is used in MAP@k function, so it doesn't matter what value is filled\n",
    "        hopefully_unimportant_val = 0.69\n",
    "\n",
    "        m_songs = [(song, hopefully_unimportant_val) for song in m_songs]\n",
    "        rec_list = utilities.concat_shuffle(n_songs, m_songs)\n",
    "        return rec_list[:N]\n",
    "    \n",
    "#things that can be optimized:\n",
    "# - The alpha value for confidence of the matrix factorization algorithm\n",
    "# - The number of iterations in the als algorithm\n",
    "# - the joining of n and m in the recommendation algirhtm\n",
    "print(\"Building model...\")\n",
    "model = ALSpkNN(user_df, song_df, k=100, knn_frac=0.5, cf_weighting_alpha=1)\n",
    "print(\"Fitting model...\")\n",
    "model.fit(train_plays)\n",
    "recs = model.recommend(user_sparse_index=21, train_plays=train_plays, N=5)\n",
    "print(recs)"
   ]
  },
  {
   "cell_type": "code",
   "execution_count": null,
   "metadata": {},
   "outputs": [
    {
     "name": "stdout",
     "output_type": "stream",
     "text": [
      "Evaluating ALSpKNN\n"
     ]
    }
   ],
   "source": [
    "print(\"Evaluating ALSpKNN\")\n",
    "start = time.time()\n",
    "MAPk = mean_average_precision_at_k(\n",
    "    model,\n",
    "    train_plays.transpose(),\n",
    "    test_plays.transpose(),\n",
    "    K=5,\n",
    "    show_progress=False,\n",
    "    num_threads=0)\n",
    "\n",
    "print(\"MAPK for ALSpKNN is: \" + str(MAPk))\n",
    "print(f'Calculation took {time.time() - start}s')"
   ]
  },
  {
   "cell_type": "code",
   "execution_count": 15,
   "metadata": {},
   "outputs": [
    {
     "name": "stdout",
     "output_type": "stream",
     "text": [
      "Building and fitting the baseline CF model\n"
     ]
    },
    {
     "name": "stderr",
     "output_type": "stream",
     "text": [
      "\n",
      "\n",
      "  0%|          | 0/2 [00:00<?, ?it/s]\u001b[A\u001b[A\n",
      "\n",
      " 25%|██▌       | 0.5/2 [00:00<00:02,  1.41s/it]\u001b[A\u001b[A\n",
      "\n",
      " 50%|█████     | 1.0/2 [00:01<00:01,  1.58s/it]\u001b[A\u001b[A\n",
      "\n",
      " 50%|█████     | 1.0/2 [00:01<00:01,  1.58s/it, loss=0.000146]\u001b[A\u001b[A\n",
      "\n",
      " 75%|███████▌  | 1.5/2 [00:02<00:00,  1.72s/it, loss=0.000146]\u001b[A\u001b[A\n",
      "\n",
      "100%|██████████| 2.0/2 [00:03<00:00,  1.89s/it, loss=0.000146]\u001b[A\u001b[A\n",
      "\n",
      "100%|██████████| 2.0/2 [00:04<00:00,  1.89s/it, loss=0.000139]\u001b[A\u001b[A\n",
      "\n",
      "\u001b[A\u001b[A"
     ]
    },
    {
     "name": "stdout",
     "output_type": "stream",
     "text": [
      "Evaluating the baseline CF model\n",
      "MAPK for baseline CF is: 0.02496744369967655\n",
      "Calculation took 93.62211418151855s\n"
     ]
    }
   ],
   "source": [
    "print(\"Building and fitting the baseline CF model\")\n",
    "baseline_cf_model = get_baseline_cf_model()\n",
    "weighted_train_csr = weight_cf_matrix(train_plays, alpha=1)\n",
    "baseline_cf_model.fit(weighted_train_csr)\n",
    "\n",
    "print(\"Evaluating the baseline CF model\")\n",
    "start = time.time()\n",
    "\n",
    "# setting num_threads = 0 yields a 3x speedup on Nolan's MBP\n",
    "MAPk = mean_average_precision_at_k(\n",
    "    model=baseline_cf_model,\n",
    "    train_user_items=train_plays.transpose(),\n",
    "    test_user_items=test_plays.transpose(),\n",
    "    K=5,\n",
    "    show_progress=False,\n",
    "    num_threads=0)\n",
    "\n",
    "print(\"MAPK for baseline CF is: \" + str(MAPk))\n",
    "print(f'Calculation took {time.time() - start}s')\n",
    "\n",
    "# MAPK for baseline CF is: 0.02496744369967655\n",
    "# Calculation took 93.62211418151855s"
   ]
  },
  {
   "cell_type": "markdown",
   "metadata": {},
   "source": [
    "# Test Code"
   ]
  },
  {
   "cell_type": "code",
   "execution_count": 39,
   "metadata": {},
   "outputs": [
    {
     "name": "stdout",
     "output_type": "stream",
     "text": [
      "4\n",
      "<class 'int'>\n"
     ]
    }
   ],
   "source": [
    "knn_frac = 0.5\n",
    "N = 7\n",
    "m = int(np.round(knn_frac*N))\n",
    "n = N - m\n",
    "print(m)\n",
    "print(type(n))"
   ]
  },
  {
   "cell_type": "code",
   "execution_count": 43,
   "metadata": {},
   "outputs": [
    {
     "data": {
      "text/plain": [
       "[4.229812033333332,\n",
       " 1.4042373883333334,\n",
       " 3.718447513333333,\n",
       " -6.4863809183333325,\n",
       " 2.166463065]"
      ]
     },
     "execution_count": 43,
     "metadata": {},
     "output_type": "execute_result"
    }
   ],
   "source": [
    "user_df.loc[user_df['user_id'] == '00000b722001882066dff9d2da8a775658053ea0']['MUSIC'].values[0]"
   ]
  },
  {
   "cell_type": "code",
   "execution_count": 46,
   "metadata": {},
   "outputs": [
    {
     "data": {
      "text/html": [
       "<div>\n",
       "<style scoped>\n",
       "    .dataframe tbody tr th:only-of-type {\n",
       "        vertical-align: middle;\n",
       "    }\n",
       "\n",
       "    .dataframe tbody tr th {\n",
       "        vertical-align: top;\n",
       "    }\n",
       "\n",
       "    .dataframe thead th {\n",
       "        text-align: right;\n",
       "    }\n",
       "</style>\n",
       "<table border=\"1\" class=\"dataframe\">\n",
       "  <thead>\n",
       "    <tr style=\"text-align: right;\">\n",
       "      <th></th>\n",
       "      <th>MUSIC</th>\n",
       "      <th>is_test</th>\n",
       "      <th>num_songs</th>\n",
       "      <th>song_ids</th>\n",
       "      <th>user_id</th>\n",
       "    </tr>\n",
       "  </thead>\n",
       "  <tbody>\n",
       "    <tr>\n",
       "      <th>0</th>\n",
       "      <td>[4.229812033333332, 1.4042373883333334, 3.7184...</td>\n",
       "      <td>False</td>\n",
       "      <td>3</td>\n",
       "      <td>[SOBSSGK12A6D4F9EF1, SOCZQCY12AC468E40F, SOCTX...</td>\n",
       "      <td>00000b722001882066dff9d2da8a775658053ea0</td>\n",
       "    </tr>\n",
       "    <tr>\n",
       "      <th>1</th>\n",
       "      <td>[4.910766939999999, 1.6201183160000001, 4.2151...</td>\n",
       "      <td>False</td>\n",
       "      <td>6</td>\n",
       "      <td>[SOFXSRW12A6D4F3B77, SOFFWTH12A6310D9E8, SOLOD...</td>\n",
       "      <td>00001638d6189236866af9bbf309ae6c2347ffdc</td>\n",
       "    </tr>\n",
       "    <tr>\n",
       "      <th>2</th>\n",
       "      <td>[3.9929606913333338, 1.3756423253666668, 3.569...</td>\n",
       "      <td>False</td>\n",
       "      <td>6</td>\n",
       "      <td>[SOBYRTY12AB0181EDB, SOYWZXA12A8C138274, SOYFP...</td>\n",
       "      <td>0000175652312d12576d9e6b84f600caa24c4715</td>\n",
       "    </tr>\n",
       "    <tr>\n",
       "      <th>3</th>\n",
       "      <td>[4.160212249999999, 1.38550505, 3.48416005, -6...</td>\n",
       "      <td>False</td>\n",
       "      <td>3</td>\n",
       "      <td>[SOBDRND12A8C13FD08, SODRFRJ12A8C144167, SOMMJ...</td>\n",
       "      <td>00001cf0dce3fb22b0df0f3a1d9cd21e38385372</td>\n",
       "    </tr>\n",
       "    <tr>\n",
       "      <th>4</th>\n",
       "      <td>[5.020851199999999, 1.2992664299999999, 4.2901...</td>\n",
       "      <td>False</td>\n",
       "      <td>9</td>\n",
       "      <td>[SOBMSCQ12AAF3B51B7, SOJERWB12A8C13E654, SOMCH...</td>\n",
       "      <td>0000267bde1b3a70ea75cf2b2d216cb828e3202b</td>\n",
       "    </tr>\n",
       "  </tbody>\n",
       "</table>\n",
       "</div>"
      ],
      "text/plain": [
       "                                               MUSIC  is_test  num_songs  \\\n",
       "0  [4.229812033333332, 1.4042373883333334, 3.7184...    False          3   \n",
       "1  [4.910766939999999, 1.6201183160000001, 4.2151...    False          6   \n",
       "2  [3.9929606913333338, 1.3756423253666668, 3.569...    False          6   \n",
       "3  [4.160212249999999, 1.38550505, 3.48416005, -6...    False          3   \n",
       "4  [5.020851199999999, 1.2992664299999999, 4.2901...    False          9   \n",
       "\n",
       "                                            song_ids  \\\n",
       "0  [SOBSSGK12A6D4F9EF1, SOCZQCY12AC468E40F, SOCTX...   \n",
       "1  [SOFXSRW12A6D4F3B77, SOFFWTH12A6310D9E8, SOLOD...   \n",
       "2  [SOBYRTY12AB0181EDB, SOYWZXA12A8C138274, SOYFP...   \n",
       "3  [SOBDRND12A8C13FD08, SODRFRJ12A8C144167, SOMMJ...   \n",
       "4  [SOBMSCQ12AAF3B51B7, SOJERWB12A8C13E654, SOMCH...   \n",
       "\n",
       "                                    user_id  \n",
       "0  00000b722001882066dff9d2da8a775658053ea0  \n",
       "1  00001638d6189236866af9bbf309ae6c2347ffdc  \n",
       "2  0000175652312d12576d9e6b84f600caa24c4715  \n",
       "3  00001cf0dce3fb22b0df0f3a1d9cd21e38385372  \n",
       "4  0000267bde1b3a70ea75cf2b2d216cb828e3202b  "
      ]
     },
     "execution_count": 46,
     "metadata": {},
     "output_type": "execute_result"
    }
   ],
   "source": [
    "user_df.head()"
   ]
  },
  {
   "cell_type": "code",
   "execution_count": 61,
   "metadata": {},
   "outputs": [
    {
     "data": {
      "text/plain": [
       "0    00000b722001882066dff9d2da8a775658053ea0\n",
       "1    00001638d6189236866af9bbf309ae6c2347ffdc\n",
       "2    0000175652312d12576d9e6b84f600caa24c4715\n",
       "Name: user_id, dtype: object"
      ]
     },
     "execution_count": 61,
     "metadata": {},
     "output_type": "execute_result"
    }
   ],
   "source": [
    "user_df.iloc[[0,1,2]]['user_id']"
   ]
  },
  {
   "cell_type": "code",
   "execution_count": null,
   "metadata": {
    "collapsed": true
   },
   "outputs": [],
   "source": []
  },
  {
   "cell_type": "code",
   "execution_count": 51,
   "metadata": {},
   "outputs": [
    {
     "data": {
      "text/plain": [
       "array([list(['SOBSSGK12A6D4F9EF1', 'SOCZQCY12AC468E40F', 'SOCTXQW12A6D4F70AD']),\n",
       "       list(['SOFXSRW12A6D4F3B77', 'SOFFWTH12A6310D9E8', 'SOLODPO12AB017F217', 'SOBFEDK12A8C13BB25', 'SOAORYL12A67AD8187', 'SOEKYTM12A8C13CBF4'])],\n",
       "      dtype=object)"
      ]
     },
     "execution_count": 51,
     "metadata": {},
     "output_type": "execute_result"
    }
   ],
   "source": [
    "sample_user_ids = ['00000b722001882066dff9d2da8a775658053ea0', '00001638d6189236866af9bbf309ae6c2347ffdc']\n",
    "user_df.loc[user_df['user_id'].isin(sample_user_ids)]['song_ids'].values"
   ]
  },
  {
   "cell_type": "code",
   "execution_count": 56,
   "metadata": {},
   "outputs": [
    {
     "data": {
      "text/plain": [
       "[(1, 2), (3, 2)]"
      ]
     },
     "execution_count": 56,
     "metadata": {},
     "output_type": "execute_result"
    }
   ],
   "source": [
    "# a = [1,1,2,3,3,4]\n",
    "a = [[1,1],[2,3,3,4]]\n",
    "Counter(itertools.chain.from_iterable(a)).most_common(2)"
   ]
  },
  {
   "cell_type": "code",
   "execution_count": 83,
   "metadata": {},
   "outputs": [
    {
     "data": {
      "text/html": [
       "<div>\n",
       "<style scoped>\n",
       "    .dataframe tbody tr th:only-of-type {\n",
       "        vertical-align: middle;\n",
       "    }\n",
       "\n",
       "    .dataframe tbody tr th {\n",
       "        vertical-align: top;\n",
       "    }\n",
       "\n",
       "    .dataframe thead th {\n",
       "        text-align: right;\n",
       "    }\n",
       "</style>\n",
       "<table border=\"1\" class=\"dataframe\">\n",
       "  <thead>\n",
       "    <tr style=\"text-align: right;\">\n",
       "      <th></th>\n",
       "      <th>user</th>\n",
       "    </tr>\n",
       "    <tr>\n",
       "      <th>sparse_index</th>\n",
       "      <th></th>\n",
       "    </tr>\n",
       "  </thead>\n",
       "  <tbody>\n",
       "    <tr>\n",
       "      <th>9</th>\n",
       "      <td>00007a02388c208ea7176479f6ae06f8224355b3</td>\n",
       "    </tr>\n",
       "    <tr>\n",
       "      <th>21</th>\n",
       "      <td>00014a76ed063e1a749171a253bca9d9a0ff1782</td>\n",
       "    </tr>\n",
       "    <tr>\n",
       "      <th>22</th>\n",
       "      <td>00015189668691680bb1a2e58afde1541ec92ced</td>\n",
       "    </tr>\n",
       "    <tr>\n",
       "      <th>29</th>\n",
       "      <td>0001ff7aa2667c8d8b945317b88adaed1c0b9dc2</td>\n",
       "    </tr>\n",
       "    <tr>\n",
       "      <th>31</th>\n",
       "      <td>00020fcd8b01986a6a85b896ccde6c49f35142ad</td>\n",
       "    </tr>\n",
       "  </tbody>\n",
       "</table>\n",
       "</div>"
      ],
      "text/plain": [
       "                                                  user\n",
       "sparse_index                                          \n",
       "9             00007a02388c208ea7176479f6ae06f8224355b3\n",
       "21            00014a76ed063e1a749171a253bca9d9a0ff1782\n",
       "22            00015189668691680bb1a2e58afde1541ec92ced\n",
       "29            0001ff7aa2667c8d8b945317b88adaed1c0b9dc2\n",
       "31            00020fcd8b01986a6a85b896ccde6c49f35142ad"
      ]
     },
     "execution_count": 83,
     "metadata": {},
     "output_type": "execute_result"
    }
   ],
   "source": [
    "lol = users_mapping\n",
    "lol.set_index('sparse_index', inplace=True)\n",
    "lol.index.name = 'sparse_index'\n",
    "lol.head()"
   ]
  },
  {
   "cell_type": "code",
   "execution_count": 86,
   "metadata": {},
   "outputs": [
    {
     "data": {
      "text/plain": [
       "'00014a76ed063e1a749171a253bca9d9a0ff1782'"
      ]
     },
     "execution_count": 86,
     "metadata": {},
     "output_type": "execute_result"
    }
   ],
   "source": [
    "lol.loc[21]['user']"
   ]
  },
  {
   "cell_type": "code",
   "execution_count": 82,
   "metadata": {},
   "outputs": [
    {
     "data": {
      "text/html": [
       "<div>\n",
       "<style scoped>\n",
       "    .dataframe tbody tr th:only-of-type {\n",
       "        vertical-align: middle;\n",
       "    }\n",
       "\n",
       "    .dataframe tbody tr th {\n",
       "        vertical-align: top;\n",
       "    }\n",
       "\n",
       "    .dataframe thead th {\n",
       "        text-align: right;\n",
       "    }\n",
       "</style>\n",
       "<table border=\"1\" class=\"dataframe\">\n",
       "  <thead>\n",
       "    <tr style=\"text-align: right;\">\n",
       "      <th></th>\n",
       "      <th>sparse_index</th>\n",
       "    </tr>\n",
       "    <tr>\n",
       "      <th>track</th>\n",
       "      <th></th>\n",
       "    </tr>\n",
       "  </thead>\n",
       "  <tbody>\n",
       "    <tr>\n",
       "      <th>SOOFKYO12AF72A2640</th>\n",
       "      <td>221367</td>\n",
       "    </tr>\n",
       "    <tr>\n",
       "      <th>SOIHOIQ12A8C138593</th>\n",
       "      <td>132143</td>\n",
       "    </tr>\n",
       "    <tr>\n",
       "      <th>SOYIZSN12A6701E0BB</th>\n",
       "      <td>363912</td>\n",
       "    </tr>\n",
       "    <tr>\n",
       "      <th>SODYZAD12A58A7A525</th>\n",
       "      <td>63740</td>\n",
       "    </tr>\n",
       "    <tr>\n",
       "      <th>SOXLWPN12A8C143667</th>\n",
       "      <td>351788</td>\n",
       "    </tr>\n",
       "  </tbody>\n",
       "</table>\n",
       "</div>"
      ],
      "text/plain": [
       "                   sparse_index\n",
       "track                          \n",
       "SOOFKYO12AF72A2640       221367\n",
       "SOIHOIQ12A8C138593       132143\n",
       "SOYIZSN12A6701E0BB       363912\n",
       "SODYZAD12A58A7A525        63740\n",
       "SOXLWPN12A8C143667       351788"
      ]
     },
     "execution_count": 82,
     "metadata": {},
     "output_type": "execute_result"
    }
   ],
   "source": [
    "yolo = songs_mapping\n",
    "# yolo.head()\n",
    "yolo.set_index('track', inplace=True)\n",
    "yolo.head()"
   ]
  },
  {
   "cell_type": "code",
   "execution_count": 99,
   "metadata": {},
   "outputs": [
    {
     "data": {
      "text/plain": [
       "array([221367, 132143], dtype=object)"
      ]
     },
     "execution_count": 99,
     "metadata": {},
     "output_type": "execute_result"
    }
   ],
   "source": [
    "yolo.loc[['SOOFKYO12AF72A2640', 'SOIHOIQ12A8C138593']]['sparse_index'].values"
   ]
  },
  {
   "cell_type": "code",
   "execution_count": null,
   "metadata": {
    "collapsed": true
   },
   "outputs": [],
   "source": []
  }
 ],
 "metadata": {
  "kernelspec": {
   "display_name": "Python 3",
   "language": "python",
   "name": "python3"
  },
  "language_info": {
   "codemirror_mode": {
    "name": "ipython",
    "version": 3
   },
   "file_extension": ".py",
   "mimetype": "text/x-python",
   "name": "python",
   "nbconvert_exporter": "python",
   "pygments_lexer": "ipython3",
   "version": "3.6.4"
  }
 },
 "nbformat": 4,
 "nbformat_minor": 2
}
