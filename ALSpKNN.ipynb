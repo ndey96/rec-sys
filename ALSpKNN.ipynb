{
 "cells": [
  {
   "cell_type": "code",
   "execution_count": 1,
   "metadata": {
    "collapsed": true
   },
   "outputs": [],
   "source": [
    "import pandas as pd\n",
    "import numpy as np\n",
    "from scipy.sparse import load_npz\n",
    "from scipy.sparse import csr_matrix\n",
    "from implicit.als import AlternatingLeastSquares\n",
    "import itertools\n",
    "# import ALSpkNN\n",
    "import time\n",
    "# from implicit.evaluation import mean_average_precision_at_k"
   ]
  },
  {
   "cell_type": "code",
   "execution_count": 2,
   "metadata": {
    "collapsed": true
   },
   "outputs": [],
   "source": [
    "user_df = pd.read_hdf('data/user_df.h5', key='df')[['user_id', 'sparse_index', 'MUSIC', 'song_ids']]\n",
    "user_df.set_index('sparse_index', inplace=True)\n",
    "\n",
    "song_df = pd.read_hdf('data/song_df.h5', key='df')[['song_id', 'sparse_index']]\n",
    "song_df.set_index('song_id', inplace=True)\n",
    "\n",
    "# train_plays, test_plays -> num_songs x num_users CSR matrix\n",
    "train_plays = load_npz('data/train_sparse.npz')\n",
    "test_plays = load_npz('data/test_sparse.npz')\n",
    "\n",
    "# # songs -> CSR_row_index: song_id\n",
    "# songs_mapping = pd.read_hdf('data/song_mapping.h5', key='df')\n",
    "# songs_mapping.set_index('song_id', inplace=True)\n",
    "\n",
    "# # users -> CSR_col_index: user_id\n",
    "# users_mapping = pd.read_hdf('data/user_mapping.h5', key='df')\n",
    "# users_mapping.set_index('sparse_index', inplace=True)"
   ]
  },
  {
   "cell_type": "code",
   "execution_count": 26,
   "metadata": {},
   "outputs": [
    {
     "data": {
      "text/plain": [
       "458392"
      ]
     },
     "execution_count": 26,
     "metadata": {},
     "output_type": "execute_result"
    }
   ],
   "source": [
    "test_plays.nnz"
   ]
  },
  {
   "cell_type": "code",
   "execution_count": 35,
   "metadata": {},
   "outputs": [
    {
     "name": "stdout",
     "output_type": "stream",
     "text": [
      "len rows: 458392\n",
      "len col: 458392\n"
     ]
    }
   ],
   "source": [
    "coo = test_plays.tocoo()\n",
    "print(f'len rows: {len(coo.row)}')\n",
    "print(f'len col: {len(coo.col)}')"
   ]
  },
  {
   "cell_type": "code",
   "execution_count": 3,
   "metadata": {
    "scrolled": true
   },
   "outputs": [
    {
     "data": {
      "text/html": [
       "<div>\n",
       "<style scoped>\n",
       "    .dataframe tbody tr th:only-of-type {\n",
       "        vertical-align: middle;\n",
       "    }\n",
       "\n",
       "    .dataframe tbody tr th {\n",
       "        vertical-align: top;\n",
       "    }\n",
       "\n",
       "    .dataframe thead th {\n",
       "        text-align: right;\n",
       "    }\n",
       "</style>\n",
       "<table border=\"1\" class=\"dataframe\">\n",
       "  <thead>\n",
       "    <tr style=\"text-align: right;\">\n",
       "      <th></th>\n",
       "      <th>user_id</th>\n",
       "      <th>MUSIC</th>\n",
       "      <th>song_ids</th>\n",
       "    </tr>\n",
       "    <tr>\n",
       "      <th>sparse_index</th>\n",
       "      <th></th>\n",
       "      <th></th>\n",
       "      <th></th>\n",
       "    </tr>\n",
       "  </thead>\n",
       "  <tbody>\n",
       "    <tr>\n",
       "      <th>0</th>\n",
       "      <td>00000b722001882066dff9d2da8a775658053ea0</td>\n",
       "      <td>[4.229812033333332, 1.4042373883333334, 3.7184...</td>\n",
       "      <td>[SOBSSGK12A6D4F9EF1, SOCZQCY12AC468E40F, SOCTX...</td>\n",
       "    </tr>\n",
       "    <tr>\n",
       "      <th>1</th>\n",
       "      <td>00001638d6189236866af9bbf309ae6c2347ffdc</td>\n",
       "      <td>[4.910766939999999, 1.6201183160000001, 4.2151...</td>\n",
       "      <td>[SOFXSRW12A6D4F3B77, SOFFWTH12A6310D9E8, SOLOD...</td>\n",
       "    </tr>\n",
       "    <tr>\n",
       "      <th>2</th>\n",
       "      <td>0000175652312d12576d9e6b84f600caa24c4715</td>\n",
       "      <td>[3.9929606913333338, 1.3756423253666668, 3.569...</td>\n",
       "      <td>[SOBYRTY12AB0181EDB, SOYWZXA12A8C138274, SOYFP...</td>\n",
       "    </tr>\n",
       "    <tr>\n",
       "      <th>3</th>\n",
       "      <td>00001cf0dce3fb22b0df0f3a1d9cd21e38385372</td>\n",
       "      <td>[4.160212249999999, 1.38550505, 3.48416005, -6...</td>\n",
       "      <td>[SOBDRND12A8C13FD08, SODRFRJ12A8C144167, SOMMJ...</td>\n",
       "    </tr>\n",
       "    <tr>\n",
       "      <th>4</th>\n",
       "      <td>0000267bde1b3a70ea75cf2b2d216cb828e3202b</td>\n",
       "      <td>[5.020851199999999, 1.2992664299999999, 4.2901...</td>\n",
       "      <td>[SOBMSCQ12AAF3B51B7, SOJERWB12A8C13E654, SOMCH...</td>\n",
       "    </tr>\n",
       "  </tbody>\n",
       "</table>\n",
       "</div>"
      ],
      "text/plain": [
       "                                               user_id  \\\n",
       "sparse_index                                             \n",
       "0             00000b722001882066dff9d2da8a775658053ea0   \n",
       "1             00001638d6189236866af9bbf309ae6c2347ffdc   \n",
       "2             0000175652312d12576d9e6b84f600caa24c4715   \n",
       "3             00001cf0dce3fb22b0df0f3a1d9cd21e38385372   \n",
       "4             0000267bde1b3a70ea75cf2b2d216cb828e3202b   \n",
       "\n",
       "                                                          MUSIC  \\\n",
       "sparse_index                                                      \n",
       "0             [4.229812033333332, 1.4042373883333334, 3.7184...   \n",
       "1             [4.910766939999999, 1.6201183160000001, 4.2151...   \n",
       "2             [3.9929606913333338, 1.3756423253666668, 3.569...   \n",
       "3             [4.160212249999999, 1.38550505, 3.48416005, -6...   \n",
       "4             [5.020851199999999, 1.2992664299999999, 4.2901...   \n",
       "\n",
       "                                                       song_ids  \n",
       "sparse_index                                                     \n",
       "0             [SOBSSGK12A6D4F9EF1, SOCZQCY12AC468E40F, SOCTX...  \n",
       "1             [SOFXSRW12A6D4F3B77, SOFFWTH12A6310D9E8, SOLOD...  \n",
       "2             [SOBYRTY12AB0181EDB, SOYWZXA12A8C138274, SOYFP...  \n",
       "3             [SOBDRND12A8C13FD08, SODRFRJ12A8C144167, SOMMJ...  \n",
       "4             [SOBMSCQ12AAF3B51B7, SOJERWB12A8C13E654, SOMCH...  "
      ]
     },
     "execution_count": 3,
     "metadata": {},
     "output_type": "execute_result"
    }
   ],
   "source": [
    "user_df.head()"
   ]
  },
  {
   "cell_type": "code",
   "execution_count": 4,
   "metadata": {},
   "outputs": [
    {
     "data": {
      "text/html": [
       "<div>\n",
       "<style scoped>\n",
       "    .dataframe tbody tr th:only-of-type {\n",
       "        vertical-align: middle;\n",
       "    }\n",
       "\n",
       "    .dataframe tbody tr th {\n",
       "        vertical-align: top;\n",
       "    }\n",
       "\n",
       "    .dataframe thead th {\n",
       "        text-align: right;\n",
       "    }\n",
       "</style>\n",
       "<table border=\"1\" class=\"dataframe\">\n",
       "  <thead>\n",
       "    <tr style=\"text-align: right;\">\n",
       "      <th></th>\n",
       "      <th>sparse_index</th>\n",
       "    </tr>\n",
       "    <tr>\n",
       "      <th>song_id</th>\n",
       "      <th></th>\n",
       "    </tr>\n",
       "  </thead>\n",
       "  <tbody>\n",
       "    <tr>\n",
       "      <th>SOAKIMP12A8C130995</th>\n",
       "      <td>4785</td>\n",
       "    </tr>\n",
       "    <tr>\n",
       "      <th>SOAPDEY12A81C210A9</th>\n",
       "      <td>7052</td>\n",
       "    </tr>\n",
       "    <tr>\n",
       "      <th>SOBFOVM12A58A7D494</th>\n",
       "      <td>14453</td>\n",
       "    </tr>\n",
       "    <tr>\n",
       "      <th>SOBSUJE12A6D4F8CF5</th>\n",
       "      <td>20354</td>\n",
       "    </tr>\n",
       "    <tr>\n",
       "      <th>SOBVFZR12A6D4F8AE3</th>\n",
       "      <td>21408</td>\n",
       "    </tr>\n",
       "  </tbody>\n",
       "</table>\n",
       "</div>"
      ],
      "text/plain": [
       "                   sparse_index\n",
       "song_id                        \n",
       "SOAKIMP12A8C130995         4785\n",
       "SOAPDEY12A81C210A9         7052\n",
       "SOBFOVM12A58A7D494        14453\n",
       "SOBSUJE12A6D4F8CF5        20354\n",
       "SOBVFZR12A6D4F8AE3        21408"
      ]
     },
     "execution_count": 4,
     "metadata": {},
     "output_type": "execute_result"
    }
   ],
   "source": [
    "song_df.head()"
   ]
  },
  {
   "cell_type": "code",
   "execution_count": 5,
   "metadata": {},
   "outputs": [
    {
     "data": {
      "text/plain": [
       "(1107613, 3)"
      ]
     },
     "execution_count": 5,
     "metadata": {},
     "output_type": "execute_result"
    }
   ],
   "source": [
    "user_df.shape"
   ]
  },
  {
   "cell_type": "code",
   "execution_count": 6,
   "metadata": {},
   "outputs": [
    {
     "data": {
      "text/plain": [
       "(168503, 1)"
      ]
     },
     "execution_count": 6,
     "metadata": {},
     "output_type": "execute_result"
    }
   ],
   "source": [
    "song_df.shape"
   ]
  },
  {
   "cell_type": "code",
   "execution_count": 7,
   "metadata": {},
   "outputs": [
    {
     "data": {
      "text/plain": [
       "(168493, 1107613)"
      ]
     },
     "execution_count": 7,
     "metadata": {},
     "output_type": "execute_result"
    }
   ],
   "source": [
    "test_plays.shape"
   ]
  },
  {
   "cell_type": "code",
   "execution_count": 8,
   "metadata": {},
   "outputs": [
    {
     "data": {
      "text/plain": [
       "458392"
      ]
     },
     "execution_count": 8,
     "metadata": {},
     "output_type": "execute_result"
    }
   ],
   "source": [
    "len(test_plays.indices)"
   ]
  },
  {
   "cell_type": "code",
   "execution_count": 9,
   "metadata": {},
   "outputs": [
    {
     "data": {
      "text/plain": [
       "array([  49143,  787772,  109151,   66449,   83772,  111555,  198281,\n",
       "        287061,  376151,  384957,  398788,  408648,  416998,  434386,\n",
       "        586799,  622743,  698878,  726211,  769562,  810818,  863604,\n",
       "        896862,  965170, 1086690,  758223,  875592,  926358, 1000342,\n",
       "       1076076,  605153,  563467,   13436,  108695,  538736,  877772,\n",
       "        952790,  327273,  869363,    8502,  416624,   48417,  849814,\n",
       "        260213,  676714,  850119,  887777, 1063869,  212451,  900438,\n",
       "         28039,   83610,  140538,  199479,  216648,  218345,  236168,\n",
       "        257469,  278395,  285993,  348678,  355035,  359660,  363542,\n",
       "        369556,  384475,  396037,  399130,  400412,  424980,  464854,\n",
       "        466695,  473425,  527962,  541112,  555926,  621073,  624586,\n",
       "        669853,  711671,  739013,  743164,  755922,  801258,  808653,\n",
       "        840179,  840866,  847948,  855896,  879143,  942893,  969308,\n",
       "        986141, 1023296, 1024617, 1029356, 1046200, 1048407, 1053872,\n",
       "         12738,   18798], dtype=int32)"
      ]
     },
     "execution_count": 9,
     "metadata": {},
     "output_type": "execute_result"
    }
   ],
   "source": [
    "test_plays.indices[:100]"
   ]
  },
  {
   "cell_type": "code",
   "execution_count": 10,
   "metadata": {},
   "outputs": [
    {
     "data": {
      "text/plain": [
       "168494"
      ]
     },
     "execution_count": 10,
     "metadata": {},
     "output_type": "execute_result"
    }
   ],
   "source": [
    "len(test_plays.indptr)"
   ]
  },
  {
   "cell_type": "code",
   "execution_count": 11,
   "metadata": {},
   "outputs": [
    {
     "data": {
      "text/plain": [
       "array([  0,   0,   0,   0,   2,   2,   2,   3,   3,  24,  24,  24,  25,\n",
       "        25,  29,  29,  29,  29,  29,  30,  30,  31,  31,  31,  31,  31,\n",
       "        35,  36,  38,  38,  40,  40,  40,  42,  47,  49,  49,  49,  98,\n",
       "        98,  98, 125, 125, 125, 125, 125, 125, 125, 126, 127, 127, 128,\n",
       "       128, 128, 128, 128, 129, 130, 131, 136, 136, 136, 136, 136, 136,\n",
       "       136, 139, 144, 151, 151, 151, 151, 151, 152, 154, 156, 156, 156,\n",
       "       167, 169, 169, 170, 170, 171, 173, 173, 173, 173, 173, 173, 173,\n",
       "       228, 229, 230, 230, 230, 232, 233, 233, 233], dtype=int32)"
      ]
     },
     "execution_count": 11,
     "metadata": {},
     "output_type": "execute_result"
    }
   ],
   "source": [
    "test_plays.transpose().indptr[:100]"
   ]
  },
  {
   "cell_type": "code",
   "execution_count": 12,
   "metadata": {
    "collapsed": true
   },
   "outputs": [],
   "source": [
    "test_user_items = test_plays.transpose()"
   ]
  },
  {
   "cell_type": "code",
   "execution_count": 13,
   "metadata": {},
   "outputs": [
    {
     "data": {
      "text/plain": [
       "(1107613, 168493)"
      ]
     },
     "execution_count": 13,
     "metadata": {},
     "output_type": "execute_result"
    }
   ],
   "source": [
    "test_user_items.shape"
   ]
  },
  {
   "cell_type": "code",
   "execution_count": 14,
   "metadata": {},
   "outputs": [
    {
     "data": {
      "text/plain": [
       "array([  0,   0,   0,   0,   2,   2,   2,   3,   3,  24,  24,  24,  25,\n",
       "        25,  29,  29,  29,  29,  29,  30,  30,  31,  31,  31,  31,  31,\n",
       "        35,  36,  38,  38,  40,  40,  40,  42,  47,  49,  49,  49,  98,\n",
       "        98,  98, 125, 125, 125, 125, 125, 125, 125, 126, 127, 127, 128,\n",
       "       128, 128, 128, 128, 129, 130, 131, 136, 136, 136, 136, 136, 136,\n",
       "       136, 139, 144, 151, 151, 151, 151, 151, 152, 154, 156, 156, 156,\n",
       "       167, 169, 169, 170, 170, 171, 173, 173, 173, 173, 173, 173, 173,\n",
       "       228, 229, 230, 230, 230, 232, 233, 233, 233], dtype=int32)"
      ]
     },
     "execution_count": 14,
     "metadata": {},
     "output_type": "execute_result"
    }
   ],
   "source": [
    "test_user_items.indptr[:100]"
   ]
  },
  {
   "cell_type": "code",
   "execution_count": 15,
   "metadata": {},
   "outputs": [
    {
     "data": {
      "text/plain": [
       "{2}"
      ]
     },
     "execution_count": 15,
     "metadata": {},
     "output_type": "execute_result"
    }
   ],
   "source": [
    "{2,3} & {2,4}"
   ]
  },
  {
   "cell_type": "code",
   "execution_count": 16,
   "metadata": {},
   "outputs": [
    {
     "data": {
      "text/plain": [
       "[1]"
      ]
     },
     "execution_count": 16,
     "metadata": {},
     "output_type": "execute_result"
    }
   ],
   "source": [
    "[i for i in range(1,2)]"
   ]
  },
  {
   "cell_type": "code",
   "execution_count": 17,
   "metadata": {
    "scrolled": true
   },
   "outputs": [
    {
     "name": "stdout",
     "output_type": "stream",
     "text": [
      "[[0 0 0 0 0 0]\n",
      " [1 0 0 1 0 0]\n",
      " [0 0 2 0 0 1]\n",
      " [0 0 0 2 0 0]]\n",
      "  (1, 0)\t1\n",
      "  (1, 3)\t1\n",
      "  (2, 2)\t2\n",
      "  (2, 5)\t1\n",
      "  (3, 3)\t2\n",
      "shape: (4, 6)\n",
      "indices: [0 3 2 5 3]\n",
      "indptr: [0 0 2 4 5]\n",
      "  (0, 1)\t1\n",
      "  (3, 1)\t1\n",
      "  (2, 2)\t2\n",
      "  (5, 2)\t1\n",
      "  (3, 3)\t2\n",
      "shape: (6, 4)\n",
      "indices: [0 3 2 5 3]\n",
      "indptr: [0 0 2 4 5]\n"
     ]
    }
   ],
   "source": [
    "from numpy import array\n",
    "from scipy.sparse import csr_matrix\n",
    "A = array([[0, 0, 0, 0, 0, 0], [1, 0, 0, 1, 0, 0], [0, 0, 2, 0, 0, 1], [0, 0, 0, 2, 0, 0]])\n",
    "print(A)\n",
    "\n",
    "S = csr_matrix(A)\n",
    "print(S)\n",
    "print(f'shape: {S.shape}')\n",
    "print(f'indices: {S.indices}')\n",
    "print(f'indptr: {S.indptr}')\n",
    "\n",
    "S_T = S.transpose()\n",
    "print(S_T)\n",
    "print(f'shape: {S_T.shape}')\n",
    "print(f'indices: {S_T.indices}')\n",
    "print(f'indptr: {S_T.indptr}')\n"
   ]
  },
  {
   "cell_type": "code",
   "execution_count": 18,
   "metadata": {},
   "outputs": [
    {
     "name": "stdout",
     "output_type": "stream",
     "text": [
      "[[0 1 0 0]\n",
      " [0 0 0 0]\n",
      " [0 0 2 0]\n",
      " [0 1 0 2]\n",
      " [0 0 0 0]\n",
      " [0 0 1 0]]\n",
      "(6, 4)\n",
      "  (0, 1)\t1\n",
      "  (2, 2)\t2\n",
      "  (3, 1)\t1\n",
      "  (3, 3)\t2\n",
      "  (5, 2)\t1\n",
      "shape: (6, 4)\n",
      "indices: [1 2 1 3 2]\n",
      "indptr: [0 1 1 2 4 4 5]\n",
      "  (1, 0)\t1\n",
      "  (2, 2)\t2\n",
      "  (1, 3)\t1\n",
      "  (3, 3)\t2\n",
      "  (2, 5)\t1\n",
      "shape: (4, 6)\n",
      "indices: [1 2 1 3 2]\n",
      "indptr: [0 1 1 2 4 4 5]\n"
     ]
    }
   ],
   "source": [
    "from numpy import array\n",
    "from scipy.sparse import csr_matrix\n",
    "A = array([[0, 0, 0, 0, 0, 0], [1, 0, 0, 1, 0, 0], [0, 0, 2, 0, 0, 1], [0, 0, 0, 2, 0, 0]])\n",
    "print(A.T)\n",
    "print(A.T.shape)\n",
    "\n",
    "S = csr_matrix(A.T)\n",
    "print(S)\n",
    "print(f'shape: {S.shape}')\n",
    "print(f'indices: {S.indices}')\n",
    "print(f'indptr: {S.indptr}')\n",
    "\n",
    "S_T = S.transpose()\n",
    "print(S_T)\n",
    "print(f'shape: {S_T.shape}')\n",
    "print(f'indices: {S_T.indices}')\n",
    "print(f'indptr: {S_T.indptr}')"
   ]
  },
  {
   "cell_type": "code",
   "execution_count": 19,
   "metadata": {},
   "outputs": [
    {
     "name": "stderr",
     "output_type": "stream",
     "text": [
      "100%|██████████| 2.0/2 [00:04<00:00,  2.10s/it, loss=0.000249]\n",
      "100%|██████████| 1107613/1107613 [01:41<00:00, 10916.69it/s]"
     ]
    },
    {
     "name": "stdout",
     "output_type": "stream",
     "text": [
      "MAPK for baseline CF is: 0.01910300963831448\n",
      "Calculation took 103.18802404403687s\n"
     ]
    },
    {
     "name": "stderr",
     "output_type": "stream",
     "text": [
      "\n"
     ]
    }
   ],
   "source": [
    "from ALSpkNN import get_baseline_cf_model, weight_cf_matrix\n",
    "\n",
    "# print(\"Building and fitting the baseline CF model\")\n",
    "baseline_cf_model = get_baseline_cf_model()\n",
    "# weighted_train_csr = weight_cf_matrix(train_plays, alpha=1)\n",
    "baseline_cf_model.fit(train_plays)\n",
    "\n",
    "# print(\"Evaluating the baseline CF model\")\n",
    "start = time.time()\n",
    "\n",
    "# setting num_threads = 0 yields a 3x speedup on Nolan's MBP\n",
    "MAPk = mean_average_precision_at_k(\n",
    "    model=baseline_cf_model,\n",
    "    train_user_items=train_plays.transpose(),\n",
    "    test_user_items=test_plays.transpose(),\n",
    "    K=5,\n",
    "    show_progress=True,\n",
    "    num_threads=0)\n",
    "\n",
    "print(\"MAPK for baseline CF is: \" + str(MAPk))\n",
    "print(f'Calculation took {time.time() - start}s')\n",
    "\n",
    "# MAPK for baseline CF is: 0.021571399459982602\n",
    "# Calculation took 103.20778608322144s\n",
    "\n",
    "# MAPK for baseline CF is: 0.02496744369967655\n",
    "# Calculation took 93.62211418151855s\n",
    "\n",
    "# MAPK for baseline CF is: 0.01910300963831448\n",
    "# Calculation took 103.18802404403687s"
   ]
  },
  {
   "cell_type": "code",
   "execution_count": 37,
   "metadata": {},
   "outputs": [
    {
     "name": "stdout",
     "output_type": "stream",
     "text": [
      "ALSpKNN.ipynb                    evaluate_models.py\r\n",
      "ALSpkNN.py                       evaluation.py\r\n",
      "Map_spotify_user_to_MUSIC.ipynb  gen_user_recs.py\r\n",
      "README.md                        \u001b[34mold_code\u001b[m\u001b[m/\r\n",
      "Spotify_CF.ipynb                 test_ALSpKNN.py\r\n",
      "\u001b[34m__pycache__\u001b[m\u001b[m/                     utilities.py\r\n",
      "create_all_data.ipynb            \u001b[34mweb_prototype\u001b[m\u001b[m/\r\n",
      "\u001b[34mdata\u001b[m\u001b[m/                            yolo.pyx\r\n",
      "\u001b[34mdata_processing\u001b[m\u001b[m/\r\n"
     ]
    }
   ],
   "source": [
    "ls"
   ]
  },
  {
   "cell_type": "code",
   "execution_count": 36,
   "metadata": {},
   "outputs": [
    {
     "ename": "ModuleNotFoundError",
     "evalue": "No module named 'yolo'",
     "output_type": "error",
     "traceback": [
      "\u001b[0;31m--------------------------------------------------------------------------\u001b[0m",
      "\u001b[0;31mModuleNotFoundError\u001b[0m                      Traceback (most recent call last)",
      "\u001b[0;32m<ipython-input-36-3effed86a0b0>\u001b[0m in \u001b[0;36m<module>\u001b[0;34m()\u001b[0m\n\u001b[0;32m----> 1\u001b[0;31m \u001b[0;32mfrom\u001b[0m \u001b[0myolo\u001b[0m \u001b[0;32mimport\u001b[0m \u001b[0mmean_average_precision_at_k\u001b[0m\u001b[0;34m\u001b[0m\u001b[0m\n\u001b[0m\u001b[1;32m      2\u001b[0m \u001b[0;32mfrom\u001b[0m \u001b[0mALSpkNN\u001b[0m \u001b[0;32mimport\u001b[0m \u001b[0mget_baseline_cf_model\u001b[0m\u001b[0;34m,\u001b[0m \u001b[0mweight_cf_matrix\u001b[0m\u001b[0;34m\u001b[0m\u001b[0m\n\u001b[1;32m      3\u001b[0m \u001b[0;31m# from evaluation import py_mean_average_precision_at_k\u001b[0m\u001b[0;34m\u001b[0m\u001b[0;34m\u001b[0m\u001b[0m\n\u001b[1;32m      4\u001b[0m \u001b[0;34m\u001b[0m\u001b[0m\n\u001b[1;32m      5\u001b[0m \u001b[0;31m# print(\"Building and fitting the baseline CF model\")\u001b[0m\u001b[0;34m\u001b[0m\u001b[0;34m\u001b[0m\u001b[0m\n",
      "\u001b[0;31mModuleNotFoundError\u001b[0m: No module named 'yolo'"
     ]
    }
   ],
   "source": [
    "from yolo import mean_average_precision_at_k\n",
    "from ALSpkNN import get_baseline_cf_model, weight_cf_matrix\n",
    "# from evaluation import py_mean_average_precision_at_k\n",
    "\n",
    "# print(\"Building and fitting the baseline CF model\")\n",
    "baseline_cf_model = get_baseline_cf_model()\n",
    "# weighted_train_csr = weight_cf_matrix(train_plays, alpha=1)\n",
    "baseline_cf_model.fit(train_plays)\n",
    "\n",
    "# print(\"Evaluating the baseline CF model\")\n",
    "start = time.time()\n",
    "\n",
    "# setting num_threads = 0 yields a 3x speedup on Nolan's MBP\n",
    "MAPk = mean_average_precision_at_k(\n",
    "    model=baseline_cf_model,\n",
    "    train_user_items=train_plays.transpose(),\n",
    "    test_user_items=test_plays.transpose(),\n",
    "    K=5,\n",
    "    show_progress=True,\n",
    "    num_threads=0)\n",
    "\n",
    "print(\"MAPK for baseline CF is: \" + str(MAPk))\n",
    "print(f'Calculation took {time.time() - start}s')\n"
   ]
  },
  {
   "cell_type": "code",
   "execution_count": 21,
   "metadata": {},
   "outputs": [
    {
     "name": "stderr",
     "output_type": "stream",
     "text": [
      "100%|██████████| 2.0/2 [00:04<00:00,  1.99s/it, loss=0.000249]\n",
      "  0%|          | 0/1107613 [00:00<?, ?it/s]\n"
     ]
    },
    {
     "ename": "UnboundLocalError",
     "evalue": "local variable 'precisions_sum' referenced before assignment",
     "output_type": "error",
     "traceback": [
      "\u001b[0;31m--------------------------------------------------------------------------\u001b[0m",
      "\u001b[0;31mUnboundLocalError\u001b[0m                        Traceback (most recent call last)",
      "\u001b[0;32m<ipython-input-21-340e69a04f79>\u001b[0m in \u001b[0;36m<module>\u001b[0;34m()\u001b[0m\n\u001b[1;32m     17\u001b[0m     \u001b[0mK\u001b[0m\u001b[0;34m=\u001b[0m\u001b[0;36m5\u001b[0m\u001b[0;34m,\u001b[0m\u001b[0;34m\u001b[0m\u001b[0m\n\u001b[1;32m     18\u001b[0m     \u001b[0mshow_progress\u001b[0m\u001b[0;34m=\u001b[0m\u001b[0;32mTrue\u001b[0m\u001b[0;34m,\u001b[0m\u001b[0;34m\u001b[0m\u001b[0m\n\u001b[0;32m---> 19\u001b[0;31m     num_threads=0)\n\u001b[0m\u001b[1;32m     20\u001b[0m \u001b[0;34m\u001b[0m\u001b[0m\n\u001b[1;32m     21\u001b[0m \u001b[0mprint\u001b[0m\u001b[0;34m(\u001b[0m\u001b[0;34m\"MAPK for baseline CF is: \"\u001b[0m \u001b[0;34m+\u001b[0m \u001b[0mstr\u001b[0m\u001b[0;34m(\u001b[0m\u001b[0mMAPk\u001b[0m\u001b[0;34m)\u001b[0m\u001b[0;34m)\u001b[0m\u001b[0;34m\u001b[0m\u001b[0m\n",
      "\u001b[0;32m~/Desktop/Development/rec-sys/evaluation.py\u001b[0m in \u001b[0;36mpy_mean_average_precision_at_k\u001b[0;34m(model, train_user_items, test_user_items, K, show_progress, num_threads)\u001b[0m\n\u001b[1;32m     76\u001b[0m                 listened_song_indices & recommended_song_indices)\n\u001b[1;32m     77\u001b[0m             \u001b[0mprecision\u001b[0m \u001b[0;34m=\u001b[0m \u001b[0mnum_recs_in_listening_history\u001b[0m \u001b[0;34m/\u001b[0m \u001b[0mk\u001b[0m\u001b[0;34m\u001b[0m\u001b[0m\n\u001b[0;32m---> 78\u001b[0;31m             \u001b[0mprecision_sum\u001b[0m \u001b[0;34m+=\u001b[0m \u001b[0mprecision\u001b[0m\u001b[0;34m\u001b[0m\u001b[0m\n\u001b[0m\u001b[1;32m     79\u001b[0m \u001b[0;34m\u001b[0m\u001b[0m\n\u001b[1;32m     80\u001b[0m         \u001b[0maverage_precision\u001b[0m \u001b[0;34m=\u001b[0m \u001b[0mprecision_sum\u001b[0m \u001b[0;34m/\u001b[0m \u001b[0mmin\u001b[0m\u001b[0;34m(\u001b[0m\u001b[0mK\u001b[0m\u001b[0;34m,\u001b[0m \u001b[0mlen\u001b[0m\u001b[0;34m(\u001b[0m\u001b[0mlistened_song_indices\u001b[0m\u001b[0;34m)\u001b[0m\u001b[0;34m)\u001b[0m\u001b[0;34m\u001b[0m\u001b[0m\n",
      "\u001b[0;31mUnboundLocalError\u001b[0m: local variable 'precisions_sum' referenced before assignment"
     ]
    }
   ],
   "source": [
    "from ALSpkNN import get_baseline_cf_model, weight_cf_matrix\n",
    "from evaluation import py_mean_average_precision_at_k\n",
    "\n",
    "# print(\"Building and fitting the baseline CF model\")\n",
    "baseline_cf_model = get_baseline_cf_model()\n",
    "# weighted_train_csr = weight_cf_matrix(train_plays, alpha=1)\n",
    "baseline_cf_model.fit(train_plays)\n",
    "\n",
    "# print(\"Evaluating the baseline CF model\")\n",
    "start = time.time()\n",
    "\n",
    "# setting num_threads = 0 yields a 3x speedup on Nolan's MBP\n",
    "MAPk = py_mean_average_precision_at_k(\n",
    "    model=baseline_cf_model,\n",
    "    train_user_items=train_plays.transpose(),\n",
    "    test_user_items=test_plays.transpose(),\n",
    "    K=5,\n",
    "    show_progress=True,\n",
    "    num_threads=0)\n",
    "\n",
    "print(\"MAPK for baseline CF is: \" + str(MAPk))\n",
    "print(f'Calculation took {time.time() - start}s')"
   ]
  },
  {
   "cell_type": "code",
   "execution_count": 61,
   "metadata": {},
   "outputs": [
    {
     "name": "stdout",
     "output_type": "stream",
     "text": [
      "Building model...\n"
     ]
    },
    {
     "ename": "TypeError",
     "evalue": "__init__() missing 1 required positional argument: 'song_mapping'",
     "output_type": "error",
     "traceback": [
      "\u001b[0;31m--------------------------------------------------------------------------\u001b[0m",
      "\u001b[0;31mTypeError\u001b[0m                                Traceback (most recent call last)",
      "\u001b[0;32m<ipython-input-61-ef53e1f77892>\u001b[0m in \u001b[0;36m<module>\u001b[0;34m()\u001b[0m\n\u001b[1;32m      2\u001b[0m \u001b[0;34m\u001b[0m\u001b[0m\n\u001b[1;32m      3\u001b[0m \u001b[0mprint\u001b[0m\u001b[0;34m(\u001b[0m\u001b[0;34m\"Building model...\"\u001b[0m\u001b[0;34m)\u001b[0m\u001b[0;34m\u001b[0m\u001b[0m\n\u001b[0;32m----> 4\u001b[0;31m \u001b[0mmodel\u001b[0m \u001b[0;34m=\u001b[0m \u001b[0mALSpkNN\u001b[0m\u001b[0;34m(\u001b[0m\u001b[0muser_df\u001b[0m\u001b[0;34m,\u001b[0m \u001b[0msong_df\u001b[0m\u001b[0;34m,\u001b[0m \u001b[0mk\u001b[0m\u001b[0;34m=\u001b[0m\u001b[0;36m100\u001b[0m\u001b[0;34m,\u001b[0m \u001b[0mknn_frac\u001b[0m\u001b[0;34m=\u001b[0m\u001b[0;36m0.5\u001b[0m\u001b[0;34m,\u001b[0m \u001b[0mcf_weighting_alpha\u001b[0m\u001b[0;34m=\u001b[0m\u001b[0;36m1\u001b[0m\u001b[0;34m)\u001b[0m\u001b[0;34m\u001b[0m\u001b[0m\n\u001b[0m\u001b[1;32m      5\u001b[0m \u001b[0mprint\u001b[0m\u001b[0;34m(\u001b[0m\u001b[0;34m\"Fitting model...\"\u001b[0m\u001b[0;34m)\u001b[0m\u001b[0;34m\u001b[0m\u001b[0m\n\u001b[1;32m      6\u001b[0m \u001b[0mmodel\u001b[0m\u001b[0;34m.\u001b[0m\u001b[0mfit\u001b[0m\u001b[0;34m(\u001b[0m\u001b[0mtrain_plays\u001b[0m\u001b[0;34m)\u001b[0m\u001b[0;34m\u001b[0m\u001b[0m\n",
      "\u001b[0;31mTypeError\u001b[0m: __init__() missing 1 required positional argument: 'song_mapping'"
     ]
    }
   ],
   "source": [
    "from ALSpkNN import ALSpkNN\n",
    "\n",
    "print(\"Building model...\")\n",
    "model = ALSpkNN(user_df, song_df, k=100, knn_frac=0.5, cf_weighting_alpha=1)\n",
    "print(\"Fitting model...\")\n",
    "model.fit(train_plays)\n",
    "recs = model.recommend(user_sparse_index=12345, train_plays_transpose=train_plays, N=5)\n",
    "print(recs)"
   ]
  },
  {
   "cell_type": "code",
   "execution_count": null,
   "metadata": {},
   "outputs": [
    {
     "name": "stderr",
     "output_type": "stream",
     "text": [
      " 73%|███████▎  | 808721/1107613 [3:03:36<5082:43:41, 61.22s/it]"
     ]
    }
   ],
   "source": [
    "start = time.time()\n",
    "MAPk = mean_average_precision_at_k(\n",
    "    model,\n",
    "    train_plays.transpose(),\n",
    "    test_plays.transpose(),\n",
    "    K=5)\n",
    "#     show_progress=False,\n",
    "#     num_threads=0)\n",
    "\n",
    "print(\"MAPK for ALSpKNN is: \" + str(MAPk))\n",
    "print(f'Calculation took {time.time() - start}s')"
   ]
  },
  {
   "cell_type": "code",
   "execution_count": null,
   "metadata": {
    "collapsed": true
   },
   "outputs": [],
   "source": []
  },
  {
   "cell_type": "markdown",
   "metadata": {},
   "source": [
    "# Test Code"
   ]
  },
  {
   "cell_type": "code",
   "execution_count": 39,
   "metadata": {},
   "outputs": [
    {
     "name": "stdout",
     "output_type": "stream",
     "text": [
      "4\n",
      "<class 'int'>\n"
     ]
    }
   ],
   "source": [
    "knn_frac = 0.5\n",
    "N = 7\n",
    "m = int(np.round(knn_frac*N))\n",
    "n = N - m\n",
    "print(m)\n",
    "print(type(n))"
   ]
  },
  {
   "cell_type": "code",
   "execution_count": 43,
   "metadata": {},
   "outputs": [
    {
     "data": {
      "text/plain": [
       "[4.229812033333332,\n",
       " 1.4042373883333334,\n",
       " 3.718447513333333,\n",
       " -6.4863809183333325,\n",
       " 2.166463065]"
      ]
     },
     "execution_count": 43,
     "metadata": {},
     "output_type": "execute_result"
    }
   ],
   "source": [
    "user_df.loc[user_df['user_id'] == '00000b722001882066dff9d2da8a775658053ea0']['MUSIC'].values[0]"
   ]
  },
  {
   "cell_type": "code",
   "execution_count": 46,
   "metadata": {},
   "outputs": [
    {
     "data": {
      "text/html": [
       "<div>\n",
       "<style scoped>\n",
       "    .dataframe tbody tr th:only-of-type {\n",
       "        vertical-align: middle;\n",
       "    }\n",
       "\n",
       "    .dataframe tbody tr th {\n",
       "        vertical-align: top;\n",
       "    }\n",
       "\n",
       "    .dataframe thead th {\n",
       "        text-align: right;\n",
       "    }\n",
       "</style>\n",
       "<table border=\"1\" class=\"dataframe\">\n",
       "  <thead>\n",
       "    <tr style=\"text-align: right;\">\n",
       "      <th></th>\n",
       "      <th>MUSIC</th>\n",
       "      <th>is_test</th>\n",
       "      <th>num_songs</th>\n",
       "      <th>song_ids</th>\n",
       "      <th>user_id</th>\n",
       "    </tr>\n",
       "  </thead>\n",
       "  <tbody>\n",
       "    <tr>\n",
       "      <th>0</th>\n",
       "      <td>[4.229812033333332, 1.4042373883333334, 3.7184...</td>\n",
       "      <td>False</td>\n",
       "      <td>3</td>\n",
       "      <td>[SOBSSGK12A6D4F9EF1, SOCZQCY12AC468E40F, SOCTX...</td>\n",
       "      <td>00000b722001882066dff9d2da8a775658053ea0</td>\n",
       "    </tr>\n",
       "    <tr>\n",
       "      <th>1</th>\n",
       "      <td>[4.910766939999999, 1.6201183160000001, 4.2151...</td>\n",
       "      <td>False</td>\n",
       "      <td>6</td>\n",
       "      <td>[SOFXSRW12A6D4F3B77, SOFFWTH12A6310D9E8, SOLOD...</td>\n",
       "      <td>00001638d6189236866af9bbf309ae6c2347ffdc</td>\n",
       "    </tr>\n",
       "    <tr>\n",
       "      <th>2</th>\n",
       "      <td>[3.9929606913333338, 1.3756423253666668, 3.569...</td>\n",
       "      <td>False</td>\n",
       "      <td>6</td>\n",
       "      <td>[SOBYRTY12AB0181EDB, SOYWZXA12A8C138274, SOYFP...</td>\n",
       "      <td>0000175652312d12576d9e6b84f600caa24c4715</td>\n",
       "    </tr>\n",
       "    <tr>\n",
       "      <th>3</th>\n",
       "      <td>[4.160212249999999, 1.38550505, 3.48416005, -6...</td>\n",
       "      <td>False</td>\n",
       "      <td>3</td>\n",
       "      <td>[SOBDRND12A8C13FD08, SODRFRJ12A8C144167, SOMMJ...</td>\n",
       "      <td>00001cf0dce3fb22b0df0f3a1d9cd21e38385372</td>\n",
       "    </tr>\n",
       "    <tr>\n",
       "      <th>4</th>\n",
       "      <td>[5.020851199999999, 1.2992664299999999, 4.2901...</td>\n",
       "      <td>False</td>\n",
       "      <td>9</td>\n",
       "      <td>[SOBMSCQ12AAF3B51B7, SOJERWB12A8C13E654, SOMCH...</td>\n",
       "      <td>0000267bde1b3a70ea75cf2b2d216cb828e3202b</td>\n",
       "    </tr>\n",
       "  </tbody>\n",
       "</table>\n",
       "</div>"
      ],
      "text/plain": [
       "                                               MUSIC  is_test  num_songs  \\\n",
       "0  [4.229812033333332, 1.4042373883333334, 3.7184...    False          3   \n",
       "1  [4.910766939999999, 1.6201183160000001, 4.2151...    False          6   \n",
       "2  [3.9929606913333338, 1.3756423253666668, 3.569...    False          6   \n",
       "3  [4.160212249999999, 1.38550505, 3.48416005, -6...    False          3   \n",
       "4  [5.020851199999999, 1.2992664299999999, 4.2901...    False          9   \n",
       "\n",
       "                                            song_ids  \\\n",
       "0  [SOBSSGK12A6D4F9EF1, SOCZQCY12AC468E40F, SOCTX...   \n",
       "1  [SOFXSRW12A6D4F3B77, SOFFWTH12A6310D9E8, SOLOD...   \n",
       "2  [SOBYRTY12AB0181EDB, SOYWZXA12A8C138274, SOYFP...   \n",
       "3  [SOBDRND12A8C13FD08, SODRFRJ12A8C144167, SOMMJ...   \n",
       "4  [SOBMSCQ12AAF3B51B7, SOJERWB12A8C13E654, SOMCH...   \n",
       "\n",
       "                                    user_id  \n",
       "0  00000b722001882066dff9d2da8a775658053ea0  \n",
       "1  00001638d6189236866af9bbf309ae6c2347ffdc  \n",
       "2  0000175652312d12576d9e6b84f600caa24c4715  \n",
       "3  00001cf0dce3fb22b0df0f3a1d9cd21e38385372  \n",
       "4  0000267bde1b3a70ea75cf2b2d216cb828e3202b  "
      ]
     },
     "execution_count": 46,
     "metadata": {},
     "output_type": "execute_result"
    }
   ],
   "source": [
    "user_df.head()"
   ]
  },
  {
   "cell_type": "code",
   "execution_count": 61,
   "metadata": {},
   "outputs": [
    {
     "data": {
      "text/plain": [
       "0    00000b722001882066dff9d2da8a775658053ea0\n",
       "1    00001638d6189236866af9bbf309ae6c2347ffdc\n",
       "2    0000175652312d12576d9e6b84f600caa24c4715\n",
       "Name: user_id, dtype: object"
      ]
     },
     "execution_count": 61,
     "metadata": {},
     "output_type": "execute_result"
    }
   ],
   "source": [
    "user_df.iloc[[0,1,2]]['user_id']"
   ]
  },
  {
   "cell_type": "code",
   "execution_count": null,
   "metadata": {
    "collapsed": true
   },
   "outputs": [],
   "source": []
  },
  {
   "cell_type": "code",
   "execution_count": 51,
   "metadata": {},
   "outputs": [
    {
     "data": {
      "text/plain": [
       "array([list(['SOBSSGK12A6D4F9EF1', 'SOCZQCY12AC468E40F', 'SOCTXQW12A6D4F70AD']),\n",
       "       list(['SOFXSRW12A6D4F3B77', 'SOFFWTH12A6310D9E8', 'SOLODPO12AB017F217', 'SOBFEDK12A8C13BB25', 'SOAORYL12A67AD8187', 'SOEKYTM12A8C13CBF4'])],\n",
       "      dtype=object)"
      ]
     },
     "execution_count": 51,
     "metadata": {},
     "output_type": "execute_result"
    }
   ],
   "source": [
    "sample_user_ids = ['00000b722001882066dff9d2da8a775658053ea0', '00001638d6189236866af9bbf309ae6c2347ffdc']\n",
    "user_df.loc[user_df['user_id'].isin(sample_user_ids)]['song_ids'].values"
   ]
  },
  {
   "cell_type": "code",
   "execution_count": 56,
   "metadata": {},
   "outputs": [
    {
     "data": {
      "text/plain": [
       "[(1, 2), (3, 2)]"
      ]
     },
     "execution_count": 56,
     "metadata": {},
     "output_type": "execute_result"
    }
   ],
   "source": [
    "# a = [1,1,2,3,3,4]\n",
    "a = [[1,1],[2,3,3,4]]\n",
    "Counter(itertools.chain.from_iterable(a)).most_common(2)"
   ]
  },
  {
   "cell_type": "code",
   "execution_count": 83,
   "metadata": {},
   "outputs": [
    {
     "data": {
      "text/html": [
       "<div>\n",
       "<style scoped>\n",
       "    .dataframe tbody tr th:only-of-type {\n",
       "        vertical-align: middle;\n",
       "    }\n",
       "\n",
       "    .dataframe tbody tr th {\n",
       "        vertical-align: top;\n",
       "    }\n",
       "\n",
       "    .dataframe thead th {\n",
       "        text-align: right;\n",
       "    }\n",
       "</style>\n",
       "<table border=\"1\" class=\"dataframe\">\n",
       "  <thead>\n",
       "    <tr style=\"text-align: right;\">\n",
       "      <th></th>\n",
       "      <th>user</th>\n",
       "    </tr>\n",
       "    <tr>\n",
       "      <th>sparse_index</th>\n",
       "      <th></th>\n",
       "    </tr>\n",
       "  </thead>\n",
       "  <tbody>\n",
       "    <tr>\n",
       "      <th>9</th>\n",
       "      <td>00007a02388c208ea7176479f6ae06f8224355b3</td>\n",
       "    </tr>\n",
       "    <tr>\n",
       "      <th>21</th>\n",
       "      <td>00014a76ed063e1a749171a253bca9d9a0ff1782</td>\n",
       "    </tr>\n",
       "    <tr>\n",
       "      <th>22</th>\n",
       "      <td>00015189668691680bb1a2e58afde1541ec92ced</td>\n",
       "    </tr>\n",
       "    <tr>\n",
       "      <th>29</th>\n",
       "      <td>0001ff7aa2667c8d8b945317b88adaed1c0b9dc2</td>\n",
       "    </tr>\n",
       "    <tr>\n",
       "      <th>31</th>\n",
       "      <td>00020fcd8b01986a6a85b896ccde6c49f35142ad</td>\n",
       "    </tr>\n",
       "  </tbody>\n",
       "</table>\n",
       "</div>"
      ],
      "text/plain": [
       "                                                  user\n",
       "sparse_index                                          \n",
       "9             00007a02388c208ea7176479f6ae06f8224355b3\n",
       "21            00014a76ed063e1a749171a253bca9d9a0ff1782\n",
       "22            00015189668691680bb1a2e58afde1541ec92ced\n",
       "29            0001ff7aa2667c8d8b945317b88adaed1c0b9dc2\n",
       "31            00020fcd8b01986a6a85b896ccde6c49f35142ad"
      ]
     },
     "execution_count": 83,
     "metadata": {},
     "output_type": "execute_result"
    }
   ],
   "source": [
    "lol = users_mapping\n",
    "lol.set_index('sparse_index', inplace=True)\n",
    "lol.index.name = 'sparse_index'\n",
    "lol.head()"
   ]
  },
  {
   "cell_type": "code",
   "execution_count": 86,
   "metadata": {},
   "outputs": [
    {
     "data": {
      "text/plain": [
       "'00014a76ed063e1a749171a253bca9d9a0ff1782'"
      ]
     },
     "execution_count": 86,
     "metadata": {},
     "output_type": "execute_result"
    }
   ],
   "source": [
    "lol.loc[21]['user']"
   ]
  },
  {
   "cell_type": "code",
   "execution_count": 82,
   "metadata": {},
   "outputs": [
    {
     "data": {
      "text/html": [
       "<div>\n",
       "<style scoped>\n",
       "    .dataframe tbody tr th:only-of-type {\n",
       "        vertical-align: middle;\n",
       "    }\n",
       "\n",
       "    .dataframe tbody tr th {\n",
       "        vertical-align: top;\n",
       "    }\n",
       "\n",
       "    .dataframe thead th {\n",
       "        text-align: right;\n",
       "    }\n",
       "</style>\n",
       "<table border=\"1\" class=\"dataframe\">\n",
       "  <thead>\n",
       "    <tr style=\"text-align: right;\">\n",
       "      <th></th>\n",
       "      <th>sparse_index</th>\n",
       "    </tr>\n",
       "    <tr>\n",
       "      <th>track</th>\n",
       "      <th></th>\n",
       "    </tr>\n",
       "  </thead>\n",
       "  <tbody>\n",
       "    <tr>\n",
       "      <th>SOOFKYO12AF72A2640</th>\n",
       "      <td>221367</td>\n",
       "    </tr>\n",
       "    <tr>\n",
       "      <th>SOIHOIQ12A8C138593</th>\n",
       "      <td>132143</td>\n",
       "    </tr>\n",
       "    <tr>\n",
       "      <th>SOYIZSN12A6701E0BB</th>\n",
       "      <td>363912</td>\n",
       "    </tr>\n",
       "    <tr>\n",
       "      <th>SODYZAD12A58A7A525</th>\n",
       "      <td>63740</td>\n",
       "    </tr>\n",
       "    <tr>\n",
       "      <th>SOXLWPN12A8C143667</th>\n",
       "      <td>351788</td>\n",
       "    </tr>\n",
       "  </tbody>\n",
       "</table>\n",
       "</div>"
      ],
      "text/plain": [
       "                   sparse_index\n",
       "track                          \n",
       "SOOFKYO12AF72A2640       221367\n",
       "SOIHOIQ12A8C138593       132143\n",
       "SOYIZSN12A6701E0BB       363912\n",
       "SODYZAD12A58A7A525        63740\n",
       "SOXLWPN12A8C143667       351788"
      ]
     },
     "execution_count": 82,
     "metadata": {},
     "output_type": "execute_result"
    }
   ],
   "source": [
    "yolo = songs_mapping\n",
    "# yolo.head()\n",
    "yolo.set_index('track', inplace=True)\n",
    "yolo.head()"
   ]
  },
  {
   "cell_type": "code",
   "execution_count": 99,
   "metadata": {},
   "outputs": [
    {
     "data": {
      "text/plain": [
       "array([221367, 132143], dtype=object)"
      ]
     },
     "execution_count": 99,
     "metadata": {},
     "output_type": "execute_result"
    }
   ],
   "source": [
    "yolo.loc[['SOOFKYO12AF72A2640', 'SOIHOIQ12A8C138593']]['sparse_index'].values"
   ]
  },
  {
   "cell_type": "code",
   "execution_count": 42,
   "metadata": {},
   "outputs": [],
   "source": [
    "%load_ext cython"
   ]
  },
  {
   "cell_type": "code",
   "execution_count": 48,
   "metadata": {
    "collapsed": true
   },
   "outputs": [],
   "source": [
    "%%cython?"
   ]
  },
  {
   "cell_type": "code",
   "execution_count": 47,
   "metadata": {},
   "outputs": [
    {
     "name": "stderr",
     "output_type": "stream",
     "text": [
      "UsageError: unrecognized arguments: –-cplus\n"
     ]
    }
   ],
   "source": [
    "%%cython –-cplus\n",
    "\n",
    "import tqdm\n",
    "import numpy as np\n",
    "from scipy.sparse import coo_matrix, csr_matrix\n",
    "import cython\n",
    "from cython.operator import dereference\n",
    "from cython.parallel import parallel, prange\n",
    "from libc.stdlib cimport malloc, free\n",
    "from libc.string cimport memset\n",
    "from libc.math cimport fmin\n",
    "\n",
    "from libcpp.unordered_set cimport unordered_set\n",
    "\n",
    "@cython.boundscheck(False)\n",
    "def mean_average_precision_at_k(model, train_user_items, test_user_items, int K=10,\n",
    "                                show_progress=True, int num_threads=1):\n",
    "    \"\"\" Calculates MAP@K for a given trained model\n",
    "    Parameters\n",
    "    ----------\n",
    "    model : RecommenderBase\n",
    "        The fitted recommendation model to test\n",
    "    train_user_items : csr_matrix\n",
    "        Sparse matrix of user by item that contains elements that were used in training the model\n",
    "    test_user_items : csr_matrix\n",
    "        Sparse matrix of user by item that contains withheld elements to test on\n",
    "    K : int\n",
    "        Number of items to test on\n",
    "    show_progress : bool, optional\n",
    "        Whether to show a progress bar\n",
    "    num_threads : int, optional\n",
    "        The number of threads to use for testing. Specifying 0 means to default\n",
    "        to the number of cores on the machine. Note: aside from the ALS and BPR\n",
    "        models, setting this to more than 1 will likely hurt performance rather than\n",
    "        help.\n",
    "    Returns\n",
    "    -------\n",
    "    float\n",
    "        the calculated MAP@k\n",
    "    \"\"\"\n",
    "    # TODO: there is a fair amount of boilerplate here that is cut and paste\n",
    "    # from precision_at_k. refactor it out.\n",
    "    if not isinstance(train_user_items, csr_matrix):\n",
    "        train_user_items = train_user_items.tocsr()\n",
    "\n",
    "    if not isinstance(test_user_items, csr_matrix):\n",
    "        test_user_items = test_user_items.tocsr()\n",
    "\n",
    "    cdef int users = test_user_items.shape[0], u, i, total = 0\n",
    "    cdef double mean_ap = 0, ap = 0, relevant = 0\n",
    "    cdef int[:] test_indptr = test_user_items.indptr\n",
    "    cdef int[:] test_indices = test_user_items.indices\n",
    "\n",
    "    cdef int * ids\n",
    "    cdef unordered_set[int] * likes\n",
    "\n",
    "    progress = tqdm.tqdm(total=users, disable=not show_progress)\n",
    "\n",
    "    with nogil, parallel(num_threads=num_threads):\n",
    "        ids = <int *> malloc(sizeof(int) * K)\n",
    "        likes = new unordered_set[int]()\n",
    "        try:\n",
    "            for u in prange(1000, schedule='guided'):\n",
    "                # if we don't have any test items, skip this user\n",
    "                if test_indptr[u] == test_indptr[u+1]:\n",
    "                    with gil:\n",
    "                        progress.update(1)\n",
    "                    continue\n",
    "                memset(ids, 0, sizeof(int) * K)\n",
    "\n",
    "                with gil:\n",
    "                    recs = model.recommend(u, train_user_items, N=K)\n",
    "                    for i in range(len(recs)):\n",
    "                        ids[i] = recs[i][0]\n",
    "                    progress.update(1)\n",
    "\n",
    "                # mostly we're going to be blocked on the gil here,\n",
    "                # so try to do actual scoring without it\n",
    "                likes.clear()\n",
    "                for i in range(test_indptr[u], test_indptr[u+1]):\n",
    "                    likes.insert(test_indices[i])\n",
    "\n",
    "                ap = 0\n",
    "                relevant = 0\n",
    "                for i in range(K):\n",
    "                    if likes.find(ids[i]) != likes.end():\n",
    "                        relevant = relevant + 1\n",
    "                        ap = ap + relevant / (i + 1)\n",
    "                mean_ap += ap / fmin(K, likes.size())\n",
    "                total += 1\n",
    "        finally:\n",
    "            free(ids)\n",
    "            del likes\n",
    "\n",
    "    progress.close()\n",
    "    return mean_ap / total\n"
   ]
  },
  {
   "cell_type": "code",
   "execution_count": null,
   "metadata": {
    "collapsed": true
   },
   "outputs": [],
   "source": []
  }
 ],
 "metadata": {
  "kernelspec": {
   "display_name": "Python 3",
   "language": "python",
   "name": "python3"
  },
  "language_info": {
   "codemirror_mode": {
    "name": "ipython",
    "version": 3
   },
   "file_extension": ".py",
   "mimetype": "text/x-python",
   "name": "python",
   "nbconvert_exporter": "python",
   "pygments_lexer": "ipython3",
   "version": "3.6.4"
  }
 },
 "nbformat": 4,
 "nbformat_minor": 2
}
