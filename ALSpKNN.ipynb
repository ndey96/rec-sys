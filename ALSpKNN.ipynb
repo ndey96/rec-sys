{
 "cells": [
  {
   "cell_type": "code",
   "execution_count": 55,
   "metadata": {},
   "outputs": [],
   "source": [
    "import pandas as pd\n",
    "import numpy as np\n",
    "from scipy.sparse import load_npz\n",
    "from scipy.sparse import csr_matrix\n",
    "from implicit.als import AlternatingLeastSquares\n",
    "import itertools\n",
    "# import ALSpkNN\n",
    "from implicit.evaluation import mean_average_precision_at_k"
   ]
  },
  {
   "cell_type": "code",
   "execution_count": 101,
   "metadata": {},
   "outputs": [
    {
     "name": "stdout",
     "output_type": "stream",
     "text": [
      "Loading data...\n"
     ]
    }
   ],
   "source": [
    "print(\"Loading data...\")\n",
    "user_df = pd.read_hdf('data/user_df.h5', key='df')\n",
    "\n",
    "# train_plays, test_plays -> num_songs x num_users CSR matrix\n",
    "train_plays = load_npz('data/train_sparse.npz')\n",
    "test_plays = load_npz('data/test_sparse.npz')\n",
    "\n",
    "# songs -> CSR_row_index: song_id\n",
    "songs_mapping = pd.read_hdf('data/song_mapping.h5', key='df')\n",
    "songs_mapping.set_index('song_id', inplace=True)\n",
    "\n",
    "# users -> CSR_col_index: user_id\n",
    "users_mapping = pd.read_hdf('data/user_mapping.h5', key='df')\n",
    "users_mapping.set_index('sparse_index', inplace=True)"
   ]
  },
  {
   "cell_type": "code",
   "execution_count": 102,
   "metadata": {},
   "outputs": [
    {
     "data": {
      "text/html": [
       "<div>\n",
       "<style scoped>\n",
       "    .dataframe tbody tr th:only-of-type {\n",
       "        vertical-align: middle;\n",
       "    }\n",
       "\n",
       "    .dataframe tbody tr th {\n",
       "        vertical-align: top;\n",
       "    }\n",
       "\n",
       "    .dataframe thead th {\n",
       "        text-align: right;\n",
       "    }\n",
       "</style>\n",
       "<table border=\"1\" class=\"dataframe\">\n",
       "  <thead>\n",
       "    <tr style=\"text-align: right;\">\n",
       "      <th></th>\n",
       "      <th>MUSIC</th>\n",
       "      <th>is_test</th>\n",
       "      <th>num_songs</th>\n",
       "      <th>song_ids</th>\n",
       "      <th>user_id</th>\n",
       "    </tr>\n",
       "  </thead>\n",
       "  <tbody>\n",
       "    <tr>\n",
       "      <th>0</th>\n",
       "      <td>[4.229812033333332, 1.4042373883333334, 3.7184...</td>\n",
       "      <td>False</td>\n",
       "      <td>3</td>\n",
       "      <td>[SOBSSGK12A6D4F9EF1, SOCZQCY12AC468E40F, SOCTX...</td>\n",
       "      <td>00000b722001882066dff9d2da8a775658053ea0</td>\n",
       "    </tr>\n",
       "    <tr>\n",
       "      <th>1</th>\n",
       "      <td>[4.910766939999999, 1.6201183160000001, 4.2151...</td>\n",
       "      <td>False</td>\n",
       "      <td>6</td>\n",
       "      <td>[SOFXSRW12A6D4F3B77, SOFFWTH12A6310D9E8, SOLOD...</td>\n",
       "      <td>00001638d6189236866af9bbf309ae6c2347ffdc</td>\n",
       "    </tr>\n",
       "    <tr>\n",
       "      <th>2</th>\n",
       "      <td>[3.9929606913333338, 1.3756423253666668, 3.569...</td>\n",
       "      <td>False</td>\n",
       "      <td>6</td>\n",
       "      <td>[SOBYRTY12AB0181EDB, SOYWZXA12A8C138274, SOYFP...</td>\n",
       "      <td>0000175652312d12576d9e6b84f600caa24c4715</td>\n",
       "    </tr>\n",
       "    <tr>\n",
       "      <th>3</th>\n",
       "      <td>[4.160212249999999, 1.38550505, 3.48416005, -6...</td>\n",
       "      <td>False</td>\n",
       "      <td>3</td>\n",
       "      <td>[SOBDRND12A8C13FD08, SODRFRJ12A8C144167, SOMMJ...</td>\n",
       "      <td>00001cf0dce3fb22b0df0f3a1d9cd21e38385372</td>\n",
       "    </tr>\n",
       "    <tr>\n",
       "      <th>4</th>\n",
       "      <td>[5.020851199999999, 1.2992664299999999, 4.2901...</td>\n",
       "      <td>False</td>\n",
       "      <td>9</td>\n",
       "      <td>[SOBMSCQ12AAF3B51B7, SOJERWB12A8C13E654, SOMCH...</td>\n",
       "      <td>0000267bde1b3a70ea75cf2b2d216cb828e3202b</td>\n",
       "    </tr>\n",
       "  </tbody>\n",
       "</table>\n",
       "</div>"
      ],
      "text/plain": [
       "                                               MUSIC  is_test  num_songs  \\\n",
       "0  [4.229812033333332, 1.4042373883333334, 3.7184...    False          3   \n",
       "1  [4.910766939999999, 1.6201183160000001, 4.2151...    False          6   \n",
       "2  [3.9929606913333338, 1.3756423253666668, 3.569...    False          6   \n",
       "3  [4.160212249999999, 1.38550505, 3.48416005, -6...    False          3   \n",
       "4  [5.020851199999999, 1.2992664299999999, 4.2901...    False          9   \n",
       "\n",
       "                                            song_ids  \\\n",
       "0  [SOBSSGK12A6D4F9EF1, SOCZQCY12AC468E40F, SOCTX...   \n",
       "1  [SOFXSRW12A6D4F3B77, SOFFWTH12A6310D9E8, SOLOD...   \n",
       "2  [SOBYRTY12AB0181EDB, SOYWZXA12A8C138274, SOYFP...   \n",
       "3  [SOBDRND12A8C13FD08, SODRFRJ12A8C144167, SOMMJ...   \n",
       "4  [SOBMSCQ12AAF3B51B7, SOJERWB12A8C13E654, SOMCH...   \n",
       "\n",
       "                                    user_id  \n",
       "0  00000b722001882066dff9d2da8a775658053ea0  \n",
       "1  00001638d6189236866af9bbf309ae6c2347ffdc  \n",
       "2  0000175652312d12576d9e6b84f600caa24c4715  \n",
       "3  00001cf0dce3fb22b0df0f3a1d9cd21e38385372  \n",
       "4  0000267bde1b3a70ea75cf2b2d216cb828e3202b  "
      ]
     },
     "execution_count": 102,
     "metadata": {},
     "output_type": "execute_result"
    }
   ],
   "source": [
    "user_df.head()"
   ]
  },
  {
   "cell_type": "code",
   "execution_count": 103,
   "metadata": {},
   "outputs": [
    {
     "data": {
      "text/html": [
       "<div>\n",
       "<style scoped>\n",
       "    .dataframe tbody tr th:only-of-type {\n",
       "        vertical-align: middle;\n",
       "    }\n",
       "\n",
       "    .dataframe tbody tr th {\n",
       "        vertical-align: top;\n",
       "    }\n",
       "\n",
       "    .dataframe thead th {\n",
       "        text-align: right;\n",
       "    }\n",
       "</style>\n",
       "<table border=\"1\" class=\"dataframe\">\n",
       "  <thead>\n",
       "    <tr style=\"text-align: right;\">\n",
       "      <th></th>\n",
       "      <th>sparse_index</th>\n",
       "    </tr>\n",
       "    <tr>\n",
       "      <th>song_id</th>\n",
       "      <th></th>\n",
       "    </tr>\n",
       "  </thead>\n",
       "  <tbody>\n",
       "    <tr>\n",
       "      <th>SOAKIMP12A8C130995</th>\n",
       "      <td>4785</td>\n",
       "    </tr>\n",
       "    <tr>\n",
       "      <th>SOAPDEY12A81C210A9</th>\n",
       "      <td>7052</td>\n",
       "    </tr>\n",
       "    <tr>\n",
       "      <th>SOBFOVM12A58A7D494</th>\n",
       "      <td>14453</td>\n",
       "    </tr>\n",
       "    <tr>\n",
       "      <th>SOBSUJE12A6D4F8CF5</th>\n",
       "      <td>20354</td>\n",
       "    </tr>\n",
       "    <tr>\n",
       "      <th>SOBVFZR12A6D4F8AE3</th>\n",
       "      <td>21408</td>\n",
       "    </tr>\n",
       "  </tbody>\n",
       "</table>\n",
       "</div>"
      ],
      "text/plain": [
       "                   sparse_index\n",
       "song_id                        \n",
       "SOAKIMP12A8C130995         4785\n",
       "SOAPDEY12A81C210A9         7052\n",
       "SOBFOVM12A58A7D494        14453\n",
       "SOBSUJE12A6D4F8CF5        20354\n",
       "SOBVFZR12A6D4F8AE3        21408"
      ]
     },
     "execution_count": 103,
     "metadata": {},
     "output_type": "execute_result"
    }
   ],
   "source": [
    "songs_mapping.head()"
   ]
  },
  {
   "cell_type": "code",
   "execution_count": 104,
   "metadata": {},
   "outputs": [
    {
     "data": {
      "text/html": [
       "<div>\n",
       "<style scoped>\n",
       "    .dataframe tbody tr th:only-of-type {\n",
       "        vertical-align: middle;\n",
       "    }\n",
       "\n",
       "    .dataframe tbody tr th {\n",
       "        vertical-align: top;\n",
       "    }\n",
       "\n",
       "    .dataframe thead th {\n",
       "        text-align: right;\n",
       "    }\n",
       "</style>\n",
       "<table border=\"1\" class=\"dataframe\">\n",
       "  <thead>\n",
       "    <tr style=\"text-align: right;\">\n",
       "      <th></th>\n",
       "      <th>user_id</th>\n",
       "    </tr>\n",
       "    <tr>\n",
       "      <th>sparse_index</th>\n",
       "      <th></th>\n",
       "    </tr>\n",
       "  </thead>\n",
       "  <tbody>\n",
       "    <tr>\n",
       "      <th>796068</th>\n",
       "      <td>b80344d063b5ccb3212f76538f3d9e43d87dca9e</td>\n",
       "    </tr>\n",
       "    <tr>\n",
       "      <th>538494</th>\n",
       "      <td>7c86176941718984fed11b7c0674ff04c029b480</td>\n",
       "    </tr>\n",
       "    <tr>\n",
       "      <th>510903</th>\n",
       "      <td>76235885b32c4e8c82760c340dc54f9b608d7d7e</td>\n",
       "    </tr>\n",
       "    <tr>\n",
       "      <th>159634</th>\n",
       "      <td>250c0fa2a77bc6695046e7c47882ecd85c42d748</td>\n",
       "    </tr>\n",
       "    <tr>\n",
       "      <th>273980</th>\n",
       "      <td>3f73f44560e822344b0fb7c6b463869743eb9860</td>\n",
       "    </tr>\n",
       "  </tbody>\n",
       "</table>\n",
       "</div>"
      ],
      "text/plain": [
       "                                               user_id\n",
       "sparse_index                                          \n",
       "796068        b80344d063b5ccb3212f76538f3d9e43d87dca9e\n",
       "538494        7c86176941718984fed11b7c0674ff04c029b480\n",
       "510903        76235885b32c4e8c82760c340dc54f9b608d7d7e\n",
       "159634        250c0fa2a77bc6695046e7c47882ecd85c42d748\n",
       "273980        3f73f44560e822344b0fb7c6b463869743eb9860"
      ]
     },
     "execution_count": 104,
     "metadata": {},
     "output_type": "execute_result"
    }
   ],
   "source": [
    "users_mapping.head()"
   ]
  },
  {
   "cell_type": "code",
   "execution_count": 105,
   "metadata": {},
   "outputs": [
    {
     "data": {
      "text/plain": [
       "(1107613, 1)"
      ]
     },
     "execution_count": 105,
     "metadata": {},
     "output_type": "execute_result"
    }
   ],
   "source": [
    "users_mapping.shape"
   ]
  },
  {
   "cell_type": "code",
   "execution_count": 106,
   "metadata": {},
   "outputs": [
    {
     "data": {
      "text/plain": [
       "(168493, 1)"
      ]
     },
     "execution_count": 106,
     "metadata": {},
     "output_type": "execute_result"
    }
   ],
   "source": [
    "songs_mapping.shape"
   ]
  },
  {
   "cell_type": "code",
   "execution_count": 107,
   "metadata": {},
   "outputs": [
    {
     "name": "stdout",
     "output_type": "stream",
     "text": [
      "Building model...\n",
      "Fitting model...\n"
     ]
    },
    {
     "name": "stderr",
     "output_type": "stream",
     "text": [
      "\n",
      "\n",
      "\n",
      "  0%|          | 0/2 [00:00<?, ?it/s]\u001b[A\u001b[A\u001b[A\n",
      "\n",
      "\n",
      " 25%|██▌       | 0.5/2 [00:00<00:02,  1.42s/it]\u001b[A\u001b[A\u001b[A\n",
      "\n",
      "\n",
      " 50%|█████     | 1.0/2 [00:01<00:01,  1.60s/it]\u001b[A\u001b[A\u001b[A\n",
      "\n",
      "\n",
      " 50%|█████     | 1.0/2 [00:01<00:01,  1.60s/it, loss=0.000146]\u001b[A\u001b[A\u001b[A\n",
      "\n",
      "\n",
      " 75%|███████▌  | 1.5/2 [00:02<00:00,  1.66s/it, loss=0.000146]\u001b[A\u001b[A\u001b[A\n",
      "\n",
      "\n",
      "100%|██████████| 2.0/2 [00:03<00:00,  1.73s/it, loss=0.000146]\u001b[A\u001b[A\u001b[A\n",
      "\n",
      "\n",
      "100%|██████████| 2.0/2 [00:03<00:00,  1.73s/it, loss=0.00014] \u001b[A\u001b[A\u001b[A\n",
      "\n",
      "\n",
      "\u001b[A\u001b[A\u001b[A"
     ]
    },
    {
     "ename": "KeyError",
     "evalue": "'user'",
     "output_type": "error",
     "traceback": [
      "\u001b[0;31m--------------------------------------------------------------------------\u001b[0m",
      "\u001b[0;31mTypeError\u001b[0m                                Traceback (most recent call last)",
      "\u001b[0;32m~/anaconda/envs/tensorflow3/lib/python3.6/site-packages/pandas/core/indexes/base.py\u001b[0m in \u001b[0;36mget_value\u001b[0;34m(self, series, key)\u001b[0m\n\u001b[1;32m   4379\u001b[0m             \u001b[0;32mtry\u001b[0m\u001b[0;34m:\u001b[0m\u001b[0;34m\u001b[0m\u001b[0m\n\u001b[0;32m-> 4380\u001b[0;31m                 \u001b[0;32mreturn\u001b[0m \u001b[0mlibindex\u001b[0m\u001b[0;34m.\u001b[0m\u001b[0mget_value_box\u001b[0m\u001b[0;34m(\u001b[0m\u001b[0ms\u001b[0m\u001b[0;34m,\u001b[0m \u001b[0mkey\u001b[0m\u001b[0;34m)\u001b[0m\u001b[0;34m\u001b[0m\u001b[0m\n\u001b[0m\u001b[1;32m   4381\u001b[0m             \u001b[0;32mexcept\u001b[0m \u001b[0mIndexError\u001b[0m\u001b[0;34m:\u001b[0m\u001b[0;34m\u001b[0m\u001b[0m\n",
      "\u001b[0;32mpandas/_libs/index.pyx\u001b[0m in \u001b[0;36mpandas._libs.index.get_value_box\u001b[0;34m()\u001b[0m\n",
      "\u001b[0;32mpandas/_libs/index.pyx\u001b[0m in \u001b[0;36mpandas._libs.index.get_value_at\u001b[0;34m()\u001b[0m\n",
      "\u001b[0;32mpandas/_libs/util.pxd\u001b[0m in \u001b[0;36mpandas._libs.util.get_value_at\u001b[0;34m()\u001b[0m\n",
      "\u001b[0;32mpandas/_libs/util.pxd\u001b[0m in \u001b[0;36mpandas._libs.util.validate_indexer\u001b[0;34m()\u001b[0m\n",
      "\u001b[0;31mTypeError\u001b[0m: 'str' object cannot be interpreted as an integer",
      "\nDuring handling of the above exception, another exception occurred:\n",
      "\u001b[0;31mKeyError\u001b[0m                                 Traceback (most recent call last)",
      "\u001b[0;32m<ipython-input-107-0f2ea13ad578>\u001b[0m in \u001b[0;36m<module>\u001b[0;34m()\u001b[0m\n\u001b[1;32m     86\u001b[0m \u001b[0mprint\u001b[0m\u001b[0;34m(\u001b[0m\u001b[0;34m\"Fitting model...\"\u001b[0m\u001b[0;34m)\u001b[0m\u001b[0;34m\u001b[0m\u001b[0m\n\u001b[1;32m     87\u001b[0m \u001b[0mmodel\u001b[0m\u001b[0;34m.\u001b[0m\u001b[0mfit\u001b[0m\u001b[0;34m(\u001b[0m\u001b[0mtrain_plays\u001b[0m\u001b[0;34m)\u001b[0m\u001b[0;34m\u001b[0m\u001b[0m\n\u001b[0;32m---> 88\u001b[0;31m \u001b[0mrecs\u001b[0m \u001b[0;34m=\u001b[0m \u001b[0mmodel\u001b[0m\u001b[0;34m.\u001b[0m\u001b[0mrecommend\u001b[0m\u001b[0;34m(\u001b[0m\u001b[0muser_sparse_index\u001b[0m\u001b[0;34m=\u001b[0m\u001b[0;36m21\u001b[0m\u001b[0;34m,\u001b[0m \u001b[0mtrain_plays\u001b[0m\u001b[0;34m=\u001b[0m\u001b[0mtrain_plays\u001b[0m\u001b[0;34m,\u001b[0m \u001b[0mN\u001b[0m\u001b[0;34m=\u001b[0m\u001b[0;36m5\u001b[0m\u001b[0;34m)\u001b[0m\u001b[0;34m\u001b[0m\u001b[0m\n\u001b[0m\u001b[1;32m     89\u001b[0m \u001b[0mprint\u001b[0m\u001b[0;34m(\u001b[0m\u001b[0mrecs\u001b[0m\u001b[0;34m)\u001b[0m\u001b[0;34m\u001b[0m\u001b[0m\n",
      "\u001b[0;32m<ipython-input-107-0f2ea13ad578>\u001b[0m in \u001b[0;36mrecommend\u001b[0;34m(self, user_sparse_index, train_plays, N)\u001b[0m\n\u001b[1;32m     66\u001b[0m         \u001b[0mn_songs\u001b[0m \u001b[0;34m=\u001b[0m \u001b[0mself\u001b[0m\u001b[0;34m.\u001b[0m\u001b[0mcf_model\u001b[0m\u001b[0;34m.\u001b[0m\u001b[0mrecommend\u001b[0m\u001b[0;34m(\u001b[0m\u001b[0muserid\u001b[0m\u001b[0;34m=\u001b[0m\u001b[0muser_sparse_index\u001b[0m\u001b[0;34m,\u001b[0m \u001b[0muser_items\u001b[0m\u001b[0;34m=\u001b[0m\u001b[0mtrain_plays\u001b[0m\u001b[0;34m.\u001b[0m\u001b[0mtranspose\u001b[0m\u001b[0;34m(\u001b[0m\u001b[0;34m)\u001b[0m\u001b[0;34m,\u001b[0m \u001b[0mN\u001b[0m\u001b[0;34m=\u001b[0m\u001b[0mn\u001b[0m\u001b[0;34m)\u001b[0m\u001b[0;34m\u001b[0m\u001b[0m\n\u001b[1;32m     67\u001b[0m \u001b[0;34m\u001b[0m\u001b[0m\n\u001b[0;32m---> 68\u001b[0;31m         \u001b[0muser_id\u001b[0m \u001b[0;34m=\u001b[0m \u001b[0mself\u001b[0m\u001b[0;34m.\u001b[0m\u001b[0muser_mapping\u001b[0m\u001b[0;34m.\u001b[0m\u001b[0mloc\u001b[0m\u001b[0;34m[\u001b[0m\u001b[0muser_sparse_index\u001b[0m\u001b[0;34m]\u001b[0m\u001b[0;34m[\u001b[0m\u001b[0;34m'user'\u001b[0m\u001b[0;34m]\u001b[0m\u001b[0;34m\u001b[0m\u001b[0m\n\u001b[0m\u001b[1;32m     69\u001b[0m \u001b[0;34m\u001b[0m\u001b[0m\n\u001b[1;32m     70\u001b[0m         \u001b[0mm_song_ids\u001b[0m \u001b[0;34m=\u001b[0m \u001b[0mself\u001b[0m\u001b[0;34m.\u001b[0m\u001b[0mget_knn_top_m_song_ids\u001b[0m\u001b[0;34m(\u001b[0m\u001b[0muser_id\u001b[0m\u001b[0;34m=\u001b[0m\u001b[0muser_id\u001b[0m\u001b[0;34m,\u001b[0m \u001b[0mm\u001b[0m\u001b[0;34m=\u001b[0m\u001b[0mm\u001b[0m\u001b[0;34m)\u001b[0m\u001b[0;34m\u001b[0m\u001b[0m\n",
      "\u001b[0;32m~/anaconda/envs/tensorflow3/lib/python3.6/site-packages/pandas/core/series.py\u001b[0m in \u001b[0;36m__getitem__\u001b[0;34m(self, key)\u001b[0m\n\u001b[1;32m    866\u001b[0m         \u001b[0mkey\u001b[0m \u001b[0;34m=\u001b[0m \u001b[0mcom\u001b[0m\u001b[0;34m.\u001b[0m\u001b[0mapply_if_callable\u001b[0m\u001b[0;34m(\u001b[0m\u001b[0mkey\u001b[0m\u001b[0;34m,\u001b[0m \u001b[0mself\u001b[0m\u001b[0;34m)\u001b[0m\u001b[0;34m\u001b[0m\u001b[0m\n\u001b[1;32m    867\u001b[0m         \u001b[0;32mtry\u001b[0m\u001b[0;34m:\u001b[0m\u001b[0;34m\u001b[0m\u001b[0m\n\u001b[0;32m--> 868\u001b[0;31m             \u001b[0mresult\u001b[0m \u001b[0;34m=\u001b[0m \u001b[0mself\u001b[0m\u001b[0;34m.\u001b[0m\u001b[0mindex\u001b[0m\u001b[0;34m.\u001b[0m\u001b[0mget_value\u001b[0m\u001b[0;34m(\u001b[0m\u001b[0mself\u001b[0m\u001b[0;34m,\u001b[0m \u001b[0mkey\u001b[0m\u001b[0;34m)\u001b[0m\u001b[0;34m\u001b[0m\u001b[0m\n\u001b[0m\u001b[1;32m    869\u001b[0m \u001b[0;34m\u001b[0m\u001b[0m\n\u001b[1;32m    870\u001b[0m             \u001b[0;32mif\u001b[0m \u001b[0;32mnot\u001b[0m \u001b[0mis_scalar\u001b[0m\u001b[0;34m(\u001b[0m\u001b[0mresult\u001b[0m\u001b[0;34m)\u001b[0m\u001b[0;34m:\u001b[0m\u001b[0;34m\u001b[0m\u001b[0m\n",
      "\u001b[0;32m~/anaconda/envs/tensorflow3/lib/python3.6/site-packages/pandas/core/indexes/base.py\u001b[0m in \u001b[0;36mget_value\u001b[0;34m(self, series, key)\u001b[0m\n\u001b[1;32m   4386\u001b[0m                     \u001b[0;32mraise\u001b[0m \u001b[0mInvalidIndexError\u001b[0m\u001b[0;34m(\u001b[0m\u001b[0mkey\u001b[0m\u001b[0;34m)\u001b[0m\u001b[0;34m\u001b[0m\u001b[0m\n\u001b[1;32m   4387\u001b[0m                 \u001b[0;32melse\u001b[0m\u001b[0;34m:\u001b[0m\u001b[0;34m\u001b[0m\u001b[0m\n\u001b[0;32m-> 4388\u001b[0;31m                     \u001b[0;32mraise\u001b[0m \u001b[0me1\u001b[0m\u001b[0;34m\u001b[0m\u001b[0m\n\u001b[0m\u001b[1;32m   4389\u001b[0m             \u001b[0;32mexcept\u001b[0m \u001b[0mException\u001b[0m\u001b[0;34m:\u001b[0m  \u001b[0;31m# pragma: no cover\u001b[0m\u001b[0;34m\u001b[0m\u001b[0m\n\u001b[1;32m   4390\u001b[0m                 \u001b[0;32mraise\u001b[0m \u001b[0me1\u001b[0m\u001b[0;34m\u001b[0m\u001b[0m\n",
      "\u001b[0;32m~/anaconda/envs/tensorflow3/lib/python3.6/site-packages/pandas/core/indexes/base.py\u001b[0m in \u001b[0;36mget_value\u001b[0;34m(self, series, key)\u001b[0m\n\u001b[1;32m   4372\u001b[0m         \u001b[0;32mtry\u001b[0m\u001b[0;34m:\u001b[0m\u001b[0;34m\u001b[0m\u001b[0m\n\u001b[1;32m   4373\u001b[0m             return self._engine.get_value(s, k,\n\u001b[0;32m-> 4374\u001b[0;31m                                           tz=getattr(series.dtype, 'tz', None))\n\u001b[0m\u001b[1;32m   4375\u001b[0m         \u001b[0;32mexcept\u001b[0m \u001b[0mKeyError\u001b[0m \u001b[0;32mas\u001b[0m \u001b[0me1\u001b[0m\u001b[0;34m:\u001b[0m\u001b[0;34m\u001b[0m\u001b[0m\n\u001b[1;32m   4376\u001b[0m             \u001b[0;32mif\u001b[0m \u001b[0mlen\u001b[0m\u001b[0;34m(\u001b[0m\u001b[0mself\u001b[0m\u001b[0;34m)\u001b[0m \u001b[0;34m>\u001b[0m \u001b[0;36m0\u001b[0m \u001b[0;32mand\u001b[0m \u001b[0;34m(\u001b[0m\u001b[0mself\u001b[0m\u001b[0;34m.\u001b[0m\u001b[0mholds_integer\u001b[0m\u001b[0;34m(\u001b[0m\u001b[0;34m)\u001b[0m \u001b[0;32mor\u001b[0m \u001b[0mself\u001b[0m\u001b[0;34m.\u001b[0m\u001b[0mis_boolean\u001b[0m\u001b[0;34m(\u001b[0m\u001b[0;34m)\u001b[0m\u001b[0;34m)\u001b[0m\u001b[0;34m:\u001b[0m\u001b[0;34m\u001b[0m\u001b[0m\n",
      "\u001b[0;32mpandas/_libs/index.pyx\u001b[0m in \u001b[0;36mpandas._libs.index.IndexEngine.get_value\u001b[0;34m()\u001b[0m\n",
      "\u001b[0;32mpandas/_libs/index.pyx\u001b[0m in \u001b[0;36mpandas._libs.index.IndexEngine.get_value\u001b[0;34m()\u001b[0m\n",
      "\u001b[0;32mpandas/_libs/index.pyx\u001b[0m in \u001b[0;36mpandas._libs.index.IndexEngine.get_loc\u001b[0;34m()\u001b[0m\n",
      "\u001b[0;32mpandas/_libs/hashtable_class_helper.pxi\u001b[0m in \u001b[0;36mpandas._libs.hashtable.PyObjectHashTable.get_item\u001b[0;34m()\u001b[0m\n",
      "\u001b[0;32mpandas/_libs/hashtable_class_helper.pxi\u001b[0m in \u001b[0;36mpandas._libs.hashtable.PyObjectHashTable.get_item\u001b[0;34m()\u001b[0m\n",
      "\u001b[0;31mKeyError\u001b[0m: 'user'"
     ]
    }
   ],
   "source": [
    "from implicit.als import AlternatingLeastSquares\n",
    "import os\n",
    "os.environ['MKL_NUM_THREADS'] = '1'\n",
    "from scipy.spatial import KDTree\n",
    "import numpy as np\n",
    "from collections import Counter\n",
    "import utilities\n",
    "import time\n",
    "from random import shuffle\n",
    "\n",
    "class ALSpkNN():\n",
    "    \n",
    "    '''\n",
    "    knn_frac = % of KNN recommendations\n",
    "    k = # of neighbours for KNN\n",
    "    '''\n",
    "    def __init__(self, user_df, user_mapping, song_mapping, k=100, knn_frac=0.5, cf_weighting_alpha=1):        \n",
    "        self.user_mapping = user_mapping\n",
    "        self.song_mapping = song_mapping\n",
    "        self.user_df = user_df\n",
    "        self.cf_weighting_alpha = cf_weighting_alpha\n",
    "        self.knn_frac = knn_frac\n",
    "        self.k = k\n",
    "        self.kdtree = KDTree(user_df['MUSIC'].tolist())\n",
    "        \n",
    "        #build the collaborative filtering model with params hardcoded\n",
    "        als_params = {\n",
    "            'factors': 16,\n",
    "            'dtype': np.float32,\n",
    "            'iterations': 2,\n",
    "            'calculate_training_loss': True\n",
    "        }\n",
    "        self.cf_model = AlternatingLeastSquares(**als_params)\n",
    "\n",
    "    def fit(self, train_csr):\n",
    "        #don't want to modify original incase it gets put into other models\n",
    "        weighted_train_csr = train_csr.copy()\n",
    "        weighted_train_csr.data = 1 + np.log(self.cf_weighting_alpha * train_csr.data)\n",
    "        self.cf_model.fit(weighted_train_csr)\n",
    "\n",
    "    # Returns list of song_ids\n",
    "    def get_knn_top_m_song_ids(self, user_id, m):\n",
    "\n",
    "        user_MUSIC = self.user_df.loc[self.user_df['user_id'] == user_id]['MUSIC'].values[0]\n",
    "        distances, indices = self.kdtree.query(user_MUSIC, self.k, p=1)\n",
    "        # TODO: maybe sort closest_user_ids by distance if they are not already sorted?\n",
    "        \n",
    "        closest_user_ids = self.user_df.iloc[indices]['user_id'].to_list()\n",
    "        \n",
    "        # closest_user_songs -> list of lists of song_ids, len(closest_user_songs) == k\n",
    "        closest_user_songs = self.user_df.loc[self.user_df['user_id'].isin(closest_user_ids)]['song_ids'].values\n",
    "        \n",
    "        # closest_user_songs_flat -> list of song_ids\n",
    "        closest_user_songs_flat = itertools.chain.from_iterable(closest_user_songs)\n",
    "        \n",
    "        top_m_songs = [i[0] for i in Counter(closest_user_songs_flat).most_common(m)]\n",
    "        return top_m_songs\n",
    "\n",
    "    # Returns [(song_sparse_index, confidence)]\n",
    "    def recommend(self, user_sparse_index, train_plays, N):\n",
    "        # m -> number of songs from KNN recs\n",
    "        m = int(np.round(knn_frac*N))\n",
    "        # n -> number of songs from CF recs\n",
    "        n = N - m\n",
    "        \n",
    "        n_songs = self.cf_model.recommend(userid=user_sparse_index, user_items=train_plays.transpose(), N=n)\n",
    "        \n",
    "        user_id = self.user_mapping.loc[user_sparse_index]['user']\n",
    "\n",
    "        m_song_ids = self.get_knn_top_m_song_ids(user_id=user_id, m=m)\n",
    "        m_songs = self.song_mapping[m_song_ids]['sparse_index'].tolist()\n",
    "\n",
    "        #I don't think score/confidence is used in MAP@k function, so it doesn't matter what value is filled\n",
    "        hopefully_unimportant_val = 0.69\n",
    "\n",
    "        m_songs = [(song, hopefully_unimportant_val) for song in m_songs]\n",
    "        rec_list = utilities.concat_shuffle(n_songs, m_songs)\n",
    "        return rec_list[:N]\n",
    "    \n",
    "#things that can be optimized:\n",
    "# - The alpha value for confidence of the matrix factorization algorithm\n",
    "# - The number of iterations in the als algorithm\n",
    "# - the joining of n and m in the recommendation algirhtm\n",
    "print(\"Building model...\")\n",
    "model = ALSpkNN(user_df, users_mapping, songs_mapping, k=100, knn_frac=0.5, cf_weighting_alpha=1)\n",
    "print(\"Fitting model...\")\n",
    "model.fit(train_plays)\n",
    "recs = model.recommend(user_sparse_index=21, train_plays=train_plays, N=5)\n",
    "print(recs)"
   ]
  },
  {
   "cell_type": "code",
   "execution_count": 65,
   "metadata": {},
   "outputs": [
    {
     "name": "stdout",
     "output_type": "stream",
     "text": [
      "Evaluating the Model\n"
     ]
    },
    {
     "name": "stderr",
     "output_type": "stream",
     "text": [
      "\n",
      "\n",
      "  0%|          | 0/1119318 [00:00<?, ?it/s]\u001b[A\u001b[A\n",
      "\n",
      "  0%|          | 10/1119318 [00:00<9:36:50, 32.34it/s]\u001b[A\u001b[A\n",
      "\n",
      "  0%|          | 22/1119318 [00:00<8:54:34, 34.90it/s]\u001b[A\u001b[A\n",
      "\n",
      "  0%|          | 24/1119318 [00:00<18:56:02, 16.42it/s]\u001b[A\u001b[A\n",
      "\n",
      "  0%|          | 30/1119318 [00:01<17:26:56, 17.82it/s]\u001b[A\u001b[A\n",
      "\n",
      "  0%|          | 32/1119318 [00:01<24:38:16, 12.62it/s]\u001b[A\u001b[A\n",
      "\n",
      "  0%|          | 48/1119318 [00:01<18:49:48, 16.51it/s]\u001b[A\u001b[A\n",
      "\n",
      "  0%|          | 54/1119318 [00:01<17:17:49, 17.97it/s]\u001b[A\u001b[A\n",
      "\n",
      "  0%|          | 66/1119318 [00:02<14:12:21, 21.89it/s]\u001b[A\u001b[A\n",
      "\n",
      "  0%|          | 70/1119318 [00:02<16:19:51, 19.04it/s]\u001b[A\u001b[A\n",
      "\n",
      "  0%|          | 85/1119318 [00:02<13:07:28, 23.69it/s]\u001b[A\u001b[A\n",
      "\n",
      "  0%|          | 92/1119318 [00:03<12:44:39, 24.40it/s]\u001b[A\u001b[A\n",
      "\n",
      "  0%|          | 96/1119318 [00:03<17:23:39, 17.87it/s]\u001b[A\u001b[A\n",
      "\n",
      "  0%|          | 104/1119318 [00:03<18:25:15, 16.88it/s]\u001b[A\u001b[A\n",
      "\n",
      "  0%|          | 107/1119318 [00:04<21:33:29, 14.42it/s]\u001b[A\u001b[A\n",
      "\n",
      "  0%|          | 109/1119318 [00:04<30:05:47, 10.33it/s]\u001b[A\u001b[A\n",
      "\n",
      "  0%|          | 111/1119318 [00:05<64:07:39,  4.85it/s]\u001b[A\u001b[A\n",
      "\n",
      "  0%|          | 113/1119318 [00:05<63:30:51,  4.89it/s]\u001b[A\u001b[A\n",
      "\n",
      "  0%|          | 118/1119318 [00:06<56:30:13,  5.50it/s]\u001b[A\u001b[A\n",
      "\n",
      "  0%|          | 120/1119318 [00:06<53:15:30,  5.84it/s]\u001b[A\u001b[A"
     ]
    },
    {
     "ename": "IndexError",
     "evalue": "index 0 is out of bounds for axis 0 with size 0",
     "output_type": "error",
     "traceback": [
      "\u001b[0;31m--------------------------------------------------------------------------\u001b[0m",
      "\u001b[0;31mIndexError\u001b[0m                               Traceback (most recent call last)",
      "\u001b[0;32m<ipython-input-65-bcdb3b9e0e92>\u001b[0m in \u001b[0;36m<module>\u001b[0;34m()\u001b[0m\n\u001b[1;32m      6\u001b[0m     \u001b[0mtrain_plays\u001b[0m\u001b[0;34m.\u001b[0m\u001b[0mtranspose\u001b[0m\u001b[0;34m(\u001b[0m\u001b[0;34m)\u001b[0m\u001b[0;34m,\u001b[0m\u001b[0;34m\u001b[0m\u001b[0m\n\u001b[1;32m      7\u001b[0m     \u001b[0mtest_plays\u001b[0m\u001b[0;34m.\u001b[0m\u001b[0mtranspose\u001b[0m\u001b[0;34m(\u001b[0m\u001b[0;34m)\u001b[0m\u001b[0;34m,\u001b[0m\u001b[0;34m\u001b[0m\u001b[0m\n\u001b[0;32m----> 8\u001b[0;31m     K=5)\n\u001b[0m\u001b[1;32m      9\u001b[0m \u001b[0;31m#     show_progress=True,\u001b[0m\u001b[0;34m\u001b[0m\u001b[0;34m\u001b[0m\u001b[0m\n\u001b[1;32m     10\u001b[0m \u001b[0;31m#     num_threads=0)\u001b[0m\u001b[0;34m\u001b[0m\u001b[0;34m\u001b[0m\u001b[0m\n",
      "\u001b[0;32mimplicit/evaluation.pyx\u001b[0m in \u001b[0;36mimplicit.evaluation.mean_average_precision_at_k\u001b[0;34m()\u001b[0m\n",
      "\u001b[0;32m<ipython-input-64-b435326f9a84>\u001b[0m in \u001b[0;36mrecommend\u001b[0;34m(self, user_sparse_index, train_plays, N)\u001b[0m\n\u001b[1;32m     69\u001b[0m         \u001b[0muser_id\u001b[0m \u001b[0;34m=\u001b[0m \u001b[0mself\u001b[0m\u001b[0;34m.\u001b[0m\u001b[0muser_mapping\u001b[0m\u001b[0;34m.\u001b[0m\u001b[0mloc\u001b[0m\u001b[0;34m[\u001b[0m\u001b[0mself\u001b[0m\u001b[0;34m.\u001b[0m\u001b[0muser_mapping\u001b[0m\u001b[0;34m[\u001b[0m\u001b[0;34m'sparse_index'\u001b[0m\u001b[0;34m]\u001b[0m \u001b[0;34m==\u001b[0m \u001b[0muser_sparse_index\u001b[0m\u001b[0;34m]\u001b[0m\u001b[0;34m[\u001b[0m\u001b[0;34m'user'\u001b[0m\u001b[0;34m]\u001b[0m\u001b[0;34m.\u001b[0m\u001b[0mvalues\u001b[0m\u001b[0;34m[\u001b[0m\u001b[0;36m0\u001b[0m\u001b[0;34m]\u001b[0m\u001b[0;34m\u001b[0m\u001b[0m\n\u001b[1;32m     70\u001b[0m \u001b[0;34m\u001b[0m\u001b[0m\n\u001b[0;32m---> 71\u001b[0;31m         \u001b[0mm_songs\u001b[0m \u001b[0;34m=\u001b[0m \u001b[0mself\u001b[0m\u001b[0;34m.\u001b[0m\u001b[0mget_knn_top_m_songs\u001b[0m\u001b[0;34m(\u001b[0m\u001b[0muser_id\u001b[0m\u001b[0;34m=\u001b[0m\u001b[0muser_id\u001b[0m\u001b[0;34m,\u001b[0m \u001b[0mm\u001b[0m\u001b[0;34m=\u001b[0m\u001b[0mm\u001b[0m\u001b[0;34m)\u001b[0m\u001b[0;34m\u001b[0m\u001b[0m\n\u001b[0m\u001b[1;32m     72\u001b[0m \u001b[0;34m\u001b[0m\u001b[0m\n\u001b[1;32m     73\u001b[0m         \u001b[0;31m# TODO: use a left join to speed this up?\u001b[0m\u001b[0;34m\u001b[0m\u001b[0;34m\u001b[0m\u001b[0m\n",
      "\u001b[0;32m<ipython-input-64-b435326f9a84>\u001b[0m in \u001b[0;36mget_knn_top_m_songs\u001b[0;34m(self, user_id, m)\u001b[0m\n\u001b[1;32m     42\u001b[0m     \u001b[0;32mdef\u001b[0m \u001b[0mget_knn_top_m_songs\u001b[0m\u001b[0;34m(\u001b[0m\u001b[0mself\u001b[0m\u001b[0;34m,\u001b[0m \u001b[0muser_id\u001b[0m\u001b[0;34m,\u001b[0m \u001b[0mm\u001b[0m\u001b[0;34m)\u001b[0m\u001b[0;34m:\u001b[0m\u001b[0;34m\u001b[0m\u001b[0m\n\u001b[1;32m     43\u001b[0m \u001b[0;34m\u001b[0m\u001b[0m\n\u001b[0;32m---> 44\u001b[0;31m         \u001b[0muser_MUSIC\u001b[0m \u001b[0;34m=\u001b[0m \u001b[0mself\u001b[0m\u001b[0;34m.\u001b[0m\u001b[0muser_df\u001b[0m\u001b[0;34m.\u001b[0m\u001b[0mloc\u001b[0m\u001b[0;34m[\u001b[0m\u001b[0mself\u001b[0m\u001b[0;34m.\u001b[0m\u001b[0muser_df\u001b[0m\u001b[0;34m[\u001b[0m\u001b[0;34m'user_id'\u001b[0m\u001b[0;34m]\u001b[0m \u001b[0;34m==\u001b[0m \u001b[0muser_id\u001b[0m\u001b[0;34m]\u001b[0m\u001b[0;34m[\u001b[0m\u001b[0;34m'MUSIC'\u001b[0m\u001b[0;34m]\u001b[0m\u001b[0;34m.\u001b[0m\u001b[0mvalues\u001b[0m\u001b[0;34m[\u001b[0m\u001b[0;36m0\u001b[0m\u001b[0;34m]\u001b[0m\u001b[0;34m\u001b[0m\u001b[0m\n\u001b[0m\u001b[1;32m     45\u001b[0m         \u001b[0mdistances\u001b[0m\u001b[0;34m,\u001b[0m \u001b[0mindices\u001b[0m \u001b[0;34m=\u001b[0m \u001b[0mself\u001b[0m\u001b[0;34m.\u001b[0m\u001b[0mkdtree\u001b[0m\u001b[0;34m.\u001b[0m\u001b[0mquery\u001b[0m\u001b[0;34m(\u001b[0m\u001b[0muser_MUSIC\u001b[0m\u001b[0;34m,\u001b[0m \u001b[0mself\u001b[0m\u001b[0;34m.\u001b[0m\u001b[0mk\u001b[0m\u001b[0;34m,\u001b[0m \u001b[0mp\u001b[0m\u001b[0;34m=\u001b[0m\u001b[0;36m1\u001b[0m\u001b[0;34m)\u001b[0m\u001b[0;34m\u001b[0m\u001b[0m\n\u001b[1;32m     46\u001b[0m         \u001b[0;31m# TODO: maybe sort closest_user_ids by distance if they are not already sorted?\u001b[0m\u001b[0;34m\u001b[0m\u001b[0;34m\u001b[0m\u001b[0m\n",
      "\u001b[0;31mIndexError\u001b[0m: index 0 is out of bounds for axis 0 with size 0"
     ]
    }
   ],
   "source": [
    "#example_sparse_user_id_in_all_df = 1119317\n",
    "print(\"Evaluating the Model\")\n",
    "\n",
    "MAPk = mean_average_precision_at_k(\n",
    "    model,\n",
    "    train_plays.transpose(),\n",
    "    test_plays.transpose(),\n",
    "    K=5)\n",
    "#     show_progress=True,\n",
    "#     num_threads=0)\n",
    "\n",
    "print(\"MAPK is: \" + str(MAPk))"
   ]
  },
  {
   "cell_type": "code",
   "execution_count": 39,
   "metadata": {},
   "outputs": [
    {
     "name": "stdout",
     "output_type": "stream",
     "text": [
      "4\n",
      "<class 'int'>\n"
     ]
    }
   ],
   "source": [
    "knn_frac = 0.5\n",
    "N = 7\n",
    "m = int(np.round(knn_frac*N))\n",
    "n = N - m\n",
    "print(m)\n",
    "print(type(n))"
   ]
  },
  {
   "cell_type": "code",
   "execution_count": 43,
   "metadata": {},
   "outputs": [
    {
     "data": {
      "text/plain": [
       "[4.229812033333332,\n",
       " 1.4042373883333334,\n",
       " 3.718447513333333,\n",
       " -6.4863809183333325,\n",
       " 2.166463065]"
      ]
     },
     "execution_count": 43,
     "metadata": {},
     "output_type": "execute_result"
    }
   ],
   "source": [
    "user_df.loc[user_df['user_id'] == '00000b722001882066dff9d2da8a775658053ea0']['MUSIC'].values[0]"
   ]
  },
  {
   "cell_type": "code",
   "execution_count": 46,
   "metadata": {},
   "outputs": [
    {
     "data": {
      "text/html": [
       "<div>\n",
       "<style scoped>\n",
       "    .dataframe tbody tr th:only-of-type {\n",
       "        vertical-align: middle;\n",
       "    }\n",
       "\n",
       "    .dataframe tbody tr th {\n",
       "        vertical-align: top;\n",
       "    }\n",
       "\n",
       "    .dataframe thead th {\n",
       "        text-align: right;\n",
       "    }\n",
       "</style>\n",
       "<table border=\"1\" class=\"dataframe\">\n",
       "  <thead>\n",
       "    <tr style=\"text-align: right;\">\n",
       "      <th></th>\n",
       "      <th>MUSIC</th>\n",
       "      <th>is_test</th>\n",
       "      <th>num_songs</th>\n",
       "      <th>song_ids</th>\n",
       "      <th>user_id</th>\n",
       "    </tr>\n",
       "  </thead>\n",
       "  <tbody>\n",
       "    <tr>\n",
       "      <th>0</th>\n",
       "      <td>[4.229812033333332, 1.4042373883333334, 3.7184...</td>\n",
       "      <td>False</td>\n",
       "      <td>3</td>\n",
       "      <td>[SOBSSGK12A6D4F9EF1, SOCZQCY12AC468E40F, SOCTX...</td>\n",
       "      <td>00000b722001882066dff9d2da8a775658053ea0</td>\n",
       "    </tr>\n",
       "    <tr>\n",
       "      <th>1</th>\n",
       "      <td>[4.910766939999999, 1.6201183160000001, 4.2151...</td>\n",
       "      <td>False</td>\n",
       "      <td>6</td>\n",
       "      <td>[SOFXSRW12A6D4F3B77, SOFFWTH12A6310D9E8, SOLOD...</td>\n",
       "      <td>00001638d6189236866af9bbf309ae6c2347ffdc</td>\n",
       "    </tr>\n",
       "    <tr>\n",
       "      <th>2</th>\n",
       "      <td>[3.9929606913333338, 1.3756423253666668, 3.569...</td>\n",
       "      <td>False</td>\n",
       "      <td>6</td>\n",
       "      <td>[SOBYRTY12AB0181EDB, SOYWZXA12A8C138274, SOYFP...</td>\n",
       "      <td>0000175652312d12576d9e6b84f600caa24c4715</td>\n",
       "    </tr>\n",
       "    <tr>\n",
       "      <th>3</th>\n",
       "      <td>[4.160212249999999, 1.38550505, 3.48416005, -6...</td>\n",
       "      <td>False</td>\n",
       "      <td>3</td>\n",
       "      <td>[SOBDRND12A8C13FD08, SODRFRJ12A8C144167, SOMMJ...</td>\n",
       "      <td>00001cf0dce3fb22b0df0f3a1d9cd21e38385372</td>\n",
       "    </tr>\n",
       "    <tr>\n",
       "      <th>4</th>\n",
       "      <td>[5.020851199999999, 1.2992664299999999, 4.2901...</td>\n",
       "      <td>False</td>\n",
       "      <td>9</td>\n",
       "      <td>[SOBMSCQ12AAF3B51B7, SOJERWB12A8C13E654, SOMCH...</td>\n",
       "      <td>0000267bde1b3a70ea75cf2b2d216cb828e3202b</td>\n",
       "    </tr>\n",
       "  </tbody>\n",
       "</table>\n",
       "</div>"
      ],
      "text/plain": [
       "                                               MUSIC  is_test  num_songs  \\\n",
       "0  [4.229812033333332, 1.4042373883333334, 3.7184...    False          3   \n",
       "1  [4.910766939999999, 1.6201183160000001, 4.2151...    False          6   \n",
       "2  [3.9929606913333338, 1.3756423253666668, 3.569...    False          6   \n",
       "3  [4.160212249999999, 1.38550505, 3.48416005, -6...    False          3   \n",
       "4  [5.020851199999999, 1.2992664299999999, 4.2901...    False          9   \n",
       "\n",
       "                                            song_ids  \\\n",
       "0  [SOBSSGK12A6D4F9EF1, SOCZQCY12AC468E40F, SOCTX...   \n",
       "1  [SOFXSRW12A6D4F3B77, SOFFWTH12A6310D9E8, SOLOD...   \n",
       "2  [SOBYRTY12AB0181EDB, SOYWZXA12A8C138274, SOYFP...   \n",
       "3  [SOBDRND12A8C13FD08, SODRFRJ12A8C144167, SOMMJ...   \n",
       "4  [SOBMSCQ12AAF3B51B7, SOJERWB12A8C13E654, SOMCH...   \n",
       "\n",
       "                                    user_id  \n",
       "0  00000b722001882066dff9d2da8a775658053ea0  \n",
       "1  00001638d6189236866af9bbf309ae6c2347ffdc  \n",
       "2  0000175652312d12576d9e6b84f600caa24c4715  \n",
       "3  00001cf0dce3fb22b0df0f3a1d9cd21e38385372  \n",
       "4  0000267bde1b3a70ea75cf2b2d216cb828e3202b  "
      ]
     },
     "execution_count": 46,
     "metadata": {},
     "output_type": "execute_result"
    }
   ],
   "source": [
    "user_df.head()"
   ]
  },
  {
   "cell_type": "code",
   "execution_count": 61,
   "metadata": {},
   "outputs": [
    {
     "data": {
      "text/plain": [
       "0    00000b722001882066dff9d2da8a775658053ea0\n",
       "1    00001638d6189236866af9bbf309ae6c2347ffdc\n",
       "2    0000175652312d12576d9e6b84f600caa24c4715\n",
       "Name: user_id, dtype: object"
      ]
     },
     "execution_count": 61,
     "metadata": {},
     "output_type": "execute_result"
    }
   ],
   "source": [
    "user_df.iloc[[0,1,2]]['user_id']"
   ]
  },
  {
   "cell_type": "code",
   "execution_count": null,
   "metadata": {
    "collapsed": true
   },
   "outputs": [],
   "source": []
  },
  {
   "cell_type": "code",
   "execution_count": 51,
   "metadata": {},
   "outputs": [
    {
     "data": {
      "text/plain": [
       "array([list(['SOBSSGK12A6D4F9EF1', 'SOCZQCY12AC468E40F', 'SOCTXQW12A6D4F70AD']),\n",
       "       list(['SOFXSRW12A6D4F3B77', 'SOFFWTH12A6310D9E8', 'SOLODPO12AB017F217', 'SOBFEDK12A8C13BB25', 'SOAORYL12A67AD8187', 'SOEKYTM12A8C13CBF4'])],\n",
       "      dtype=object)"
      ]
     },
     "execution_count": 51,
     "metadata": {},
     "output_type": "execute_result"
    }
   ],
   "source": [
    "sample_user_ids = ['00000b722001882066dff9d2da8a775658053ea0', '00001638d6189236866af9bbf309ae6c2347ffdc']\n",
    "user_df.loc[user_df['user_id'].isin(sample_user_ids)]['song_ids'].values"
   ]
  },
  {
   "cell_type": "code",
   "execution_count": 56,
   "metadata": {},
   "outputs": [
    {
     "data": {
      "text/plain": [
       "[(1, 2), (3, 2)]"
      ]
     },
     "execution_count": 56,
     "metadata": {},
     "output_type": "execute_result"
    }
   ],
   "source": [
    "# a = [1,1,2,3,3,4]\n",
    "a = [[1,1],[2,3,3,4]]\n",
    "Counter(itertools.chain.from_iterable(a)).most_common(2)"
   ]
  },
  {
   "cell_type": "code",
   "execution_count": 83,
   "metadata": {},
   "outputs": [
    {
     "data": {
      "text/html": [
       "<div>\n",
       "<style scoped>\n",
       "    .dataframe tbody tr th:only-of-type {\n",
       "        vertical-align: middle;\n",
       "    }\n",
       "\n",
       "    .dataframe tbody tr th {\n",
       "        vertical-align: top;\n",
       "    }\n",
       "\n",
       "    .dataframe thead th {\n",
       "        text-align: right;\n",
       "    }\n",
       "</style>\n",
       "<table border=\"1\" class=\"dataframe\">\n",
       "  <thead>\n",
       "    <tr style=\"text-align: right;\">\n",
       "      <th></th>\n",
       "      <th>user</th>\n",
       "    </tr>\n",
       "    <tr>\n",
       "      <th>sparse_index</th>\n",
       "      <th></th>\n",
       "    </tr>\n",
       "  </thead>\n",
       "  <tbody>\n",
       "    <tr>\n",
       "      <th>9</th>\n",
       "      <td>00007a02388c208ea7176479f6ae06f8224355b3</td>\n",
       "    </tr>\n",
       "    <tr>\n",
       "      <th>21</th>\n",
       "      <td>00014a76ed063e1a749171a253bca9d9a0ff1782</td>\n",
       "    </tr>\n",
       "    <tr>\n",
       "      <th>22</th>\n",
       "      <td>00015189668691680bb1a2e58afde1541ec92ced</td>\n",
       "    </tr>\n",
       "    <tr>\n",
       "      <th>29</th>\n",
       "      <td>0001ff7aa2667c8d8b945317b88adaed1c0b9dc2</td>\n",
       "    </tr>\n",
       "    <tr>\n",
       "      <th>31</th>\n",
       "      <td>00020fcd8b01986a6a85b896ccde6c49f35142ad</td>\n",
       "    </tr>\n",
       "  </tbody>\n",
       "</table>\n",
       "</div>"
      ],
      "text/plain": [
       "                                                  user\n",
       "sparse_index                                          \n",
       "9             00007a02388c208ea7176479f6ae06f8224355b3\n",
       "21            00014a76ed063e1a749171a253bca9d9a0ff1782\n",
       "22            00015189668691680bb1a2e58afde1541ec92ced\n",
       "29            0001ff7aa2667c8d8b945317b88adaed1c0b9dc2\n",
       "31            00020fcd8b01986a6a85b896ccde6c49f35142ad"
      ]
     },
     "execution_count": 83,
     "metadata": {},
     "output_type": "execute_result"
    }
   ],
   "source": [
    "lol = users_mapping\n",
    "lol.set_index('sparse_index', inplace=True)\n",
    "lol.index.name = 'sparse_index'\n",
    "lol.head()"
   ]
  },
  {
   "cell_type": "code",
   "execution_count": 86,
   "metadata": {},
   "outputs": [
    {
     "data": {
      "text/plain": [
       "'00014a76ed063e1a749171a253bca9d9a0ff1782'"
      ]
     },
     "execution_count": 86,
     "metadata": {},
     "output_type": "execute_result"
    }
   ],
   "source": [
    "lol.loc[21]['user']"
   ]
  },
  {
   "cell_type": "code",
   "execution_count": 82,
   "metadata": {},
   "outputs": [
    {
     "data": {
      "text/html": [
       "<div>\n",
       "<style scoped>\n",
       "    .dataframe tbody tr th:only-of-type {\n",
       "        vertical-align: middle;\n",
       "    }\n",
       "\n",
       "    .dataframe tbody tr th {\n",
       "        vertical-align: top;\n",
       "    }\n",
       "\n",
       "    .dataframe thead th {\n",
       "        text-align: right;\n",
       "    }\n",
       "</style>\n",
       "<table border=\"1\" class=\"dataframe\">\n",
       "  <thead>\n",
       "    <tr style=\"text-align: right;\">\n",
       "      <th></th>\n",
       "      <th>sparse_index</th>\n",
       "    </tr>\n",
       "    <tr>\n",
       "      <th>track</th>\n",
       "      <th></th>\n",
       "    </tr>\n",
       "  </thead>\n",
       "  <tbody>\n",
       "    <tr>\n",
       "      <th>SOOFKYO12AF72A2640</th>\n",
       "      <td>221367</td>\n",
       "    </tr>\n",
       "    <tr>\n",
       "      <th>SOIHOIQ12A8C138593</th>\n",
       "      <td>132143</td>\n",
       "    </tr>\n",
       "    <tr>\n",
       "      <th>SOYIZSN12A6701E0BB</th>\n",
       "      <td>363912</td>\n",
       "    </tr>\n",
       "    <tr>\n",
       "      <th>SODYZAD12A58A7A525</th>\n",
       "      <td>63740</td>\n",
       "    </tr>\n",
       "    <tr>\n",
       "      <th>SOXLWPN12A8C143667</th>\n",
       "      <td>351788</td>\n",
       "    </tr>\n",
       "  </tbody>\n",
       "</table>\n",
       "</div>"
      ],
      "text/plain": [
       "                   sparse_index\n",
       "track                          \n",
       "SOOFKYO12AF72A2640       221367\n",
       "SOIHOIQ12A8C138593       132143\n",
       "SOYIZSN12A6701E0BB       363912\n",
       "SODYZAD12A58A7A525        63740\n",
       "SOXLWPN12A8C143667       351788"
      ]
     },
     "execution_count": 82,
     "metadata": {},
     "output_type": "execute_result"
    }
   ],
   "source": [
    "yolo = songs_mapping\n",
    "# yolo.head()\n",
    "yolo.set_index('track', inplace=True)\n",
    "yolo.head()"
   ]
  },
  {
   "cell_type": "code",
   "execution_count": 99,
   "metadata": {},
   "outputs": [
    {
     "data": {
      "text/plain": [
       "array([221367, 132143], dtype=object)"
      ]
     },
     "execution_count": 99,
     "metadata": {},
     "output_type": "execute_result"
    }
   ],
   "source": [
    "yolo.loc[['SOOFKYO12AF72A2640', 'SOIHOIQ12A8C138593']]['sparse_index'].values"
   ]
  },
  {
   "cell_type": "code",
   "execution_count": null,
   "metadata": {
    "collapsed": true
   },
   "outputs": [],
   "source": []
  }
 ],
 "metadata": {
  "kernelspec": {
   "display_name": "Python 3",
   "language": "python",
   "name": "python3"
  },
  "language_info": {
   "codemirror_mode": {
    "name": "ipython",
    "version": 3
   },
   "file_extension": ".py",
   "mimetype": "text/x-python",
   "name": "python",
   "nbconvert_exporter": "python",
   "pygments_lexer": "ipython3",
   "version": "3.6.4"
  }
 },
 "nbformat": 4,
 "nbformat_minor": 2
}
