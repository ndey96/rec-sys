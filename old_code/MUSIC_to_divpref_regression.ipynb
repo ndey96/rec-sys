{
 "cells": [
  {
   "cell_type": "code",
   "execution_count": 3,
   "metadata": {},
   "outputs": [
    {
     "name": "stdout",
     "output_type": "stream",
     "text": [
      "audio_features.npy               niplets.h5\r\n",
      "full_msd.csv                     spotify_audio_features.h5\r\n",
      "full_msd.h5                      spotify_msd_id_pairs.csv\r\n",
      "full_msd_with_audio_features.h5  spotify_msd_id_pairs.h5\r\n",
      "full_msd_with_genre.h5           triplet_subset.csv\r\n",
      "full_msd_with_spotify.h5         triplets.csv\r\n",
      "msd-MAGD-genreAssignment.cls     triplets.h5\r\n",
      "msd_subset_metadata.csv          user_div_MUSIC_divpref.h5\r\n",
      "msd_subset_usage.csv\r\n"
     ]
    }
   ],
   "source": [
    "ls data"
   ]
  },
  {
   "cell_type": "code",
   "execution_count": 30,
   "metadata": {
    "collapsed": true
   },
   "outputs": [],
   "source": [
    "from sklearn.pipeline import Pipeline\n",
    "from sklearn.preprocessing import StandardScaler\n",
    "from sklearn.linear_model import LinearRegression, LogisticRegression\n",
    "from sklearn.ensemble import RandomForestRegressor\n",
    "import pandas as pd\n",
    "import numpy as np"
   ]
  },
  {
   "cell_type": "code",
   "execution_count": 6,
   "metadata": {},
   "outputs": [
    {
     "data": {
      "text/html": [
       "<div>\n",
       "<style scoped>\n",
       "    .dataframe tbody tr th:only-of-type {\n",
       "        vertical-align: middle;\n",
       "    }\n",
       "\n",
       "    .dataframe tbody tr th {\n",
       "        vertical-align: top;\n",
       "    }\n",
       "\n",
       "    .dataframe thead th {\n",
       "        text-align: right;\n",
       "    }\n",
       "</style>\n",
       "<table border=\"1\" class=\"dataframe\">\n",
       "  <thead>\n",
       "    <tr style=\"text-align: right;\">\n",
       "      <th></th>\n",
       "      <th>MUSIC</th>\n",
       "      <th>cosine_dissim</th>\n",
       "      <th>num_songs</th>\n",
       "      <th>user_id</th>\n",
       "      <th>div_pref</th>\n",
       "    </tr>\n",
       "  </thead>\n",
       "  <tbody>\n",
       "    <tr>\n",
       "      <th>0</th>\n",
       "      <td>[4.229812033333332, 1.4042373883333334, 3.7184...</td>\n",
       "      <td>1.896060e-08</td>\n",
       "      <td>3.0</td>\n",
       "      <td>00000b722001882066dff9d2da8a775658053ea0</td>\n",
       "      <td>0.398530</td>\n",
       "    </tr>\n",
       "    <tr>\n",
       "      <th>1</th>\n",
       "      <td>[5.406152586, 1.7313612479, 4.5080888204, -7.8...</td>\n",
       "      <td>1.820415e-08</td>\n",
       "      <td>6.0</td>\n",
       "      <td>00001638d6189236866af9bbf309ae6c2347ffdc</td>\n",
       "      <td>0.397648</td>\n",
       "    </tr>\n",
       "    <tr>\n",
       "      <th>2</th>\n",
       "      <td>[3.9929606913333338, 1.3756423253666668, 3.569...</td>\n",
       "      <td>3.688890e-08</td>\n",
       "      <td>6.0</td>\n",
       "      <td>0000175652312d12576d9e6b84f600caa24c4715</td>\n",
       "      <td>0.419433</td>\n",
       "    </tr>\n",
       "    <tr>\n",
       "      <th>3</th>\n",
       "      <td>[4.252966333333332, 1.4018970666666666, 3.5408...</td>\n",
       "      <td>2.811389e-10</td>\n",
       "      <td>3.0</td>\n",
       "      <td>00001cf0dce3fb22b0df0f3a1d9cd21e38385372</td>\n",
       "      <td>0.376751</td>\n",
       "    </tr>\n",
       "    <tr>\n",
       "      <th>4</th>\n",
       "      <td>[5.141352444444443, 1.3462904777777778, 4.3820...</td>\n",
       "      <td>1.043408e-07</td>\n",
       "      <td>9.0</td>\n",
       "      <td>0000267bde1b3a70ea75cf2b2d216cb828e3202b</td>\n",
       "      <td>0.498075</td>\n",
       "    </tr>\n",
       "  </tbody>\n",
       "</table>\n",
       "</div>"
      ],
      "text/plain": [
       "                                               MUSIC  cosine_dissim  \\\n",
       "0  [4.229812033333332, 1.4042373883333334, 3.7184...   1.896060e-08   \n",
       "1  [5.406152586, 1.7313612479, 4.5080888204, -7.8...   1.820415e-08   \n",
       "2  [3.9929606913333338, 1.3756423253666668, 3.569...   3.688890e-08   \n",
       "3  [4.252966333333332, 1.4018970666666666, 3.5408...   2.811389e-10   \n",
       "4  [5.141352444444443, 1.3462904777777778, 4.3820...   1.043408e-07   \n",
       "\n",
       "   num_songs                                   user_id  div_pref  \n",
       "0        3.0  00000b722001882066dff9d2da8a775658053ea0  0.398530  \n",
       "1        6.0  00001638d6189236866af9bbf309ae6c2347ffdc  0.397648  \n",
       "2        6.0  0000175652312d12576d9e6b84f600caa24c4715  0.419433  \n",
       "3        3.0  00001cf0dce3fb22b0df0f3a1d9cd21e38385372  0.376751  \n",
       "4        9.0  0000267bde1b3a70ea75cf2b2d216cb828e3202b  0.498075  "
      ]
     },
     "execution_count": 6,
     "metadata": {},
     "output_type": "execute_result"
    }
   ],
   "source": [
    "df = pd.read_hdf('data/user_div_MUSIC_divpref.h5', key='df')\n",
    "df.head()"
   ]
  },
  {
   "cell_type": "code",
   "execution_count": 22,
   "metadata": {},
   "outputs": [
    {
     "name": "stdout",
     "output_type": "stream",
     "text": [
      "(992073, 5) (992073,)\n"
     ]
    }
   ],
   "source": [
    "X = np.array(list(map(np.array, df['MUSIC'].values)))\n",
    "y = df['div_pref'].values\n",
    "\n",
    "print(X.shape, y.shape)"
   ]
  },
  {
   "cell_type": "code",
   "execution_count": null,
   "metadata": {},
   "outputs": [],
   "source": [
    "models = {\n",
    "    'linreg': LinearRegression,\n",
    "    'rf': RandomForestRegressor,\n",
    "    'logreg': LogisticRegression,\n",
    "}\n",
    "\n",
    "for name, model in models.items():\n",
    "    reg = model().fit(X,y)\n",
    "    print(f'{name}: {reg.score(X,y)}')"
   ]
  },
  {
   "cell_type": "code",
   "execution_count": 34,
   "metadata": {},
   "outputs": [
    {
     "data": {
      "text/plain": [
       "array([-0.01959222,  1.05897955,  1.46386685,  1.13209118,  0.39602914])"
      ]
     },
     "execution_count": 34,
     "metadata": {},
     "output_type": "execute_result"
    }
   ],
   "source": [
    "linreg = LinearRegression().fit(X,y)\n",
    "linreg.score(X, y)\n",
    "linreg.coef_"
   ]
  },
  {
   "cell_type": "code",
   "execution_count": null,
   "metadata": {
    "collapsed": true
   },
   "outputs": [],
   "source": []
  }
 ],
 "metadata": {
  "kernelspec": {
   "display_name": "Python 3",
   "language": "python",
   "name": "python3"
  },
  "language_info": {
   "codemirror_mode": {
    "name": "ipython",
    "version": 3
   },
   "file_extension": ".py",
   "mimetype": "text/x-python",
   "name": "python",
   "nbconvert_exporter": "python",
   "pygments_lexer": "ipython3",
   "version": "3.6.4"
  }
 },
 "nbformat": 4,
 "nbformat_minor": 2
}
