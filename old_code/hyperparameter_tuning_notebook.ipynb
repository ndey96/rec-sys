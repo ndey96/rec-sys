{
 "cells": [
  {
   "cell_type": "code",
   "execution_count": 1,
   "metadata": {},
   "outputs": [],
   "source": [
    "from evaluation import get_metrics\n",
    "from ALSpkNN import ALSpkNN\n",
    "import pandas as pd\n",
    "\n",
    "import numpy as np\n",
    "from scipy.sparse import load_npz\n",
    "from scipy.sparse import csr_matrix\n",
    "from implicit.als import AlternatingLeastSquares\n",
    "\n",
    "from implicit.evaluation import mean_average_precision_at_k"
   ]
  },
  {
   "cell_type": "code",
   "execution_count": 2,
   "metadata": {},
   "outputs": [],
   "source": [
    "# hyperparameters:\n",
    "    #   k=100\n",
    "    #   knn_frac=0.5\n",
    "    #   min_overlap=0.05"
   ]
  },
  {
   "cell_type": "code",
   "execution_count": 3,
   "metadata": {},
   "outputs": [],
   "source": [
    "k_vals = [5, 50, 500]\n",
    "knn_frac_vals = [0.25, 0.5, 1]\n",
    "min_overlap_vals = [0, 0.05, 0.2]"
   ]
  },
  {
   "cell_type": "code",
   "execution_count": 4,
   "metadata": {},
   "outputs": [
    {
     "name": "stdout",
     "output_type": "stream",
     "text": [
      "Loading Data\n"
     ]
    }
   ],
   "source": [
    "load_data = True\n",
    "if load_data == True:\n",
    "    print(\"Loading Data\")\n",
    "    user_df = pd.read_hdf('data/user_df.h5', key='df')\n",
    "\n",
    "    # train_plays, test_plays -> num_songs x num_users CSR matrix\n",
    "    train_plays = load_npz('data/train_sparse.npz')\n",
    "    test_plays = load_npz('data/test_sparse.npz')\n",
    "\n",
    "    song_df = pd.read_hdf('data/song_df.h5', key='df')\n",
    "    song_df.set_index('song_id', inplace=True)"
   ]
  },
  {
   "cell_type": "code",
   "execution_count": null,
   "metadata": {},
   "outputs": [
    {
     "name": "stdout",
     "output_type": "stream",
     "text": [
      "Fitting model...\n"
     ]
    },
    {
     "name": "stderr",
     "output_type": "stream",
     "text": [
      "100%|██████████| 2.0/2 [00:36<00:00, 16.53s/it, loss=0.000559]\n"
     ]
    },
    {
     "name": "stdout",
     "output_type": "stream",
     "text": [
      "Starting pool.map\n",
      "recs time: 1805.7283849716187s\n",
      "MAP@K calculation time: 2.9797229766845703s\n",
      "Fitting model...\n"
     ]
    },
    {
     "name": "stderr",
     "output_type": "stream",
     "text": [
      "100%|██████████| 2.0/2 [00:37<00:00, 17.29s/it, loss=0.000568]\n"
     ]
    },
    {
     "name": "stdout",
     "output_type": "stream",
     "text": [
      "Starting pool.map\n"
     ]
    }
   ],
   "source": [
    "with open('log.txt', 'w') as file:\n",
    "    file.write('k, knn_frac, min_overlap, map_k, cosine\\n')\n",
    "\n",
    "for i in range(len(k_vals)):\n",
    "    for j in range(len(knn_frac_vals)):\n",
    "        for k in range(len(min_overlap_vals)):\n",
    "            tuning_model = ALSpkNN(user_df, song_df, k_vals[i], 0, min_overlap_vals[k], cf_weighting_alpha=1)\n",
    "            print(\"Fitting model...\")\n",
    "            tuning_model.fit(train_plays)\n",
    "            metrics = get_metrics(\n",
    "                metrics=['MAP@K', 'cosine_list_dissimilarity'],\n",
    "                N=20,\n",
    "                model=tuning_model,\n",
    "                train_user_items=train_plays.transpose(),\n",
    "                test_user_items=test_plays.transpose(),\n",
    "                song_df_sparse_indexed=None,\n",
    "                limit=99999999)\n",
    "            \n",
    "            mapk = metrics['MAP@K']\n",
    "            cosdis = metrics['cosine_list_dissimilarity']\n",
    "            \n",
    "            with open('log.txt', 'a') as file:\n",
    "                file.write(f'{k_vals[i]},{knn_frac_vals[j]},{min_overlap_vals[k]},{mapk},{cosdis}\\n')\n",
    "            "
   ]
  },
  {
   "cell_type": "code",
   "execution_count": null,
   "metadata": {},
   "outputs": [],
   "source": []
  }
 ],
 "metadata": {
  "kernelspec": {
   "display_name": "Python 3",
   "language": "python",
   "name": "python3"
  },
  "language_info": {
   "codemirror_mode": {
    "name": "ipython",
    "version": 3
   },
   "file_extension": ".py",
   "mimetype": "text/x-python",
   "name": "python",
   "nbconvert_exporter": "python",
   "pygments_lexer": "ipython3",
   "version": "3.7.1"
  }
 },
 "nbformat": 4,
 "nbformat_minor": 2
}
