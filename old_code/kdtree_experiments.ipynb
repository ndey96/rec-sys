{
 "cells": [
  {
   "cell_type": "code",
   "execution_count": 76,
   "metadata": {
    "collapsed": true
   },
   "outputs": [],
   "source": [
    "import pandas as pd\n",
    "from scipy.spatial import KDTree\n",
    "from random import randint\n",
    "import csv\n",
    "from collections import Counter\n",
    "\n",
    "k = 100\n",
    "m = 20"
   ]
  },
  {
   "cell_type": "code",
   "execution_count": 69,
   "metadata": {
    "collapsed": true
   },
   "outputs": [],
   "source": [
    "user_MUSIC_df = pd.read_hdf('data/user_div_MUSIC_divpref.h5', key='df')"
   ]
  },
  {
   "cell_type": "code",
   "execution_count": 70,
   "metadata": {},
   "outputs": [
    {
     "data": {
      "text/html": [
       "<div>\n",
       "<style scoped>\n",
       "    .dataframe tbody tr th:only-of-type {\n",
       "        vertical-align: middle;\n",
       "    }\n",
       "\n",
       "    .dataframe tbody tr th {\n",
       "        vertical-align: top;\n",
       "    }\n",
       "\n",
       "    .dataframe thead th {\n",
       "        text-align: right;\n",
       "    }\n",
       "</style>\n",
       "<table border=\"1\" class=\"dataframe\">\n",
       "  <thead>\n",
       "    <tr style=\"text-align: right;\">\n",
       "      <th></th>\n",
       "      <th>MUSIC</th>\n",
       "      <th>cosine_dissim</th>\n",
       "      <th>num_songs</th>\n",
       "      <th>user_id</th>\n",
       "      <th>div_pref</th>\n",
       "    </tr>\n",
       "  </thead>\n",
       "  <tbody>\n",
       "    <tr>\n",
       "      <th>0</th>\n",
       "      <td>[4.229812033333332, 1.4042373883333334, 3.7184...</td>\n",
       "      <td>1.896060e-08</td>\n",
       "      <td>3.0</td>\n",
       "      <td>00000b722001882066dff9d2da8a775658053ea0</td>\n",
       "      <td>0.398530</td>\n",
       "    </tr>\n",
       "    <tr>\n",
       "      <th>1</th>\n",
       "      <td>[5.406152586, 1.7313612479, 4.5080888204, -7.8...</td>\n",
       "      <td>1.820415e-08</td>\n",
       "      <td>6.0</td>\n",
       "      <td>00001638d6189236866af9bbf309ae6c2347ffdc</td>\n",
       "      <td>0.397648</td>\n",
       "    </tr>\n",
       "    <tr>\n",
       "      <th>2</th>\n",
       "      <td>[3.9929606913333338, 1.3756423253666668, 3.569...</td>\n",
       "      <td>3.688890e-08</td>\n",
       "      <td>6.0</td>\n",
       "      <td>0000175652312d12576d9e6b84f600caa24c4715</td>\n",
       "      <td>0.419433</td>\n",
       "    </tr>\n",
       "    <tr>\n",
       "      <th>3</th>\n",
       "      <td>[4.252966333333332, 1.4018970666666666, 3.5408...</td>\n",
       "      <td>2.811389e-10</td>\n",
       "      <td>3.0</td>\n",
       "      <td>00001cf0dce3fb22b0df0f3a1d9cd21e38385372</td>\n",
       "      <td>0.376751</td>\n",
       "    </tr>\n",
       "    <tr>\n",
       "      <th>4</th>\n",
       "      <td>[5.141352444444443, 1.3462904777777778, 4.3820...</td>\n",
       "      <td>1.043408e-07</td>\n",
       "      <td>9.0</td>\n",
       "      <td>0000267bde1b3a70ea75cf2b2d216cb828e3202b</td>\n",
       "      <td>0.498075</td>\n",
       "    </tr>\n",
       "  </tbody>\n",
       "</table>\n",
       "</div>"
      ],
      "text/plain": [
       "                                               MUSIC  cosine_dissim  \\\n",
       "0  [4.229812033333332, 1.4042373883333334, 3.7184...   1.896060e-08   \n",
       "1  [5.406152586, 1.7313612479, 4.5080888204, -7.8...   1.820415e-08   \n",
       "2  [3.9929606913333338, 1.3756423253666668, 3.569...   3.688890e-08   \n",
       "3  [4.252966333333332, 1.4018970666666666, 3.5408...   2.811389e-10   \n",
       "4  [5.141352444444443, 1.3462904777777778, 4.3820...   1.043408e-07   \n",
       "\n",
       "   num_songs                                   user_id  div_pref  \n",
       "0        3.0  00000b722001882066dff9d2da8a775658053ea0  0.398530  \n",
       "1        6.0  00001638d6189236866af9bbf309ae6c2347ffdc  0.397648  \n",
       "2        6.0  0000175652312d12576d9e6b84f600caa24c4715  0.419433  \n",
       "3        3.0  00001cf0dce3fb22b0df0f3a1d9cd21e38385372  0.376751  \n",
       "4        9.0  0000267bde1b3a70ea75cf2b2d216cb828e3202b  0.498075  "
      ]
     },
     "execution_count": 70,
     "metadata": {},
     "output_type": "execute_result"
    }
   ],
   "source": [
    "user_MUSIC_df.head()"
   ]
  },
  {
   "cell_type": "code",
   "execution_count": 71,
   "metadata": {
    "collapsed": true
   },
   "outputs": [],
   "source": [
    "# extract all MUSIC vectors to create tree\n",
    "MUSIC_vectors = user_MUSIC_df.iloc[:,0].values.tolist()\n",
    "\n",
    "# create kdtree\n",
    "tree = KDTree(MUSIC_vectors)"
   ]
  },
  {
   "cell_type": "code",
   "execution_count": 72,
   "metadata": {},
   "outputs": [
    {
     "name": "stdout",
     "output_type": "stream",
     "text": [
      "['00174ccfb573aa9e1aa097772e801539a2f4c75d', '75acab18606893a38049b51dcfbeee2a97deef95', 'e1dbe900372f9a8fb49f35ae53abec1071132ae0', '65e624f6bed934a36acf63f7f5911ed430a94fec', 'c24fb093521f291914b0b5c0997c5106d355114c', '6f0924e1e05a503a3ee7670dec4e907b7ee2d5bb', '5521e356f5ccfc96908c3bc7f51bc50731e54906', '4b004fe5ebfaa24f2a608e9cef6f009ba2b9b737', 'c5baee11d0f4ba135dd2e997537af9d7e68cd4ab', '4d67e54f7f79015af0777891fb7876b1f772b2fe', 'e5ac0a773f57f0237f6d265024445244bd9f88b0', 'ab8dfb957df0a703229f7ab74b05e2f93fce2351', '3d0d70aa2dc569581fe70d9de659f55dc677314a', '99422ed500b560b296409b0c0ae84cc7b2797461', 'fa2336654ea6e4ddd656783dfcbcb4886dba395d', '1d17da36ea6efcc3b6a1a2f607cf95b12ca4367d', 'ed03c97ebd1ade7735a8eb247006bb97fe51f7d1', 'ea7393a90ecf73340ce118e75143df277c81dabe', '2ce5b9cbe70f5c88ca6d6b9fcb0078a378536abd', 'cff7d454b0fa4465b9745aacf7c0345ce93f6a58', '91deb5d569053d06dea573a415415c8b97a8a95c', '9647524b45b1e85d267dba373d657dd76eee7034', '4df80fc8a367a8d5efb4cccf903ba9dc91d0c1e0', '2bb574336c73c202203a43d28ae48d86d2d4b0ae', 'c6b0d1906d90a3a91d051a42b8b470b6685d6cb7', '98bac109845223f80e78abffd925da4c2309a60b', '6aa8c18bbe3f763ddcc1ca9eea08ebefc9b31354', '96fa0c091d94213db2029536c2c54e71ca8382a4', 'b258d250ff049573bc530c31a73230b06885439b', 'f244924d03fa2997972374666f797b9bc3e4482d', '2fc33ed5148fc2e5290e5dc891264d09b7dc1514', '78d85c97c8d8f9789fe9823d405f1df5e5535afe', 'fd7043ce9596bbc8863ae85bf32c5812f6aef74e', 'e3460ff184dfd17a1131de863ad5322b6f3effd2', 'c2794521806cbccf087d5ec576c3ed8b4fff0237', '74dd39fd9951a134b8663cc22da1bd5bf014af28', '8dbba84cb93f0a204f654e8161a35195c108ea5a', 'd2f1b934a5c5ba7576ffbbc1e8773ec9d11715e8', 'a45caf589db1c4175124e7abdb3fe89f5ff6b0fc', '6cb438966443cc11deb0bd48a7bd1adda000933d', 'e40b10f590053d7f2afe3279103060af71c965b2', 'e14a99735cc90ca78a99c759dacdd5c382fd34c4', 'a3ee503a52e9d554e06a1b1dd2b232a2cc0ab62d', 'a6b4b778c5e71b29f2c9a8ed46ad9792e56e1869', 'b480fef68df6e21aa1628592b2c0a7daf0437140', '77976eea51191b982fb0c0533d42459c2eff922a', '351d7bc2d1ad3d62855fcf32e9e54b02ad3e96be', '3802f9faa2075a556ab0e3a7c16f9b2864145aa7', 'fd818164b1875f27fbb1b0f8172169bdc864de84', 'f153f7a0479617ae9150d7c80c7ba79edf977cfa']\n"
     ]
    }
   ],
   "source": [
    "# select one user at random\n",
    "random_index = randint(0, 1000)\n",
    "random_user_MUSIC = MUSIC_vectors[random_index]\n",
    "\n",
    "# find k closest vector indices\n",
    "k = 50\n",
    "distances, indices = tree.query(random_user_MUSIC, k)\n",
    "\n",
    "# use those indices to find corresponding userids\n",
    "closest_userids = []\n",
    "for index in indices:\n",
    "    closest_userids.append(user_MUSIC_df.iloc[index, 3])\n",
    "    \n",
    "print(closest_userids)\n"
   ]
  },
  {
   "cell_type": "code",
   "execution_count": 73,
   "metadata": {},
   "outputs": [
    {
     "name": "stdout",
     "output_type": "stream",
     "text": [
      "[4.229812033333332, 1.4042373883333334, 3.718447513333333, -6.4863809183333325, 2.166463065]\n"
     ]
    }
   ],
   "source": [
    "userid = '00000b722001882066dff9d2da8a775658053ea0'\n",
    "a = user_MUSIC_df.loc[user_MUSIC_df['user_id'] == userid]['MUSIC'].tolist()[0]\n",
    "print(a)"
   ]
  },
  {
   "cell_type": "code",
   "execution_count": 74,
   "metadata": {
    "collapsed": true
   },
   "outputs": [],
   "source": [
    "# get top m songs by popularity amongst k closest MUSIC listeners\n",
    "\n",
    "# load userid_playlist_dict\n",
    "\n",
    "userid_playlist_df = pd.read_hdf('data/userid_playlist.h5', key='df')\n",
    "\n",
    "closest_user_songs = []\n",
    "for i in range(len(closest_userids)):\n",
    "    closest_user_songs.append(userid_playlist_df.loc[userid_playlist_df['user_id'] == closest_userids[i]]['playlist'].tolist()[0])\n",
    "    \n",
    "closest_user_songs = [item for sublist in closest_user_songs for item in sublist]"
   ]
  },
  {
   "cell_type": "code",
   "execution_count": 81,
   "metadata": {},
   "outputs": [
    {
     "name": "stdout",
     "output_type": "stream",
     "text": [
      "<class 'tuple'>\n"
     ]
    }
   ],
   "source": [
    "counted_closest_user_songs = Counter(closest_user_songs)\n",
    "\n",
    "counted_closest_user_songs.most_common()[:m]\n",
    "[i[0] for i in a]\n",
    "\n",
    "print(type(counted_closest_user_songs.most_common()[0]))"
   ]
  },
  {
   "cell_type": "code",
   "execution_count": null,
   "metadata": {
    "collapsed": true
   },
   "outputs": [],
   "source": []
  }
 ],
 "metadata": {
  "kernelspec": {
   "display_name": "Python 3",
   "language": "python",
   "name": "python3"
  },
  "language_info": {
   "codemirror_mode": {
    "name": "ipython",
    "version": 3
   },
   "file_extension": ".py",
   "mimetype": "text/x-python",
   "name": "python",
   "nbconvert_exporter": "python",
   "pygments_lexer": "ipython3",
   "version": "3.6.4"
  }
 },
 "nbformat": 4,
 "nbformat_minor": 2
}
