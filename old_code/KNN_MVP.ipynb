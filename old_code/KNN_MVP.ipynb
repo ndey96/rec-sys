{
 "cells": [
  {
   "cell_type": "code",
   "execution_count": 2,
   "metadata": {
    "collapsed": true
   },
   "outputs": [],
   "source": [
    "import os\n",
    "os.environ['MKL_NUM_THREADS'] = '1'\n",
    "import time\n",
    "import tqdm\n",
    "import pandas as pd\n",
    "import numpy as np\n",
    "from scipy.sparse import load_npz\n",
    "from scipy.sparse import csr_matrix\n",
    "from scipy.spatial import KDTree\n",
    "from implicit.als import AlternatingLeastSquares\n",
    "from implicit.evaluation import mean_average_precision_at_k\n",
    "from random import shuffle, randint\n",
    "from collections import Counter"
   ]
  },
  {
   "cell_type": "code",
   "execution_count": 3,
   "metadata": {
    "collapsed": true
   },
   "outputs": [],
   "source": [
    "def build_cf_model(train_plays):\n",
    "    als_params = {'factors': 16,\n",
    "                  'dtype': np.float32,\n",
    "                  'iterations': 15,\n",
    "                  'calculate_training_loss': True}\n",
    "    model = AlternatingLeastSquares(**als_params)\n",
    "\n",
    "    #perform operation to approximate confidence intervals\n",
    "    #paper doesn't specify an alpha value, so just guess alpha=1\n",
    "    alpha = 1\n",
    "    train_plays.data = 1 + np.log(alpha*train_plays.data)\n",
    "    model.fit(train_plays)\n",
    "    return model\n",
    "\n",
    "def build_kdtree(user_MUSIC_df):\n",
    "    MUSIC_vectors = user_MUSIC_df['MUSIC'].values.tolist()\n",
    "    return KDTree(MUSIC_vectors)\n",
    "\n",
    "def get_closest_MUSIC_user_ids(user_id, k, user_MUSIC_df, kdtree):\n",
    "    user_MUSIC = user_MUSIC_df.loc[user_MUSIC_df['user_id'] == user_id]['MUSIC'].tolist()[0]\n",
    "\n",
    "    distances, indices = kdtree.query(user_MUSIC, k)\n",
    "    closest_userids = []\n",
    "\n",
    "    for index in indices:\n",
    "        closest_userids.append(user_MUSIC_df.iloc[index, 3])\n",
    "\n",
    "    return closest_userids\n",
    "\n",
    "\n",
    "def get_knn_top_m_songs(user_id, k, m, kdtree, user_playlist_df, user_MUSIC_df):\n",
    "    closest_userids = get_closest_MUSIC_user_ids(user_id, k, user_MUSIC_df, kdtree)\n",
    "    closest_user_songs = []\n",
    "    for i in range(len(closest_userids)):\n",
    "        closest_user_songs.append(user_playlist_df.loc[user_playlist_df[\n",
    "            'user_id'] == closest_userids[i]]['playlist'].tolist()[0])\n",
    "\n",
    "    closest_user_songs = [item for sublist in closest_user_songs for item in sublist]\n",
    "    counted_closest_user_songs = Counter(closest_user_songs)\n",
    "    top_m_songs = [i[0] for i in counted_closest_user_songs.most_common()[:m]]\n",
    "\n",
    "    return top_m_songs\n",
    "\n",
    "def get_recommendations(user_id, user_sparse_index, cf_model, kdtree, train_plays,\n",
    "                        user_playlist_df, user_MUSIC_df, n, m, k):\n",
    "        n_songs = [song_tuple[0] for song_tuple in cf_model.recommend(userid=user_sparse_index,\n",
    "                                                                      user_items=train_plays.transpose(),\n",
    "                                                                      N=n)]\n",
    "        m_songs = get_knn_top_m_songs(user_id=user_id,\n",
    "                                      k=k,\n",
    "                                      m=m,\n",
    "                                      kdtree=kdtree,\n",
    "                                      user_playlist_df=user_playlist_df,\n",
    "                                      user_MUSIC_df=user_MUSIC_df)\n",
    "        return shuffle(n_songs + m_songs)"
   ]
  },
  {
   "cell_type": "code",
   "execution_count": 4,
   "metadata": {},
   "outputs": [
    {
     "name": "stdout",
     "output_type": "stream",
     "text": [
      "Loading data...\n",
      "Fitting CF model...\n"
     ]
    },
    {
     "name": "stderr",
     "output_type": "stream",
     "text": [
      "100%|██████████████████████████████████████████████████████████████████████| 15.0/15 [01:52<00:00,  7.41s/it, loss=0.000166]\n"
     ]
    },
    {
     "name": "stdout",
     "output_type": "stream",
     "text": [
      "Building KDTree...\n"
     ]
    }
   ],
   "source": [
    "print('Loading data...')\n",
    "user_playlist_df = pd.read_hdf('data/userid_playlist.h5', key='df')\n",
    "user_MUSIC_df = pd.read_hdf('data/user_MUSIC_num_songs.h5', key='df')\n",
    "\n",
    "# train_plays, test_plays -> num_songs x num_users CSR matrix\n",
    "train_plays = load_npz('data/train_sparse.npz')\n",
    "test_plays = load_npz('data/test_sparse.npz')\n",
    "\n",
    "# songs -> CSR_row_index: song_id\n",
    "songs = pd.read_hdf('data/song_mapping.h5', key='df')\n",
    "\n",
    "# users -> CSR_col_index: user_id\n",
    "users = pd.read_hdf('data/user_mapping.h5', key='df')\n",
    "\n",
    "print('Fitting CF model...')\n",
    "cf_model = build_cf_model(train_plays)\n",
    "print('Building KDTree...')\n",
    "kdtree = build_kdtree(user_MUSIC_df=user_MUSIC_df)"
   ]
  },
  {
   "cell_type": "code",
   "execution_count": 5,
   "metadata": {
    "collapsed": true
   },
   "outputs": [],
   "source": [
    "for user_id, user_sparse_index in users.head(1000)[['user', 'sparse_index']].values:\n",
    "    try:\n",
    "        song_ids = get_recommendations(user_id=user_id,\n",
    "                                       user_sparse_index=user_sparse_index,\n",
    "                                       cf_model=cf_model,\n",
    "                                       kdtree=kdtree,\n",
    "                                       train_plays=train_plays,\n",
    "                                       user_playlist_df=user_playlist_df,\n",
    "                                       user_MUSIC_df=user_MUSIC_df,\n",
    "                                       n=10,\n",
    "                                       m=10,\n",
    "                                       k=100)\n",
    "        print(song_ids)\n",
    "        \n",
    "    except Exception:\n",
    "#         print('This user_id does not have a MUSIC value')\n",
    "        continue"
   ]
  },
  {
   "cell_type": "code",
   "execution_count": 6,
   "metadata": {},
   "outputs": [
    {
     "name": "stdout",
     "output_type": "stream",
     "text": [
      " Volume in drive C has no label.\n",
      " Volume Serial Number is CA13-F640\n",
      "\n",
      " Directory of C:\\Users\\Ian\\Documents\\GitHub\\rec-sys\\data\n",
      "\n",
      "03/02/2019  08:05 PM    <DIR>          .\n",
      "03/02/2019  08:05 PM    <DIR>          ..\n",
      "03/01/2019  12:49 PM       904,351,168 song_mapping.h5\n",
      "03/01/2019  12:49 PM         5,296,379 test_sparse.npz\n",
      "03/01/2019  12:49 PM       166,764,672 train_sparse.npz\n",
      "03/01/2019  12:48 PM       956,995,552 user_mapping.h5\n",
      "03/02/2019  07:56 PM       161,080,024 user_MUSIC_num_songs.h5\n",
      "03/02/2019  08:04 PM       527,753,856 userid_playlist.h5\n",
      "               6 File(s)  2,722,241,651 bytes\n",
      "               2 Dir(s)   6,927,454,208 bytes free\n"
     ]
    }
   ],
   "source": [
    "ls data"
   ]
  },
  {
   "cell_type": "code",
   "execution_count": null,
   "metadata": {
    "collapsed": true
   },
   "outputs": [],
   "source": [
    "# # train_plays, test_plays -> num_songs x num_users CSR matrix      \n",
    "# test_plays = load_npz('data/test_sparse.npz')\n",
    "# # songs -> CSR_row_index: song_id\n",
    "# songs = pd.read_hdf('data/song_mapping.h5', key='df')\n",
    "# # songs -> CSR_col_index: user_id\n",
    "# users = pd.read_hdf('data/user_mapping.h5', key='df')\n",
    "\n",
    "\n",
    "\n",
    "# # LET n = number of songs\n",
    "# # LET m = number of audio features\n",
    "# feature_MUSIC_dict = {\n",
    "#     'danceability': np.array([-0.37, 0.05, -0.35, 0.08, 0.43]),\n",
    "#     'energy': np.array([-0.64, -0.46, -0.13, 0.66, -0.03]),\n",
    "#     'instrumentalness': np.array([0.20, -0.47, 0.28, 0.09, -0.01]),\n",
    "#     'liveness': np.array([-0.69, -0.12, -0.07, 0.43, 0.02]),\n",
    "#     'loudness': np.array([-0.58, -0.19, -0.44, 0.79, -0.21]),\n",
    "#     'valence': np.array([-0.04, 0.18, 0.24, -0.34, 0.18]),\n",
    "# }\n",
    "# # feature_MUSIC_matrix -> m x 5 matrix, where m is the number of audio features in feature_MUSIC_dict\n",
    "# feature_MUSIC_matrix = [MUSIC for MUSIC in feature_MUSIC_dict.values()]\n",
    "\n",
    "# def get_MUSIC(sub_df):\n",
    "#     # song_vectors -> n x m matrix, where m is the number of audio features in feature_MUSIC_dict\n",
    "#     song_vectors = sub_df[list(feature_MUSIC_dict.keys())].values\n",
    "    \n",
    "#     # unweighted_MUSIC_vals -> n x 5 matrix\n",
    "#     unweighted_MUSIC_vals = song_vectors @ feature_MUSIC_matrix\n",
    "\n",
    "#     return list(np.mean(unweighted_MUSIC_vals, axis=0))\n",
    "\n",
    "# MUSIC = get_MUSIC(df)\n",
    "# MUSIC"
   ]
  },
  {
   "cell_type": "code",
   "execution_count": null,
   "metadata": {
    "collapsed": true
   },
   "outputs": [],
   "source": [
    "# songs -> CSR_row_index: song_id\n",
    "songs = pd.read_hdf('data/song_mapping.h5', key='df')\n",
    "\n",
    "# users -> CSR_col_index: user_id\n",
    "users = pd.read_hdf('data/user_mapping.h5', key='df')"
   ]
  },
  {
   "cell_type": "code",
   "execution_count": null,
   "metadata": {
    "collapsed": true
   },
   "outputs": [],
   "source": [
    "for a,b in users.head(3)[['user', 'sparse_index']].values:\n",
    "    print(a,b)"
   ]
  },
  {
   "cell_type": "code",
   "execution_count": null,
   "metadata": {
    "collapsed": true
   },
   "outputs": [],
   "source": [
    "# spotify['msd_id'] = spotify['msd_id'].str.encode('utf-8')\n",
    "# spotify['msd_id'] = spotify['msd_id'].astype(str)\n",
    "# msd['track_id'] = msd['track_id'].astype(str)"
   ]
  },
  {
   "cell_type": "code",
   "execution_count": null,
   "metadata": {
    "collapsed": true
   },
   "outputs": [],
   "source": [
    "users.head()"
   ]
  },
  {
   "cell_type": "code",
   "execution_count": null,
   "metadata": {
    "collapsed": true
   },
   "outputs": [],
   "source": [
    "user_MUSIC_df.head()"
   ]
  },
  {
   "cell_type": "code",
   "execution_count": null,
   "metadata": {
    "collapsed": true
   },
   "outputs": [],
   "source": [
    "user_playlist_df.tail()"
   ]
  },
  {
   "cell_type": "code",
   "execution_count": null,
   "metadata": {
    "collapsed": true
   },
   "outputs": [],
   "source": [
    "# songs = songs.rename(index=str, columns={'track': 'sparse_index', 'sparse_index': 'track'})\n",
    "# songs.head()\n",
    "# songs.to_hdf('data/song_mapping.h5', key='df')\n",
    "\n",
    "# users = users.rename(index=str, columns={'user': 'sparse_index', 'sparse_index': 'user'})\n",
    "# users.head(100)\n",
    "# users.to_hdf('data/user_mapping.h5', key='df')"
   ]
  },
  {
   "cell_type": "code",
   "execution_count": null,
   "metadata": {
    "collapsed": true
   },
   "outputs": [],
   "source": [
    "users.head(1)['user'].values[0]"
   ]
  },
  {
   "cell_type": "code",
   "execution_count": null,
   "metadata": {
    "collapsed": true
   },
   "outputs": [],
   "source": [
    "user_MUSIC_df.head(1)['user_id'].values[0]"
   ]
  },
  {
   "cell_type": "code",
   "execution_count": null,
   "metadata": {
    "collapsed": true
   },
   "outputs": [],
   "source": [
    "user_MUSIC_df.loc[user_MUSIC_df['user_id'] == users.head(1)['user'].values[0].encode()]"
   ]
  },
  {
   "cell_type": "code",
   "execution_count": null,
   "metadata": {
    "collapsed": true
   },
   "outputs": [],
   "source": [
    "user_MUSIC_df.loc[user_MUSIC_df['user_id'] == users.head(100)['user'].values[99]]"
   ]
  },
  {
   "cell_type": "code",
   "execution_count": null,
   "metadata": {
    "collapsed": true
   },
   "outputs": [],
   "source": []
  }
 ],
 "metadata": {
  "kernelspec": {
   "display_name": "Python 3",
   "language": "python",
   "name": "python3"
  },
  "language_info": {
   "codemirror_mode": {
    "name": "ipython",
    "version": 3
   },
   "file_extension": ".py",
   "mimetype": "text/x-python",
   "name": "python",
   "nbconvert_exporter": "python",
   "pygments_lexer": "ipython3",
   "version": "3.6.4"
  }
 },
 "nbformat": 4,
 "nbformat_minor": 2
}
