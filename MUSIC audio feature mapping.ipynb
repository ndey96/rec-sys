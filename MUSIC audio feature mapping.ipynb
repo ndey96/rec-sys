{
 "cells": [
  {
   "cell_type": "code",
   "execution_count": 82,
   "metadata": {
    "collapsed": true
   },
   "outputs": [],
   "source": [
    "import numpy as np\n",
    "import pandas as pd\n",
    "import time"
   ]
  },
  {
   "cell_type": "code",
   "execution_count": 109,
   "metadata": {},
   "outputs": [
    {
     "name": "stdout",
     "output_type": "stream",
     "text": [
      "0.046942949295043945\n",
      "[ 4.78334964  1.50616185  4.0751191  -7.10651683  2.30224419]\n"
     ]
    }
   ],
   "source": [
    "feature_MUSIC_dict = {\n",
    "    'danceability': np.array([-0.37, 0.05, -0.35, 0.08, 0.43]),\n",
    "    'energy': np.array([-0.64, -0.46, -0.13, 0.66, -0.03]),\n",
    "    'instrumentalness': np.array([0.20, -0.47, 0.28, 0.09, -0.01]),\n",
    "    'liveness': np.array([-0.69, -0.12, -0.07, 0.43, 0.02]),\n",
    "    'loudness': np.array([-0.58, -0.19, -0.44, 0.79, -0.21]),\n",
    "    'valence': np.array([-0.04, 0.18, 0.24, -0.34, 0.18]),\n",
    "}\n",
    "feature_MUSIC_matrix = [MUSIC for MUSIC in feature_MUSIC_dict.values()]\n",
    "\n",
    "msd = pd.read_hdf('data/full_msd_with_audio_features.h5', key='df')\n",
    "msd = msd[['song_id'] + list(feature_MUSIC_dict.keys())]\n",
    "\n",
    "def get_MUSIC(song_ids):    \n",
    "    song_vectors = msd.loc[msd['song_id'].isin(song_ids)][list(feature_MUSIC_dict.keys())].values\n",
    "    return np.sum(np.dot(song_vectors, feature_MUSIC_matrix), axis=0)/len(song_ids)\n",
    "\n",
    "def get_MUSIC_slow(song_ids):\n",
    "    list_MUSIC = np.zeros(5)\n",
    "    for song_id in song_ids:\n",
    "        song_data = msd.loc[msd['song_id'] == song_id]\n",
    "        for feature, feature_MUSIC in feature_MUSIC_dict.items():\n",
    "            list_MUSIC += feature_MUSIC * list(song_data[feature])[0]\n",
    "    return list_MUSIC/len(song_ids)\n",
    "\n",
    "song_ids = list(msd.head(1000).song_id)\n",
    "start = time.time()\n",
    "v1 = get_MUSIC(song_ids)\n",
    "print(time.time() - start)\n",
    "print(v1)\n",
    "\n",
    "# start = time.time()\n",
    "# v2 = get_MUSIC_slow(song_ids)\n",
    "# print(time.time() - start)\n",
    "# print(v2)\n",
    "# assert v1 == v2"
   ]
  },
  {
   "cell_type": "code",
   "execution_count": 90,
   "metadata": {},
   "outputs": [
    {
     "data": {
      "text/html": [
       "<div>\n",
       "<style scoped>\n",
       "    .dataframe tbody tr th:only-of-type {\n",
       "        vertical-align: middle;\n",
       "    }\n",
       "\n",
       "    .dataframe tbody tr th {\n",
       "        vertical-align: top;\n",
       "    }\n",
       "\n",
       "    .dataframe thead th {\n",
       "        text-align: right;\n",
       "    }\n",
       "</style>\n",
       "<table border=\"1\" class=\"dataframe\">\n",
       "  <thead>\n",
       "    <tr style=\"text-align: right;\">\n",
       "      <th></th>\n",
       "      <th>danceability</th>\n",
       "      <th>energy</th>\n",
       "      <th>instrumentalness</th>\n",
       "      <th>liveness</th>\n",
       "      <th>loudness</th>\n",
       "      <th>valence</th>\n",
       "    </tr>\n",
       "  </thead>\n",
       "  <tbody>\n",
       "    <tr>\n",
       "      <th>0</th>\n",
       "      <td>0.471</td>\n",
       "      <td>0.910</td>\n",
       "      <td>0.764000</td>\n",
       "      <td>0.4030</td>\n",
       "      <td>-4.847</td>\n",
       "      <td>0.282</td>\n",
       "    </tr>\n",
       "    <tr>\n",
       "      <th>1</th>\n",
       "      <td>0.479</td>\n",
       "      <td>0.315</td>\n",
       "      <td>0.000004</td>\n",
       "      <td>0.0911</td>\n",
       "      <td>-12.951</td>\n",
       "      <td>0.309</td>\n",
       "    </tr>\n",
       "    <tr>\n",
       "      <th>2</th>\n",
       "      <td>0.678</td>\n",
       "      <td>0.787</td>\n",
       "      <td>0.000080</td>\n",
       "      <td>0.7140</td>\n",
       "      <td>-6.344</td>\n",
       "      <td>0.969</td>\n",
       "    </tr>\n",
       "    <tr>\n",
       "      <th>3</th>\n",
       "      <td>0.804</td>\n",
       "      <td>0.676</td>\n",
       "      <td>0.919000</td>\n",
       "      <td>0.0797</td>\n",
       "      <td>-8.480</td>\n",
       "      <td>0.527</td>\n",
       "    </tr>\n",
       "    <tr>\n",
       "      <th>4</th>\n",
       "      <td>0.604</td>\n",
       "      <td>0.603</td>\n",
       "      <td>0.000000</td>\n",
       "      <td>0.1850</td>\n",
       "      <td>-4.419</td>\n",
       "      <td>0.399</td>\n",
       "    </tr>\n",
       "  </tbody>\n",
       "</table>\n",
       "</div>"
      ],
      "text/plain": [
       "   danceability  energy  instrumentalness  liveness  loudness  valence\n",
       "0         0.471   0.910          0.764000    0.4030    -4.847    0.282\n",
       "1         0.479   0.315          0.000004    0.0911   -12.951    0.309\n",
       "2         0.678   0.787          0.000080    0.7140    -6.344    0.969\n",
       "3         0.804   0.676          0.919000    0.0797    -8.480    0.527\n",
       "4         0.604   0.603          0.000000    0.1850    -4.419    0.399"
      ]
     },
     "execution_count": 90,
     "metadata": {},
     "output_type": "execute_result"
    }
   ],
   "source": [
    "msd[msd.columns.difference(['song_id'])].head()"
   ]
  },
  {
   "cell_type": "code",
   "execution_count": 3,
   "metadata": {},
   "outputs": [
    {
     "data": {
      "text/html": [
       "<div>\n",
       "<style scoped>\n",
       "    .dataframe tbody tr th:only-of-type {\n",
       "        vertical-align: middle;\n",
       "    }\n",
       "\n",
       "    .dataframe tbody tr th {\n",
       "        vertical-align: top;\n",
       "    }\n",
       "\n",
       "    .dataframe thead th {\n",
       "        text-align: right;\n",
       "    }\n",
       "</style>\n",
       "<table border=\"1\" class=\"dataframe\">\n",
       "  <thead>\n",
       "    <tr style=\"text-align: right;\">\n",
       "      <th></th>\n",
       "      <th>C</th>\n",
       "      <th>I</th>\n",
       "      <th>M</th>\n",
       "      <th>S</th>\n",
       "      <th>U</th>\n",
       "      <th>paper_feature</th>\n",
       "      <th>spotify_feature</th>\n",
       "    </tr>\n",
       "  </thead>\n",
       "  <tbody>\n",
       "    <tr>\n",
       "      <th>0</th>\n",
       "      <td>0.43</td>\n",
       "      <td>0.08</td>\n",
       "      <td>-0.37</td>\n",
       "      <td>-0.35</td>\n",
       "      <td>0.05</td>\n",
       "      <td>Danceable</td>\n",
       "      <td>danceability</td>\n",
       "    </tr>\n",
       "    <tr>\n",
       "      <th>1</th>\n",
       "      <td>-0.03</td>\n",
       "      <td>0.66</td>\n",
       "      <td>-0.64</td>\n",
       "      <td>-0.13</td>\n",
       "      <td>-0.46</td>\n",
       "      <td>Thrilling</td>\n",
       "      <td>energy</td>\n",
       "    </tr>\n",
       "    <tr>\n",
       "      <th>2</th>\n",
       "      <td>-0.01</td>\n",
       "      <td>0.09</td>\n",
       "      <td>0.20</td>\n",
       "      <td>0.28</td>\n",
       "      <td>-0.47</td>\n",
       "      <td>Instrumental</td>\n",
       "      <td>instrumentalness</td>\n",
       "    </tr>\n",
       "    <tr>\n",
       "      <th>3</th>\n",
       "      <td>0.02</td>\n",
       "      <td>0.43</td>\n",
       "      <td>-0.69</td>\n",
       "      <td>-0.07</td>\n",
       "      <td>-0.12</td>\n",
       "      <td>Lively</td>\n",
       "      <td>liveliness</td>\n",
       "    </tr>\n",
       "    <tr>\n",
       "      <th>4</th>\n",
       "      <td>-0.21</td>\n",
       "      <td>0.79</td>\n",
       "      <td>-0.58</td>\n",
       "      <td>-0.44</td>\n",
       "      <td>-0.19</td>\n",
       "      <td>Loud</td>\n",
       "      <td>loudness</td>\n",
       "    </tr>\n",
       "  </tbody>\n",
       "</table>\n",
       "</div>"
      ],
      "text/plain": [
       "      C     I     M     S     U paper_feature   spotify_feature\n",
       "0  0.43  0.08 -0.37 -0.35  0.05     Danceable      danceability\n",
       "1 -0.03  0.66 -0.64 -0.13 -0.46     Thrilling            energy\n",
       "2 -0.01  0.09  0.20  0.28 -0.47  Instrumental  instrumentalness\n",
       "3  0.02  0.43 -0.69 -0.07 -0.12        Lively        liveliness\n",
       "4 -0.21  0.79 -0.58 -0.44 -0.19          Loud          loudness"
      ]
     },
     "execution_count": 3,
     "metadata": {},
     "output_type": "execute_result"
    }
   ],
   "source": [
    "# Values from this paper: https://projects.ori.org/lrg/PDFs_papers/RentfrowEtal2012MUSICReplicationMP.pdf\n",
    "# spotify features from this endpoint: - https://developer.spotify.com/documentation/web-api/reference/tracks/get-several-audio-features/\n",
    "feature_MUSIC_values = [\n",
    "    {'spotify_feature': 'danceability', 'paper_feature': 'Danceable', 'M': -0.37, 'U': 0.05, 'S': -0.35, 'I': 0.08, 'C': 0.43,},\n",
    "    {'spotify_feature': 'energy', 'paper_feature': 'Thrilling', 'M': -0.64, 'U': -0.46, 'S': -0.13, 'I': 0.66, 'C': -0.03,},\n",
    "    {'spotify_feature': 'instrumentalness', 'paper_feature': 'Instrumental', 'M': 0.20, 'U': -0.47, 'S': 0.28, 'I': 0.09, 'C': -0.01,},\n",
    "    {'spotify_feature': 'liveness', 'paper_feature': 'Lively', 'M': -0.69, 'U': -0.12, 'S': -0.07, 'I': 0.43, 'C': 0.02,},\n",
    "    {'spotify_feature': 'loudness', 'paper_feature': 'Loud', 'M': -0.58, 'U': -0.19, 'S': -0.44, 'I': 0.79, 'C': -0.21,},\n",
    "    {'spotify_feature': 'valence', 'paper_feature': 'Happy', 'M': -0.04, 'U': 0.18, 'S': 0.24, 'I': -0.34, 'C': 0.18,},\n",
    "]\n",
    "MUSIC_df = pd.DataFrame(feature_MUSIC_values)\n",
    "MUSIC_df.head()"
   ]
  },
  {
   "cell_type": "code",
   "execution_count": 36,
   "metadata": {},
   "outputs": [
    {
     "data": {
      "text/plain": [
       "dict_keys(['danceability', 'energy', 'instrumentalness', 'liveliness', 'loudness', 'valence'])"
      ]
     },
     "execution_count": 36,
     "metadata": {},
     "output_type": "execute_result"
    }
   ],
   "source": [
    "\n",
    "feature_MUSIC_dict.keys()"
   ]
  },
  {
   "cell_type": "code",
   "execution_count": 56,
   "metadata": {},
   "outputs": [
    {
     "data": {
      "text/plain": [
       "0.776"
      ]
     },
     "execution_count": 56,
     "metadata": {},
     "output_type": "execute_result"
    }
   ],
   "source": [
    "song_ids = list(msd.head(100).song_id)\n",
    "list(msd.loc[msd['song_id'] == song_ids[50]]['energy'])[0]\n",
    "# dict(msd.loc[msd['song_id'] == song_ids[50]])['energy']"
   ]
  },
  {
   "cell_type": "code",
   "execution_count": 84,
   "metadata": {},
   "outputs": [
    {
     "name": "stdout",
     "output_type": "stream",
     "text": [
      "36.068581104278564\n"
     ]
    }
   ],
   "source": [
    "# Not vectorized\n",
    "\n",
    "feature_MUSIC_dict = {\n",
    "    'danceability': np.array([-0.37, 0.05, -0.35, 0.08, 0.43]),\n",
    "    'energy': np.array([-0.64, -0.46, -0.13, 0.66, -0.03]),\n",
    "    'instrumentalness': np.array([0.20, -0.47, 0.28, 0.09, -0.01]),\n",
    "    'liveness': np.array([-0.69, -0.12, -0.07, 0.43, 0.02]),\n",
    "    'loudness': np.array([-0.58, -0.19, -0.44, 0.79, -0.21]),\n",
    "    'valence': np.array([-0.04, 0.18, 0.24, -0.34, 0.18]),\n",
    "}\n",
    "def get_MUSIC(song_ids):\n",
    "    list_MUSIC = np.zeros(5)\n",
    "    for song_id in song_ids:\n",
    "        song_data = msd.loc[msd['song_id'] == song_id]\n",
    "        for feature, feature_MUSIC in feature_MUSIC_dict.items():\n",
    "            list_MUSIC += feature_MUSIC * list(song_data[feature])[0]\n",
    "    \n",
    "    return list_MUSIC/len(song_ids)\n",
    "\n",
    "song_ids = list(msd.head(1000).song_id)\n",
    "start = time.time()\n",
    "get_MUSIC(song_ids)\n",
    "print(time.time() - start)"
   ]
  },
  {
   "cell_type": "code",
   "execution_count": 42,
   "metadata": {},
   "outputs": [
    {
     "data": {
      "text/html": [
       "<div>\n",
       "<style scoped>\n",
       "    .dataframe tbody tr th:only-of-type {\n",
       "        vertical-align: middle;\n",
       "    }\n",
       "\n",
       "    .dataframe tbody tr th {\n",
       "        vertical-align: top;\n",
       "    }\n",
       "\n",
       "    .dataframe thead th {\n",
       "        text-align: right;\n",
       "    }\n",
       "</style>\n",
       "<table border=\"1\" class=\"dataframe\">\n",
       "  <thead>\n",
       "    <tr style=\"text-align: right;\">\n",
       "      <th></th>\n",
       "      <th>artist_mbid</th>\n",
       "      <th>artist_name</th>\n",
       "      <th>artist_playmeid</th>\n",
       "      <th>release</th>\n",
       "      <th>release_7digitalid</th>\n",
       "      <th>song_hotttnesss</th>\n",
       "      <th>song_id</th>\n",
       "      <th>title</th>\n",
       "      <th>track_7digitalid</th>\n",
       "      <th>track_id</th>\n",
       "      <th>...</th>\n",
       "      <th>energy</th>\n",
       "      <th>instrumentalness</th>\n",
       "      <th>key</th>\n",
       "      <th>liveness</th>\n",
       "      <th>loudness</th>\n",
       "      <th>mode</th>\n",
       "      <th>speechiness</th>\n",
       "      <th>tempo</th>\n",
       "      <th>time_signature</th>\n",
       "      <th>valence</th>\n",
       "    </tr>\n",
       "  </thead>\n",
       "  <tbody>\n",
       "    <tr>\n",
       "      <th>0</th>\n",
       "      <td>b'29762c82-bb92-4acd-b1fb-09cc4da250d2'</td>\n",
       "      <td>b'Joe Satriani'</td>\n",
       "      <td>8426</td>\n",
       "      <td>b'Super Colossal'</td>\n",
       "      <td>308005</td>\n",
       "      <td>0.693272</td>\n",
       "      <td>b'SOSIYAD12A8C14097F'</td>\n",
       "      <td>b\"It's So Good\"</td>\n",
       "      <td>3473087</td>\n",
       "      <td>b'TRCCCMQ128F42AE752'</td>\n",
       "      <td>...</td>\n",
       "      <td>0.910</td>\n",
       "      <td>0.764000</td>\n",
       "      <td>7</td>\n",
       "      <td>0.4030</td>\n",
       "      <td>-4.847</td>\n",
       "      <td>1</td>\n",
       "      <td>0.1090</td>\n",
       "      <td>175.816</td>\n",
       "      <td>4</td>\n",
       "      <td>0.282</td>\n",
       "    </tr>\n",
       "    <tr>\n",
       "      <th>1</th>\n",
       "      <td>b''</td>\n",
       "      <td>b'LANDA DANIEL'</td>\n",
       "      <td>-1</td>\n",
       "      <td>b'Konec'</td>\n",
       "      <td>162603</td>\n",
       "      <td>NaN</td>\n",
       "      <td>b'SOHPHTP12A8C13BF53'</td>\n",
       "      <td>b'A KDO TEDA VODDELAL TOHO FANDU?'</td>\n",
       "      <td>1723114</td>\n",
       "      <td>b'TRCCCFZ128F4283A22'</td>\n",
       "      <td>...</td>\n",
       "      <td>0.315</td>\n",
       "      <td>0.000004</td>\n",
       "      <td>9</td>\n",
       "      <td>0.0911</td>\n",
       "      <td>-12.951</td>\n",
       "      <td>0</td>\n",
       "      <td>0.0991</td>\n",
       "      <td>97.886</td>\n",
       "      <td>4</td>\n",
       "      <td>0.309</td>\n",
       "    </tr>\n",
       "  </tbody>\n",
       "</table>\n",
       "<p>2 rows × 25 columns</p>\n",
       "</div>"
      ],
      "text/plain": [
       "                               artist_mbid      artist_name  artist_playmeid  \\\n",
       "0  b'29762c82-bb92-4acd-b1fb-09cc4da250d2'  b'Joe Satriani'             8426   \n",
       "1                                      b''  b'LANDA DANIEL'               -1   \n",
       "\n",
       "             release  release_7digitalid  song_hotttnesss  \\\n",
       "0  b'Super Colossal'              308005         0.693272   \n",
       "1           b'Konec'              162603              NaN   \n",
       "\n",
       "                 song_id                               title  \\\n",
       "0  b'SOSIYAD12A8C14097F'                     b\"It's So Good\"   \n",
       "1  b'SOHPHTP12A8C13BF53'  b'A KDO TEDA VODDELAL TOHO FANDU?'   \n",
       "\n",
       "   track_7digitalid               track_id   ...     energy instrumentalness  \\\n",
       "0           3473087  b'TRCCCMQ128F42AE752'   ...      0.910         0.764000   \n",
       "1           1723114  b'TRCCCFZ128F4283A22'   ...      0.315         0.000004   \n",
       "\n",
       "   key  liveness  loudness  mode  speechiness    tempo  time_signature  \\\n",
       "0    7    0.4030    -4.847     1       0.1090  175.816               4   \n",
       "1    9    0.0911   -12.951     0       0.0991   97.886               4   \n",
       "\n",
       "   valence  \n",
       "0    0.282  \n",
       "1    0.309  \n",
       "\n",
       "[2 rows x 25 columns]"
      ]
     },
     "execution_count": 42,
     "metadata": {},
     "output_type": "execute_result"
    }
   ],
   "source": [
    "msd.head(2)"
   ]
  },
  {
   "cell_type": "code",
   "execution_count": 100,
   "metadata": {},
   "outputs": [
    {
     "name": "stdout",
     "output_type": "stream",
     "text": [
      "(5,)\n",
      "0.5955979824066162\n"
     ]
    }
   ],
   "source": [
    "# Semi vectorized\n",
    "\n",
    "\n",
    "feature_MUSIC_dict = {\n",
    "    'danceability': np.array([-0.37, 0.05, -0.35, 0.08, 0.43]),\n",
    "    'energy': np.array([-0.64, -0.46, -0.13, 0.66, -0.03]),\n",
    "    'instrumentalness': np.array([0.20, -0.47, 0.28, 0.09, -0.01]),\n",
    "    'liveness': np.array([-0.69, -0.12, -0.07, 0.43, 0.02]),\n",
    "    'loudness': np.array([-0.58, -0.19, -0.44, 0.79, -0.21]),\n",
    "    'valence': np.array([-0.04, 0.18, 0.24, -0.34, 0.18]),\n",
    "}\n",
    "\n",
    "feature_MUSIC_matrix = [MUSIC for MUSIC in feature_MUSIC_dict.values()]\n",
    "\n",
    "def get_MUSIC(song_ids):\n",
    "    list_MUSIC = np.zeros(5)\n",
    "    for song_id in song_ids:\n",
    "        song_vector = msd.loc[msd['song_id'] == song_id][list(feature_MUSIC_dict.keys())].values[0]\n",
    "#         df.loc[df['column_name'].isin(some_values)]\n",
    "        \n",
    "#         print(feature_MUSIC_matrix)\n",
    "        list_MUSIC += np.dot(song_vector, feature_MUSIC_matrix)\n",
    "#         for feature, feature_MUSIC in feature_MUSIC_dict.items():\n",
    "#             list_MUSIC += feature_MUSIC * list(song_data[feature])[0]\n",
    "    \n",
    "    return list_MUSIC/len(song_ids)\n",
    "\n",
    "song_ids = list(msd.head(10).song_id)\n",
    "start = time.time()\n",
    "print(get_MUSIC(song_ids).shape)\n",
    "print(time.time() - start)"
   ]
  },
  {
   "cell_type": "code",
   "execution_count": 66,
   "metadata": {},
   "outputs": [
    {
     "ename": "AttributeError",
     "evalue": "'numpy.ndarray' object has no attribute 'append'",
     "output_type": "error",
     "traceback": [
      "\u001b[0;31m---------------------------------------------------------------------------\u001b[0m",
      "\u001b[0;31mAttributeError\u001b[0m                            Traceback (most recent call last)",
      "\u001b[0;32m<ipython-input-66-8a16aa187dc9>\u001b[0m in \u001b[0;36m<module>\u001b[0;34m()\u001b[0m\n\u001b[1;32m      1\u001b[0m \u001b[0ma\u001b[0m \u001b[0;34m=\u001b[0m \u001b[0mnp\u001b[0m\u001b[0;34m.\u001b[0m\u001b[0marray\u001b[0m\u001b[0;34m(\u001b[0m\u001b[0;34m[\u001b[0m\u001b[0;34m[\u001b[0m\u001b[0;36m1\u001b[0m\u001b[0;34m]\u001b[0m\u001b[0;34m,\u001b[0m \u001b[0;34m[\u001b[0m\u001b[0;36m2\u001b[0m\u001b[0;34m]\u001b[0m\u001b[0;34m]\u001b[0m\u001b[0;34m)\u001b[0m\u001b[0;34m\u001b[0m\u001b[0m\n\u001b[0;32m----> 2\u001b[0;31m \u001b[0ma\u001b[0m\u001b[0;34m.\u001b[0m\u001b[0mappend\u001b[0m\u001b[0;34m(\u001b[0m\u001b[0;34m[\u001b[0m\u001b[0;36m1\u001b[0m\u001b[0;34m,\u001b[0m\u001b[0;36m2\u001b[0m\u001b[0;34m]\u001b[0m\u001b[0;34m)\u001b[0m\u001b[0;34m\u001b[0m\u001b[0m\n\u001b[0m\u001b[1;32m      3\u001b[0m \u001b[0ma\u001b[0m\u001b[0;34m\u001b[0m\u001b[0m\n",
      "\u001b[0;31mAttributeError\u001b[0m: 'numpy.ndarray' object has no attribute 'append'"
     ]
    }
   ],
   "source": [
    "a = np.array([[1], [2]])\n",
    "a.append([1,2])\n",
    "a"
   ]
  },
  {
   "cell_type": "code",
   "execution_count": null,
   "metadata": {
    "collapsed": true
   },
   "outputs": [],
   "source": []
  }
 ],
 "metadata": {
  "kernelspec": {
   "display_name": "Python 3",
   "language": "python",
   "name": "python3"
  },
  "language_info": {
   "codemirror_mode": {
    "name": "ipython",
    "version": 3
   },
   "file_extension": ".py",
   "mimetype": "text/x-python",
   "name": "python",
   "nbconvert_exporter": "python",
   "pygments_lexer": "ipython3",
   "version": "3.6.4"
  }
 },
 "nbformat": 4,
 "nbformat_minor": 2
}
