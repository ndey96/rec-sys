{
 "cells": [
  {
   "cell_type": "code",
   "execution_count": 32,
   "metadata": {},
   "outputs": [],
   "source": [
    "import pandas as pd\n",
    "from scipy.spatial import KDTree\n",
    "from random import randint"
   ]
  },
  {
   "cell_type": "code",
   "execution_count": 33,
   "metadata": {},
   "outputs": [],
   "source": [
    "user_MUSIC_df = pd.read_hdf('data/user_div_MUSIC_divpref.h5', key='df')"
   ]
  },
  {
   "cell_type": "code",
   "execution_count": 34,
   "metadata": {},
   "outputs": [
    {
     "data": {
      "text/html": [
       "<div>\n",
       "<style scoped>\n",
       "    .dataframe tbody tr th:only-of-type {\n",
       "        vertical-align: middle;\n",
       "    }\n",
       "\n",
       "    .dataframe tbody tr th {\n",
       "        vertical-align: top;\n",
       "    }\n",
       "\n",
       "    .dataframe thead th {\n",
       "        text-align: right;\n",
       "    }\n",
       "</style>\n",
       "<table border=\"1\" class=\"dataframe\">\n",
       "  <thead>\n",
       "    <tr style=\"text-align: right;\">\n",
       "      <th></th>\n",
       "      <th>MUSIC</th>\n",
       "      <th>cosine_dissim</th>\n",
       "      <th>num_songs</th>\n",
       "      <th>user_id</th>\n",
       "      <th>div_pref</th>\n",
       "    </tr>\n",
       "  </thead>\n",
       "  <tbody>\n",
       "    <tr>\n",
       "      <th>0</th>\n",
       "      <td>[4.229812033333332, 1.4042373883333334, 3.7184...</td>\n",
       "      <td>1.896060e-08</td>\n",
       "      <td>3.0</td>\n",
       "      <td>00000b722001882066dff9d2da8a775658053ea0</td>\n",
       "      <td>0.398530</td>\n",
       "    </tr>\n",
       "    <tr>\n",
       "      <th>1</th>\n",
       "      <td>[5.406152586, 1.7313612479, 4.5080888204, -7.8...</td>\n",
       "      <td>1.820415e-08</td>\n",
       "      <td>6.0</td>\n",
       "      <td>00001638d6189236866af9bbf309ae6c2347ffdc</td>\n",
       "      <td>0.397648</td>\n",
       "    </tr>\n",
       "    <tr>\n",
       "      <th>2</th>\n",
       "      <td>[3.9929606913333338, 1.3756423253666668, 3.569...</td>\n",
       "      <td>3.688890e-08</td>\n",
       "      <td>6.0</td>\n",
       "      <td>0000175652312d12576d9e6b84f600caa24c4715</td>\n",
       "      <td>0.419433</td>\n",
       "    </tr>\n",
       "    <tr>\n",
       "      <th>3</th>\n",
       "      <td>[4.252966333333332, 1.4018970666666666, 3.5408...</td>\n",
       "      <td>2.811389e-10</td>\n",
       "      <td>3.0</td>\n",
       "      <td>00001cf0dce3fb22b0df0f3a1d9cd21e38385372</td>\n",
       "      <td>0.376751</td>\n",
       "    </tr>\n",
       "    <tr>\n",
       "      <th>4</th>\n",
       "      <td>[5.141352444444443, 1.3462904777777778, 4.3820...</td>\n",
       "      <td>1.043408e-07</td>\n",
       "      <td>9.0</td>\n",
       "      <td>0000267bde1b3a70ea75cf2b2d216cb828e3202b</td>\n",
       "      <td>0.498075</td>\n",
       "    </tr>\n",
       "  </tbody>\n",
       "</table>\n",
       "</div>"
      ],
      "text/plain": [
       "                                               MUSIC  cosine_dissim  \\\n",
       "0  [4.229812033333332, 1.4042373883333334, 3.7184...   1.896060e-08   \n",
       "1  [5.406152586, 1.7313612479, 4.5080888204, -7.8...   1.820415e-08   \n",
       "2  [3.9929606913333338, 1.3756423253666668, 3.569...   3.688890e-08   \n",
       "3  [4.252966333333332, 1.4018970666666666, 3.5408...   2.811389e-10   \n",
       "4  [5.141352444444443, 1.3462904777777778, 4.3820...   1.043408e-07   \n",
       "\n",
       "   num_songs                                   user_id  div_pref  \n",
       "0        3.0  00000b722001882066dff9d2da8a775658053ea0  0.398530  \n",
       "1        6.0  00001638d6189236866af9bbf309ae6c2347ffdc  0.397648  \n",
       "2        6.0  0000175652312d12576d9e6b84f600caa24c4715  0.419433  \n",
       "3        3.0  00001cf0dce3fb22b0df0f3a1d9cd21e38385372  0.376751  \n",
       "4        9.0  0000267bde1b3a70ea75cf2b2d216cb828e3202b  0.498075  "
      ]
     },
     "execution_count": 34,
     "metadata": {},
     "output_type": "execute_result"
    }
   ],
   "source": [
    "user_MUSIC_df.head()"
   ]
  },
  {
   "cell_type": "code",
   "execution_count": 35,
   "metadata": {},
   "outputs": [],
   "source": [
    "# extract all MUSIC vectors to create tree\n",
    "MUSIC_vectors = user_MUSIC_df.iloc[:,0].values.tolist()\n",
    "\n",
    "# create kdtree\n",
    "tree = KDTree(MUSIC_vectors)"
   ]
  },
  {
   "cell_type": "code",
   "execution_count": 36,
   "metadata": {},
   "outputs": [
    {
     "name": "stdout",
     "output_type": "stream",
     "text": [
      "['000d86e4900c044ce148c153bd1a9410f37d15f0', 'cf845d9dd870bf84ba4e8411db27292e5b71e155', '143f3ef9a47c562d8dec2d24f6d03d22fe6aa394', '145639a9c6d29c4c8e1b5b63ec9545a16f3d32dd', '22fef5a52226a11c654e7a41bb9dfa40928a5dc6', '60e9d0c4d087318457c26ba970a0ac3561575ef8', '81757cab62fb16555d8d8527c3adf8a83cd36a71', '36119e8abeeb1d92e8ab9dcc1f606282574e77d8', '8f90f775da207983742bf4c4a27dd451339ef4ec', 'b326f6f72691d067c6d29926c7efd072fde87175']\n"
     ]
    }
   ],
   "source": [
    "# select one user at random\n",
    "random_index = randint(0, 1000)\n",
    "random_user_MUSIC = MUSIC_vectors[random_index]\n",
    "\n",
    "# find k closest vector indices\n",
    "k = 10\n",
    "distances, indices = tree.query(random_user_MUSIC, k)\n",
    "\n",
    "# use those indices to find corresponding userids\n",
    "closest_userids = []\n",
    "for index in indices:\n",
    "    closest_userids.append(user_MUSIC_df.iloc[index, 3])\n",
    "    \n",
    "print(closest_userids)\n"
   ]
  },
  {
   "cell_type": "code",
   "execution_count": 42,
   "metadata": {},
   "outputs": [
    {
     "name": "stdout",
     "output_type": "stream",
     "text": [
      "[4.229812033333332, 1.4042373883333334, 3.718447513333333, -6.4863809183333325, 2.166463065]\n"
     ]
    }
   ],
   "source": [
    "userid = '00000b722001882066dff9d2da8a775658053ea0'\n",
    "a = user_MUSIC_df.loc[user_MUSIC_df['user_id'] == userid]['MUSIC'].tolist()[0]\n",
    "print(a)"
   ]
  },
  {
   "cell_type": "code",
   "execution_count": null,
   "metadata": {},
   "outputs": [],
   "source": []
  }
 ],
 "metadata": {
  "kernelspec": {
   "display_name": "Python 3",
   "language": "python",
   "name": "python3"
  },
  "language_info": {
   "codemirror_mode": {
    "name": "ipython",
    "version": 3
   },
   "file_extension": ".py",
   "mimetype": "text/x-python",
   "name": "python",
   "nbconvert_exporter": "python",
   "pygments_lexer": "ipython3",
   "version": "3.7.1"
  }
 },
 "nbformat": 4,
 "nbformat_minor": 2
}
