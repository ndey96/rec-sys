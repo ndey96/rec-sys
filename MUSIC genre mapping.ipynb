{
 "cells": [
  {
   "cell_type": "code",
   "execution_count": 23,
   "metadata": {
    "collapsed": true
   },
   "outputs": [],
   "source": [
    "import numpy as np\n",
    "import pandas as pd"
   ]
  },
  {
   "cell_type": "code",
   "execution_count": 24,
   "metadata": {},
   "outputs": [
    {
     "name": "stdout",
     "output_type": "stream",
     "text": [
      "full_msd.csv                  spotify_msd_id_pairs.csv\r\n",
      "full_msd.h5                   spotify_msd_id_pairs.h5\r\n",
      "full_msd_with_genre.h5        triplet_subset.csv\r\n",
      "msd-MAGD-genreAssignment.cls  triplets.csv\r\n",
      "msd_subset_metadata.csv       triplets.h5\r\n",
      "msd_subset_usage.csv\r\n"
     ]
    }
   ],
   "source": [
    "ls data"
   ]
  },
  {
   "cell_type": "code",
   "execution_count": 25,
   "metadata": {},
   "outputs": [
    {
     "data": {
      "text/html": [
       "<div>\n",
       "<style scoped>\n",
       "    .dataframe tbody tr th:only-of-type {\n",
       "        vertical-align: middle;\n",
       "    }\n",
       "\n",
       "    .dataframe tbody tr th {\n",
       "        vertical-align: top;\n",
       "    }\n",
       "\n",
       "    .dataframe thead th {\n",
       "        text-align: right;\n",
       "    }\n",
       "</style>\n",
       "<table border=\"1\" class=\"dataframe\">\n",
       "  <thead>\n",
       "    <tr style=\"text-align: right;\">\n",
       "      <th></th>\n",
       "      <th>artist_mbid</th>\n",
       "      <th>artist_name</th>\n",
       "      <th>artist_playmeid</th>\n",
       "      <th>danceability</th>\n",
       "      <th>duration</th>\n",
       "      <th>energy</th>\n",
       "      <th>key</th>\n",
       "      <th>loudness</th>\n",
       "      <th>mode</th>\n",
       "      <th>release</th>\n",
       "      <th>release_7digitalid</th>\n",
       "      <th>song_hotttnesss</th>\n",
       "      <th>song_id</th>\n",
       "      <th>tempo</th>\n",
       "      <th>time_signature</th>\n",
       "      <th>title</th>\n",
       "      <th>track_7digitalid</th>\n",
       "      <th>track_id</th>\n",
       "      <th>year</th>\n",
       "      <th>genre</th>\n",
       "    </tr>\n",
       "  </thead>\n",
       "  <tbody>\n",
       "    <tr>\n",
       "      <th>0</th>\n",
       "      <td>b'bc30924c-1900-41c3-9a97-41a93433836f'</td>\n",
       "      <td>b'Baka Beyond'</td>\n",
       "      <td>-1</td>\n",
       "      <td>0.0</td>\n",
       "      <td>368.14322</td>\n",
       "      <td>0.0</td>\n",
       "      <td>9</td>\n",
       "      <td>-11.482</td>\n",
       "      <td>0</td>\n",
       "      <td>b'The Meeting Pool'</td>\n",
       "      <td>38594</td>\n",
       "      <td>0.355286</td>\n",
       "      <td>b'SOXFJZQ12A6D4F81FB'</td>\n",
       "      <td>139.092</td>\n",
       "      <td>4</td>\n",
       "      <td>b'Journey (Album Version)'</td>\n",
       "      <td>412977</td>\n",
       "      <td>b'TRCCCRP128F147BEFA'</td>\n",
       "      <td>1995</td>\n",
       "      <td>International</td>\n",
       "    </tr>\n",
       "    <tr>\n",
       "      <th>1</th>\n",
       "      <td>b'4cda00d8-55d3-42cd-b5e3-5e1934406eaa'</td>\n",
       "      <td>b'The Fleetwoods'</td>\n",
       "      <td>3031</td>\n",
       "      <td>0.0</td>\n",
       "      <td>175.59465</td>\n",
       "      <td>0.0</td>\n",
       "      <td>5</td>\n",
       "      <td>-15.193</td>\n",
       "      <td>1</td>\n",
       "      <td>b'Come Softly To Me: The Very Best Of The Flee...</td>\n",
       "      <td>160575</td>\n",
       "      <td>0.310792</td>\n",
       "      <td>b'SOMSPXD12A8C139F36'</td>\n",
       "      <td>87.650</td>\n",
       "      <td>4</td>\n",
       "      <td>b'Ten Times Blue'</td>\n",
       "      <td>1694460</td>\n",
       "      <td>b'TRCCCDI128F427CC1F'</td>\n",
       "      <td>1993</td>\n",
       "      <td>RnB</td>\n",
       "    </tr>\n",
       "    <tr>\n",
       "      <th>2</th>\n",
       "      <td>b'29762c82-bb92-4acd-b1fb-09cc4da250d2'</td>\n",
       "      <td>b'Joe Satriani'</td>\n",
       "      <td>8426</td>\n",
       "      <td>0.0</td>\n",
       "      <td>254.85016</td>\n",
       "      <td>0.0</td>\n",
       "      <td>7</td>\n",
       "      <td>-4.707</td>\n",
       "      <td>1</td>\n",
       "      <td>b'Super Colossal'</td>\n",
       "      <td>308005</td>\n",
       "      <td>0.693272</td>\n",
       "      <td>b'SOSIYAD12A8C14097F'</td>\n",
       "      <td>87.875</td>\n",
       "      <td>4</td>\n",
       "      <td>b\"It's So Good\"</td>\n",
       "      <td>3473087</td>\n",
       "      <td>b'TRCCCMQ128F42AE752'</td>\n",
       "      <td>2006</td>\n",
       "      <td>Pop_Rock</td>\n",
       "    </tr>\n",
       "    <tr>\n",
       "      <th>3</th>\n",
       "      <td>b'975d94b4-7ca8-4eec-ae48-1aa4660995d3'</td>\n",
       "      <td>b'Tyrese'</td>\n",
       "      <td>7102</td>\n",
       "      <td>0.0</td>\n",
       "      <td>267.20608</td>\n",
       "      <td>0.0</td>\n",
       "      <td>11</td>\n",
       "      <td>-4.156</td>\n",
       "      <td>0</td>\n",
       "      <td>b'Alter Ego'</td>\n",
       "      <td>308128</td>\n",
       "      <td>0.734211</td>\n",
       "      <td>b'SOJHDEN12AB018B650'</td>\n",
       "      <td>123.861</td>\n",
       "      <td>4</td>\n",
       "      <td>b'Gotta Get You'</td>\n",
       "      <td>3476419</td>\n",
       "      <td>b'TRCCCEW128F42AF457'</td>\n",
       "      <td>2006</td>\n",
       "      <td>RnB</td>\n",
       "    </tr>\n",
       "    <tr>\n",
       "      <th>4</th>\n",
       "      <td>b'7e5a0c3f-339a-4e5d-aed0-1946112b4a66'</td>\n",
       "      <td>b'Coleman Hawkins'</td>\n",
       "      <td>11415</td>\n",
       "      <td>0.0</td>\n",
       "      <td>173.87057</td>\n",
       "      <td>0.0</td>\n",
       "      <td>1</td>\n",
       "      <td>-12.898</td>\n",
       "      <td>1</td>\n",
       "      <td>b'Bean Soup'</td>\n",
       "      <td>548567</td>\n",
       "      <td>0.494490</td>\n",
       "      <td>b'SONXGGO12A6D4F9CE5'</td>\n",
       "      <td>174.696</td>\n",
       "      <td>4</td>\n",
       "      <td>b'Too Much Of A Good Thing'</td>\n",
       "      <td>6067466</td>\n",
       "      <td>b'TRCCCZV128F932B336'</td>\n",
       "      <td>0</td>\n",
       "      <td>Jazz</td>\n",
       "    </tr>\n",
       "  </tbody>\n",
       "</table>\n",
       "</div>"
      ],
      "text/plain": [
       "                               artist_mbid         artist_name  \\\n",
       "0  b'bc30924c-1900-41c3-9a97-41a93433836f'      b'Baka Beyond'   \n",
       "1  b'4cda00d8-55d3-42cd-b5e3-5e1934406eaa'   b'The Fleetwoods'   \n",
       "2  b'29762c82-bb92-4acd-b1fb-09cc4da250d2'     b'Joe Satriani'   \n",
       "3  b'975d94b4-7ca8-4eec-ae48-1aa4660995d3'           b'Tyrese'   \n",
       "4  b'7e5a0c3f-339a-4e5d-aed0-1946112b4a66'  b'Coleman Hawkins'   \n",
       "\n",
       "   artist_playmeid  danceability   duration  energy  key  loudness  mode  \\\n",
       "0               -1           0.0  368.14322     0.0    9   -11.482     0   \n",
       "1             3031           0.0  175.59465     0.0    5   -15.193     1   \n",
       "2             8426           0.0  254.85016     0.0    7    -4.707     1   \n",
       "3             7102           0.0  267.20608     0.0   11    -4.156     0   \n",
       "4            11415           0.0  173.87057     0.0    1   -12.898     1   \n",
       "\n",
       "                                             release  release_7digitalid  \\\n",
       "0                                b'The Meeting Pool'               38594   \n",
       "1  b'Come Softly To Me: The Very Best Of The Flee...              160575   \n",
       "2                                  b'Super Colossal'              308005   \n",
       "3                                       b'Alter Ego'              308128   \n",
       "4                                       b'Bean Soup'              548567   \n",
       "\n",
       "   song_hotttnesss                song_id    tempo  time_signature  \\\n",
       "0         0.355286  b'SOXFJZQ12A6D4F81FB'  139.092               4   \n",
       "1         0.310792  b'SOMSPXD12A8C139F36'   87.650               4   \n",
       "2         0.693272  b'SOSIYAD12A8C14097F'   87.875               4   \n",
       "3         0.734211  b'SOJHDEN12AB018B650'  123.861               4   \n",
       "4         0.494490  b'SONXGGO12A6D4F9CE5'  174.696               4   \n",
       "\n",
       "                         title  track_7digitalid               track_id  year  \\\n",
       "0   b'Journey (Album Version)'            412977  b'TRCCCRP128F147BEFA'  1995   \n",
       "1            b'Ten Times Blue'           1694460  b'TRCCCDI128F427CC1F'  1993   \n",
       "2              b\"It's So Good\"           3473087  b'TRCCCMQ128F42AE752'  2006   \n",
       "3             b'Gotta Get You'           3476419  b'TRCCCEW128F42AF457'  2006   \n",
       "4  b'Too Much Of A Good Thing'           6067466  b'TRCCCZV128F932B336'     0   \n",
       "\n",
       "           genre  \n",
       "0  International  \n",
       "1            RnB  \n",
       "2       Pop_Rock  \n",
       "3            RnB  \n",
       "4           Jazz  "
      ]
     },
     "execution_count": 25,
     "metadata": {},
     "output_type": "execute_result"
    }
   ],
   "source": [
    "msd = pd.read_hdf('data/full_msd_with_genre.h5', key='df')\n",
    "msd.head()"
   ]
  },
  {
   "cell_type": "code",
   "execution_count": 26,
   "metadata": {},
   "outputs": [],
   "source": [
    "genre_counts = msd.groupby('genre')['song_id'].nunique()"
   ]
  },
  {
   "cell_type": "code",
   "execution_count": 27,
   "metadata": {},
   "outputs": [
    {
     "data": {
      "text/plain": [
       "<matplotlib.axes._subplots.AxesSubplot at 0x119d149b0>"
      ]
     },
     "execution_count": 27,
     "metadata": {},
     "output_type": "execute_result"
    },
    {
     "data": {
      "image/png": "[encoded data removed]",
      "text/plain": [
       "<Figure size 432x288 with 1 Axes>"
      ]
     },
     "metadata": {},
     "output_type": "display_data"
    }
   ],
   "source": [
    "genre_counts.plot(kind='bar', logy=True)"
   ]
  },
  {
   "cell_type": "code",
   "execution_count": 28,
   "metadata": {},
   "outputs": [
    {
     "data": {
      "text/plain": [
       "<matplotlib.axes._subplots.AxesSubplot at 0x119b872e8>"
      ]
     },
     "execution_count": 28,
     "metadata": {},
     "output_type": "execute_result"
    },
    {
     "data": {
      "image/png": "[encoded data removed]",
      "text/plain": [
       "<Figure size 432x288 with 1 Axes>"
      ]
     },
     "metadata": {},
     "output_type": "display_data"
    }
   ],
   "source": [
    "genre_counts.plot(kind='bar')"
   ]
  },
  {
   "cell_type": "code",
   "execution_count": 35,
   "metadata": {},
   "outputs": [
    {
     "data": {
      "text/html": [
       "<div>\n",
       "<style scoped>\n",
       "    .dataframe tbody tr th:only-of-type {\n",
       "        vertical-align: middle;\n",
       "    }\n",
       "\n",
       "    .dataframe tbody tr th {\n",
       "        vertical-align: top;\n",
       "    }\n",
       "\n",
       "    .dataframe thead th {\n",
       "        text-align: right;\n",
       "    }\n",
       "</style>\n",
       "<table border=\"1\" class=\"dataframe\">\n",
       "  <thead>\n",
       "    <tr style=\"text-align: right;\">\n",
       "      <th></th>\n",
       "      <th>artist_mbid</th>\n",
       "      <th>artist_name</th>\n",
       "      <th>artist_playmeid</th>\n",
       "      <th>danceability</th>\n",
       "      <th>duration</th>\n",
       "      <th>energy</th>\n",
       "      <th>key</th>\n",
       "      <th>loudness</th>\n",
       "      <th>mode</th>\n",
       "      <th>release</th>\n",
       "      <th>release_7digitalid</th>\n",
       "      <th>song_hotttnesss</th>\n",
       "      <th>song_id</th>\n",
       "      <th>tempo</th>\n",
       "      <th>time_signature</th>\n",
       "      <th>title</th>\n",
       "      <th>track_7digitalid</th>\n",
       "      <th>track_id</th>\n",
       "      <th>year</th>\n",
       "      <th>genre</th>\n",
       "    </tr>\n",
       "  </thead>\n",
       "  <tbody>\n",
       "  </tbody>\n",
       "</table>\n",
       "</div>"
      ],
      "text/plain": [
       "Empty DataFrame\n",
       "Columns: [artist_mbid, artist_name, artist_playmeid, danceability, duration, energy, key, loudness, mode, release, release_7digitalid, song_hotttnesss, song_id, tempo, time_signature, title, track_7digitalid, track_id, year, genre]\n",
       "Index: []"
      ]
     },
     "execution_count": 35,
     "metadata": {},
     "output_type": "execute_result"
    }
   ],
   "source": [
    "msd_with_attrs = msd.loc[(msd['danceability'] != 0) & (msd['energy'] == 0)]\n",
    "msd_with_attrs.head()"
   ]
  },
  {
   "cell_type": "code",
   "execution_count": null,
   "metadata": {
    "collapsed": true
   },
   "outputs": [],
   "source": [
    "# loudness, key, duration, year, song_hotttnesss, mode, tempo, time_signature, genre"
   ]
  },
  {
   "cell_type": "code",
   "execution_count": 29,
   "metadata": {},
   "outputs": [
    {
     "data": {
      "text/plain": [
       "['International',\n",
       " 'RnB',\n",
       " 'Pop_Rock',\n",
       " 'Jazz',\n",
       " 'Rap',\n",
       " 'Blues',\n",
       " 'Electronic',\n",
       " 'Latin',\n",
       " 'Religious',\n",
       " 'Country',\n",
       " 'Folk',\n",
       " 'New Age',\n",
       " 'Classical',\n",
       " 'Reggae',\n",
       " 'Vocal',\n",
       " 'Comedy_Spoken',\n",
       " 'Holiday',\n",
       " 'Stage ',\n",
       " 'Easy_Listening',\n",
       " 'Avant_Garde',\n",
       " 'Children']"
      ]
     },
     "execution_count": 29,
     "metadata": {},
     "output_type": "execute_result"
    }
   ],
   "source": [
    "list(msd.genre.unique())"
   ]
  },
  {
   "cell_type": "code",
   "execution_count": null,
   "metadata": {
    "collapsed": true
   },
   "outputs": [],
   "source": [
    "# Based on https://www.researchgate.net/publication/322506461_Musical_Preferences_Predict_Personality_Evidence_from_Active_Listening_and_Facebook_Likes\n",
    "MUSIC_to_genre = {\n",
    "    'M': [],\n",
    "    'U': [],\n",
    "    'S': [],\n",
    "    'I': [],\n",
    "    'C': [],\n",
    "\n",
    "    \n",
    "}\n",
    "\n",
    "genre_to_MUSIC_dict = {\n",
    "    'International': '',\n",
    "    'RnB': '',\n",
    "    'Pop_Rock': '',\n",
    "    'Jazz': '',\n",
    "    'Rap': '',\n",
    "    'Blues': '',\n",
    "    'Electronic': '',\n",
    "    'Latin': '',\n",
    "    'Religious': '',\n",
    "    'Country': '',\n",
    "    'Folk': '',\n",
    "    'New Age': '',\n",
    "    'Classical': '',\n",
    "    'Reggae': '',\n",
    "    'Vocal': '',\n",
    "    'Comedy_Spoken': '',\n",
    "    'Holiday': '',\n",
    "    'Stage ': '',\n",
    "    'Easy_Listening: '','\n",
    "    'Avant_Garde': '',\n",
    "    'Children': '',\n",
    "}"
   ]
  }
 ],
 "metadata": {
  "kernelspec": {
   "display_name": "Python 3",
   "language": "python",
   "name": "python3"
  },
  "language_info": {
   "codemirror_mode": {
    "name": "ipython",
    "version": 3
   },
   "file_extension": ".py",
   "mimetype": "text/x-python",
   "name": "python",
   "nbconvert_exporter": "python",
   "pygments_lexer": "ipython3",
   "version": "3.6.4"
  }
 },
 "nbformat": 4,
 "nbformat_minor": 2
}
